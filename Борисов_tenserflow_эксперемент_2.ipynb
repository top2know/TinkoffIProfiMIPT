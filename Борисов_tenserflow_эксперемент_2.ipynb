{
  "nbformat": 4,
  "nbformat_minor": 0,
  "metadata": {
    "colab": {
      "name": "Копия блокнота \"dl_nlp_ag_news.ipynb\"",
      "provenance": [],
      "collapsed_sections": [],
      "toc_visible": true
    },
    "kernelspec": {
      "name": "python3",
      "display_name": "Python 3"
    },
    "accelerator": "GPU"
  },
  "cells": [
    {
      "cell_type": "code",
      "metadata": {
        "id": "fN251ib04idq"
      },
      "source": [
        "%tensorflow_version 2.x\n",
        "from tensorflow.keras.models import Sequential\n",
        "from tensorflow.keras.layers import Dense, Embedding, MaxPooling1D, Conv1D, GlobalMaxPooling1D, Dropout, LSTM, GRU, Conv2D\n",
        "from tensorflow.keras import utils\n",
        "from tensorflow.keras.preprocessing.sequence import pad_sequences\n",
        "from tensorflow.keras.preprocessing.text import Tokenizer\n",
        "from tensorflow.keras.callbacks import ModelCheckpoint\n",
        "from tensorflow.keras import utils\n",
        "import pandas as pd\n",
        "import numpy as np\n",
        "import matplotlib.pyplot as plt\n",
        "%matplotlib inline "
      ],
      "execution_count": 1,
      "outputs": []
    },
    {
      "cell_type": "markdown",
      "metadata": {
        "id": "w_FIMj7P7Nzb"
      },
      "source": [
        ""
      ]
    },
    {
      "cell_type": "code",
      "metadata": {
        "id": "KVUY1PF0L_mF"
      },
      "source": [
        "# Максимальное количество слов \n",
        "num_words = 40000\n",
        "# Максимальная длина новости\n",
        "max_news_len = 20"
      ],
      "execution_count": 2,
      "outputs": []
    },
    {
      "cell_type": "markdown",
      "metadata": {
        "id": "S6itvI2G5H1k"
      },
      "source": [
        "## Загрузка набора данных"
      ]
    },
    {
      "cell_type": "markdown",
      "metadata": {
        "id": "-koXVGyC1odV"
      },
      "source": [
        "Загружаем данные для обучения"
      ]
    },
    {
      "cell_type": "code",
      "metadata": {
        "id": "ae_ymwjRWlN_"
      },
      "source": [
        "from sklearn.utils import shuffle\n",
        "\n",
        "num_words = 40000\n",
        "max_news_len = 20\n",
        "\n",
        "text_test = pd.read_csv(\"test_new.csv\").dropna().text\n",
        "text_train = pd.read_csv(\"train_new.csv\").dropna().text\n",
        "label_test = pd.read_csv(\"test_new.csv\").dropna().title*1\n",
        "label_train = pd.read_csv(\"train_new.csv\").dropna().title\n",
        "\n",
        "tokenizer = Tokenizer(num_words=num_words)\n",
        "tokenizer.fit_on_texts(text_train)\n",
        "sequences = tokenizer.texts_to_sequences(text_train)\n",
        "x_train = pad_sequences(sequences, maxlen=max_news_len, value=0, padding='post')\n",
        "x_train[:20]\n",
        "\n",
        "x_train, y_train = shuffle(x_train, label_train, random_state=0)"
      ],
      "execution_count": 3,
      "outputs": []
    },
    {
      "cell_type": "markdown",
      "metadata": {
        "id": "ypBYfEwvO0c4"
      },
      "source": [
        "## Сверточная нейронная сеть"
      ]
    },
    {
      "cell_type": "code",
      "metadata": {
        "id": "8ETORhRkOtIn",
        "colab": {
          "base_uri": "https://localhost:8080/"
        },
        "outputId": "d1a3563d-b3a3-49b1-8bd6-bfe67776e79b"
      },
      "source": [
        "from tensorflow.compat.v1.keras.layers import CuDNNLSTM\n",
        "from tensorflow.keras.layers import SpatialDropout1D, Bidirectional, Flatten, BatchNormalization, LSTMCell, RNN, GRU\n",
        "import tensorflow as tf\n",
        "\n",
        "model_cnn = Sequential()\n",
        "model_cnn.add(Embedding(num_words,  100, input_length=max_news_len))\n",
        "model_cnn.add(LSTM(128, activation='relu'))\n",
        "model_cnn.add(Dense(64, activation='relu'))\n",
        "model_cnn.add(Dense(1, activation='sigmoid'))\n"
      ],
      "execution_count": 5,
      "outputs": [
        {
          "output_type": "stream",
          "text": [
            "WARNING:tensorflow:Layer lstm_1 will not use cuDNN kernel since it doesn't meet the cuDNN kernel criteria. It will use generic GPU kernel as fallback when running on GPU\n"
          ],
          "name": "stdout"
        }
      ]
    },
    {
      "cell_type": "code",
      "metadata": {
        "id": "rzds0iUgPLwS"
      },
      "source": [
        "from tensorflow.keras.metrics import Precision, Recall\n",
        "import keras.backend as K\n",
        "\n",
        "def f1_metric(y_true, y_pred):\n",
        "    true_positives = K.sum(K.round(K.clip(y_true * y_pred, 0, 1)))\n",
        "    possible_positives = K.sum(K.round(K.clip(y_true, 0, 1)))\n",
        "    predicted_positives = K.sum(K.round(K.clip(y_pred, 0, 1)))\n",
        "    precision = true_positives / (predicted_positives + K.epsilon())\n",
        "    recall = true_positives / (possible_positives + K.epsilon())\n",
        "    f1_val = 2*(precision*recall)/(precision+recall+K.epsilon())\n",
        "    return f1_val\n",
        "\n",
        "model_cnn.compile(optimizer='adam', \n",
        "              loss='binary_crossentropy', \n",
        "              metrics=['accuracy', Recall(name='Recall'), Precision(name='Precision'), f1_metric])"
      ],
      "execution_count": 6,
      "outputs": []
    },
    {
      "cell_type": "code",
      "metadata": {
        "id": "wpVCjslL4En2",
        "colab": {
          "base_uri": "https://localhost:8080/"
        },
        "outputId": "53a66fdc-3bc2-4e75-9dc1-2b26c2994842"
      },
      "source": [
        "model_cnn.summary()"
      ],
      "execution_count": 9,
      "outputs": [
        {
          "output_type": "stream",
          "text": [
            "Model: \"sequential_1\"\n",
            "_________________________________________________________________\n",
            "Layer (type)                 Output Shape              Param #   \n",
            "=================================================================\n",
            "embedding_1 (Embedding)      (None, 10, 100)           4000000   \n",
            "_________________________________________________________________\n",
            "lstm_1 (LSTM)                (None, 128)               117248    \n",
            "_________________________________________________________________\n",
            "dense_2 (Dense)              (None, 64)                8256      \n",
            "_________________________________________________________________\n",
            "dense_3 (Dense)              (None, 1)                 65        \n",
            "=================================================================\n",
            "Total params: 4,125,569\n",
            "Trainable params: 4,125,569\n",
            "Non-trainable params: 0\n",
            "_________________________________________________________________\n"
          ],
          "name": "stdout"
        }
      ]
    },
    {
      "cell_type": "markdown",
      "metadata": {
        "id": "GYw-jNpW9-40"
      },
      "source": [
        "Создаем callback для сохранения нейронной сети на каждой эпохе, если качество работы на проверочном наборе данных улучшилось. Сеть сохраняется в файл `best_model.h5`"
      ]
    },
    {
      "cell_type": "code",
      "metadata": {
        "id": "inD4DaNdWgpL"
      },
      "source": [
        "model_cnn_save_path = 'best_model_cnn.h5'\n",
        "checkpoint_callback_cnn = ModelCheckpoint(model_cnn_save_path, \n",
        "                                      monitor='val_accuracy',\n",
        "                                      # save_best_only=True,\n",
        "                                      verbose=1)"
      ],
      "execution_count": 122,
      "outputs": []
    },
    {
      "cell_type": "code",
      "metadata": {
        "id": "3RjBsU8_PSqp",
        "colab": {
          "base_uri": "https://localhost:8080/"
        },
        "outputId": "9c84a882-b20a-4707-b814-d288751f8919"
      },
      "source": [
        "history_cnn = model_cnn.fit(x_trai, \n",
        "                            y_train, \n",
        "                            epochs=5,\n",
        "                            batch_size=128,\n",
        "                            validation_split=0.1,\n",
        "                            # callbacks=[checkpoint_callback_cnn]\n",
        "                            )"
      ],
      "execution_count": 13,
      "outputs": [
        {
          "output_type": "stream",
          "text": [
            "499/499 [==============================] - 31s 62ms/step - loss: 0.5458 - accuracy: 0.7302 - Recall: 0.1885 - Precision: 0.5762 - f1_metric: 0.2772 - val_loss: 0.8639 - val_accuracy: 0.6926 - val_Recall: 0.0649 - val_Precision: 0.3082 - val_f1_metric: 0.1034\n"
          ],
          "name": "stdout"
        }
      ]
    },
    {
      "cell_type": "code",
      "metadata": {
        "id": "_MDG8UXq_yMN"
      },
      "source": [
        "X = np.vstack((x_train,x_test))\n",
        "Y = np.array(pd.concat((label_train, label_test), axis = 0).to_list())"
      ],
      "execution_count": 12,
      "outputs": []
    },
    {
      "cell_type": "code",
      "metadata": {
        "colab": {
          "base_uri": "https://localhost:8080/"
        },
        "id": "T6GOfnZj_muz",
        "outputId": "81a8be23-51f4-42d2-fb66-c19a062e6810"
      },
      "source": [
        "# НОВОЕ ОБУЧЕНИЕ\n",
        "test_sequences = tokenizer.texts_to_sequences(text_test)\t\n",
        "x_test = pad_sequences(test_sequences, maxlen=max_news_len, value=0, padding='post')\n",
        "\n",
        "history_cnn = model_cnn.fit(X, \n",
        "                            Y, \n",
        "                            epochs=5,\n",
        "                            batch_size=128,\n",
        "                            validation_split=0.1,\n",
        "                            # callbacks=[checkpoint_callback_cnn]\n",
        "                            )\n",
        "\n",
        "model_cnn.save_weights('SASHA_my_model_weights.h5')"
      ],
      "execution_count": 13,
      "outputs": [
        {
          "output_type": "stream",
          "text": [
            "Epoch 1/5\n",
            "548/548 [==============================] - 46s 79ms/step - loss: 0.6105 - accuracy: 0.7069 - Recall: 0.0082 - Precision: 0.2095 - f1_metric: 0.0042 - val_loss: 0.3833 - val_accuracy: 0.9707 - val_Recall: 0.0000e+00 - val_Precision: 0.0000e+00 - val_f1_metric: 0.0000e+00\n",
            "Epoch 2/5\n",
            "548/548 [==============================] - 43s 78ms/step - loss: 0.5907 - accuracy: 0.7121 - Recall: 9.9474e-04 - Precision: 0.2803 - f1_metric: 0.0019 - val_loss: 0.3877 - val_accuracy: 0.9707 - val_Recall: 0.0000e+00 - val_Precision: 0.0000e+00 - val_f1_metric: 0.0000e+00\n",
            "Epoch 3/5\n",
            "548/548 [==============================] - 43s 79ms/step - loss: 0.5450 - accuracy: 0.7258 - Recall: 0.1294 - Precision: 0.5996 - f1_metric: 0.2025 - val_loss: 0.4049 - val_accuracy: 0.9347 - val_Recall: 0.0526 - val_Precision: 0.0395 - val_f1_metric: 0.0079\n",
            "Epoch 4/5\n",
            "548/548 [==============================] - 43s 78ms/step - loss: 0.5062 - accuracy: 0.7446 - Recall: 0.3060 - Precision: 0.6190 - f1_metric: 0.3972 - val_loss: 0.4223 - val_accuracy: 0.8912 - val_Recall: 0.1053 - val_Precision: 0.0360 - val_f1_metric: 0.0119\n",
            "Epoch 5/5\n",
            "548/548 [==============================] - 43s 78ms/step - loss: 0.4783 - accuracy: 0.7633 - Recall: 0.3628 - Precision: 0.6551 - f1_metric: 0.4621 - val_loss: 0.5073 - val_accuracy: 0.8131 - val_Recall: 0.2149 - val_Precision: 0.0370 - val_f1_metric: 0.0200\n"
          ],
          "name": "stdout"
        }
      ]
    },
    {
      "cell_type": "code",
      "metadata": {
        "id": "D87iUZmNP0rk",
        "colab": {
          "base_uri": "https://localhost:8080/",
          "height": 278
        },
        "outputId": "1b576eea-3edd-4e99-80eb-0fda46095e7f"
      },
      "source": [
        "plt.plot(history_cnn.history['accuracy'], \n",
        "         label='Доля верных ответов на обучающем наборе')\n",
        "plt.plot(history_cnn.history['val_accuracy'], \n",
        "         label='Доля верных ответов на проверочном наборе')\n",
        "plt.xlabel('Эпоха обучения')\n",
        "plt.ylabel('Доля верных ответов')\n",
        "plt.legend()\n",
        "plt.show()"
      ],
      "execution_count": 127,
      "outputs": [
        {
          "output_type": "display_data",
          "data": {
            "image/png": "[encoded data removed]",
            "text/plain": [
              "<Figure size 432x288 with 1 Axes>"
            ]
          },
          "metadata": {
            "tags": [],
            "needs_background": "light"
          }
        }
      ]
    },
    {
      "cell_type": "code",
      "metadata": {
        "colab": {
          "base_uri": "https://localhost:8080/"
        },
        "id": "e67BWaDLbSMO",
        "outputId": "3d104a12-0156-4bb1-e5b1-9f0d729d69a5"
      },
      "source": [
        "from sklearn.metrics import f1_score\n",
        "\n",
        "# def threshold_answ(label_predict, threshold = 0.50):\n",
        "#   label_predict_step = []\n",
        "#   for lab in label_predict:\n",
        "#     if lab >= threshold :\n",
        "#       label_predict_step.append(1);\n",
        "#     else:\n",
        "#       label_predict_step.append(0);    \n",
        "#   return label_predict_step\n",
        "\n",
        "test_sequences = tokenizer.texts_to_sequences(text_test)\t\n",
        "x_test = pad_sequences(test_sequences, maxlen=max_news_len, value=0, padding='post')\n",
        "\n",
        "label_predict = model_cnn.predict_classes(x_test)\n",
        "# label_predict_step = threshold_answ(label_predict)\n",
        "\n",
        "\n",
        "# pd.DataFrame([label_predict_step, label_test.to_list()])\n",
        "print('Оценка F1', f1_score(label_predict, label_test.to_list()))"
      ],
      "execution_count": 14,
      "outputs": [
        {
          "output_type": "stream",
          "text": [
            "/usr/local/lib/python3.7/dist-packages/tensorflow/python/keras/engine/sequential.py:450: UserWarning: `model.predict_classes()` is deprecated and will be removed after 2021-01-01. Please use instead:* `np.argmax(model.predict(x), axis=-1)`,   if your model does multi-class classification   (e.g. if it uses a `softmax` last-layer activation).* `(model.predict(x) > 0.5).astype(\"int32\")`,   if your model does binary classification   (e.g. if it uses a `sigmoid` last-layer activation).\n",
            "  warnings.warn('`model.predict_classes()` is deprecated and '\n"
          ],
          "name": "stderr"
        },
        {
          "output_type": "stream",
          "text": [
            "Оценка F1 0.33659491193737767\n"
          ],
          "name": "stdout"
        }
      ]
    },
    {
      "cell_type": "code",
      "metadata": {
        "id": "WxIDS0dz03C6"
      },
      "source": [
        "model_cnn.save_weights('SASHA_my_model_weights.h5')\n",
        "model_cnn.load_weights('SASHA_my_model_weights.h5')\n"
      ],
      "execution_count": 133,
      "outputs": []
    },
    {
      "cell_type": "code",
      "metadata": {
        "id": "R3megp6lzIsd"
      },
      "source": [
        ""
      ],
      "execution_count": null,
      "outputs": []
    },
    {
      "cell_type": "code",
      "metadata": {
        "id": "ZVFzlIIRyuRK"
      },
      "source": [
        "# import tensorflow_hub as hub\n",
        "# %tensorflow_version 2.x\n",
        "# from tensorflow.keras.models import Sequential\n",
        "# from tensorflow.keras.layers import Dense, Embedding, MaxPooling1D, Conv1D, GlobalMaxPooling1D, Dropout, LSTM, GRU, Conv2D, GlobalMaxPool1D\n",
        "# from tensorflow.keras import utils\n",
        "# from tensorflow.keras.preprocessing.sequence import pad_sequences\n",
        "# from tensorflow.keras.preprocessing.text import Tokenizer\n",
        "# from tensorflow.keras.callbacks import ModelCheckpoint\n",
        "# from tensorflow.keras import utils\n",
        "# import pandas as pd\n",
        "# import numpy as np\n",
        "# import matplotlib.pyplot as plt\n",
        "# %matplotlib inline \n",
        "# from tensorflow.keras.metrics import Precision, Recall\n",
        "\n",
        "# nb_filters=50\n",
        "# FFN_units=512\n",
        "# nb_classes=6\n",
        "# dropout_rate=0.1\n",
        "# name=\"dcnn\"\n",
        "\n",
        "\n",
        "# model_4 = Sequential()\n",
        "\n",
        "# model_4.add(hub.KerasLayer(\n",
        "#       \"https://tfhub.dev/tensorflow/bert_en_uncased_L-12_H-768_A-12/1\",\n",
        "#       trainable=False))\n",
        "# model_4.add(Conv1D(filters=nb_filters,\n",
        "#                 kernel_size=2,\n",
        "#                 padding=\"valid\",\n",
        "#                 activation=\"relu\"))\n",
        "# model_4.add(Conv1D(filters=nb_filters,\n",
        "#                   kernel_size=3,\n",
        "#                   padding=\"valid\",\n",
        "#                   activation=\"relu\"))\n",
        "# model_4.add(Conv1D(filters=nb_filters,\n",
        "#       kernel_size=4,\n",
        "#       padding=\"valid\",\n",
        "#       activation=\"relu\"))\n",
        "# model_4.add(GlobalMaxPool1D())\n",
        "# model_4.add(Dense(units=FFN_units, activation=\"relu\"))\n",
        "# model_4.add(Dropout(rate=dropout_rate))\n",
        "# model_4.add(Dense(units=nb_classes, activation=\"sigmoid\"))\n",
        "\n",
        "# model_4.compile(optimizer='adam', \n",
        "#               loss='binary_crossentropy', \n",
        "#               metrics=['accuracy', Recall(name='Recall'), Precision(name='Precision')])"
      ],
      "execution_count": null,
      "outputs": []
    },
    {
      "cell_type": "code",
      "metadata": {
        "id": "2U2kSbYd0MEl"
      },
      "source": [
        "model_4.summary()"
      ],
      "execution_count": null,
      "outputs": []
    },
    {
      "cell_type": "code",
      "metadata": {
        "id": "ayMqhH8kzZcP"
      },
      "source": [
        ""
      ],
      "execution_count": null,
      "outputs": []
    },
    {
      "cell_type": "code",
      "metadata": {
        "id": "SqX1aO6azdc-"
      },
      "source": [
        ""
      ],
      "execution_count": null,
      "outputs": []
    }
  ]
}