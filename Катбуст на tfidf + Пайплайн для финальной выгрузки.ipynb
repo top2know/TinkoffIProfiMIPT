{
  "nbformat": 4,
  "nbformat_minor": 0,
  "metadata": {
    "accelerator": "GPU",
    "colab": {
      "name": "Untitled3 (2).ipynb",
      "provenance": [],
      "collapsed_sections": [
        "e0fKiUj7xRAM",
        "J1SAAI1T2NPi"
      ],
      "toc_visible": true
    },
    "kernelspec": {
      "display_name": "Python 3",
      "language": "python",
      "name": "python3"
    },
    "language_info": {
      "codemirror_mode": {
        "name": "ipython",
        "version": 3
      },
      "file_extension": ".py",
      "mimetype": "text/x-python",
      "name": "python",
      "nbconvert_exporter": "python",
      "pygments_lexer": "ipython3",
      "version": "3.7.3"
    }
  },
  "cells": [
    {
      "cell_type": "code",
      "metadata": {
        "id": "1NJl0-2ya_k7"
      },
      "source": [
        "import numpy as np\n",
        "import pandas as pd\n",
        "import sklearn\n",
        "import torch\n",
        "import matplotlib.pyplot as plt"
      ],
      "execution_count": 2,
      "outputs": []
    },
    {
      "cell_type": "code",
      "metadata": {
        "colab": {
          "base_uri": "https://localhost:8080/"
        },
        "id": "U2wLTQpPclik",
        "outputId": "ddddb220-ac85-4bce-b4b2-a9fdff8cafc5"
      },
      "source": [
        "import nltk\n",
        "from nltk.corpus import stopwords\n",
        "from nltk.tokenize import word_tokenize\n",
        "from nltk.stem import WordNetLemmatizer\n",
        "!pip install pymorphy2\n",
        "import pymorphy2\n",
        "morph = pymorphy2.MorphAnalyzer()"
      ],
      "execution_count": 3,
      "outputs": [
        {
          "output_type": "stream",
          "text": [
            "Requirement already satisfied: pymorphy2 in /usr/local/lib/python3.7/dist-packages (0.9.1)\n",
            "Requirement already satisfied: docopt>=0.6 in /usr/local/lib/python3.7/dist-packages (from pymorphy2) (0.6.2)\n",
            "Requirement already satisfied: dawg-python>=0.7.1 in /usr/local/lib/python3.7/dist-packages (from pymorphy2) (0.7.2)\n",
            "Requirement already satisfied: pymorphy2-dicts-ru<3.0,>=2.4 in /usr/local/lib/python3.7/dist-packages (from pymorphy2) (2.4.417127.4579844)\n"
          ],
          "name": "stdout"
        }
      ]
    },
    {
      "cell_type": "code",
      "metadata": {
        "colab": {
          "base_uri": "https://localhost:8080/"
        },
        "id": "V9-k4MW8cqcO",
        "outputId": "fa1d3337-6588-4ac1-f3a0-d478b5f1d16d"
      },
      "source": [
        "nltk.download('punkt')\n",
        "nltk.download('wordnet')\n",
        "nltk.download('stopwords')\n",
        "\n",
        "stop_words = set(stopwords.words('russian') + ['\\n', '\\r'])\n",
        "lemmatizer = WordNetLemmatizer()"
      ],
      "execution_count": 4,
      "outputs": [
        {
          "output_type": "stream",
          "text": [
            "[nltk_data] Downloading package punkt to /root/nltk_data...\n",
            "[nltk_data]   Package punkt is already up-to-date!\n",
            "[nltk_data] Downloading package wordnet to /root/nltk_data...\n",
            "[nltk_data]   Package wordnet is already up-to-date!\n",
            "[nltk_data] Downloading package stopwords to /root/nltk_data...\n",
            "[nltk_data]   Package stopwords is already up-to-date!\n"
          ],
          "name": "stdout"
        }
      ]
    },
    {
      "cell_type": "code",
      "metadata": {
        "id": "Pv4gTbGWct7c"
      },
      "source": [
        "def preprocess(text):\n",
        "    text = list(filter(str.isalpha, word_tokenize(text.lower())))\n",
        "    text = list(lemmatizer.lemmatize(word) for word in text)\n",
        "    text = list(morph.normal_forms(word)[0] for word in text)\n",
        "    text = list(word for word in text if word not in stop_words)\n",
        "    return ' '.join(text)"
      ],
      "execution_count": 5,
      "outputs": []
    },
    {
      "cell_type": "code",
      "metadata": {
        "id": "oldvE_XjfyQ1"
      },
      "source": [
        "from sklearn.model_selection import train_test_split\n",
        "from sklearn.linear_model import LogisticRegression\n",
        "from sklearn.metrics import accuracy_score, f1_score\n",
        "\n",
        "from sklearn.decomposition import LatentDirichletAllocation\n",
        "import collections, re\n",
        "from sklearn.feature_extraction import DictVectorizer\n",
        "\n",
        "from sklearn.feature_extraction.text import TfidfVectorizer"
      ],
      "execution_count": 6,
      "outputs": []
    },
    {
      "cell_type": "code",
      "metadata": {
        "colab": {
          "base_uri": "https://localhost:8080/"
        },
        "id": "j44XLoYomXt9",
        "outputId": "b8379284-3dbb-40e2-f325-f73b5d4b3767"
      },
      "source": [
        "!pip install catboost\n",
        "from catboost import CatBoostClassifier"
      ],
      "execution_count": 7,
      "outputs": [
        {
          "output_type": "stream",
          "text": [
            "Requirement already satisfied: catboost in /usr/local/lib/python3.7/dist-packages (0.25.1)\n",
            "Requirement already satisfied: plotly in /usr/local/lib/python3.7/dist-packages (from catboost) (4.4.1)\n",
            "Requirement already satisfied: six in /usr/local/lib/python3.7/dist-packages (from catboost) (1.15.0)\n",
            "Requirement already satisfied: matplotlib in /usr/local/lib/python3.7/dist-packages (from catboost) (3.2.2)\n",
            "Requirement already satisfied: graphviz in /usr/local/lib/python3.7/dist-packages (from catboost) (0.10.1)\n",
            "Requirement already satisfied: scipy in /usr/local/lib/python3.7/dist-packages (from catboost) (1.4.1)\n",
            "Requirement already satisfied: numpy>=1.16.0 in /usr/local/lib/python3.7/dist-packages (from catboost) (1.19.5)\n",
            "Requirement already satisfied: pandas>=0.24.0 in /usr/local/lib/python3.7/dist-packages (from catboost) (1.1.5)\n",
            "Requirement already satisfied: retrying>=1.3.3 in /usr/local/lib/python3.7/dist-packages (from plotly->catboost) (1.3.3)\n",
            "Requirement already satisfied: python-dateutil>=2.1 in /usr/local/lib/python3.7/dist-packages (from matplotlib->catboost) (2.8.1)\n",
            "Requirement already satisfied: cycler>=0.10 in /usr/local/lib/python3.7/dist-packages (from matplotlib->catboost) (0.10.0)\n",
            "Requirement already satisfied: pyparsing!=2.0.4,!=2.1.2,!=2.1.6,>=2.0.1 in /usr/local/lib/python3.7/dist-packages (from matplotlib->catboost) (2.4.7)\n",
            "Requirement already satisfied: kiwisolver>=1.0.1 in /usr/local/lib/python3.7/dist-packages (from matplotlib->catboost) (1.3.1)\n",
            "Requirement already satisfied: pytz>=2017.2 in /usr/local/lib/python3.7/dist-packages (from pandas>=0.24.0->catboost) (2018.9)\n"
          ],
          "name": "stdout"
        }
      ]
    },
    {
      "cell_type": "code",
      "metadata": {
        "id": "_qx6HMXSmrFb"
      },
      "source": [
        "data = pd.read_csv('/content/prepairing_data_patch.csv')"
      ],
      "execution_count": 8,
      "outputs": []
    },
    {
      "cell_type": "code",
      "metadata": {
        "id": "l23oKXyrCer5"
      },
      "source": [
        "picabu = pd.read_csv('/content/labeled.csv')"
      ],
      "execution_count": 9,
      "outputs": []
    },
    {
      "cell_type": "code",
      "metadata": {
        "id": "301fn0BfZb7p"
      },
      "source": [
        "task2 = pd.read_csv('/content/hui.csv')"
      ],
      "execution_count": 10,
      "outputs": []
    },
    {
      "cell_type": "code",
      "metadata": {
        "colab": {
          "base_uri": "https://localhost:8080/",
          "height": 220
        },
        "id": "s8keT-EEZlV1",
        "outputId": "1f25eef6-3fbc-4f1e-b11b-fb6d64527e0a"
      },
      "source": [
        "ok = pd.read_csv('/content/Ok.csv', sep=';', index_col='id').iloc[:20000]\n",
        "ok['label'] = ok.label.apply(lambda x: 0 if x == 'NORMAL' else 1)\n",
        "ok.head()"
      ],
      "execution_count": 12,
      "outputs": [
        {
          "output_type": "execute_result",
          "data": {
            "text/html": [
              "<div>\n",
              "<style scoped>\n",
              "    .dataframe tbody tr th:only-of-type {\n",
              "        vertical-align: middle;\n",
              "    }\n",
              "\n",
              "    .dataframe tbody tr th {\n",
              "        vertical-align: top;\n",
              "    }\n",
              "\n",
              "    .dataframe thead th {\n",
              "        text-align: right;\n",
              "    }\n",
              "</style>\n",
              "<table border=\"1\" class=\"dataframe\">\n",
              "  <thead>\n",
              "    <tr style=\"text-align: right;\">\n",
              "      <th></th>\n",
              "      <th>label</th>\n",
              "      <th>text</th>\n",
              "      <th>Unnamed: 3</th>\n",
              "      <th>Unnamed: 4</th>\n",
              "    </tr>\n",
              "    <tr>\n",
              "      <th>id</th>\n",
              "      <th></th>\n",
              "      <th></th>\n",
              "      <th></th>\n",
              "      <th></th>\n",
              "    </tr>\n",
              "  </thead>\n",
              "  <tbody>\n",
              "    <tr>\n",
              "      <th>41127</th>\n",
              "      <td>1</td>\n",
              "      <td>дворника надо тоже уничтожить!</td>\n",
              "      <td>NaN</td>\n",
              "      <td>NaN</td>\n",
              "    </tr>\n",
              "    <tr>\n",
              "      <th>6812</th>\n",
              "      <td>0</td>\n",
              "      <td>моя старшая неделю шипела, не принимала подкид...</td>\n",
              "      <td>NaN</td>\n",
              "      <td>NaN</td>\n",
              "    </tr>\n",
              "    <tr>\n",
              "      <th>6256</th>\n",
              "      <td>0</td>\n",
              "      <td>полностью с вами согласна!</td>\n",
              "      <td>NaN</td>\n",
              "      <td>NaN</td>\n",
              "    </tr>\n",
              "    <tr>\n",
              "      <th>189636</th>\n",
              "      <td>0</td>\n",
              "      <td>хоть ногу вверх, ничего не изменится</td>\n",
              "      <td>NaN</td>\n",
              "      <td>NaN</td>\n",
              "    </tr>\n",
              "    <tr>\n",
              "      <th>99053</th>\n",
              "      <td>0</td>\n",
              "      <td>а что значит - левого ребенка?</td>\n",
              "      <td>NaN</td>\n",
              "      <td>NaN</td>\n",
              "    </tr>\n",
              "  </tbody>\n",
              "</table>\n",
              "</div>"
            ],
            "text/plain": [
              "        label  ... Unnamed: 4\n",
              "id             ...           \n",
              "41127       1  ...        NaN\n",
              "6812        0  ...        NaN\n",
              "6256        0  ...        NaN\n",
              "189636      0  ...        NaN\n",
              "99053       0  ...        NaN\n",
              "\n",
              "[5 rows x 4 columns]"
            ]
          },
          "metadata": {
            "tags": []
          },
          "execution_count": 12
        }
      ]
    },
    {
      "cell_type": "code",
      "metadata": {
        "colab": {
          "base_uri": "https://localhost:8080/"
        },
        "id": "345h7wj1lXEa",
        "outputId": "ed5a2f51-b904-42db-aaf1-e0adf0f18583"
      },
      "source": [
        "texts = pd.read_csv('/content/non-toxic.txt',  sep=';',header=None)\n",
        "neg_texts = pd.read_csv('/content/toxic.txt',  sep=';',header=None)\n",
        "neg_texts[0].values"
      ],
      "execution_count": 13,
      "outputs": [
        {
          "output_type": "execute_result",
          "data": {
            "text/plain": [
              "array(['Я ненавижу <identity>.', 'Все <identity> тупые уроды.',\n",
              "       '<identity> сосет хуй.',\n",
              "       'Автор, гори в аду за пост об <identity>.',\n",
              "       'Не ожидала, что админ такой тупой, что запостит <identity>.',\n",
              "       'Ебать, продался <identity>.',\n",
              "       'Ненавижу этих дебилов из <identity>.',\n",
              "       '<identity> сдохни и гори в аду.',\n",
              "       'Кайф обоссать этого <identity>.', 'Получай по ебалу <identity>.',\n",
              "       'Тупые жирные <identity>, я вас ненавижу.',\n",
              "       'Умри, бесполезный <identity>.',\n",
              "       'Ты че решил что ты самый умный <identity>?',\n",
              "       'Дружочек, я с <idenity> не разговаривал.',\n",
              "       'Ну если мне понадобится мнение тупого <identity>, я позову твоего отца.',\n",
              "       'Выглядит странно как будто <identity> совсем ебнулся.',\n",
              "       'Кому-то еще не очевидна тупость <identity>?',\n",
              "       'На <identity> подписаны только тупицы.'], dtype=object)"
            ]
          },
          "metadata": {
            "tags": []
          },
          "execution_count": 13
        }
      ]
    },
    {
      "cell_type": "code",
      "metadata": {
        "id": "WqaNtpqAost-"
      },
      "source": [
        "secured_words = pd.read_csv('/content/prot.txt').word.values\n",
        "positivs = []\n",
        "negativs = []\n",
        "for word in secured_words:\n",
        "  for sentence in texts[0].values:\n",
        "    positivs.append(sentence.replace('<identity>', word))\n",
        "  for sentence in neg_texts[0].values:\n",
        "    negativs.append(sentence.replace('<identity>', word))\n"
      ],
      "execution_count": 14,
      "outputs": []
    },
    {
      "cell_type": "code",
      "metadata": {
        "id": "glPiWiNwqM6S"
      },
      "source": [
        "positives = pd.DataFrame(data=positivs, columns=['message'])\n",
        "positives['label'] = 0\n",
        "negatives = pd.DataFrame(data=negativs, columns=['message'])\n",
        "negatives['label'] = 1"
      ],
      "execution_count": 15,
      "outputs": []
    },
    {
      "cell_type": "code",
      "metadata": {
        "id": "fjOFt1LRDrEU"
      },
      "source": [
        "data['text'] = data.apply(lambda row: preprocess(row.message), axis=1)\n",
        "positives['text'] = positives.apply(lambda row: preprocess(row.message), axis=1)\n",
        "negatives['text'] = negatives.apply(lambda row: preprocess(row.message), axis=1)\n",
        "task2['text'] = task2.apply(lambda row: preprocess(row.message), axis=1)\n",
        "picabu['text'] = picabu.apply(lambda row: preprocess(row.comment), axis=1)\n",
        "ok['text'] = ok.apply(lambda row: preprocess(row.text), axis=1)"
      ],
      "execution_count": 16,
      "outputs": []
    },
    {
      "cell_type": "code",
      "metadata": {
        "id": "Bz4FyxkOhDEE"
      },
      "source": [
        "train = data[data['split']=='train']\n",
        "test = data[data['split']=='valid']"
      ],
      "execution_count": 17,
      "outputs": []
    },
    {
      "cell_type": "code",
      "metadata": {
        "colab": {
          "base_uri": "https://localhost:8080/",
          "height": 391
        },
        "id": "XP3BYCPxhO2M",
        "outputId": "038978d2-6869-4354-e69f-0ede0a00b320"
      },
      "source": [
        "train"
      ],
      "execution_count": 18,
      "outputs": [
        {
          "output_type": "execute_result",
          "data": {
            "text/html": [
              "<div>\n",
              "<style scoped>\n",
              "    .dataframe tbody tr th:only-of-type {\n",
              "        vertical-align: middle;\n",
              "    }\n",
              "\n",
              "    .dataframe tbody tr th {\n",
              "        vertical-align: top;\n",
              "    }\n",
              "\n",
              "    .dataframe thead th {\n",
              "        text-align: right;\n",
              "    }\n",
              "</style>\n",
              "<table border=\"1\" class=\"dataframe\">\n",
              "  <thead>\n",
              "    <tr style=\"text-align: right;\">\n",
              "      <th></th>\n",
              "      <th>message</th>\n",
              "      <th>label</th>\n",
              "      <th>split</th>\n",
              "      <th>text</th>\n",
              "    </tr>\n",
              "  </thead>\n",
              "  <tbody>\n",
              "    <tr>\n",
              "      <th>0</th>\n",
              "      <td>Пиздабол ещё тот</td>\n",
              "      <td>1</td>\n",
              "      <td>train</td>\n",
              "      <td>пиздабол ещё</td>\n",
              "    </tr>\n",
              "    <tr>\n",
              "      <th>1</th>\n",
              "      <td>Заколебали кукарекать, скоро весь пульс будет ...</td>\n",
              "      <td>1</td>\n",
              "      <td>train</td>\n",
              "      <td>заколебать кукарекать скоро весь пульс вафлера...</td>\n",
              "    </tr>\n",
              "    <tr>\n",
              "      <th>2</th>\n",
              "      <td>На деле собака сутулая</td>\n",
              "      <td>1</td>\n",
              "      <td>train</td>\n",
              "      <td>дело собака сутулый</td>\n",
              "    </tr>\n",
              "    <tr>\n",
              "      <th>3</th>\n",
              "      <td>Пшнх от сюда тварь</td>\n",
              "      <td>1</td>\n",
              "      <td>train</td>\n",
              "      <td>пшнх сюда тварь</td>\n",
              "    </tr>\n",
              "    <tr>\n",
              "      <th>4</th>\n",
              "      <td>плати за мое молчание клоп , сутки молчу 200 б...</td>\n",
              "      <td>1</td>\n",
              "      <td>train</td>\n",
              "      <td>платить молчание клоп сутки молчать бакс</td>\n",
              "    </tr>\n",
              "    <tr>\n",
              "      <th>...</th>\n",
              "      <td>...</td>\n",
              "      <td>...</td>\n",
              "      <td>...</td>\n",
              "      <td>...</td>\n",
              "    </tr>\n",
              "    <tr>\n",
              "      <th>34602</th>\n",
              "      <td>Тут не то, что ТА не работает, здравый смысл о...</td>\n",
              "      <td>0</td>\n",
              "      <td>train</td>\n",
              "      <td>работать здравый смысл отсутствовать</td>\n",
              "    </tr>\n",
              "    <tr>\n",
              "      <th>34603</th>\n",
              "      <td>Я тоже в бакс по 30 верил\\nКогда он уже 50 сто...</td>\n",
              "      <td>0</td>\n",
              "      <td>train</td>\n",
              "      <td>бакс верить стоить</td>\n",
              "    </tr>\n",
              "    <tr>\n",
              "      <th>34604</th>\n",
              "      <td>Ахаха, тока щас заметил что за это гавно комис...</td>\n",
              "      <td>0</td>\n",
              "      <td>train</td>\n",
              "      <td>ахах ток заметить это гавный комиссия конский ...</td>\n",
              "    </tr>\n",
              "    <tr>\n",
              "      <th>34605</th>\n",
              "      <td>Я с Теслой месяц мучился с плечом , в итоге вс...</td>\n",
              "      <td>0</td>\n",
              "      <td>train</td>\n",
              "      <td>теслой месяц мучиться плечо итог всё норма дож...</td>\n",
              "    </tr>\n",
              "    <tr>\n",
              "      <th>34606</th>\n",
              "      <td>Если одна бумага и она одна в маржу, то это ме...</td>\n",
              "      <td>0</td>\n",
              "      <td>train</td>\n",
              "      <td>бумага маржа это маленький руб значит комиссия...</td>\n",
              "    </tr>\n",
              "  </tbody>\n",
              "</table>\n",
              "<p>27701 rows × 4 columns</p>\n",
              "</div>"
            ],
            "text/plain": [
              "                                                 message  ...                                               text\n",
              "0                                       Пиздабол ещё тот  ...                                       пиздабол ещё\n",
              "1      Заколебали кукарекать, скоро весь пульс будет ...  ...  заколебать кукарекать скоро весь пульс вафлера...\n",
              "2                                 На деле собака сутулая  ...                                дело собака сутулый\n",
              "3                                     Пшнх от сюда тварь  ...                                    пшнх сюда тварь\n",
              "4      плати за мое молчание клоп , сутки молчу 200 б...  ...           платить молчание клоп сутки молчать бакс\n",
              "...                                                  ...  ...                                                ...\n",
              "34602  Тут не то, что ТА не работает, здравый смысл о...  ...               работать здравый смысл отсутствовать\n",
              "34603  Я тоже в бакс по 30 верил\\nКогда он уже 50 сто...  ...                                 бакс верить стоить\n",
              "34604  Ахаха, тока щас заметил что за это гавно комис...  ...  ахах ток заметить это гавный комиссия конский ...\n",
              "34605  Я с Теслой месяц мучился с плечом , в итоге вс...  ...  теслой месяц мучиться плечо итог всё норма дож...\n",
              "34606  Если одна бумага и она одна в маржу, то это ме...  ...  бумага маржа это маленький руб значит комиссия...\n",
              "\n",
              "[27701 rows x 4 columns]"
            ]
          },
          "metadata": {
            "tags": []
          },
          "execution_count": 18
        }
      ]
    },
    {
      "cell_type": "code",
      "metadata": {
        "id": "PHyKwLyhiT4V"
      },
      "source": [
        "X_train = pd.concat((train.text.fillna(''), #positives.text.fillna(''), negatives.text.fillna(''), task2.text.fillna(''), \n",
        "                     picabu.text,\n",
        "                     ok.text\n",
        "                     ),axis=0, ignore_index=True)\n",
        "y_train = pd.concat((train.label, #positives.label, negatives.label, task2.label.astype(int), \n",
        "                     picabu.toxic.astype(int),\n",
        "                     ok.label\n",
        "                     ),axis=0, ignore_index=True)\n",
        "X_test = test.text.fillna('')\n",
        "y_test = test.label"
      ],
      "execution_count": 19,
      "outputs": []
    },
    {
      "cell_type": "markdown",
      "metadata": {
        "id": "scJKMD5sRwUd"
      },
      "source": [
        "## RNN\n"
      ]
    },
    {
      "cell_type": "code",
      "metadata": {
        "id": "Q6Ssuq1wU8PT"
      },
      "source": [
        "X_train = pd.DataFrame(data=pd.read_csv('/content/X_train.csv').fillna('').values, columns=['message']).message\n",
        "X_test = pd.DataFrame(data=pd.read_csv('/content/X_test.csv').fillna('').values, columns=['message']).message\n",
        "y_train = pd.DataFrame(data=pd.read_csv('/content/y_train.csv').fillna('').values, columns=['message']).message\n",
        "y_test = pd.read_csv('/content/y_test.csv')\n"
      ],
      "execution_count": null,
      "outputs": []
    },
    {
      "cell_type": "code",
      "metadata": {
        "id": "X9joxwYQVBJ-"
      },
      "source": [
        "words = set()\n",
        "max_len = -1\n",
        "for line in X_train:\n",
        "  words.update(line.split())\n",
        "  if len(line) > max_len:\n",
        "    max_len = len(line)\n",
        "word_to_id = {}\n",
        "for i, val in enumerate(list(words) + ['']):\n",
        "  word_to_id[val] = i\n",
        "\n",
        "\n",
        "def token_to_id(name):\n",
        "  if name in word_to_id:\n",
        "    return word_to_id[name] / max_len\n",
        "  return -1"
      ],
      "execution_count": null,
      "outputs": []
    },
    {
      "cell_type": "code",
      "metadata": {
        "colab": {
          "base_uri": "https://localhost:8080/"
        },
        "id": "79jwlIrTWRYw",
        "outputId": "f721179e-9bb1-475c-f026-297137998049"
      },
      "source": [
        "word_to_id['']"
      ],
      "execution_count": null,
      "outputs": [
        {
          "output_type": "execute_result",
          "data": {
            "text/plain": [
              "105270"
            ]
          },
          "metadata": {
            "tags": []
          },
          "execution_count": 9
        }
      ]
    },
    {
      "cell_type": "code",
      "metadata": {
        "colab": {
          "base_uri": "https://localhost:8080/"
        },
        "id": "KGPi_umLVoi-",
        "outputId": "95d9f6fd-e8d6-4d72-8b33-66bf52a5ff2a"
      },
      "source": [
        "len(word_to_id)"
      ],
      "execution_count": null,
      "outputs": [
        {
          "output_type": "execute_result",
          "data": {
            "text/plain": [
              "105271"
            ]
          },
          "metadata": {
            "tags": []
          },
          "execution_count": 10
        }
      ]
    },
    {
      "cell_type": "code",
      "metadata": {
        "id": "PN9MmSQ8Uz_W"
      },
      "source": [
        "def to_matrix(names, max_len=None, pad=token_to_id(''), dtype='int32', batch_first = True):\n",
        "    \"\"\"Casts a list of names into rnn-digestable matrix\"\"\"\n",
        "    #print('here')\n",
        "    max_len = max_len or max(map(len, names))\n",
        "    names_ix = np.zeros([len(names), max_len], dtype) + pad\n",
        "\n",
        "    for i in range(len(names)):\n",
        "        line_ix = [token_to_id(c) for c in names[i].split()][:max_len]\n",
        "        names_ix[i, :len(line_ix)] = line_ix\n",
        "        \n",
        "    if not batch_first: # convert [batch, time] into [time, batch]\n",
        "        names_ix = np.transpose(names_ix)\n",
        "\n",
        "    return names_ix"
      ],
      "execution_count": null,
      "outputs": []
    },
    {
      "cell_type": "code",
      "metadata": {
        "id": "XAASqB3fWfhW"
      },
      "source": [
        "train_data = to_matrix(X_train, max_len=300)"
      ],
      "execution_count": null,
      "outputs": []
    },
    {
      "cell_type": "code",
      "metadata": {
        "colab": {
          "base_uri": "https://localhost:8080/"
        },
        "id": "6_gX5xsCWl5I",
        "outputId": "04d134d0-bbe9-42e0-9a06-fee9cc78f145"
      },
      "source": [
        "train_data.shape"
      ],
      "execution_count": null,
      "outputs": [
        {
          "output_type": "execute_result",
          "data": {
            "text/plain": [
              "(190888, 300)"
            ]
          },
          "metadata": {
            "tags": []
          },
          "execution_count": 13
        }
      ]
    },
    {
      "cell_type": "code",
      "metadata": {
        "colab": {
          "base_uri": "https://localhost:8080/",
          "height": 382
        },
        "id": "zvWjTTBxXJJH",
        "outputId": "0ecdf1b3-a670-4e82-a1c3-edade67c7914"
      },
      "source": [
        "batch_ix = to_matrix(X_train[:5], max_len=300)\n",
        "batch_ix = torch.tensor(batch_ix, dtype=torch.int64)\n",
        "\n",
        "rnn = nn.RNN(10, 10)\n",
        "\n",
        "logp_seq = rnn(batch_ix)\n",
        "\n",
        "assert torch.max(logp_seq).data.numpy() <= 0\n",
        "assert tuple(logp_seq.size()) ==  batch_ix.shape + (num_tokens,)"
      ],
      "execution_count": null,
      "outputs": [
        {
          "output_type": "error",
          "ename": "RuntimeError",
          "evalue": "ignored",
          "traceback": [
            "\u001b[0;31m---------------------------------------------------------------------------\u001b[0m",
            "\u001b[0;31mRuntimeError\u001b[0m                              Traceback (most recent call last)",
            "\u001b[0;32m<ipython-input-15-95d69acfd9b6>\u001b[0m in \u001b[0;36m<module>\u001b[0;34m()\u001b[0m\n\u001b[1;32m      4\u001b[0m \u001b[0mrnn\u001b[0m \u001b[0;34m=\u001b[0m \u001b[0mnn\u001b[0m\u001b[0;34m.\u001b[0m\u001b[0mRNN\u001b[0m\u001b[0;34m(\u001b[0m\u001b[0;36m10\u001b[0m\u001b[0;34m,\u001b[0m \u001b[0;36m10\u001b[0m\u001b[0;34m)\u001b[0m\u001b[0;34m\u001b[0m\u001b[0;34m\u001b[0m\u001b[0m\n\u001b[1;32m      5\u001b[0m \u001b[0;34m\u001b[0m\u001b[0m\n\u001b[0;32m----> 6\u001b[0;31m \u001b[0mlogp_seq\u001b[0m \u001b[0;34m=\u001b[0m \u001b[0mrnn\u001b[0m\u001b[0;34m(\u001b[0m\u001b[0mbatch_ix\u001b[0m\u001b[0;34m)\u001b[0m\u001b[0;34m\u001b[0m\u001b[0;34m\u001b[0m\u001b[0m\n\u001b[0m\u001b[1;32m      7\u001b[0m \u001b[0;34m\u001b[0m\u001b[0m\n\u001b[1;32m      8\u001b[0m \u001b[0;32massert\u001b[0m \u001b[0mtorch\u001b[0m\u001b[0;34m.\u001b[0m\u001b[0mmax\u001b[0m\u001b[0;34m(\u001b[0m\u001b[0mlogp_seq\u001b[0m\u001b[0;34m)\u001b[0m\u001b[0;34m.\u001b[0m\u001b[0mdata\u001b[0m\u001b[0;34m.\u001b[0m\u001b[0mnumpy\u001b[0m\u001b[0;34m(\u001b[0m\u001b[0;34m)\u001b[0m \u001b[0;34m<=\u001b[0m \u001b[0;36m0\u001b[0m\u001b[0;34m\u001b[0m\u001b[0;34m\u001b[0m\u001b[0m\n",
            "\u001b[0;32m/usr/local/lib/python3.7/dist-packages/torch/nn/modules/module.py\u001b[0m in \u001b[0;36m_call_impl\u001b[0;34m(self, *input, **kwargs)\u001b[0m\n\u001b[1;32m    887\u001b[0m             \u001b[0mresult\u001b[0m \u001b[0;34m=\u001b[0m \u001b[0mself\u001b[0m\u001b[0;34m.\u001b[0m\u001b[0m_slow_forward\u001b[0m\u001b[0;34m(\u001b[0m\u001b[0;34m*\u001b[0m\u001b[0minput\u001b[0m\u001b[0;34m,\u001b[0m \u001b[0;34m**\u001b[0m\u001b[0mkwargs\u001b[0m\u001b[0;34m)\u001b[0m\u001b[0;34m\u001b[0m\u001b[0;34m\u001b[0m\u001b[0m\n\u001b[1;32m    888\u001b[0m         \u001b[0;32melse\u001b[0m\u001b[0;34m:\u001b[0m\u001b[0;34m\u001b[0m\u001b[0;34m\u001b[0m\u001b[0m\n\u001b[0;32m--> 889\u001b[0;31m             \u001b[0mresult\u001b[0m \u001b[0;34m=\u001b[0m \u001b[0mself\u001b[0m\u001b[0;34m.\u001b[0m\u001b[0mforward\u001b[0m\u001b[0;34m(\u001b[0m\u001b[0;34m*\u001b[0m\u001b[0minput\u001b[0m\u001b[0;34m,\u001b[0m \u001b[0;34m**\u001b[0m\u001b[0mkwargs\u001b[0m\u001b[0;34m)\u001b[0m\u001b[0;34m\u001b[0m\u001b[0;34m\u001b[0m\u001b[0m\n\u001b[0m\u001b[1;32m    890\u001b[0m         for hook in itertools.chain(\n\u001b[1;32m    891\u001b[0m                 \u001b[0m_global_forward_hooks\u001b[0m\u001b[0;34m.\u001b[0m\u001b[0mvalues\u001b[0m\u001b[0;34m(\u001b[0m\u001b[0;34m)\u001b[0m\u001b[0;34m,\u001b[0m\u001b[0;34m\u001b[0m\u001b[0;34m\u001b[0m\u001b[0m\n",
            "\u001b[0;32m/usr/local/lib/python3.7/dist-packages/torch/nn/modules/rnn.py\u001b[0m in \u001b[0;36mforward\u001b[0;34m(self, input, hx)\u001b[0m\n\u001b[1;32m    260\u001b[0m \u001b[0;34m\u001b[0m\u001b[0m\n\u001b[1;32m    261\u001b[0m         \u001b[0;32massert\u001b[0m \u001b[0mhx\u001b[0m \u001b[0;32mis\u001b[0m \u001b[0;32mnot\u001b[0m \u001b[0;32mNone\u001b[0m\u001b[0;34m\u001b[0m\u001b[0;34m\u001b[0m\u001b[0m\n\u001b[0;32m--> 262\u001b[0;31m         \u001b[0mself\u001b[0m\u001b[0;34m.\u001b[0m\u001b[0mcheck_forward_args\u001b[0m\u001b[0;34m(\u001b[0m\u001b[0minput\u001b[0m\u001b[0;34m,\u001b[0m \u001b[0mhx\u001b[0m\u001b[0;34m,\u001b[0m \u001b[0mbatch_sizes\u001b[0m\u001b[0;34m)\u001b[0m\u001b[0;34m\u001b[0m\u001b[0;34m\u001b[0m\u001b[0m\n\u001b[0m\u001b[1;32m    263\u001b[0m         \u001b[0m_impl\u001b[0m \u001b[0;34m=\u001b[0m \u001b[0m_rnn_impls\u001b[0m\u001b[0;34m[\u001b[0m\u001b[0mself\u001b[0m\u001b[0;34m.\u001b[0m\u001b[0mmode\u001b[0m\u001b[0;34m]\u001b[0m\u001b[0;34m\u001b[0m\u001b[0;34m\u001b[0m\u001b[0m\n\u001b[1;32m    264\u001b[0m         \u001b[0;32mif\u001b[0m \u001b[0mbatch_sizes\u001b[0m \u001b[0;32mis\u001b[0m \u001b[0;32mNone\u001b[0m\u001b[0;34m:\u001b[0m\u001b[0;34m\u001b[0m\u001b[0;34m\u001b[0m\u001b[0m\n",
            "\u001b[0;32m/usr/local/lib/python3.7/dist-packages/torch/nn/modules/rnn.py\u001b[0m in \u001b[0;36mcheck_forward_args\u001b[0;34m(self, input, hidden, batch_sizes)\u001b[0m\n\u001b[1;32m    224\u001b[0m \u001b[0;34m\u001b[0m\u001b[0m\n\u001b[1;32m    225\u001b[0m     \u001b[0;32mdef\u001b[0m \u001b[0mcheck_forward_args\u001b[0m\u001b[0;34m(\u001b[0m\u001b[0mself\u001b[0m\u001b[0;34m,\u001b[0m \u001b[0minput\u001b[0m\u001b[0;34m:\u001b[0m \u001b[0mTensor\u001b[0m\u001b[0;34m,\u001b[0m \u001b[0mhidden\u001b[0m\u001b[0;34m:\u001b[0m \u001b[0mTensor\u001b[0m\u001b[0;34m,\u001b[0m \u001b[0mbatch_sizes\u001b[0m\u001b[0;34m:\u001b[0m \u001b[0mOptional\u001b[0m\u001b[0;34m[\u001b[0m\u001b[0mTensor\u001b[0m\u001b[0;34m]\u001b[0m\u001b[0;34m)\u001b[0m\u001b[0;34m:\u001b[0m\u001b[0;34m\u001b[0m\u001b[0;34m\u001b[0m\u001b[0m\n\u001b[0;32m--> 226\u001b[0;31m         \u001b[0mself\u001b[0m\u001b[0;34m.\u001b[0m\u001b[0mcheck_input\u001b[0m\u001b[0;34m(\u001b[0m\u001b[0minput\u001b[0m\u001b[0;34m,\u001b[0m \u001b[0mbatch_sizes\u001b[0m\u001b[0;34m)\u001b[0m\u001b[0;34m\u001b[0m\u001b[0;34m\u001b[0m\u001b[0m\n\u001b[0m\u001b[1;32m    227\u001b[0m         \u001b[0mexpected_hidden_size\u001b[0m \u001b[0;34m=\u001b[0m \u001b[0mself\u001b[0m\u001b[0;34m.\u001b[0m\u001b[0mget_expected_hidden_size\u001b[0m\u001b[0;34m(\u001b[0m\u001b[0minput\u001b[0m\u001b[0;34m,\u001b[0m \u001b[0mbatch_sizes\u001b[0m\u001b[0;34m)\u001b[0m\u001b[0;34m\u001b[0m\u001b[0;34m\u001b[0m\u001b[0m\n\u001b[1;32m    228\u001b[0m \u001b[0;34m\u001b[0m\u001b[0m\n",
            "\u001b[0;32m/usr/local/lib/python3.7/dist-packages/torch/nn/modules/rnn.py\u001b[0m in \u001b[0;36mcheck_input\u001b[0;34m(self, input, batch_sizes)\u001b[0m\n\u001b[1;32m    198\u001b[0m             raise RuntimeError(\n\u001b[1;32m    199\u001b[0m                 'input must have {} dimensions, got {}'.format(\n\u001b[0;32m--> 200\u001b[0;31m                     expected_input_dim, input.dim()))\n\u001b[0m\u001b[1;32m    201\u001b[0m         \u001b[0;32mif\u001b[0m \u001b[0mself\u001b[0m\u001b[0;34m.\u001b[0m\u001b[0minput_size\u001b[0m \u001b[0;34m!=\u001b[0m \u001b[0minput\u001b[0m\u001b[0;34m.\u001b[0m\u001b[0msize\u001b[0m\u001b[0;34m(\u001b[0m\u001b[0;34m-\u001b[0m\u001b[0;36m1\u001b[0m\u001b[0;34m)\u001b[0m\u001b[0;34m:\u001b[0m\u001b[0;34m\u001b[0m\u001b[0;34m\u001b[0m\u001b[0m\n\u001b[1;32m    202\u001b[0m             raise RuntimeError(\n",
            "\u001b[0;31mRuntimeError\u001b[0m: input must have 3 dimensions, got 2"
          ]
        }
      ]
    },
    {
      "cell_type": "code",
      "metadata": {
        "colab": {
          "base_uri": "https://localhost:8080/"
        },
        "id": "eG0gN_oiYU1c",
        "outputId": "85d7c070-aa6f-4b29-d1c2-67ac1023a2f6"
      },
      "source": [
        "batch_ix.shape"
      ],
      "execution_count": null,
      "outputs": [
        {
          "output_type": "execute_result",
          "data": {
            "text/plain": [
              "torch.Size([5, 300])"
            ]
          },
          "metadata": {
            "tags": []
          },
          "execution_count": 16
        }
      ]
    },
    {
      "cell_type": "code",
      "metadata": {
        "colab": {
          "base_uri": "https://localhost:8080/",
          "height": 347
        },
        "id": "fUaIV6ibRwta",
        "outputId": "2605073a-bd80-4173-e440-91c5b26d6911"
      },
      "source": [
        "from torch import nn\n",
        "import torch\n",
        "\n",
        "rnn = nn.RNN(300, 2, 12)\n",
        "\n",
        "input = batch_ix[np.newaxis, :, :].float()\n",
        "h0 = torch.zeros(12, 64, 2)\n",
        "output, hn = rnn(input, h0)"
      ],
      "execution_count": null,
      "outputs": [
        {
          "output_type": "error",
          "ename": "RuntimeError",
          "evalue": "ignored",
          "traceback": [
            "\u001b[0;31m---------------------------------------------------------------------------\u001b[0m",
            "\u001b[0;31mRuntimeError\u001b[0m                              Traceback (most recent call last)",
            "\u001b[0;32m<ipython-input-17-15f3b5b10710>\u001b[0m in \u001b[0;36m<module>\u001b[0;34m()\u001b[0m\n\u001b[1;32m      6\u001b[0m \u001b[0minput\u001b[0m \u001b[0;34m=\u001b[0m \u001b[0mbatch_ix\u001b[0m\u001b[0;34m[\u001b[0m\u001b[0mnp\u001b[0m\u001b[0;34m.\u001b[0m\u001b[0mnewaxis\u001b[0m\u001b[0;34m,\u001b[0m \u001b[0;34m:\u001b[0m\u001b[0;34m,\u001b[0m \u001b[0;34m:\u001b[0m\u001b[0;34m]\u001b[0m\u001b[0;34m.\u001b[0m\u001b[0mfloat\u001b[0m\u001b[0;34m(\u001b[0m\u001b[0;34m)\u001b[0m\u001b[0;34m\u001b[0m\u001b[0;34m\u001b[0m\u001b[0m\n\u001b[1;32m      7\u001b[0m \u001b[0mh0\u001b[0m \u001b[0;34m=\u001b[0m \u001b[0mtorch\u001b[0m\u001b[0;34m.\u001b[0m\u001b[0mzeros\u001b[0m\u001b[0;34m(\u001b[0m\u001b[0;36m12\u001b[0m\u001b[0;34m,\u001b[0m \u001b[0;36m64\u001b[0m\u001b[0;34m,\u001b[0m \u001b[0;36m2\u001b[0m\u001b[0;34m)\u001b[0m\u001b[0;34m\u001b[0m\u001b[0;34m\u001b[0m\u001b[0m\n\u001b[0;32m----> 8\u001b[0;31m \u001b[0moutput\u001b[0m\u001b[0;34m,\u001b[0m \u001b[0mhn\u001b[0m \u001b[0;34m=\u001b[0m \u001b[0mrnn\u001b[0m\u001b[0;34m(\u001b[0m\u001b[0minput\u001b[0m\u001b[0;34m,\u001b[0m \u001b[0mh0\u001b[0m\u001b[0;34m)\u001b[0m\u001b[0;34m\u001b[0m\u001b[0;34m\u001b[0m\u001b[0m\n\u001b[0m",
            "\u001b[0;32m/usr/local/lib/python3.7/dist-packages/torch/nn/modules/module.py\u001b[0m in \u001b[0;36m_call_impl\u001b[0;34m(self, *input, **kwargs)\u001b[0m\n\u001b[1;32m    887\u001b[0m             \u001b[0mresult\u001b[0m \u001b[0;34m=\u001b[0m \u001b[0mself\u001b[0m\u001b[0;34m.\u001b[0m\u001b[0m_slow_forward\u001b[0m\u001b[0;34m(\u001b[0m\u001b[0;34m*\u001b[0m\u001b[0minput\u001b[0m\u001b[0;34m,\u001b[0m \u001b[0;34m**\u001b[0m\u001b[0mkwargs\u001b[0m\u001b[0;34m)\u001b[0m\u001b[0;34m\u001b[0m\u001b[0;34m\u001b[0m\u001b[0m\n\u001b[1;32m    888\u001b[0m         \u001b[0;32melse\u001b[0m\u001b[0;34m:\u001b[0m\u001b[0;34m\u001b[0m\u001b[0;34m\u001b[0m\u001b[0m\n\u001b[0;32m--> 889\u001b[0;31m             \u001b[0mresult\u001b[0m \u001b[0;34m=\u001b[0m \u001b[0mself\u001b[0m\u001b[0;34m.\u001b[0m\u001b[0mforward\u001b[0m\u001b[0;34m(\u001b[0m\u001b[0;34m*\u001b[0m\u001b[0minput\u001b[0m\u001b[0;34m,\u001b[0m \u001b[0;34m**\u001b[0m\u001b[0mkwargs\u001b[0m\u001b[0;34m)\u001b[0m\u001b[0;34m\u001b[0m\u001b[0;34m\u001b[0m\u001b[0m\n\u001b[0m\u001b[1;32m    890\u001b[0m         for hook in itertools.chain(\n\u001b[1;32m    891\u001b[0m                 \u001b[0m_global_forward_hooks\u001b[0m\u001b[0;34m.\u001b[0m\u001b[0mvalues\u001b[0m\u001b[0;34m(\u001b[0m\u001b[0;34m)\u001b[0m\u001b[0;34m,\u001b[0m\u001b[0;34m\u001b[0m\u001b[0;34m\u001b[0m\u001b[0m\n",
            "\u001b[0;32m/usr/local/lib/python3.7/dist-packages/torch/nn/modules/rnn.py\u001b[0m in \u001b[0;36mforward\u001b[0;34m(self, input, hx)\u001b[0m\n\u001b[1;32m    260\u001b[0m \u001b[0;34m\u001b[0m\u001b[0m\n\u001b[1;32m    261\u001b[0m         \u001b[0;32massert\u001b[0m \u001b[0mhx\u001b[0m \u001b[0;32mis\u001b[0m \u001b[0;32mnot\u001b[0m \u001b[0;32mNone\u001b[0m\u001b[0;34m\u001b[0m\u001b[0;34m\u001b[0m\u001b[0m\n\u001b[0;32m--> 262\u001b[0;31m         \u001b[0mself\u001b[0m\u001b[0;34m.\u001b[0m\u001b[0mcheck_forward_args\u001b[0m\u001b[0;34m(\u001b[0m\u001b[0minput\u001b[0m\u001b[0;34m,\u001b[0m \u001b[0mhx\u001b[0m\u001b[0;34m,\u001b[0m \u001b[0mbatch_sizes\u001b[0m\u001b[0;34m)\u001b[0m\u001b[0;34m\u001b[0m\u001b[0;34m\u001b[0m\u001b[0m\n\u001b[0m\u001b[1;32m    263\u001b[0m         \u001b[0m_impl\u001b[0m \u001b[0;34m=\u001b[0m \u001b[0m_rnn_impls\u001b[0m\u001b[0;34m[\u001b[0m\u001b[0mself\u001b[0m\u001b[0;34m.\u001b[0m\u001b[0mmode\u001b[0m\u001b[0;34m]\u001b[0m\u001b[0;34m\u001b[0m\u001b[0;34m\u001b[0m\u001b[0m\n\u001b[1;32m    264\u001b[0m         \u001b[0;32mif\u001b[0m \u001b[0mbatch_sizes\u001b[0m \u001b[0;32mis\u001b[0m \u001b[0;32mNone\u001b[0m\u001b[0;34m:\u001b[0m\u001b[0;34m\u001b[0m\u001b[0;34m\u001b[0m\u001b[0m\n",
            "\u001b[0;32m/usr/local/lib/python3.7/dist-packages/torch/nn/modules/rnn.py\u001b[0m in \u001b[0;36mcheck_forward_args\u001b[0;34m(self, input, hidden, batch_sizes)\u001b[0m\n\u001b[1;32m    227\u001b[0m         \u001b[0mexpected_hidden_size\u001b[0m \u001b[0;34m=\u001b[0m \u001b[0mself\u001b[0m\u001b[0;34m.\u001b[0m\u001b[0mget_expected_hidden_size\u001b[0m\u001b[0;34m(\u001b[0m\u001b[0minput\u001b[0m\u001b[0;34m,\u001b[0m \u001b[0mbatch_sizes\u001b[0m\u001b[0;34m)\u001b[0m\u001b[0;34m\u001b[0m\u001b[0;34m\u001b[0m\u001b[0m\n\u001b[1;32m    228\u001b[0m \u001b[0;34m\u001b[0m\u001b[0m\n\u001b[0;32m--> 229\u001b[0;31m         \u001b[0mself\u001b[0m\u001b[0;34m.\u001b[0m\u001b[0mcheck_hidden_size\u001b[0m\u001b[0;34m(\u001b[0m\u001b[0mhidden\u001b[0m\u001b[0;34m,\u001b[0m \u001b[0mexpected_hidden_size\u001b[0m\u001b[0;34m)\u001b[0m\u001b[0;34m\u001b[0m\u001b[0;34m\u001b[0m\u001b[0m\n\u001b[0m\u001b[1;32m    230\u001b[0m \u001b[0;34m\u001b[0m\u001b[0m\n\u001b[1;32m    231\u001b[0m     \u001b[0;32mdef\u001b[0m \u001b[0mpermute_hidden\u001b[0m\u001b[0;34m(\u001b[0m\u001b[0mself\u001b[0m\u001b[0;34m,\u001b[0m \u001b[0mhx\u001b[0m\u001b[0;34m:\u001b[0m \u001b[0mTensor\u001b[0m\u001b[0;34m,\u001b[0m \u001b[0mpermutation\u001b[0m\u001b[0;34m:\u001b[0m \u001b[0mOptional\u001b[0m\u001b[0;34m[\u001b[0m\u001b[0mTensor\u001b[0m\u001b[0;34m]\u001b[0m\u001b[0;34m)\u001b[0m\u001b[0;34m:\u001b[0m\u001b[0;34m\u001b[0m\u001b[0;34m\u001b[0m\u001b[0m\n",
            "\u001b[0;32m/usr/local/lib/python3.7/dist-packages/torch/nn/modules/rnn.py\u001b[0m in \u001b[0;36mcheck_hidden_size\u001b[0;34m(self, hx, expected_hidden_size, msg)\u001b[0m\n\u001b[1;32m    221\u001b[0m                           msg: str = 'Expected hidden size {}, got {}') -> None:\n\u001b[1;32m    222\u001b[0m         \u001b[0;32mif\u001b[0m \u001b[0mhx\u001b[0m\u001b[0;34m.\u001b[0m\u001b[0msize\u001b[0m\u001b[0;34m(\u001b[0m\u001b[0;34m)\u001b[0m \u001b[0;34m!=\u001b[0m \u001b[0mexpected_hidden_size\u001b[0m\u001b[0;34m:\u001b[0m\u001b[0;34m\u001b[0m\u001b[0;34m\u001b[0m\u001b[0m\n\u001b[0;32m--> 223\u001b[0;31m             \u001b[0;32mraise\u001b[0m \u001b[0mRuntimeError\u001b[0m\u001b[0;34m(\u001b[0m\u001b[0mmsg\u001b[0m\u001b[0;34m.\u001b[0m\u001b[0mformat\u001b[0m\u001b[0;34m(\u001b[0m\u001b[0mexpected_hidden_size\u001b[0m\u001b[0;34m,\u001b[0m \u001b[0mlist\u001b[0m\u001b[0;34m(\u001b[0m\u001b[0mhx\u001b[0m\u001b[0;34m.\u001b[0m\u001b[0msize\u001b[0m\u001b[0;34m(\u001b[0m\u001b[0;34m)\u001b[0m\u001b[0;34m)\u001b[0m\u001b[0;34m)\u001b[0m\u001b[0;34m)\u001b[0m\u001b[0;34m\u001b[0m\u001b[0;34m\u001b[0m\u001b[0m\n\u001b[0m\u001b[1;32m    224\u001b[0m \u001b[0;34m\u001b[0m\u001b[0m\n\u001b[1;32m    225\u001b[0m     \u001b[0;32mdef\u001b[0m \u001b[0mcheck_forward_args\u001b[0m\u001b[0;34m(\u001b[0m\u001b[0mself\u001b[0m\u001b[0;34m,\u001b[0m \u001b[0minput\u001b[0m\u001b[0;34m:\u001b[0m \u001b[0mTensor\u001b[0m\u001b[0;34m,\u001b[0m \u001b[0mhidden\u001b[0m\u001b[0;34m:\u001b[0m \u001b[0mTensor\u001b[0m\u001b[0;34m,\u001b[0m \u001b[0mbatch_sizes\u001b[0m\u001b[0;34m:\u001b[0m \u001b[0mOptional\u001b[0m\u001b[0;34m[\u001b[0m\u001b[0mTensor\u001b[0m\u001b[0;34m]\u001b[0m\u001b[0;34m)\u001b[0m\u001b[0;34m:\u001b[0m\u001b[0;34m\u001b[0m\u001b[0;34m\u001b[0m\u001b[0m\n",
            "\u001b[0;31mRuntimeError\u001b[0m: Expected hidden size (12, 5, 2), got [12, 64, 2]"
          ]
        }
      ]
    },
    {
      "cell_type": "code",
      "metadata": {
        "colab": {
          "base_uri": "https://localhost:8080/"
        },
        "id": "e6HRGEpCe-Be",
        "outputId": "37ea48a5-fcc0-4233-a2d1-123267fb1b55"
      },
      "source": [
        "X_train"
      ],
      "execution_count": null,
      "outputs": [
        {
          "output_type": "execute_result",
          "data": {
            "text/plain": [
              "0                                              пиздабол ещё\n",
              "1         заколебать кукарекать скоро весь пульс этот ва...\n",
              "2                                       дело собака сутулый\n",
              "3                                           пшнх сюда тварь\n",
              "4              платить мой молчание клоп сутки молчать бакс\n",
              "                                ...                        \n",
              "190883    думать полиция это знать просто это никто хоте...\n",
              "190884                           возмущаться всё точно факт\n",
              "190885    затереть дыра данный ролик сколько год всё пок...\n",
              "190886                            проследить пидор наказать\n",
              "190887                                     редкий долбоести\n",
              "Name: message, Length: 190888, dtype: object"
            ]
          },
          "metadata": {
            "tags": []
          },
          "execution_count": 43
        }
      ]
    },
    {
      "cell_type": "code",
      "metadata": {
        "colab": {
          "base_uri": "https://localhost:8080/"
        },
        "id": "omAx8TRIeEjY",
        "outputId": "0ba38c69-9966-4537-8c2a-5a3db1543743"
      },
      "source": [
        "output"
      ],
      "execution_count": null,
      "outputs": [
        {
          "output_type": "execute_result",
          "data": {
            "text/plain": [
              "tensor([[-3.4993e-01, -3.0756e-01, -2.7500e-01,  1.1932e-03, -1.7987e-01,\n",
              "         -1.3807e-01,  1.0722e-02,  3.0190e-01, -9.9065e-02, -1.4211e-01,\n",
              "         -6.3561e-01, -1.4722e-01, -3.9479e-01, -3.7867e-01, -7.1260e-02,\n",
              "          2.0672e-01,  1.2577e-01, -3.2960e-01,  3.5796e-01,  2.7854e-01,\n",
              "         -4.3397e-01, -1.4973e-02, -1.9574e-01,  3.1353e-01, -2.2685e-01,\n",
              "          1.9929e-02,  4.0099e-01,  1.3460e-01,  7.5548e-03,  1.5212e-01,\n",
              "         -2.1347e-01, -1.2314e-01,  4.7164e-01,  2.5409e-01,  4.4845e-01,\n",
              "          1.9260e-01, -2.7073e-01, -2.0794e-01,  7.3013e-01,  1.0160e-01,\n",
              "         -2.6584e-01, -3.6435e-01,  7.3061e-02, -3.9773e-01, -1.0634e-01,\n",
              "         -1.9774e-01, -4.3082e-02,  2.9453e-01, -6.7992e-01, -4.7794e-01,\n",
              "         -3.0099e-01, -5.4821e-01,  7.8595e-02,  2.4260e-01, -3.3104e-01,\n",
              "         -9.4799e-03,  4.5769e-02,  3.2028e-01,  2.1499e-01,  2.7773e-01,\n",
              "          1.8513e-01, -3.6358e-01, -1.5184e-01, -1.3534e-01, -4.6190e-05,\n",
              "          9.6920e-02, -6.7579e-02,  3.5800e-01,  1.2338e-01, -1.7496e-01,\n",
              "          1.6559e-02, -3.2022e-01, -6.9463e-02, -3.1554e-01, -7.9290e-02,\n",
              "          1.6472e-01,  3.1482e-01, -7.1312e-01,  6.2015e-02, -4.1039e-02,\n",
              "         -2.9326e-01, -4.4818e-02,  1.1225e-01,  1.0275e-01,  4.5703e-02,\n",
              "          5.4737e-01, -5.8525e-01, -8.8420e-02, -3.5470e-02,  1.4706e-01,\n",
              "         -1.1687e-01, -1.5855e-01, -1.1227e-01, -2.9616e-01,  8.2014e-02,\n",
              "          4.9674e-01, -3.9706e-01,  3.7125e-01, -5.2032e-01, -1.0016e-01,\n",
              "         -8.6129e-03, -3.3435e-02,  3.5819e-01,  1.0708e-01, -1.4727e-01,\n",
              "          2.5201e-01, -4.7871e-01, -3.6124e-01,  1.1196e-01, -7.1160e-02,\n",
              "         -5.5107e-01,  2.8099e-02, -4.9063e-01, -2.9118e-01, -2.1013e-01,\n",
              "          1.4476e-01, -4.1316e-01, -1.8080e-01,  2.3089e-01, -2.7958e-01,\n",
              "          3.3570e-01,  4.3464e-02,  4.2296e-01,  8.7682e-02, -2.1340e-01,\n",
              "         -5.3730e-02, -4.3625e-01, -7.3079e-01, -8.1975e-02, -1.4267e-01,\n",
              "         -2.2426e-02,  1.1130e-03,  1.6807e-01, -2.9069e-01, -2.1290e-01,\n",
              "          2.1881e-01, -5.9865e-02,  4.1876e-01,  9.5650e-02, -8.5355e-01,\n",
              "          3.2861e-01,  1.0857e-01, -3.3474e-01, -8.5889e-02, -5.6209e-02,\n",
              "         -1.8948e-01,  5.1712e-01,  1.7996e-01, -1.6063e-01,  2.7738e-01,\n",
              "         -4.3600e-01, -2.1116e-01,  5.9684e-01, -3.3565e-01, -4.5278e-01,\n",
              "          1.8897e-01, -1.7622e-01,  3.5732e-01,  1.8867e-01,  3.6403e-01,\n",
              "         -9.7810e-02, -3.4304e-01, -3.3827e-01,  8.2706e-02,  9.9241e-02,\n",
              "          9.3358e-02,  1.0984e-01,  1.2476e-01, -7.8672e-02,  1.1027e-01,\n",
              "          6.2027e-01,  1.1999e-01, -2.1050e-01,  1.8856e-01,  6.4082e-02,\n",
              "         -4.3087e-03,  9.0255e-02, -1.0712e-02,  3.9416e-02,  8.1365e-02,\n",
              "         -3.3232e-01, -5.8016e-02, -7.3697e-01,  2.0375e-01, -5.3755e-01,\n",
              "         -4.7494e-01, -4.4331e-01, -2.9798e-01,  1.0922e-01,  8.7862e-01,\n",
              "         -8.1047e-01, -4.0034e-01,  2.2318e-01, -3.3200e-01, -2.4044e-01,\n",
              "          4.2485e-01, -1.7554e-01, -3.3774e-01,  4.8291e-01,  2.6271e-01,\n",
              "          1.8663e-02,  3.0936e-01, -4.6452e-01,  1.7970e-01,  1.6351e-01,\n",
              "          1.1158e-01,  1.4034e-01, -1.0570e-01, -2.7833e-01, -2.3388e-01,\n",
              "          6.0073e-02, -2.1764e-01, -5.7646e-01,  4.8078e-02, -5.9649e-01,\n",
              "          1.9682e-01,  5.5380e-01,  2.1640e-01,  3.7107e-02,  4.1822e-01,\n",
              "         -4.2008e-02,  2.2273e-01, -2.0897e-01, -4.5026e-01, -2.3579e-02,\n",
              "          4.0516e-01,  2.2808e-01, -1.8508e-01, -2.4346e-01, -2.5325e-01,\n",
              "          2.5022e-01, -2.6230e-01, -2.3680e-01, -2.9972e-02, -1.7161e-02,\n",
              "          5.1480e-01, -6.2129e-01, -5.9720e-02,  3.7586e-01, -1.4870e-02,\n",
              "         -5.5932e-01,  1.4009e-03,  2.5474e-01,  4.2708e-02,  3.7254e-01,\n",
              "          1.3171e-01, -8.8673e-02, -2.3165e-01,  2.5030e-01,  1.0436e-01,\n",
              "         -2.0371e-01,  2.0964e-01,  1.1447e-01,  1.5612e-01,  5.2849e-01,\n",
              "          1.6100e-01, -4.0308e-01, -2.8580e-02, -4.2244e-02, -1.0087e-01,\n",
              "         -2.4474e-01, -2.2021e-01, -6.9457e-01,  2.5682e-01, -2.6024e-01,\n",
              "         -1.0053e-01,  4.8835e-01, -3.1739e-01,  6.3754e-02,  8.6531e-01,\n",
              "         -8.8407e-02,  2.4407e-01, -5.3988e-02,  4.7325e-02, -5.8275e-01,\n",
              "          2.5021e-02, -3.0981e-02,  1.4469e-01,  6.0398e-01,  4.3413e-01,\n",
              "         -1.2485e-01,  1.5135e-03, -1.0801e-01,  1.5690e-01, -2.7483e-01,\n",
              "          2.4352e-01, -1.8107e-01,  1.7914e-01,  8.5064e-02,  2.5107e-01,\n",
              "         -5.7992e-02,  5.5196e-02,  3.6153e-02,  1.9266e-01, -1.1954e-02,\n",
              "         -5.9878e-01,  3.6218e-01, -5.2496e-01,  1.3499e-01,  2.2263e-01]])"
            ]
          },
          "metadata": {
            "tags": []
          },
          "execution_count": 44
        }
      ]
    },
    {
      "cell_type": "code",
      "metadata": {
        "colab": {
          "base_uri": "https://localhost:8080/",
          "height": 166
        },
        "id": "T3wSMdgLeidd",
        "outputId": "7a1d340e-ea3b-43e5-8b1c-625659885d61"
      },
      "source": [
        "output[:, :, 0]"
      ],
      "execution_count": null,
      "outputs": [
        {
          "output_type": "error",
          "ename": "IndexError",
          "evalue": "ignored",
          "traceback": [
            "\u001b[0;31m---------------------------------------------------------------------------\u001b[0m",
            "\u001b[0;31mIndexError\u001b[0m                                Traceback (most recent call last)",
            "\u001b[0;32m<ipython-input-45-b28172057994>\u001b[0m in \u001b[0;36m<module>\u001b[0;34m()\u001b[0m\n\u001b[0;32m----> 1\u001b[0;31m \u001b[0moutput\u001b[0m\u001b[0;34m[\u001b[0m\u001b[0;34m:\u001b[0m\u001b[0;34m,\u001b[0m \u001b[0;34m:\u001b[0m\u001b[0;34m,\u001b[0m \u001b[0;36m0\u001b[0m\u001b[0;34m]\u001b[0m\u001b[0;34m\u001b[0m\u001b[0;34m\u001b[0m\u001b[0m\n\u001b[0m",
            "\u001b[0;31mIndexError\u001b[0m: too many indices for tensor of dimension 2"
          ]
        }
      ]
    },
    {
      "cell_type": "code",
      "metadata": {
        "colab": {
          "base_uri": "https://localhost:8080/"
        },
        "id": "EY0Y5cDAfuZJ",
        "outputId": "00d1716c-76b0-47dc-826f-476f7d83ad2d"
      },
      "source": [
        "X_train[[1, 2, 3]]"
      ],
      "execution_count": null,
      "outputs": [
        {
          "output_type": "execute_result",
          "data": {
            "text/plain": [
              "1    заколебать кукарекать скоро весь пульс этот ва...\n",
              "2                                  дело собака сутулый\n",
              "3                                      пшнх сюда тварь\n",
              "Name: message, dtype: object"
            ]
          },
          "metadata": {
            "tags": []
          },
          "execution_count": 46
        }
      ]
    },
    {
      "cell_type": "code",
      "metadata": {
        "id": "jvoYRD-0gSao"
      },
      "source": [
        "criterion()"
      ],
      "execution_count": null,
      "outputs": []
    },
    {
      "cell_type": "code",
      "metadata": {
        "colab": {
          "base_uri": "https://localhost:8080/",
          "height": 166
        },
        "id": "1wszZkgfgmlV",
        "outputId": "3ca9f7b0-3eb7-4be0-e7b2-56b347321df8"
      },
      "source": [
        "actual_next_tokens.values.reshape(-1).shape"
      ],
      "execution_count": null,
      "outputs": [
        {
          "output_type": "error",
          "ename": "NameError",
          "evalue": "ignored",
          "traceback": [
            "\u001b[0;31m---------------------------------------------------------------------------\u001b[0m",
            "\u001b[0;31mNameError\u001b[0m                                 Traceback (most recent call last)",
            "\u001b[0;32m<ipython-input-47-48430452bdfe>\u001b[0m in \u001b[0;36m<module>\u001b[0;34m()\u001b[0m\n\u001b[0;32m----> 1\u001b[0;31m \u001b[0mactual_next_tokens\u001b[0m\u001b[0;34m.\u001b[0m\u001b[0mvalues\u001b[0m\u001b[0;34m.\u001b[0m\u001b[0mreshape\u001b[0m\u001b[0;34m(\u001b[0m\u001b[0;34m-\u001b[0m\u001b[0;36m1\u001b[0m\u001b[0;34m)\u001b[0m\u001b[0;34m.\u001b[0m\u001b[0mshape\u001b[0m\u001b[0;34m\u001b[0m\u001b[0;34m\u001b[0m\u001b[0m\n\u001b[0m",
            "\u001b[0;31mNameError\u001b[0m: name 'actual_next_tokens' is not defined"
          ]
        }
      ]
    },
    {
      "cell_type": "code",
      "metadata": {
        "colab": {
          "base_uri": "https://localhost:8080/"
        },
        "id": "aCLUF38xhoka",
        "outputId": "cae43628-27ce-400e-a5f3-fbde6f2d36d7"
      },
      "source": [
        "np.array([1, 2, 3]).shape,  predictions_logp.shape"
      ],
      "execution_count": null,
      "outputs": [
        {
          "output_type": "execute_result",
          "data": {
            "text/plain": [
              "((3,), torch.Size([1, 64]))"
            ]
          },
          "metadata": {
            "tags": []
          },
          "execution_count": 140
        }
      ]
    },
    {
      "cell_type": "code",
      "metadata": {
        "id": "1Xz2Aa0JPIYG"
      },
      "source": [
        "from scipy.spatial.distance import cosine"
      ],
      "execution_count": null,
      "outputs": []
    },
    {
      "cell_type": "code",
      "metadata": {
        "colab": {
          "base_uri": "https://localhost:8080/"
        },
        "id": "OAcNH3s-O_ct",
        "outputId": "ddb9b079-1a03-48c9-d781-501642e8984c"
      },
      "source": [
        "cosine(navec.get('король') - navec.get('мужчина') + navec.get('женщина'), navec.get('королева'))"
      ],
      "execution_count": null,
      "outputs": [
        {
          "output_type": "execute_result",
          "data": {
            "text/plain": [
              "0.26030921936035156"
            ]
          },
          "metadata": {
            "tags": []
          },
          "execution_count": 56
        }
      ]
    },
    {
      "cell_type": "code",
      "metadata": {
        "colab": {
          "base_uri": "https://localhost:8080/"
        },
        "id": "ltUSlCIWipG8",
        "outputId": "2553b22b-b1a2-40b5-f16b-2326b6d0e13f"
      },
      "source": [
        "input.shape"
      ],
      "execution_count": null,
      "outputs": [
        {
          "output_type": "execute_result",
          "data": {
            "text/plain": [
              "torch.Size([1, 64, 300])"
            ]
          },
          "metadata": {
            "tags": []
          },
          "execution_count": 143
        }
      ]
    },
    {
      "cell_type": "code",
      "metadata": {
        "colab": {
          "base_uri": "https://localhost:8080/"
        },
        "id": "KtZbifXlSRyU",
        "outputId": "063d1d28-0404-4799-b968-6f9730a3504c"
      },
      "source": [
        "line_ix"
      ],
      "execution_count": null,
      "outputs": [
        {
          "output_type": "error",
          "ename": "NameError",
          "evalue": "ignored",
          "traceback": [
            "\u001b[0;31m---------------------------------------------------------------------------\u001b[0m",
            "\u001b[0;31mNameError\u001b[0m                                 Traceback (most recent call last)",
            "\u001b[0;32m<ipython-input-94-c9e016cc66fa>\u001b[0m in \u001b[0;36m<module>\u001b[0;34m()\u001b[0m\n\u001b[0;32m----> 1\u001b[0;31m \u001b[0mline_ix\u001b[0m\u001b[0;34m\u001b[0m\u001b[0;34m\u001b[0m\u001b[0m\n\u001b[0m",
            "\u001b[0;31mNameError\u001b[0m: name 'line_ix' is not defined"
          ]
        }
      ]
    },
    {
      "cell_type": "code",
      "metadata": {
        "id": "4CSU6R1nP2oC"
      },
      "source": [
        "def to_matrix(names, max_len=None, pad=navec.get(''), dtype='int32', batch_first = True):\n",
        "    \"\"\"Casts a list of names into rnn-digestable matrix\"\"\"\n",
        "    #print('here')\n",
        "    max_len = max_len or max(map(len, names))\n",
        "    names_ix = np.zeros([len(names), max_len, 300], dtype='float64')\n",
        "\n",
        "    for i in range(len(names)):\n",
        "        line_ix = np.zeros((max_len, 300)) \n",
        "        for i, c in enumerate(names[i].split()):\n",
        "          line_ix[i, :] = navec.get(c)\n",
        "          if i == max_len - 1:\n",
        "            break\n",
        "        #print(line_ix.shape)\n",
        "        names_ix[i, :, :] = line_ix\n",
        "        \n",
        "    if not batch_first: # convert [batch, time] into [time, batch]\n",
        "        names_ix = np.transpose(names_ix)\n",
        "\n",
        "    return names_ix"
      ],
      "execution_count": null,
      "outputs": []
    },
    {
      "cell_type": "code",
      "metadata": {
        "colab": {
          "base_uri": "https://localhost:8080/"
        },
        "id": "9feosPe7jW08",
        "outputId": "05c06e20-5bdd-4a21-c75f-80f04be11b29"
      },
      "source": [
        "predictions_logp.shape, actual_next_tokens.shape"
      ],
      "execution_count": null,
      "outputs": [
        {
          "output_type": "error",
          "ename": "NameError",
          "evalue": "ignored",
          "traceback": [
            "\u001b[0;31m---------------------------------------------------------------------------\u001b[0m",
            "\u001b[0;31mNameError\u001b[0m                                 Traceback (most recent call last)",
            "\u001b[0;32m<ipython-input-18-83d765090b02>\u001b[0m in \u001b[0;36m<module>\u001b[0;34m()\u001b[0m\n\u001b[0;32m----> 1\u001b[0;31m \u001b[0mpredictions_logp\u001b[0m\u001b[0;34m.\u001b[0m\u001b[0mshape\u001b[0m\u001b[0;34m,\u001b[0m \u001b[0mactual_next_tokens\u001b[0m\u001b[0;34m.\u001b[0m\u001b[0mshape\u001b[0m\u001b[0;34m\u001b[0m\u001b[0;34m\u001b[0m\u001b[0m\n\u001b[0m",
            "\u001b[0;31mNameError\u001b[0m: name 'predictions_logp' is not defined"
          ]
        }
      ]
    },
    {
      "cell_type": "code",
      "metadata": {
        "id": "kjTwTyizShES"
      },
      "source": [
        "a = np.zeros((2, 3, 2))\n",
        "b = np.ones((2, 2))\n",
        "\n",
        "a[0,0:len(b), :] = b\n",
        "a"
      ],
      "execution_count": null,
      "outputs": []
    },
    {
      "cell_type": "code",
      "metadata": {
        "id": "PEWW2Oa9T2gF"
      },
      "source": [
        "batch_ix.shape"
      ],
      "execution_count": null,
      "outputs": []
    },
    {
      "cell_type": "code",
      "metadata": {
        "colab": {
          "base_uri": "https://localhost:8080/"
        },
        "id": "5Akid2nzUbai",
        "outputId": "92d5ac1d-9ecd-4d3d-8291-84f98060fa55"
      },
      "source": [
        "predictions_logp.shape, actual_next_tokens.shape"
      ],
      "execution_count": null,
      "outputs": [
        {
          "output_type": "error",
          "ename": "NameError",
          "evalue": "ignored",
          "traceback": [
            "\u001b[0;31m---------------------------------------------------------------------------\u001b[0m",
            "\u001b[0;31mNameError\u001b[0m                                 Traceback (most recent call last)",
            "\u001b[0;32m<ipython-input-19-83d765090b02>\u001b[0m in \u001b[0;36m<module>\u001b[0;34m()\u001b[0m\n\u001b[0;32m----> 1\u001b[0;31m \u001b[0mpredictions_logp\u001b[0m\u001b[0;34m.\u001b[0m\u001b[0mshape\u001b[0m\u001b[0;34m,\u001b[0m \u001b[0mactual_next_tokens\u001b[0m\u001b[0;34m.\u001b[0m\u001b[0mshape\u001b[0m\u001b[0;34m\u001b[0m\u001b[0;34m\u001b[0m\u001b[0m\n\u001b[0m",
            "\u001b[0;31mNameError\u001b[0m: name 'predictions_logp' is not defined"
          ]
        }
      ]
    },
    {
      "cell_type": "code",
      "metadata": {
        "colab": {
          "base_uri": "https://localhost:8080/"
        },
        "id": "iTE1gFVoVITz",
        "outputId": "adbd46bf-47d5-4879-d5c2-019526f1f406"
      },
      "source": [
        "predictions_logp[0]"
      ],
      "execution_count": null,
      "outputs": [
        {
          "output_type": "error",
          "ename": "NameError",
          "evalue": "ignored",
          "traceback": [
            "\u001b[0;31m---------------------------------------------------------------------------\u001b[0m",
            "\u001b[0;31mNameError\u001b[0m                                 Traceback (most recent call last)",
            "\u001b[0;32m<ipython-input-20-2594d105e457>\u001b[0m in \u001b[0;36m<module>\u001b[0;34m()\u001b[0m\n\u001b[0;32m----> 1\u001b[0;31m \u001b[0mpredictions_logp\u001b[0m\u001b[0;34m[\u001b[0m\u001b[0;36m0\u001b[0m\u001b[0;34m]\u001b[0m\u001b[0;34m\u001b[0m\u001b[0;34m\u001b[0m\u001b[0m\n\u001b[0m",
            "\u001b[0;31mNameError\u001b[0m: name 'predictions_logp' is not defined"
          ]
        }
      ]
    },
    {
      "cell_type": "code",
      "metadata": {
        "colab": {
          "base_uri": "https://localhost:8080/"
        },
        "id": "rWk60Yflbx61",
        "outputId": "9433eba6-4364-4ccf-ce39-b67f43405455"
      },
      "source": [
        "from IPython.display import clear_output\n",
        "from tqdm import tqdm\n",
        "import torch, torch.nn as nn\n",
        "\n",
        "MAX_LENGTH = 300\n",
        "rnn = nn.RNN(300, 1, 50)\n",
        "criterion = nn.MSELoss()\n",
        "\n",
        "h0 = torch.zeros(50, 300, 1)\n",
        "\n",
        "opt = torch.optim.Adam(rnn.parameters())\n",
        "history = []\n",
        "\n",
        "for i in tqdm(range(1000)):\n",
        "    indexes = np.random.randint(0, len(X_train), 300)\n",
        "    batch_ix = to_matrix(X_train[indexes].values, max_len=MAX_LENGTH)\n",
        "    actual_values = y_train[indexes]\n",
        "    input = torch.Tensor(batch_ix).float()\n",
        "    \n",
        "    output, h0 = rnn(input, h0)\n",
        "    h0 = h0.detach()\n",
        "    \n",
        "    # compute loss\n",
        "    predictions_logp = output[:, 0, 0] # YOUR CODE HERE\n",
        "    actual_next_tokens = actual_values # YOUR CODE HERE\n",
        "\n",
        "    loss = criterion(predictions_logp, torch.Tensor(actual_next_tokens.values)) # YOUR CODE HERE\n",
        "    \n",
        "    # train with backprop\n",
        "    # YOUR CODE HERE\n",
        "    loss.backward()\n",
        "    opt.step()\n",
        "    opt.zero_grad()\n",
        "    \n",
        "    history.append(loss.data.numpy())\n",
        "    if (i+1)%100==0:\n",
        "        clear_output(True)\n",
        "        plt.plot(history,label='loss')\n",
        "        plt.legend()\n",
        "        plt.show()\n",
        "\n",
        "assert np.mean(history[:10]) > np.mean(history[-10:]), \"RNN didn't converge.\""
      ],
      "execution_count": null,
      "outputs": [
        {
          "output_type": "display_data",
          "data": {
            "image/png": "[encoded data removed]",
            "text/plain": [
              "<Figure size 432x288 with 1 Axes>"
            ]
          },
          "metadata": {
            "tags": []
          }
        },
        {
          "output_type": "stream",
          "text": [
            " 13%|█▎        | 126/1000 [02:05<14:15,  1.02it/s]"
          ],
          "name": "stderr"
        },
        {
          "output_type": "error",
          "ename": "KeyboardInterrupt",
          "evalue": "ignored",
          "traceback": [
            "\u001b[0;31m---------------------------------------------------------------------------\u001b[0m",
            "\u001b[0;31mKeyboardInterrupt\u001b[0m                         Traceback (most recent call last)",
            "\u001b[0;32m<ipython-input-21-63ba54b6880f>\u001b[0m in \u001b[0;36m<module>\u001b[0;34m()\u001b[0m\n\u001b[1;32m     14\u001b[0m \u001b[0;32mfor\u001b[0m \u001b[0mi\u001b[0m \u001b[0;32min\u001b[0m \u001b[0mtqdm\u001b[0m\u001b[0;34m(\u001b[0m\u001b[0mrange\u001b[0m\u001b[0;34m(\u001b[0m\u001b[0;36m1000\u001b[0m\u001b[0;34m)\u001b[0m\u001b[0;34m)\u001b[0m\u001b[0;34m:\u001b[0m\u001b[0;34m\u001b[0m\u001b[0;34m\u001b[0m\u001b[0m\n\u001b[1;32m     15\u001b[0m     \u001b[0mindexes\u001b[0m \u001b[0;34m=\u001b[0m \u001b[0mnp\u001b[0m\u001b[0;34m.\u001b[0m\u001b[0mrandom\u001b[0m\u001b[0;34m.\u001b[0m\u001b[0mrandint\u001b[0m\u001b[0;34m(\u001b[0m\u001b[0;36m0\u001b[0m\u001b[0;34m,\u001b[0m \u001b[0mlen\u001b[0m\u001b[0;34m(\u001b[0m\u001b[0mX_train\u001b[0m\u001b[0;34m)\u001b[0m\u001b[0;34m,\u001b[0m \u001b[0;36m300\u001b[0m\u001b[0;34m)\u001b[0m\u001b[0;34m\u001b[0m\u001b[0;34m\u001b[0m\u001b[0m\n\u001b[0;32m---> 16\u001b[0;31m     \u001b[0mbatch_ix\u001b[0m \u001b[0;34m=\u001b[0m \u001b[0mto_matrix\u001b[0m\u001b[0;34m(\u001b[0m\u001b[0mX_train\u001b[0m\u001b[0;34m[\u001b[0m\u001b[0mindexes\u001b[0m\u001b[0;34m]\u001b[0m\u001b[0;34m.\u001b[0m\u001b[0mvalues\u001b[0m\u001b[0;34m,\u001b[0m \u001b[0mmax_len\u001b[0m\u001b[0;34m=\u001b[0m\u001b[0mMAX_LENGTH\u001b[0m\u001b[0;34m)\u001b[0m\u001b[0;34m\u001b[0m\u001b[0;34m\u001b[0m\u001b[0m\n\u001b[0m\u001b[1;32m     17\u001b[0m     \u001b[0mactual_values\u001b[0m \u001b[0;34m=\u001b[0m \u001b[0my_train\u001b[0m\u001b[0;34m[\u001b[0m\u001b[0mindexes\u001b[0m\u001b[0;34m]\u001b[0m\u001b[0;34m\u001b[0m\u001b[0;34m\u001b[0m\u001b[0m\n\u001b[1;32m     18\u001b[0m     \u001b[0minput\u001b[0m \u001b[0;34m=\u001b[0m \u001b[0mtorch\u001b[0m\u001b[0;34m.\u001b[0m\u001b[0mTensor\u001b[0m\u001b[0;34m(\u001b[0m\u001b[0mbatch_ix\u001b[0m\u001b[0;34m)\u001b[0m\u001b[0;34m.\u001b[0m\u001b[0mfloat\u001b[0m\u001b[0;34m(\u001b[0m\u001b[0;34m)\u001b[0m\u001b[0;34m\u001b[0m\u001b[0;34m\u001b[0m\u001b[0m\n",
            "\u001b[0;32m<ipython-input-17-a4fdb82eed44>\u001b[0m in \u001b[0;36mto_matrix\u001b[0;34m(names, max_len, pad, dtype, batch_first)\u001b[0m\n\u001b[1;32m      3\u001b[0m     \u001b[0;31m#print('here')\u001b[0m\u001b[0;34m\u001b[0m\u001b[0;34m\u001b[0m\u001b[0;34m\u001b[0m\u001b[0m\n\u001b[1;32m      4\u001b[0m     \u001b[0mmax_len\u001b[0m \u001b[0;34m=\u001b[0m \u001b[0mmax_len\u001b[0m \u001b[0;32mor\u001b[0m \u001b[0mmax\u001b[0m\u001b[0;34m(\u001b[0m\u001b[0mmap\u001b[0m\u001b[0;34m(\u001b[0m\u001b[0mlen\u001b[0m\u001b[0;34m,\u001b[0m \u001b[0mnames\u001b[0m\u001b[0;34m)\u001b[0m\u001b[0;34m)\u001b[0m\u001b[0;34m\u001b[0m\u001b[0;34m\u001b[0m\u001b[0m\n\u001b[0;32m----> 5\u001b[0;31m     \u001b[0mnames_ix\u001b[0m \u001b[0;34m=\u001b[0m \u001b[0mnp\u001b[0m\u001b[0;34m.\u001b[0m\u001b[0mzeros\u001b[0m\u001b[0;34m(\u001b[0m\u001b[0;34m[\u001b[0m\u001b[0mlen\u001b[0m\u001b[0;34m(\u001b[0m\u001b[0mnames\u001b[0m\u001b[0;34m)\u001b[0m\u001b[0;34m,\u001b[0m \u001b[0mmax_len\u001b[0m\u001b[0;34m,\u001b[0m \u001b[0;36m300\u001b[0m\u001b[0;34m]\u001b[0m\u001b[0;34m,\u001b[0m \u001b[0mdtype\u001b[0m\u001b[0;34m=\u001b[0m\u001b[0;34m'float64'\u001b[0m\u001b[0;34m)\u001b[0m\u001b[0;34m\u001b[0m\u001b[0;34m\u001b[0m\u001b[0m\n\u001b[0m\u001b[1;32m      6\u001b[0m \u001b[0;34m\u001b[0m\u001b[0m\n\u001b[1;32m      7\u001b[0m     \u001b[0;32mfor\u001b[0m \u001b[0mi\u001b[0m \u001b[0;32min\u001b[0m \u001b[0mrange\u001b[0m\u001b[0;34m(\u001b[0m\u001b[0mlen\u001b[0m\u001b[0;34m(\u001b[0m\u001b[0mnames\u001b[0m\u001b[0;34m)\u001b[0m\u001b[0;34m)\u001b[0m\u001b[0;34m:\u001b[0m\u001b[0;34m\u001b[0m\u001b[0;34m\u001b[0m\u001b[0m\n",
            "\u001b[0;31mKeyboardInterrupt\u001b[0m: "
          ]
        }
      ]
    },
    {
      "cell_type": "code",
      "metadata": {
        "colab": {
          "base_uri": "https://localhost:8080/"
        },
        "id": "SI7fViYqXNDb",
        "outputId": "c98b4c57-7c69-47b5-bb8e-d33a9de8adeb"
      },
      "source": [
        "h0"
      ],
      "execution_count": null,
      "outputs": [
        {
          "output_type": "execute_result",
          "data": {
            "text/plain": [
              "tensor([[[nan],\n",
              "         [nan],\n",
              "         [nan],\n",
              "         ...,\n",
              "         [nan],\n",
              "         [nan],\n",
              "         [nan]],\n",
              "\n",
              "        [[nan],\n",
              "         [nan],\n",
              "         [nan],\n",
              "         ...,\n",
              "         [nan],\n",
              "         [nan],\n",
              "         [nan]],\n",
              "\n",
              "        [[nan],\n",
              "         [nan],\n",
              "         [nan],\n",
              "         ...,\n",
              "         [nan],\n",
              "         [nan],\n",
              "         [nan]],\n",
              "\n",
              "        ...,\n",
              "\n",
              "        [[nan],\n",
              "         [nan],\n",
              "         [nan],\n",
              "         ...,\n",
              "         [nan],\n",
              "         [nan],\n",
              "         [nan]],\n",
              "\n",
              "        [[nan],\n",
              "         [nan],\n",
              "         [nan],\n",
              "         ...,\n",
              "         [nan],\n",
              "         [nan],\n",
              "         [nan]],\n",
              "\n",
              "        [[nan],\n",
              "         [nan],\n",
              "         [nan],\n",
              "         ...,\n",
              "         [nan],\n",
              "         [nan],\n",
              "         [nan]]])"
            ]
          },
          "metadata": {
            "tags": []
          },
          "execution_count": 27
        }
      ]
    },
    {
      "cell_type": "code",
      "metadata": {
        "colab": {
          "base_uri": "https://localhost:8080/"
        },
        "id": "XH9a7_7fW6uV",
        "outputId": "db9b8d85-6d5b-42c2-b6c1-205b5c214be9"
      },
      "source": [
        "loss"
      ],
      "execution_count": null,
      "outputs": [
        {
          "output_type": "execute_result",
          "data": {
            "text/plain": [
              "tensor(nan, grad_fn=<MseLossBackward>)"
            ]
          },
          "metadata": {
            "tags": []
          },
          "execution_count": 23
        }
      ]
    },
    {
      "cell_type": "code",
      "metadata": {
        "colab": {
          "base_uri": "https://localhost:8080/"
        },
        "id": "YSYIIPeGZi23",
        "outputId": "c66ed4d0-6790-4242-8638-b135d4e10a64"
      },
      "source": [
        "rnn.eval()\n",
        "h0 = torch.zeros(50, 256, 1)\n",
        "y_pred = []\n",
        "for i in range(0, len(X_test), 64):\n",
        "  batch_ix = to_matrix(X_test[i:i+64].values, max_len=300)\n",
        "  input = torch.Tensor(batch_ix[np.newaxis, :, :]).float()\n",
        "  if input.shape[1] == 256:\n",
        "    output, _ = rnn(input, h0)\n",
        "    for k in output.reshape(-1):\n",
        "      y_pred.append(float(k))\n",
        "for i in range(58):\n",
        "  y_pred.append(np.nanmean(y_pred))"
      ],
      "execution_count": null,
      "outputs": [
        {
          "output_type": "stream",
          "text": [
            "/usr/local/lib/python3.7/dist-packages/ipykernel_launcher.py:12: RuntimeWarning: Mean of empty slice\n",
            "  if sys.path[0] == '':\n"
          ],
          "name": "stderr"
        }
      ]
    },
    {
      "cell_type": "code",
      "metadata": {
        "colab": {
          "base_uri": "https://localhost:8080/"
        },
        "id": "U00iH7QXMr81",
        "outputId": "e12cb018-3c9b-4889-a7c9-edcc68ee1b50"
      },
      "source": [
        "input, output.reshape(-1)"
      ],
      "execution_count": null,
      "outputs": [
        {
          "output_type": "execute_result",
          "data": {
            "text/plain": [
              "(tensor([[[ 1.8620, 14.7320, 17.8092,  ..., 17.8092, 17.8092, 17.8092],\n",
              "          [-1.0000, 16.0140,  5.8672,  ..., 17.8092, 17.8092, 17.8092],\n",
              "          [16.0421,  9.6369, 11.0519,  ..., 17.8092, 17.8092, 17.8092],\n",
              "          ...,\n",
              "          [13.4945,  0.9242,  3.7975,  ..., 17.8092, 17.8092, 17.8092],\n",
              "          [14.5343,  9.3477,  1.8794,  ..., 17.8092, 17.8092, 17.8092],\n",
              "          [15.3465,  9.7006, 17.4612,  ..., 17.8092, 17.8092, 17.8092]]]),\n",
              " tensor([0.1705, 0.1705, 0.1705, 0.1705, 0.1705, 0.1705, 0.1705, 0.1705, 0.1705,\n",
              "         0.1705, 0.1705, 0.1705, 0.1705, 0.1705, 0.1705, 0.1705, 0.1705, 0.1705,\n",
              "         0.1705, 0.1705, 0.1705, 0.1705, 0.1705, 0.1705, 0.1705, 0.1705, 0.1705,\n",
              "         0.1705, 0.1705, 0.1705, 0.1705, 0.1705, 0.1705, 0.1705, 0.1705, 0.1705,\n",
              "         0.1705, 0.1705, 0.1705, 0.1705, 0.1705, 0.1705, 0.1705, 0.1705, 0.1705,\n",
              "         0.1705, 0.1705, 0.1705, 0.1705, 0.1705, 0.1705, 0.1705, 0.1705, 0.1705,\n",
              "         0.1705, 0.1705, 0.1705, 0.1705, 0.1705, 0.1705, 0.1705, 0.1705, 0.1705,\n",
              "         0.1705, 0.1705, 0.1705, 0.1705, 0.1705, 0.1705, 0.1705, 0.1705, 0.1705,\n",
              "         0.1705, 0.1705, 0.1705, 0.1705, 0.1705, 0.1705, 0.1705, 0.1705, 0.1705,\n",
              "         0.1705, 0.1705, 0.1705, 0.1705, 0.1705, 0.1705, 0.1705, 0.1705, 0.1705,\n",
              "         0.1705, 0.1705, 0.1705, 0.1705, 0.1705, 0.1705, 0.1705, 0.1705, 0.1705,\n",
              "         0.1705, 0.1705, 0.1705, 0.1705, 0.1705, 0.1705, 0.1705, 0.1705, 0.1705,\n",
              "         0.1705, 0.1705, 0.1705, 0.1705, 0.1705, 0.1705, 0.1705, 0.1705, 0.1705,\n",
              "         0.1705, 0.1705, 0.1705, 0.1705, 0.1705, 0.1705, 0.1705, 0.1705, 0.1705,\n",
              "         0.1705, 0.1705, 0.1705, 0.1705, 0.1705, 0.1705, 0.1705, 0.1705, 0.1705,\n",
              "         0.1705, 0.1705, 0.1705, 0.1705, 0.1705, 0.1705, 0.1705, 0.1705, 0.1705,\n",
              "         0.1705, 0.1705, 0.1705, 0.1705, 0.1705, 0.1705, 0.1705, 0.1705, 0.1705,\n",
              "         0.1705, 0.1705, 0.1705, 0.1705, 0.1705, 0.1705, 0.1705, 0.1705, 0.1705,\n",
              "         0.1705, 0.1705, 0.1705, 0.1705, 0.1705, 0.1705, 0.1705, 0.1705, 0.1705,\n",
              "         0.1705, 0.1705, 0.1705, 0.1705, 0.1705, 0.1705, 0.1705, 0.1705, 0.1705,\n",
              "         0.1705, 0.1705, 0.1705, 0.1705, 0.1705, 0.1705, 0.1705, 0.1705, 0.1705,\n",
              "         0.1705, 0.1705, 0.1705, 0.1705, 0.1705, 0.1705, 0.1705, 0.1705, 0.1705,\n",
              "         0.1705, 0.1705, 0.1705, 0.1705, 0.1705, 0.1705, 0.1705, 0.1705, 0.1705,\n",
              "         0.1705, 0.1705, 0.1705, 0.1705, 0.1705, 0.1705, 0.1705, 0.1705, 0.1705,\n",
              "         0.1705, 0.1705, 0.1705, 0.1705, 0.1705, 0.1705, 0.1705, 0.1705, 0.1705,\n",
              "         0.1705, 0.1705, 0.1705, 0.1705, 0.1705, 0.1705, 0.1705, 0.1705, 0.1705,\n",
              "         0.1705, 0.1705, 0.1705, 0.1705, 0.1705, 0.1705, 0.1705, 0.1705, 0.1705,\n",
              "         0.1705, 0.1705, 0.1705, 0.1705, 0.1705, 0.1705, 0.1705, 0.1705, 0.1705,\n",
              "         0.1705, 0.1705, 0.1705, 0.1705], grad_fn=<ViewBackward>))"
            ]
          },
          "metadata": {
            "tags": []
          },
          "execution_count": 41
        }
      ]
    },
    {
      "cell_type": "code",
      "metadata": {
        "colab": {
          "base_uri": "https://localhost:8080/"
        },
        "id": "sHbLBhBGMWyU",
        "outputId": "7e2699cd-dc1d-43be-b0f2-475ab548e98f"
      },
      "source": [
        "y_pred"
      ],
      "execution_count": null,
      "outputs": [
        {
          "output_type": "execute_result",
          "data": {
            "text/plain": [
              "[nan,\n",
              " nan,\n",
              " nan,\n",
              " nan,\n",
              " nan,\n",
              " nan,\n",
              " nan,\n",
              " nan,\n",
              " nan,\n",
              " nan,\n",
              " nan,\n",
              " nan,\n",
              " nan,\n",
              " nan,\n",
              " nan,\n",
              " nan,\n",
              " nan,\n",
              " nan,\n",
              " nan,\n",
              " nan,\n",
              " nan,\n",
              " nan,\n",
              " nan,\n",
              " nan,\n",
              " nan,\n",
              " nan,\n",
              " nan,\n",
              " nan,\n",
              " nan,\n",
              " nan,\n",
              " nan,\n",
              " nan,\n",
              " nan,\n",
              " nan,\n",
              " nan,\n",
              " nan,\n",
              " nan,\n",
              " nan,\n",
              " nan,\n",
              " nan,\n",
              " nan,\n",
              " nan,\n",
              " nan,\n",
              " nan,\n",
              " nan,\n",
              " nan,\n",
              " nan,\n",
              " nan,\n",
              " nan,\n",
              " nan,\n",
              " nan,\n",
              " nan,\n",
              " nan,\n",
              " nan,\n",
              " nan,\n",
              " nan,\n",
              " nan,\n",
              " nan]"
            ]
          },
          "metadata": {
            "tags": []
          },
          "execution_count": 23
        }
      ]
    },
    {
      "cell_type": "code",
      "metadata": {
        "colab": {
          "base_uri": "https://localhost:8080/"
        },
        "id": "npjVnpMsmglT",
        "outputId": "d8211aeb-91fd-43b2-ee3e-86cf8fec441f"
      },
      "source": [
        "len(y_pred)"
      ],
      "execution_count": null,
      "outputs": [
        {
          "output_type": "execute_result",
          "data": {
            "text/plain": [
              "58"
            ]
          },
          "metadata": {
            "tags": []
          },
          "execution_count": 21
        }
      ]
    },
    {
      "cell_type": "code",
      "metadata": {
        "colab": {
          "base_uri": "https://localhost:8080/",
          "height": 330
        },
        "id": "XAsqYURMnZSD",
        "outputId": "77b0c26d-bae0-439b-9c13-b511fc6c9500"
      },
      "source": [
        "from sklearn.metrics import roc_auc_score, roc_curve, f1_score, precision_score, recall_score, precision_recall_curve\n",
        "roc_auc_score(y_test, y_pred)"
      ],
      "execution_count": null,
      "outputs": [
        {
          "output_type": "error",
          "ename": "ValueError",
          "evalue": "ignored",
          "traceback": [
            "\u001b[0;31m---------------------------------------------------------------------------\u001b[0m",
            "\u001b[0;31mValueError\u001b[0m                                Traceback (most recent call last)",
            "\u001b[0;32m<ipython-input-22-72e8de84cffe>\u001b[0m in \u001b[0;36m<module>\u001b[0;34m()\u001b[0m\n\u001b[1;32m      1\u001b[0m \u001b[0;32mfrom\u001b[0m \u001b[0msklearn\u001b[0m\u001b[0;34m.\u001b[0m\u001b[0mmetrics\u001b[0m \u001b[0;32mimport\u001b[0m \u001b[0mroc_auc_score\u001b[0m\u001b[0;34m,\u001b[0m \u001b[0mroc_curve\u001b[0m\u001b[0;34m,\u001b[0m \u001b[0mf1_score\u001b[0m\u001b[0;34m,\u001b[0m \u001b[0mprecision_score\u001b[0m\u001b[0;34m,\u001b[0m \u001b[0mrecall_score\u001b[0m\u001b[0;34m,\u001b[0m \u001b[0mprecision_recall_curve\u001b[0m\u001b[0;34m\u001b[0m\u001b[0;34m\u001b[0m\u001b[0m\n\u001b[0;32m----> 2\u001b[0;31m \u001b[0mroc_auc_score\u001b[0m\u001b[0;34m(\u001b[0m\u001b[0my_test\u001b[0m\u001b[0;34m,\u001b[0m \u001b[0my_pred\u001b[0m\u001b[0;34m)\u001b[0m\u001b[0;34m\u001b[0m\u001b[0;34m\u001b[0m\u001b[0m\n\u001b[0m",
            "\u001b[0;32m/usr/local/lib/python3.7/dist-packages/sklearn/metrics/_ranking.py\u001b[0m in \u001b[0;36mroc_auc_score\u001b[0;34m(y_true, y_score, average, sample_weight, max_fpr, multi_class, labels)\u001b[0m\n\u001b[1;32m    367\u001b[0m     \u001b[0my_type\u001b[0m \u001b[0;34m=\u001b[0m \u001b[0mtype_of_target\u001b[0m\u001b[0;34m(\u001b[0m\u001b[0my_true\u001b[0m\u001b[0;34m)\u001b[0m\u001b[0;34m\u001b[0m\u001b[0;34m\u001b[0m\u001b[0m\n\u001b[1;32m    368\u001b[0m     \u001b[0my_true\u001b[0m \u001b[0;34m=\u001b[0m \u001b[0mcheck_array\u001b[0m\u001b[0;34m(\u001b[0m\u001b[0my_true\u001b[0m\u001b[0;34m,\u001b[0m \u001b[0mensure_2d\u001b[0m\u001b[0;34m=\u001b[0m\u001b[0;32mFalse\u001b[0m\u001b[0;34m,\u001b[0m \u001b[0mdtype\u001b[0m\u001b[0;34m=\u001b[0m\u001b[0;32mNone\u001b[0m\u001b[0;34m)\u001b[0m\u001b[0;34m\u001b[0m\u001b[0;34m\u001b[0m\u001b[0m\n\u001b[0;32m--> 369\u001b[0;31m     \u001b[0my_score\u001b[0m \u001b[0;34m=\u001b[0m \u001b[0mcheck_array\u001b[0m\u001b[0;34m(\u001b[0m\u001b[0my_score\u001b[0m\u001b[0;34m,\u001b[0m \u001b[0mensure_2d\u001b[0m\u001b[0;34m=\u001b[0m\u001b[0;32mFalse\u001b[0m\u001b[0;34m)\u001b[0m\u001b[0;34m\u001b[0m\u001b[0;34m\u001b[0m\u001b[0m\n\u001b[0m\u001b[1;32m    370\u001b[0m \u001b[0;34m\u001b[0m\u001b[0m\n\u001b[1;32m    371\u001b[0m     if y_type == \"multiclass\" or (y_type == \"binary\" and\n",
            "\u001b[0;32m/usr/local/lib/python3.7/dist-packages/sklearn/utils/validation.py\u001b[0m in \u001b[0;36mcheck_array\u001b[0;34m(array, accept_sparse, accept_large_sparse, dtype, order, copy, force_all_finite, ensure_2d, allow_nd, ensure_min_samples, ensure_min_features, warn_on_dtype, estimator)\u001b[0m\n\u001b[1;32m    576\u001b[0m         \u001b[0;32mif\u001b[0m \u001b[0mforce_all_finite\u001b[0m\u001b[0;34m:\u001b[0m\u001b[0;34m\u001b[0m\u001b[0;34m\u001b[0m\u001b[0m\n\u001b[1;32m    577\u001b[0m             _assert_all_finite(array,\n\u001b[0;32m--> 578\u001b[0;31m                                allow_nan=force_all_finite == 'allow-nan')\n\u001b[0m\u001b[1;32m    579\u001b[0m \u001b[0;34m\u001b[0m\u001b[0m\n\u001b[1;32m    580\u001b[0m     \u001b[0;32mif\u001b[0m \u001b[0mensure_min_samples\u001b[0m \u001b[0;34m>\u001b[0m \u001b[0;36m0\u001b[0m\u001b[0;34m:\u001b[0m\u001b[0;34m\u001b[0m\u001b[0;34m\u001b[0m\u001b[0m\n",
            "\u001b[0;32m/usr/local/lib/python3.7/dist-packages/sklearn/utils/validation.py\u001b[0m in \u001b[0;36m_assert_all_finite\u001b[0;34m(X, allow_nan, msg_dtype)\u001b[0m\n\u001b[1;32m     58\u001b[0m                     \u001b[0mmsg_err\u001b[0m\u001b[0;34m.\u001b[0m\u001b[0mformat\u001b[0m\u001b[0;34m\u001b[0m\u001b[0;34m\u001b[0m\u001b[0m\n\u001b[1;32m     59\u001b[0m                     (type_err,\n\u001b[0;32m---> 60\u001b[0;31m                      msg_dtype if msg_dtype is not None else X.dtype)\n\u001b[0m\u001b[1;32m     61\u001b[0m             )\n\u001b[1;32m     62\u001b[0m     \u001b[0;31m# for object dtype data, we only check for NaNs (GH-13254)\u001b[0m\u001b[0;34m\u001b[0m\u001b[0;34m\u001b[0m\u001b[0;34m\u001b[0m\u001b[0m\n",
            "\u001b[0;31mValueError\u001b[0m: Input contains NaN, infinity or a value too large for dtype('float64')."
          ]
        }
      ]
    },
    {
      "cell_type": "code",
      "metadata": {
        "colab": {
          "base_uri": "https://localhost:8080/"
        },
        "id": "x6VCwI6D72OW",
        "outputId": "6b623ef0-24c7-47cf-87c2-e731a54be9fb"
      },
      "source": [
        "import catboost\n",
        "cats = CatBoostClassifier()\n",
        "cats.load_model('/content/catboost_055.model')"
      ],
      "execution_count": null,
      "outputs": [
        {
          "output_type": "execute_result",
          "data": {
            "text/plain": [
              "<catboost.core.CatBoostClassifier at 0x7efd1400e750>"
            ]
          },
          "metadata": {
            "tags": []
          },
          "execution_count": 57
        }
      ]
    },
    {
      "cell_type": "code",
      "metadata": {
        "colab": {
          "base_uri": "https://localhost:8080/",
          "height": 382
        },
        "id": "V8dU_517nkJc",
        "outputId": "6f0e59d7-927c-4c6a-987c-a8ade5ee24c6"
      },
      "source": [
        "from sklearn.metrics import roc_auc_score, roc_curve, f1_score, precision_score, recall_score, precision_recall_curve\n",
        "fpr, tpr, thresholds = roc_curve(y_test, y_pred)\n",
        "plt.plot(fpr, tpr)\n",
        "plt.xlabel('fpr')\n",
        "plt.ylabel('tpr')\n",
        "plt.plot([i for i in np.arange(0, 1, 0.01)], [i for i in np.arange(0, 1, 0.01)])"
      ],
      "execution_count": null,
      "outputs": [
        {
          "output_type": "error",
          "ename": "ValueError",
          "evalue": "ignored",
          "traceback": [
            "\u001b[0;31m---------------------------------------------------------------------------\u001b[0m",
            "\u001b[0;31mValueError\u001b[0m                                Traceback (most recent call last)",
            "\u001b[0;32m<ipython-input-54-2b50c45f566d>\u001b[0m in \u001b[0;36m<module>\u001b[0;34m()\u001b[0m\n\u001b[1;32m      1\u001b[0m \u001b[0;32mfrom\u001b[0m \u001b[0msklearn\u001b[0m\u001b[0;34m.\u001b[0m\u001b[0mmetrics\u001b[0m \u001b[0;32mimport\u001b[0m \u001b[0mroc_auc_score\u001b[0m\u001b[0;34m,\u001b[0m \u001b[0mroc_curve\u001b[0m\u001b[0;34m,\u001b[0m \u001b[0mf1_score\u001b[0m\u001b[0;34m,\u001b[0m \u001b[0mprecision_score\u001b[0m\u001b[0;34m,\u001b[0m \u001b[0mrecall_score\u001b[0m\u001b[0;34m,\u001b[0m \u001b[0mprecision_recall_curve\u001b[0m\u001b[0;34m\u001b[0m\u001b[0;34m\u001b[0m\u001b[0m\n\u001b[0;32m----> 2\u001b[0;31m \u001b[0mfpr\u001b[0m\u001b[0;34m,\u001b[0m \u001b[0mtpr\u001b[0m\u001b[0;34m,\u001b[0m \u001b[0mthresholds\u001b[0m \u001b[0;34m=\u001b[0m \u001b[0mroc_curve\u001b[0m\u001b[0;34m(\u001b[0m\u001b[0my_test\u001b[0m\u001b[0;34m,\u001b[0m \u001b[0my_pred\u001b[0m\u001b[0;34m)\u001b[0m\u001b[0;34m\u001b[0m\u001b[0;34m\u001b[0m\u001b[0m\n\u001b[0m\u001b[1;32m      3\u001b[0m \u001b[0mplt\u001b[0m\u001b[0;34m.\u001b[0m\u001b[0mplot\u001b[0m\u001b[0;34m(\u001b[0m\u001b[0mfpr\u001b[0m\u001b[0;34m,\u001b[0m \u001b[0mtpr\u001b[0m\u001b[0;34m)\u001b[0m\u001b[0;34m\u001b[0m\u001b[0;34m\u001b[0m\u001b[0m\n\u001b[1;32m      4\u001b[0m \u001b[0mplt\u001b[0m\u001b[0;34m.\u001b[0m\u001b[0mxlabel\u001b[0m\u001b[0;34m(\u001b[0m\u001b[0;34m'fpr'\u001b[0m\u001b[0;34m)\u001b[0m\u001b[0;34m\u001b[0m\u001b[0;34m\u001b[0m\u001b[0m\n\u001b[1;32m      5\u001b[0m \u001b[0mplt\u001b[0m\u001b[0;34m.\u001b[0m\u001b[0mylabel\u001b[0m\u001b[0;34m(\u001b[0m\u001b[0;34m'tpr'\u001b[0m\u001b[0;34m)\u001b[0m\u001b[0;34m\u001b[0m\u001b[0;34m\u001b[0m\u001b[0m\n",
            "\u001b[0;32m/usr/local/lib/python3.7/dist-packages/sklearn/metrics/_ranking.py\u001b[0m in \u001b[0;36mroc_curve\u001b[0;34m(y_true, y_score, pos_label, sample_weight, drop_intermediate)\u001b[0m\n\u001b[1;32m    769\u001b[0m     \"\"\"\n\u001b[1;32m    770\u001b[0m     fps, tps, thresholds = _binary_clf_curve(\n\u001b[0;32m--> 771\u001b[0;31m         y_true, y_score, pos_label=pos_label, sample_weight=sample_weight)\n\u001b[0m\u001b[1;32m    772\u001b[0m \u001b[0;34m\u001b[0m\u001b[0m\n\u001b[1;32m    773\u001b[0m     \u001b[0;31m# Attempt to drop thresholds corresponding to points in between and\u001b[0m\u001b[0;34m\u001b[0m\u001b[0;34m\u001b[0m\u001b[0;34m\u001b[0m\u001b[0m\n",
            "\u001b[0;32m/usr/local/lib/python3.7/dist-packages/sklearn/metrics/_ranking.py\u001b[0m in \u001b[0;36m_binary_clf_curve\u001b[0;34m(y_true, y_score, pos_label, sample_weight)\u001b[0m\n\u001b[1;32m    536\u001b[0m         \u001b[0;32mraise\u001b[0m \u001b[0mValueError\u001b[0m\u001b[0;34m(\u001b[0m\u001b[0;34m\"{0} format is not supported\"\u001b[0m\u001b[0;34m.\u001b[0m\u001b[0mformat\u001b[0m\u001b[0;34m(\u001b[0m\u001b[0my_type\u001b[0m\u001b[0;34m)\u001b[0m\u001b[0;34m)\u001b[0m\u001b[0;34m\u001b[0m\u001b[0;34m\u001b[0m\u001b[0m\n\u001b[1;32m    537\u001b[0m \u001b[0;34m\u001b[0m\u001b[0m\n\u001b[0;32m--> 538\u001b[0;31m     \u001b[0mcheck_consistent_length\u001b[0m\u001b[0;34m(\u001b[0m\u001b[0my_true\u001b[0m\u001b[0;34m,\u001b[0m \u001b[0my_score\u001b[0m\u001b[0;34m,\u001b[0m \u001b[0msample_weight\u001b[0m\u001b[0;34m)\u001b[0m\u001b[0;34m\u001b[0m\u001b[0;34m\u001b[0m\u001b[0m\n\u001b[0m\u001b[1;32m    539\u001b[0m     \u001b[0my_true\u001b[0m \u001b[0;34m=\u001b[0m \u001b[0mcolumn_or_1d\u001b[0m\u001b[0;34m(\u001b[0m\u001b[0my_true\u001b[0m\u001b[0;34m)\u001b[0m\u001b[0;34m\u001b[0m\u001b[0;34m\u001b[0m\u001b[0m\n\u001b[1;32m    540\u001b[0m     \u001b[0my_score\u001b[0m \u001b[0;34m=\u001b[0m \u001b[0mcolumn_or_1d\u001b[0m\u001b[0;34m(\u001b[0m\u001b[0my_score\u001b[0m\u001b[0;34m)\u001b[0m\u001b[0;34m\u001b[0m\u001b[0;34m\u001b[0m\u001b[0m\n",
            "\u001b[0;32m/usr/local/lib/python3.7/dist-packages/sklearn/utils/validation.py\u001b[0m in \u001b[0;36mcheck_consistent_length\u001b[0;34m(*arrays)\u001b[0m\n\u001b[1;32m    210\u001b[0m     \u001b[0;32mif\u001b[0m \u001b[0mlen\u001b[0m\u001b[0;34m(\u001b[0m\u001b[0muniques\u001b[0m\u001b[0;34m)\u001b[0m \u001b[0;34m>\u001b[0m \u001b[0;36m1\u001b[0m\u001b[0;34m:\u001b[0m\u001b[0;34m\u001b[0m\u001b[0;34m\u001b[0m\u001b[0m\n\u001b[1;32m    211\u001b[0m         raise ValueError(\"Found input variables with inconsistent numbers of\"\n\u001b[0;32m--> 212\u001b[0;31m                          \" samples: %r\" % [int(l) for l in lengths])\n\u001b[0m\u001b[1;32m    213\u001b[0m \u001b[0;34m\u001b[0m\u001b[0m\n\u001b[1;32m    214\u001b[0m \u001b[0;34m\u001b[0m\u001b[0m\n",
            "\u001b[0;31mValueError\u001b[0m: Found input variables with inconsistent numbers of samples: [6906, 58]"
          ]
        }
      ]
    },
    {
      "cell_type": "code",
      "metadata": {
        "colab": {
          "base_uri": "https://localhost:8080/",
          "height": 278
        },
        "id": "TFbMbZwynwZ4",
        "outputId": "6b102ffc-7858-4a6c-b86b-53b249120f72"
      },
      "source": [
        "precision, recall, thresholds = precision_recall_curve(y_test, y_pred)\n",
        "plt.plot(recall, precision)\n",
        "plt.xlabel('recall')\n",
        "plt.ylabel('precision')\n",
        "plt.show()"
      ],
      "execution_count": null,
      "outputs": [
        {
          "output_type": "display_data",
          "data": {
            "image/png": "[encoded data removed]",
            "text/plain": [
              "<Figure size 432x288 with 1 Axes>"
            ]
          },
          "metadata": {
            "tags": []
          }
        }
      ]
    },
    {
      "cell_type": "code",
      "metadata": {
        "colab": {
          "base_uri": "https://localhost:8080/"
        },
        "id": "urj3EUZ8n6Tp",
        "outputId": "1788850f-9ac3-4e1b-d57c-da4ee984453b"
      },
      "source": [
        "np.nanmax(2 * recall * precision / (recall + precision)), thresholds[np.nanargmax(2 * recall * precision / (recall + precision))]"
      ],
      "execution_count": null,
      "outputs": [
        {
          "output_type": "execute_result",
          "data": {
            "text/plain": [
              "(0.063919259882254, 0.06956557929515839)"
            ]
          },
          "metadata": {
            "tags": []
          },
          "execution_count": 198
        }
      ]
    },
    {
      "cell_type": "code",
      "metadata": {
        "colab": {
          "base_uri": "https://localhost:8080/"
        },
        "id": "HpyoYkPJnA-_",
        "outputId": "a02cf04b-af85-4afe-f37d-dc1441f4885e"
      },
      "source": [
        "float(a)"
      ],
      "execution_count": null,
      "outputs": [
        {
          "output_type": "execute_result",
          "data": {
            "text/plain": [
              "0.11235255002975464"
            ]
          },
          "metadata": {
            "tags": []
          },
          "execution_count": 187
        }
      ]
    },
    {
      "cell_type": "markdown",
      "metadata": {
        "id": "e0fKiUj7xRAM"
      },
      "source": [
        "## Вики"
      ]
    },
    {
      "cell_type": "code",
      "metadata": {
        "colab": {
          "base_uri": "https://localhost:8080/"
        },
        "id": "RwPdQ7POxSst",
        "outputId": "81516d8c-3a79-4814-d285-87fc6ae97645"
      },
      "source": [
        "!pip install wikipedia"
      ],
      "execution_count": null,
      "outputs": [
        {
          "output_type": "stream",
          "text": [
            "Collecting wikipedia\n",
            "  Downloading https://files.pythonhosted.org/packages/67/35/25e68fbc99e672127cc6fbb14b8ec1ba3dfef035bf1e4c90f78f24a80b7d/wikipedia-1.4.0.tar.gz\n",
            "Requirement already satisfied: beautifulsoup4 in /usr/local/lib/python3.7/dist-packages (from wikipedia) (4.6.3)\n",
            "Requirement already satisfied: requests<3.0.0,>=2.0.0 in /usr/local/lib/python3.7/dist-packages (from wikipedia) (2.23.0)\n",
            "Requirement already satisfied: urllib3!=1.25.0,!=1.25.1,<1.26,>=1.21.1 in /usr/local/lib/python3.7/dist-packages (from requests<3.0.0,>=2.0.0->wikipedia) (1.24.3)\n",
            "Requirement already satisfied: chardet<4,>=3.0.2 in /usr/local/lib/python3.7/dist-packages (from requests<3.0.0,>=2.0.0->wikipedia) (3.0.4)\n",
            "Requirement already satisfied: certifi>=2017.4.17 in /usr/local/lib/python3.7/dist-packages (from requests<3.0.0,>=2.0.0->wikipedia) (2020.12.5)\n",
            "Requirement already satisfied: idna<3,>=2.5 in /usr/local/lib/python3.7/dist-packages (from requests<3.0.0,>=2.0.0->wikipedia) (2.10)\n",
            "Building wheels for collected packages: wikipedia\n",
            "  Building wheel for wikipedia (setup.py) ... \u001b[?25l\u001b[?25hdone\n",
            "  Created wheel for wikipedia: filename=wikipedia-1.4.0-cp37-none-any.whl size=11686 sha256=f0e173923632494f21391d6921ad340566690181cd555210c340dc2ebc34e10d\n",
            "  Stored in directory: /root/.cache/pip/wheels/87/2a/18/4e471fd96d12114d16fe4a446d00c3b38fb9efcb744bd31f4a\n",
            "Successfully built wikipedia\n",
            "Installing collected packages: wikipedia\n",
            "Successfully installed wikipedia-1.4.0\n"
          ],
          "name": "stdout"
        }
      ]
    },
    {
      "cell_type": "code",
      "metadata": {
        "colab": {
          "base_uri": "https://localhost:8080/"
        },
        "id": "Tqra6l8UxXIi",
        "outputId": "09d452bb-8a3d-424a-c260-aabd3992b0ca"
      },
      "source": [
        "import wikipedia\n",
        "wikipedia.set_lang('RU')\n",
        "print(wikipedia.summary(\"Википедия\"))"
      ],
      "execution_count": null,
      "outputs": [
        {
          "output_type": "stream",
          "text": [
            "Википе́дия (англ. Wikipedia, произносится [ˌwɪkɨˈpiːdiə] или [ˌwɪkiˈpiːdiə]) — общедоступная многоязычная универсальная интернет-энциклопедия со свободным контентом, реализованная на принципах вики. Расположена по адресу wikipedia.org.\n",
            "Владелец сайта — американская некоммерческая организация «Фонд Викимедиа», имеющая 37 региональных представительств. Название энциклопедии образовано от английских слов wiki («вики»; в свою очередь заимствовано из гавайского языка, в котором оно имеет значение «быстро») и encyclopedia («энциклопедия»).\n",
            "Запущенная в январе 2001 года Джимми Уэйлсом и Ларри Сэнгером, Википедия сейчас является самым крупным и наиболее популярным справочником в Интернете. По объёму сведений и тематическому охвату Википедия считается самой полной энциклопедией из когда-либо создававшихся за всю историю человечества. Одним из основных достоинств Википедии как универсальной энциклопедии является возможность представления информации на родном языке пользователя.\n",
            "На май 2018 года разделы Википедии есть на 301 языке, а также на 493 языках в инкубаторе. Она содержит более 40 миллионов статей. Интернет-сайт Википедии является пятым по посещаемости сайтом в мире.\n",
            "Главной особенностью Википедии является то, что создавать и редактировать статьи в ней может любой пользователь Интернета. Все вносимые такими добровольцами изменения незамедлительно становятся доступными для просмотра всем посетителям сайта. В декабре 2013 года в заявлении ЮНЕСКО по случаю награждения Джимми Уэйлса, основателя Википедии, Золотой медалью Нильса Бора про Википедию было сказано, что она является «символом эпохи взаимодействия, в которую мы живём, и это не просто инструмент, это воплощение мечты, столь же древней, как человеческий интеллект и собрания Александрийской библиотеки».\n",
            "Надёжность и точность Википедии вызывают вопросы. Википедию критикуют за возможность добавления ложной или непроверенной информации и вандализма на её страницах. Однако научные исследования свидетельствуют о том, что в Википедии следы актов вандализма обычно оперативно устраняются.\n",
            "Раздел Википедии на русском языке на 28 июня 2020 года занимает 7-е место по количеству статей среди всех языковых разделов.\n"
          ],
          "name": "stdout"
        }
      ]
    },
    {
      "cell_type": "markdown",
      "metadata": {
        "id": "fwt2-iuNRtUR"
      },
      "source": [
        "## Катбуст"
      ]
    },
    {
      "cell_type": "code",
      "metadata": {
        "id": "r-4SS8dEdTsS"
      },
      "source": [
        "#X_train = pd.DataFrame(data=pd.read_csv('/content/X_train.csv').fillna('').values, columns=['message']).message[:60000]\n",
        "#X_test = pd.DataFrame(data=pd.read_csv('/content/X_test.csv').fillna('').values, columns=['message']).message\n",
        "#y_train = pd.DataFrame(data=pd.read_csv('/content/y_train.csv').fillna('').values, columns=['message']).message[:60000]\n",
        "#y_test = pd.read_csv('/content/y_test.csv')\n"
      ],
      "execution_count": null,
      "outputs": []
    },
    {
      "cell_type": "code",
      "metadata": {
        "colab": {
          "base_uri": "https://localhost:8080/"
        },
        "id": "BP_Z57r6fHUX",
        "outputId": "783bb002-e611-49ed-8da1-4673f6fad22f"
      },
      "source": [
        "X_train"
      ],
      "execution_count": 26,
      "outputs": [
        {
          "output_type": "execute_result",
          "data": {
            "text/plain": [
              "0                                             пиздабол ещё\n",
              "1        заколебать кукарекать скоро весь пульс вафлера...\n",
              "2                                      дело собака сутулый\n",
              "3                                          пшнх сюда тварь\n",
              "4                 платить молчание клоп сутки молчать бакс\n",
              "                               ...                        \n",
              "62108                             идеал хамство самомнение\n",
              "62109                   господь красиво живой золотой рука\n",
              "62110    муж ехать свободный место выезд далматово мочь...\n",
              "62111                         вкусно истоить весь коппейка\n",
              "62112                           открыться граница ураааааа\n",
              "Name: text, Length: 62113, dtype: object"
            ]
          },
          "metadata": {
            "tags": []
          },
          "execution_count": 26
        }
      ]
    },
    {
      "cell_type": "code",
      "metadata": {
        "id": "DHWeMFvvkFxn"
      },
      "source": [
        "vectorizer = TfidfVectorizer(max_features=10000, norm='l1')\n",
        "tfidf_train = np.asarray(vectorizer.fit_transform(X_train).todense())\n",
        "tfidf_test = np.asarray(vectorizer.transform(X_test).todense())"
      ],
      "execution_count": 27,
      "outputs": []
    },
    {
      "cell_type": "code",
      "metadata": {
        "id": "CrI_QKnlrlPl"
      },
      "source": [
        "cat = CatBoostClassifier(random_state=228, #loss_function='CrossEntropy', \n",
        "                         learning_rate=0.2, iterations=2000, #depth=6, \n",
        "                         task_type='GPU')"
      ],
      "execution_count": 88,
      "outputs": []
    },
    {
      "cell_type": "code",
      "metadata": {
        "id": "xweNeBNIEojx"
      },
      "source": [
        "from scipy import sparse"
      ],
      "execution_count": 89,
      "outputs": []
    },
    {
      "cell_type": "code",
      "metadata": {
        "id": "2pyFHx_3nBt9",
        "colab": {
          "base_uri": "https://localhost:8080/"
        },
        "outputId": "1ad511b0-9b4c-44ca-907f-c0a07e71b7b4"
      },
      "source": [
        "cat.fit(sparse.csr_matrix(tfidf_train), y_train, eval_set=(sparse.csr_matrix(tfidf_test), y_test))"
      ],
      "execution_count": 90,
      "outputs": [
        {
          "output_type": "stream",
          "text": [
            "0:\tlearn: 0.5701754\ttest: 0.5364643\tbest: 0.5364643 (0)\ttotal: 85.4ms\tremaining: 2m 50s\n",
            "1:\tlearn: 0.4961244\ttest: 0.4346642\tbest: 0.4346642 (1)\ttotal: 168ms\tremaining: 2m 48s\n",
            "2:\tlearn: 0.4458650\ttest: 0.3630228\tbest: 0.3630228 (2)\ttotal: 253ms\tremaining: 2m 48s\n",
            "3:\tlearn: 0.4161207\ttest: 0.3160137\tbest: 0.3160137 (3)\ttotal: 341ms\tremaining: 2m 49s\n",
            "4:\tlearn: 0.3955054\ttest: 0.2823733\tbest: 0.2823733 (4)\ttotal: 416ms\tremaining: 2m 45s\n",
            "5:\tlearn: 0.3805442\ttest: 0.2581298\tbest: 0.2581298 (5)\ttotal: 491ms\tremaining: 2m 43s\n",
            "6:\tlearn: 0.3670557\ttest: 0.2325402\tbest: 0.2325402 (6)\ttotal: 557ms\tremaining: 2m 38s\n",
            "7:\tlearn: 0.3583320\ttest: 0.2202144\tbest: 0.2202144 (7)\ttotal: 627ms\tremaining: 2m 36s\n",
            "8:\tlearn: 0.3526019\ttest: 0.2105751\tbest: 0.2105751 (8)\ttotal: 694ms\tremaining: 2m 33s\n",
            "9:\tlearn: 0.3475816\ttest: 0.2031905\tbest: 0.2031905 (9)\ttotal: 765ms\tremaining: 2m 32s\n",
            "10:\tlearn: 0.3419020\ttest: 0.1935466\tbest: 0.1935466 (10)\ttotal: 826ms\tremaining: 2m 29s\n",
            "11:\tlearn: 0.3380941\ttest: 0.1890139\tbest: 0.1890139 (11)\ttotal: 889ms\tremaining: 2m 27s\n",
            "12:\tlearn: 0.3347887\ttest: 0.1852740\tbest: 0.1852740 (12)\ttotal: 953ms\tremaining: 2m 25s\n",
            "13:\tlearn: 0.3307891\ttest: 0.1822945\tbest: 0.1822945 (13)\ttotal: 1.02s\tremaining: 2m 24s\n",
            "14:\tlearn: 0.3279422\ttest: 0.1794023\tbest: 0.1794023 (14)\ttotal: 1.08s\tremaining: 2m 23s\n",
            "15:\tlearn: 0.3258075\ttest: 0.1769345\tbest: 0.1769345 (15)\ttotal: 1.15s\tremaining: 2m 22s\n",
            "16:\tlearn: 0.3233121\ttest: 0.1745839\tbest: 0.1745839 (16)\ttotal: 1.21s\tremaining: 2m 21s\n",
            "17:\tlearn: 0.3212595\ttest: 0.1731613\tbest: 0.1731613 (17)\ttotal: 1.27s\tremaining: 2m 19s\n",
            "18:\tlearn: 0.3191672\ttest: 0.1717281\tbest: 0.1717281 (18)\ttotal: 1.33s\tremaining: 2m 19s\n",
            "19:\tlearn: 0.3169048\ttest: 0.1697449\tbest: 0.1697449 (19)\ttotal: 1.4s\tremaining: 2m 18s\n",
            "20:\tlearn: 0.3150105\ttest: 0.1685386\tbest: 0.1685386 (20)\ttotal: 1.46s\tremaining: 2m 17s\n",
            "21:\tlearn: 0.3123374\ttest: 0.1653113\tbest: 0.1653113 (21)\ttotal: 1.52s\tremaining: 2m 17s\n",
            "22:\tlearn: 0.3105650\ttest: 0.1644820\tbest: 0.1644820 (22)\ttotal: 1.59s\tremaining: 2m 16s\n",
            "23:\tlearn: 0.3088890\ttest: 0.1635719\tbest: 0.1635719 (23)\ttotal: 1.65s\tremaining: 2m 15s\n",
            "24:\tlearn: 0.3068095\ttest: 0.1621455\tbest: 0.1621455 (24)\ttotal: 1.72s\tremaining: 2m 15s\n",
            "25:\tlearn: 0.3053205\ttest: 0.1613932\tbest: 0.1613932 (25)\ttotal: 1.78s\tremaining: 2m 14s\n",
            "26:\tlearn: 0.3040927\ttest: 0.1606955\tbest: 0.1606955 (26)\ttotal: 1.84s\tremaining: 2m 14s\n",
            "27:\tlearn: 0.3026198\ttest: 0.1602841\tbest: 0.1602841 (27)\ttotal: 1.9s\tremaining: 2m 13s\n",
            "28:\tlearn: 0.3011860\ttest: 0.1599129\tbest: 0.1599129 (28)\ttotal: 1.96s\tremaining: 2m 13s\n",
            "29:\tlearn: 0.3000273\ttest: 0.1591835\tbest: 0.1591835 (29)\ttotal: 2.02s\tremaining: 2m 12s\n",
            "30:\tlearn: 0.2979960\ttest: 0.1573367\tbest: 0.1573367 (30)\ttotal: 2.09s\tremaining: 2m 12s\n",
            "31:\tlearn: 0.2970273\ttest: 0.1569117\tbest: 0.1569117 (31)\ttotal: 2.15s\tremaining: 2m 12s\n",
            "32:\tlearn: 0.2960158\ttest: 0.1562697\tbest: 0.1562697 (32)\ttotal: 2.21s\tremaining: 2m 11s\n",
            "33:\tlearn: 0.2948612\ttest: 0.1554080\tbest: 0.1554080 (33)\ttotal: 2.27s\tremaining: 2m 11s\n",
            "34:\tlearn: 0.2935471\ttest: 0.1550768\tbest: 0.1550768 (34)\ttotal: 2.33s\tremaining: 2m 10s\n",
            "35:\tlearn: 0.2926062\ttest: 0.1545923\tbest: 0.1545923 (35)\ttotal: 2.39s\tremaining: 2m 10s\n",
            "36:\tlearn: 0.2916551\ttest: 0.1541924\tbest: 0.1541924 (36)\ttotal: 2.45s\tremaining: 2m 9s\n",
            "37:\tlearn: 0.2906980\ttest: 0.1540789\tbest: 0.1540789 (37)\ttotal: 2.52s\tremaining: 2m 10s\n",
            "38:\tlearn: 0.2898217\ttest: 0.1537429\tbest: 0.1537429 (38)\ttotal: 2.58s\tremaining: 2m 9s\n",
            "39:\tlearn: 0.2888168\ttest: 0.1534253\tbest: 0.1534253 (39)\ttotal: 2.64s\tremaining: 2m 9s\n",
            "40:\tlearn: 0.2881287\ttest: 0.1530725\tbest: 0.1530725 (40)\ttotal: 2.7s\tremaining: 2m 9s\n",
            "41:\tlearn: 0.2873094\ttest: 0.1527920\tbest: 0.1527920 (41)\ttotal: 2.76s\tremaining: 2m 8s\n",
            "42:\tlearn: 0.2865726\ttest: 0.1525381\tbest: 0.1525381 (42)\ttotal: 2.82s\tremaining: 2m 8s\n",
            "43:\tlearn: 0.2858706\ttest: 0.1522424\tbest: 0.1522424 (43)\ttotal: 2.88s\tremaining: 2m 8s\n",
            "44:\tlearn: 0.2849480\ttest: 0.1520485\tbest: 0.1520485 (44)\ttotal: 2.94s\tremaining: 2m 7s\n",
            "45:\tlearn: 0.2837700\ttest: 0.1504460\tbest: 0.1504460 (45)\ttotal: 3.02s\tremaining: 2m 8s\n",
            "46:\tlearn: 0.2831302\ttest: 0.1503389\tbest: 0.1503389 (46)\ttotal: 3.08s\tremaining: 2m 7s\n",
            "47:\tlearn: 0.2821720\ttest: 0.1496637\tbest: 0.1496637 (47)\ttotal: 3.14s\tremaining: 2m 7s\n",
            "48:\tlearn: 0.2809849\ttest: 0.1493046\tbest: 0.1493046 (48)\ttotal: 3.2s\tremaining: 2m 7s\n",
            "49:\tlearn: 0.2795207\ttest: 0.1474329\tbest: 0.1474329 (49)\ttotal: 3.26s\tremaining: 2m 7s\n",
            "50:\tlearn: 0.2787925\ttest: 0.1471487\tbest: 0.1471487 (50)\ttotal: 3.32s\tremaining: 2m 7s\n",
            "51:\tlearn: 0.2781606\ttest: 0.1470420\tbest: 0.1470420 (51)\ttotal: 3.38s\tremaining: 2m 6s\n",
            "52:\tlearn: 0.2775050\ttest: 0.1468402\tbest: 0.1468402 (52)\ttotal: 3.44s\tremaining: 2m 6s\n",
            "53:\tlearn: 0.2768762\ttest: 0.1464971\tbest: 0.1464971 (53)\ttotal: 3.51s\tremaining: 2m 6s\n",
            "54:\tlearn: 0.2762820\ttest: 0.1462038\tbest: 0.1462038 (54)\ttotal: 3.57s\tremaining: 2m 6s\n",
            "55:\tlearn: 0.2755377\ttest: 0.1457813\tbest: 0.1457813 (55)\ttotal: 3.63s\tremaining: 2m 5s\n",
            "56:\tlearn: 0.2748728\ttest: 0.1454997\tbest: 0.1454997 (56)\ttotal: 3.69s\tremaining: 2m 5s\n",
            "57:\tlearn: 0.2739318\ttest: 0.1452225\tbest: 0.1452225 (57)\ttotal: 3.75s\tremaining: 2m 5s\n",
            "58:\tlearn: 0.2723873\ttest: 0.1428337\tbest: 0.1428337 (58)\ttotal: 3.81s\tremaining: 2m 5s\n",
            "59:\tlearn: 0.2718489\ttest: 0.1427689\tbest: 0.1427689 (59)\ttotal: 3.87s\tremaining: 2m 5s\n",
            "60:\tlearn: 0.2712045\ttest: 0.1427173\tbest: 0.1427173 (60)\ttotal: 3.93s\tremaining: 2m 4s\n",
            "61:\tlearn: 0.2704986\ttest: 0.1423776\tbest: 0.1423776 (61)\ttotal: 4s\tremaining: 2m 5s\n",
            "62:\tlearn: 0.2699685\ttest: 0.1422344\tbest: 0.1422344 (62)\ttotal: 4.06s\tremaining: 2m 4s\n",
            "63:\tlearn: 0.2694457\ttest: 0.1422124\tbest: 0.1422124 (63)\ttotal: 4.12s\tremaining: 2m 4s\n",
            "64:\tlearn: 0.2687391\ttest: 0.1418309\tbest: 0.1418309 (64)\ttotal: 4.18s\tremaining: 2m 4s\n",
            "65:\tlearn: 0.2681500\ttest: 0.1418136\tbest: 0.1418136 (65)\ttotal: 4.24s\tremaining: 2m 4s\n",
            "66:\tlearn: 0.2671651\ttest: 0.1408663\tbest: 0.1408663 (66)\ttotal: 4.3s\tremaining: 2m 4s\n",
            "67:\tlearn: 0.2665711\ttest: 0.1405710\tbest: 0.1405710 (67)\ttotal: 4.36s\tremaining: 2m 3s\n",
            "68:\tlearn: 0.2657886\ttest: 0.1403294\tbest: 0.1403294 (68)\ttotal: 4.42s\tremaining: 2m 3s\n",
            "69:\tlearn: 0.2652903\ttest: 0.1400412\tbest: 0.1400412 (69)\ttotal: 4.49s\tremaining: 2m 3s\n",
            "70:\tlearn: 0.2645823\ttest: 0.1393897\tbest: 0.1393897 (70)\ttotal: 4.55s\tremaining: 2m 3s\n",
            "71:\tlearn: 0.2640828\ttest: 0.1391437\tbest: 0.1391437 (71)\ttotal: 4.62s\tremaining: 2m 3s\n",
            "72:\tlearn: 0.2635627\ttest: 0.1388846\tbest: 0.1388846 (72)\ttotal: 4.68s\tremaining: 2m 3s\n",
            "73:\tlearn: 0.2630577\ttest: 0.1388304\tbest: 0.1388304 (73)\ttotal: 4.74s\tremaining: 2m 3s\n",
            "74:\tlearn: 0.2625031\ttest: 0.1383840\tbest: 0.1383840 (74)\ttotal: 4.79s\tremaining: 2m 3s\n",
            "75:\tlearn: 0.2618953\ttest: 0.1381523\tbest: 0.1381523 (75)\ttotal: 4.85s\tremaining: 2m 2s\n",
            "76:\tlearn: 0.2612993\ttest: 0.1380452\tbest: 0.1380452 (76)\ttotal: 4.91s\tremaining: 2m 2s\n",
            "77:\tlearn: 0.2606744\ttest: 0.1377393\tbest: 0.1377393 (77)\ttotal: 4.98s\tremaining: 2m 2s\n",
            "78:\tlearn: 0.2602300\ttest: 0.1375352\tbest: 0.1375352 (78)\ttotal: 5.04s\tremaining: 2m 2s\n",
            "79:\tlearn: 0.2597377\ttest: 0.1373726\tbest: 0.1373726 (79)\ttotal: 5.1s\tremaining: 2m 2s\n",
            "80:\tlearn: 0.2593738\ttest: 0.1373052\tbest: 0.1373052 (80)\ttotal: 5.16s\tremaining: 2m 2s\n",
            "81:\tlearn: 0.2589560\ttest: 0.1372032\tbest: 0.1372032 (81)\ttotal: 5.22s\tremaining: 2m 2s\n",
            "82:\tlearn: 0.2584894\ttest: 0.1370040\tbest: 0.1370040 (82)\ttotal: 5.28s\tremaining: 2m 1s\n",
            "83:\tlearn: 0.2579526\ttest: 0.1367274\tbest: 0.1367274 (83)\ttotal: 5.34s\tremaining: 2m 1s\n",
            "84:\tlearn: 0.2575565\ttest: 0.1365908\tbest: 0.1365908 (84)\ttotal: 5.4s\tremaining: 2m 1s\n",
            "85:\tlearn: 0.2568154\ttest: 0.1362212\tbest: 0.1362212 (85)\ttotal: 5.46s\tremaining: 2m 1s\n",
            "86:\tlearn: 0.2563164\ttest: 0.1359044\tbest: 0.1359044 (86)\ttotal: 5.52s\tremaining: 2m 1s\n",
            "87:\tlearn: 0.2559951\ttest: 0.1358642\tbest: 0.1358642 (87)\ttotal: 5.58s\tremaining: 2m 1s\n",
            "88:\tlearn: 0.2554834\ttest: 0.1355532\tbest: 0.1355532 (88)\ttotal: 5.64s\tremaining: 2m 1s\n",
            "89:\tlearn: 0.2549928\ttest: 0.1351925\tbest: 0.1351925 (89)\ttotal: 5.71s\tremaining: 2m 1s\n",
            "90:\tlearn: 0.2546313\ttest: 0.1349939\tbest: 0.1349939 (90)\ttotal: 5.76s\tremaining: 2m\n",
            "91:\tlearn: 0.2541760\ttest: 0.1348276\tbest: 0.1348276 (91)\ttotal: 5.82s\tremaining: 2m\n",
            "92:\tlearn: 0.2537152\ttest: 0.1346340\tbest: 0.1346340 (92)\ttotal: 5.88s\tremaining: 2m\n",
            "93:\tlearn: 0.2534050\ttest: 0.1344309\tbest: 0.1344309 (93)\ttotal: 5.95s\tremaining: 2m\n",
            "94:\tlearn: 0.2530083\ttest: 0.1342200\tbest: 0.1342200 (94)\ttotal: 6.01s\tremaining: 2m\n",
            "95:\tlearn: 0.2526341\ttest: 0.1341643\tbest: 0.1341643 (95)\ttotal: 6.08s\tremaining: 2m\n",
            "96:\tlearn: 0.2523171\ttest: 0.1341333\tbest: 0.1341333 (96)\ttotal: 6.14s\tremaining: 2m\n",
            "97:\tlearn: 0.2519495\ttest: 0.1340329\tbest: 0.1340329 (97)\ttotal: 6.2s\tremaining: 2m\n",
            "98:\tlearn: 0.2516243\ttest: 0.1339561\tbest: 0.1339561 (98)\ttotal: 6.25s\tremaining: 2m\n",
            "99:\tlearn: 0.2512284\ttest: 0.1337703\tbest: 0.1337703 (99)\ttotal: 6.32s\tremaining: 2m\n",
            "100:\tlearn: 0.2508961\ttest: 0.1335865\tbest: 0.1335865 (100)\ttotal: 6.38s\tremaining: 1m 59s\n",
            "101:\tlearn: 0.2505894\ttest: 0.1334349\tbest: 0.1334349 (101)\ttotal: 6.44s\tremaining: 1m 59s\n",
            "102:\tlearn: 0.2500443\ttest: 0.1331913\tbest: 0.1331913 (102)\ttotal: 6.5s\tremaining: 1m 59s\n",
            "103:\tlearn: 0.2497030\ttest: 0.1330234\tbest: 0.1330234 (103)\ttotal: 6.56s\tremaining: 1m 59s\n",
            "104:\tlearn: 0.2494280\ttest: 0.1329901\tbest: 0.1329901 (104)\ttotal: 6.62s\tremaining: 1m 59s\n",
            "105:\tlearn: 0.2490225\ttest: 0.1327503\tbest: 0.1327503 (105)\ttotal: 6.68s\tremaining: 1m 59s\n",
            "106:\tlearn: 0.2487413\ttest: 0.1327118\tbest: 0.1327118 (106)\ttotal: 6.74s\tremaining: 1m 59s\n",
            "107:\tlearn: 0.2484332\ttest: 0.1326369\tbest: 0.1326369 (107)\ttotal: 6.8s\tremaining: 1m 59s\n",
            "108:\tlearn: 0.2480672\ttest: 0.1323231\tbest: 0.1323231 (108)\ttotal: 6.86s\tremaining: 1m 59s\n",
            "109:\tlearn: 0.2476995\ttest: 0.1322446\tbest: 0.1322446 (109)\ttotal: 6.93s\tremaining: 1m 59s\n",
            "110:\tlearn: 0.2474042\ttest: 0.1322007\tbest: 0.1322007 (110)\ttotal: 6.98s\tremaining: 1m 58s\n",
            "111:\tlearn: 0.2470278\ttest: 0.1320554\tbest: 0.1320554 (111)\ttotal: 7.05s\tremaining: 1m 58s\n",
            "112:\tlearn: 0.2464840\ttest: 0.1318348\tbest: 0.1318348 (112)\ttotal: 7.11s\tremaining: 1m 58s\n",
            "113:\tlearn: 0.2458580\ttest: 0.1313753\tbest: 0.1313753 (113)\ttotal: 7.17s\tremaining: 1m 58s\n",
            "114:\tlearn: 0.2454966\ttest: 0.1312535\tbest: 0.1312535 (114)\ttotal: 7.23s\tremaining: 1m 58s\n",
            "115:\tlearn: 0.2451693\ttest: 0.1311731\tbest: 0.1311731 (115)\ttotal: 7.3s\tremaining: 1m 58s\n",
            "116:\tlearn: 0.2448910\ttest: 0.1310114\tbest: 0.1310114 (116)\ttotal: 7.36s\tremaining: 1m 58s\n",
            "117:\tlearn: 0.2445449\ttest: 0.1309255\tbest: 0.1309255 (117)\ttotal: 7.42s\tremaining: 1m 58s\n",
            "118:\tlearn: 0.2442490\ttest: 0.1308176\tbest: 0.1308176 (118)\ttotal: 7.47s\tremaining: 1m 58s\n",
            "119:\tlearn: 0.2439787\ttest: 0.1306786\tbest: 0.1306786 (119)\ttotal: 7.53s\tremaining: 1m 58s\n",
            "120:\tlearn: 0.2437375\ttest: 0.1306177\tbest: 0.1306177 (120)\ttotal: 7.59s\tremaining: 1m 57s\n",
            "121:\tlearn: 0.2433766\ttest: 0.1305261\tbest: 0.1305261 (121)\ttotal: 7.66s\tremaining: 1m 57s\n",
            "122:\tlearn: 0.2430899\ttest: 0.1303411\tbest: 0.1303411 (122)\ttotal: 7.72s\tremaining: 1m 57s\n",
            "123:\tlearn: 0.2428056\ttest: 0.1302264\tbest: 0.1302264 (123)\ttotal: 7.78s\tremaining: 1m 57s\n",
            "124:\tlearn: 0.2426001\ttest: 0.1302100\tbest: 0.1302100 (124)\ttotal: 7.84s\tremaining: 1m 57s\n",
            "125:\tlearn: 0.2423201\ttest: 0.1301599\tbest: 0.1301599 (125)\ttotal: 7.9s\tremaining: 1m 57s\n",
            "126:\tlearn: 0.2419247\ttest: 0.1300989\tbest: 0.1300989 (126)\ttotal: 7.96s\tremaining: 1m 57s\n",
            "127:\tlearn: 0.2416941\ttest: 0.1300251\tbest: 0.1300251 (127)\ttotal: 8.03s\tremaining: 1m 57s\n",
            "128:\tlearn: 0.2413994\ttest: 0.1297234\tbest: 0.1297234 (128)\ttotal: 8.09s\tremaining: 1m 57s\n",
            "129:\tlearn: 0.2410327\ttest: 0.1295444\tbest: 0.1295444 (129)\ttotal: 8.15s\tremaining: 1m 57s\n",
            "130:\tlearn: 0.2405904\ttest: 0.1294504\tbest: 0.1294504 (130)\ttotal: 8.21s\tremaining: 1m 57s\n",
            "131:\tlearn: 0.2403414\ttest: 0.1293599\tbest: 0.1293599 (131)\ttotal: 8.27s\tremaining: 1m 57s\n",
            "132:\tlearn: 0.2401230\ttest: 0.1291940\tbest: 0.1291940 (132)\ttotal: 8.33s\tremaining: 1m 56s\n",
            "133:\tlearn: 0.2398837\ttest: 0.1291436\tbest: 0.1291436 (133)\ttotal: 8.39s\tremaining: 1m 56s\n",
            "134:\tlearn: 0.2396542\ttest: 0.1289455\tbest: 0.1289455 (134)\ttotal: 8.45s\tremaining: 1m 56s\n",
            "135:\tlearn: 0.2394637\ttest: 0.1288465\tbest: 0.1288465 (135)\ttotal: 8.51s\tremaining: 1m 56s\n",
            "136:\tlearn: 0.2392286\ttest: 0.1287842\tbest: 0.1287842 (136)\ttotal: 8.57s\tremaining: 1m 56s\n",
            "137:\tlearn: 0.2389920\ttest: 0.1286443\tbest: 0.1286443 (137)\ttotal: 8.63s\tremaining: 1m 56s\n",
            "138:\tlearn: 0.2387338\ttest: 0.1285060\tbest: 0.1285060 (138)\ttotal: 8.69s\tremaining: 1m 56s\n",
            "139:\tlearn: 0.2384492\ttest: 0.1283711\tbest: 0.1283711 (139)\ttotal: 8.75s\tremaining: 1m 56s\n",
            "140:\tlearn: 0.2381753\ttest: 0.1282251\tbest: 0.1282251 (140)\ttotal: 8.81s\tremaining: 1m 56s\n",
            "141:\tlearn: 0.2378797\ttest: 0.1280661\tbest: 0.1280661 (141)\ttotal: 8.87s\tremaining: 1m 56s\n",
            "142:\tlearn: 0.2376059\ttest: 0.1278991\tbest: 0.1278991 (142)\ttotal: 8.95s\tremaining: 1m 56s\n",
            "143:\tlearn: 0.2373704\ttest: 0.1277324\tbest: 0.1277324 (143)\ttotal: 9.01s\tremaining: 1m 56s\n",
            "144:\tlearn: 0.2371831\ttest: 0.1277085\tbest: 0.1277085 (144)\ttotal: 9.08s\tremaining: 1m 56s\n",
            "145:\tlearn: 0.2369410\ttest: 0.1275942\tbest: 0.1275942 (145)\ttotal: 9.14s\tremaining: 1m 56s\n",
            "146:\tlearn: 0.2365730\ttest: 0.1273710\tbest: 0.1273710 (146)\ttotal: 9.2s\tremaining: 1m 55s\n",
            "147:\tlearn: 0.2360629\ttest: 0.1270737\tbest: 0.1270737 (147)\ttotal: 9.26s\tremaining: 1m 55s\n",
            "148:\tlearn: 0.2358494\ttest: 0.1269471\tbest: 0.1269471 (148)\ttotal: 9.32s\tremaining: 1m 55s\n",
            "149:\tlearn: 0.2354931\ttest: 0.1267761\tbest: 0.1267761 (149)\ttotal: 9.38s\tremaining: 1m 55s\n",
            "150:\tlearn: 0.2352234\ttest: 0.1266533\tbest: 0.1266533 (150)\ttotal: 9.44s\tremaining: 1m 55s\n",
            "151:\tlearn: 0.2349622\ttest: 0.1265800\tbest: 0.1265800 (151)\ttotal: 9.5s\tremaining: 1m 55s\n",
            "152:\tlearn: 0.2347080\ttest: 0.1264490\tbest: 0.1264490 (152)\ttotal: 9.57s\tremaining: 1m 55s\n",
            "153:\tlearn: 0.2344881\ttest: 0.1264198\tbest: 0.1264198 (153)\ttotal: 9.63s\tremaining: 1m 55s\n",
            "154:\tlearn: 0.2339865\ttest: 0.1258679\tbest: 0.1258679 (154)\ttotal: 9.69s\tremaining: 1m 55s\n",
            "155:\tlearn: 0.2337673\ttest: 0.1257941\tbest: 0.1257941 (155)\ttotal: 9.74s\tremaining: 1m 55s\n",
            "156:\tlearn: 0.2335241\ttest: 0.1257206\tbest: 0.1257206 (156)\ttotal: 9.81s\tremaining: 1m 55s\n",
            "157:\tlearn: 0.2332046\ttest: 0.1255390\tbest: 0.1255390 (157)\ttotal: 9.87s\tremaining: 1m 55s\n",
            "158:\tlearn: 0.2328835\ttest: 0.1252883\tbest: 0.1252883 (158)\ttotal: 9.93s\tremaining: 1m 54s\n",
            "159:\tlearn: 0.2325980\ttest: 0.1251464\tbest: 0.1251464 (159)\ttotal: 9.99s\tremaining: 1m 54s\n",
            "160:\tlearn: 0.2323389\ttest: 0.1251026\tbest: 0.1251026 (160)\ttotal: 10.1s\tremaining: 1m 54s\n",
            "161:\tlearn: 0.2320081\ttest: 0.1250532\tbest: 0.1250532 (161)\ttotal: 10.1s\tremaining: 1m 54s\n",
            "162:\tlearn: 0.2318086\ttest: 0.1249646\tbest: 0.1249646 (162)\ttotal: 10.2s\tremaining: 1m 54s\n",
            "163:\tlearn: 0.2316329\ttest: 0.1249636\tbest: 0.1249636 (163)\ttotal: 10.2s\tremaining: 1m 54s\n",
            "164:\tlearn: 0.2314151\ttest: 0.1248736\tbest: 0.1248736 (164)\ttotal: 10.3s\tremaining: 1m 54s\n",
            "165:\tlearn: 0.2312226\ttest: 0.1248192\tbest: 0.1248192 (165)\ttotal: 10.4s\tremaining: 1m 54s\n",
            "166:\tlearn: 0.2310101\ttest: 0.1247758\tbest: 0.1247758 (166)\ttotal: 10.4s\tremaining: 1m 54s\n",
            "167:\tlearn: 0.2307868\ttest: 0.1247084\tbest: 0.1247084 (167)\ttotal: 10.5s\tremaining: 1m 54s\n",
            "168:\tlearn: 0.2305558\ttest: 0.1245000\tbest: 0.1245000 (168)\ttotal: 10.6s\tremaining: 1m 54s\n",
            "169:\tlearn: 0.2302694\ttest: 0.1244623\tbest: 0.1244623 (169)\ttotal: 10.6s\tremaining: 1m 54s\n",
            "170:\tlearn: 0.2301599\ttest: 0.1244447\tbest: 0.1244447 (170)\ttotal: 10.7s\tremaining: 1m 54s\n",
            "171:\tlearn: 0.2298114\ttest: 0.1243299\tbest: 0.1243299 (171)\ttotal: 10.7s\tremaining: 1m 54s\n",
            "172:\tlearn: 0.2295096\ttest: 0.1242579\tbest: 0.1242579 (172)\ttotal: 10.8s\tremaining: 1m 54s\n",
            "173:\tlearn: 0.2293537\ttest: 0.1241356\tbest: 0.1241356 (173)\ttotal: 10.9s\tremaining: 1m 54s\n",
            "174:\tlearn: 0.2290623\ttest: 0.1238169\tbest: 0.1238169 (174)\ttotal: 10.9s\tremaining: 1m 54s\n",
            "175:\tlearn: 0.2288509\ttest: 0.1237178\tbest: 0.1237178 (175)\ttotal: 11s\tremaining: 1m 53s\n",
            "176:\tlearn: 0.2286918\ttest: 0.1236855\tbest: 0.1236855 (176)\ttotal: 11.1s\tremaining: 1m 53s\n",
            "177:\tlearn: 0.2285046\ttest: 0.1236567\tbest: 0.1236567 (177)\ttotal: 11.1s\tremaining: 1m 53s\n",
            "178:\tlearn: 0.2283446\ttest: 0.1236125\tbest: 0.1236125 (178)\ttotal: 11.2s\tremaining: 1m 53s\n",
            "179:\tlearn: 0.2281812\ttest: 0.1235243\tbest: 0.1235243 (179)\ttotal: 11.2s\tremaining: 1m 53s\n",
            "180:\tlearn: 0.2279912\ttest: 0.1235351\tbest: 0.1235243 (179)\ttotal: 11.3s\tremaining: 1m 53s\n",
            "181:\tlearn: 0.2278415\ttest: 0.1235377\tbest: 0.1235243 (179)\ttotal: 11.4s\tremaining: 1m 53s\n",
            "182:\tlearn: 0.2276350\ttest: 0.1234176\tbest: 0.1234176 (182)\ttotal: 11.4s\tremaining: 1m 53s\n",
            "183:\tlearn: 0.2274066\ttest: 0.1233274\tbest: 0.1233274 (183)\ttotal: 11.5s\tremaining: 1m 53s\n",
            "184:\tlearn: 0.2272507\ttest: 0.1233080\tbest: 0.1233080 (184)\ttotal: 11.5s\tremaining: 1m 53s\n",
            "185:\tlearn: 0.2269761\ttest: 0.1232162\tbest: 0.1232162 (185)\ttotal: 11.6s\tremaining: 1m 53s\n",
            "186:\tlearn: 0.2268116\ttest: 0.1230830\tbest: 0.1230830 (186)\ttotal: 11.7s\tremaining: 1m 53s\n",
            "187:\tlearn: 0.2262715\ttest: 0.1223076\tbest: 0.1223076 (187)\ttotal: 11.7s\tremaining: 1m 52s\n",
            "188:\tlearn: 0.2260108\ttest: 0.1222400\tbest: 0.1222400 (188)\ttotal: 11.8s\tremaining: 1m 52s\n",
            "189:\tlearn: 0.2257535\ttest: 0.1222229\tbest: 0.1222229 (189)\ttotal: 11.8s\tremaining: 1m 52s\n",
            "190:\tlearn: 0.2255825\ttest: 0.1221889\tbest: 0.1221889 (190)\ttotal: 11.9s\tremaining: 1m 52s\n",
            "191:\tlearn: 0.2254217\ttest: 0.1221555\tbest: 0.1221555 (191)\ttotal: 12s\tremaining: 1m 52s\n",
            "192:\tlearn: 0.2252827\ttest: 0.1221619\tbest: 0.1221555 (191)\ttotal: 12s\tremaining: 1m 52s\n",
            "193:\tlearn: 0.2251214\ttest: 0.1221251\tbest: 0.1221251 (193)\ttotal: 12.1s\tremaining: 1m 52s\n",
            "194:\tlearn: 0.2249577\ttest: 0.1220216\tbest: 0.1220216 (194)\ttotal: 12.1s\tremaining: 1m 52s\n",
            "195:\tlearn: 0.2246724\ttest: 0.1218219\tbest: 0.1218219 (195)\ttotal: 12.2s\tremaining: 1m 52s\n",
            "196:\tlearn: 0.2245522\ttest: 0.1217824\tbest: 0.1217824 (196)\ttotal: 12.3s\tremaining: 1m 52s\n",
            "197:\tlearn: 0.2244062\ttest: 0.1216014\tbest: 0.1216014 (197)\ttotal: 12.3s\tremaining: 1m 52s\n",
            "198:\tlearn: 0.2242373\ttest: 0.1215385\tbest: 0.1215385 (198)\ttotal: 12.4s\tremaining: 1m 52s\n",
            "199:\tlearn: 0.2240625\ttest: 0.1214610\tbest: 0.1214610 (199)\ttotal: 12.4s\tremaining: 1m 51s\n",
            "200:\tlearn: 0.2238821\ttest: 0.1213827\tbest: 0.1213827 (200)\ttotal: 12.5s\tremaining: 1m 51s\n",
            "201:\tlearn: 0.2237254\ttest: 0.1213456\tbest: 0.1213456 (201)\ttotal: 12.6s\tremaining: 1m 51s\n",
            "202:\tlearn: 0.2233131\ttest: 0.1212173\tbest: 0.1212173 (202)\ttotal: 12.6s\tremaining: 1m 51s\n",
            "203:\tlearn: 0.2230431\ttest: 0.1211225\tbest: 0.1211225 (203)\ttotal: 12.7s\tremaining: 1m 51s\n",
            "204:\tlearn: 0.2229258\ttest: 0.1210181\tbest: 0.1210181 (204)\ttotal: 12.7s\tremaining: 1m 51s\n",
            "205:\tlearn: 0.2226650\ttest: 0.1208961\tbest: 0.1208961 (205)\ttotal: 12.8s\tremaining: 1m 51s\n",
            "206:\tlearn: 0.2224885\ttest: 0.1208910\tbest: 0.1208910 (206)\ttotal: 12.9s\tremaining: 1m 51s\n",
            "207:\tlearn: 0.2224196\ttest: 0.1208798\tbest: 0.1208798 (207)\ttotal: 12.9s\tremaining: 1m 51s\n",
            "208:\tlearn: 0.2223020\ttest: 0.1208576\tbest: 0.1208576 (208)\ttotal: 13s\tremaining: 1m 51s\n",
            "209:\tlearn: 0.2221448\ttest: 0.1208136\tbest: 0.1208136 (209)\ttotal: 13s\tremaining: 1m 51s\n",
            "210:\tlearn: 0.2220458\ttest: 0.1208185\tbest: 0.1208136 (209)\ttotal: 13.1s\tremaining: 1m 51s\n",
            "211:\tlearn: 0.2219350\ttest: 0.1208166\tbest: 0.1208136 (209)\ttotal: 13.2s\tremaining: 1m 51s\n",
            "212:\tlearn: 0.2218176\ttest: 0.1208004\tbest: 0.1208004 (212)\ttotal: 13.2s\tremaining: 1m 50s\n",
            "213:\tlearn: 0.2215270\ttest: 0.1206500\tbest: 0.1206500 (213)\ttotal: 13.3s\tremaining: 1m 50s\n",
            "214:\tlearn: 0.2213692\ttest: 0.1205728\tbest: 0.1205728 (214)\ttotal: 13.3s\tremaining: 1m 50s\n",
            "215:\tlearn: 0.2212345\ttest: 0.1205991\tbest: 0.1205728 (214)\ttotal: 13.4s\tremaining: 1m 50s\n",
            "216:\tlearn: 0.2210963\ttest: 0.1205362\tbest: 0.1205362 (216)\ttotal: 13.5s\tremaining: 1m 50s\n",
            "217:\tlearn: 0.2209376\ttest: 0.1205166\tbest: 0.1205166 (217)\ttotal: 13.5s\tremaining: 1m 50s\n",
            "218:\tlearn: 0.2208200\ttest: 0.1204417\tbest: 0.1204417 (218)\ttotal: 13.6s\tremaining: 1m 50s\n",
            "219:\tlearn: 0.2206775\ttest: 0.1204409\tbest: 0.1204409 (219)\ttotal: 13.7s\tremaining: 1m 50s\n",
            "220:\tlearn: 0.2205884\ttest: 0.1204241\tbest: 0.1204241 (220)\ttotal: 13.7s\tremaining: 1m 50s\n",
            "221:\tlearn: 0.2204641\ttest: 0.1204245\tbest: 0.1204241 (220)\ttotal: 13.8s\tremaining: 1m 50s\n",
            "222:\tlearn: 0.2203253\ttest: 0.1204156\tbest: 0.1204156 (222)\ttotal: 13.8s\tremaining: 1m 50s\n",
            "223:\tlearn: 0.2201886\ttest: 0.1203396\tbest: 0.1203396 (223)\ttotal: 13.9s\tremaining: 1m 50s\n",
            "224:\tlearn: 0.2200771\ttest: 0.1203280\tbest: 0.1203280 (224)\ttotal: 13.9s\tremaining: 1m 50s\n",
            "225:\tlearn: 0.2198484\ttest: 0.1200912\tbest: 0.1200912 (225)\ttotal: 14s\tremaining: 1m 49s\n",
            "226:\tlearn: 0.2196968\ttest: 0.1200713\tbest: 0.1200713 (226)\ttotal: 14.1s\tremaining: 1m 49s\n",
            "227:\tlearn: 0.2195157\ttest: 0.1200150\tbest: 0.1200150 (227)\ttotal: 14.1s\tremaining: 1m 49s\n",
            "228:\tlearn: 0.2193672\ttest: 0.1199457\tbest: 0.1199457 (228)\ttotal: 14.2s\tremaining: 1m 49s\n",
            "229:\tlearn: 0.2192317\ttest: 0.1198611\tbest: 0.1198611 (229)\ttotal: 14.3s\tremaining: 1m 49s\n",
            "230:\tlearn: 0.2191147\ttest: 0.1198288\tbest: 0.1198288 (230)\ttotal: 14.3s\tremaining: 1m 49s\n",
            "231:\tlearn: 0.2189800\ttest: 0.1197513\tbest: 0.1197513 (231)\ttotal: 14.4s\tremaining: 1m 49s\n",
            "232:\tlearn: 0.2188599\ttest: 0.1197177\tbest: 0.1197177 (232)\ttotal: 14.4s\tremaining: 1m 49s\n",
            "233:\tlearn: 0.2187160\ttest: 0.1197036\tbest: 0.1197036 (233)\ttotal: 14.5s\tremaining: 1m 49s\n",
            "234:\tlearn: 0.2185781\ttest: 0.1196800\tbest: 0.1196800 (234)\ttotal: 14.6s\tremaining: 1m 49s\n",
            "235:\tlearn: 0.2184309\ttest: 0.1196738\tbest: 0.1196738 (235)\ttotal: 14.6s\tremaining: 1m 49s\n",
            "236:\tlearn: 0.2182679\ttest: 0.1196550\tbest: 0.1196550 (236)\ttotal: 14.7s\tremaining: 1m 49s\n",
            "237:\tlearn: 0.2181506\ttest: 0.1195634\tbest: 0.1195634 (237)\ttotal: 14.7s\tremaining: 1m 49s\n",
            "238:\tlearn: 0.2179902\ttest: 0.1195421\tbest: 0.1195421 (238)\ttotal: 14.8s\tremaining: 1m 48s\n",
            "239:\tlearn: 0.2178740\ttest: 0.1194886\tbest: 0.1194886 (239)\ttotal: 14.9s\tremaining: 1m 48s\n",
            "240:\tlearn: 0.2177685\ttest: 0.1195393\tbest: 0.1194886 (239)\ttotal: 14.9s\tremaining: 1m 48s\n",
            "241:\tlearn: 0.2176116\ttest: 0.1194416\tbest: 0.1194416 (241)\ttotal: 15s\tremaining: 1m 48s\n",
            "242:\tlearn: 0.2174613\ttest: 0.1194594\tbest: 0.1194416 (241)\ttotal: 15s\tremaining: 1m 48s\n",
            "243:\tlearn: 0.2172864\ttest: 0.1194027\tbest: 0.1194027 (243)\ttotal: 15.1s\tremaining: 1m 48s\n",
            "244:\tlearn: 0.2171103\ttest: 0.1193121\tbest: 0.1193121 (244)\ttotal: 15.2s\tremaining: 1m 48s\n",
            "245:\tlearn: 0.2170165\ttest: 0.1192748\tbest: 0.1192748 (245)\ttotal: 15.2s\tremaining: 1m 48s\n",
            "246:\tlearn: 0.2169196\ttest: 0.1192513\tbest: 0.1192513 (246)\ttotal: 15.3s\tremaining: 1m 48s\n",
            "247:\tlearn: 0.2168220\ttest: 0.1192434\tbest: 0.1192434 (247)\ttotal: 15.3s\tremaining: 1m 48s\n",
            "248:\tlearn: 0.2166554\ttest: 0.1191707\tbest: 0.1191707 (248)\ttotal: 15.4s\tremaining: 1m 48s\n",
            "249:\tlearn: 0.2164962\ttest: 0.1191657\tbest: 0.1191657 (249)\ttotal: 15.5s\tremaining: 1m 48s\n",
            "250:\tlearn: 0.2163723\ttest: 0.1191350\tbest: 0.1191350 (250)\ttotal: 15.5s\tremaining: 1m 48s\n",
            "251:\tlearn: 0.2162268\ttest: 0.1190558\tbest: 0.1190558 (251)\ttotal: 15.6s\tremaining: 1m 48s\n",
            "252:\tlearn: 0.2161052\ttest: 0.1190321\tbest: 0.1190321 (252)\ttotal: 15.6s\tremaining: 1m 48s\n",
            "253:\tlearn: 0.2159900\ttest: 0.1190358\tbest: 0.1190321 (252)\ttotal: 15.7s\tremaining: 1m 47s\n",
            "254:\tlearn: 0.2158488\ttest: 0.1188340\tbest: 0.1188340 (254)\ttotal: 15.8s\tremaining: 1m 47s\n",
            "255:\tlearn: 0.2156967\ttest: 0.1187886\tbest: 0.1187886 (255)\ttotal: 15.8s\tremaining: 1m 47s\n",
            "256:\tlearn: 0.2155163\ttest: 0.1187300\tbest: 0.1187300 (256)\ttotal: 15.9s\tremaining: 1m 47s\n",
            "257:\tlearn: 0.2154293\ttest: 0.1187084\tbest: 0.1187084 (257)\ttotal: 15.9s\tremaining: 1m 47s\n",
            "258:\tlearn: 0.2152689\ttest: 0.1186685\tbest: 0.1186685 (258)\ttotal: 16s\tremaining: 1m 47s\n",
            "259:\tlearn: 0.2151757\ttest: 0.1186683\tbest: 0.1186683 (259)\ttotal: 16.1s\tremaining: 1m 47s\n",
            "260:\tlearn: 0.2149636\ttest: 0.1186195\tbest: 0.1186195 (260)\ttotal: 16.1s\tremaining: 1m 47s\n",
            "261:\tlearn: 0.2148230\ttest: 0.1185954\tbest: 0.1185954 (261)\ttotal: 16.2s\tremaining: 1m 47s\n",
            "262:\tlearn: 0.2146570\ttest: 0.1184174\tbest: 0.1184174 (262)\ttotal: 16.3s\tremaining: 1m 47s\n",
            "263:\tlearn: 0.2145454\ttest: 0.1183432\tbest: 0.1183432 (263)\ttotal: 16.3s\tremaining: 1m 47s\n",
            "264:\tlearn: 0.2144363\ttest: 0.1182672\tbest: 0.1182672 (264)\ttotal: 16.4s\tremaining: 1m 47s\n",
            "265:\tlearn: 0.2143001\ttest: 0.1182570\tbest: 0.1182570 (265)\ttotal: 16.4s\tremaining: 1m 47s\n",
            "266:\tlearn: 0.2141658\ttest: 0.1182248\tbest: 0.1182248 (266)\ttotal: 16.5s\tremaining: 1m 47s\n",
            "267:\tlearn: 0.2138683\ttest: 0.1180556\tbest: 0.1180556 (267)\ttotal: 16.6s\tremaining: 1m 47s\n",
            "268:\tlearn: 0.2137194\ttest: 0.1180044\tbest: 0.1180044 (268)\ttotal: 16.6s\tremaining: 1m 46s\n",
            "269:\tlearn: 0.2136305\ttest: 0.1179669\tbest: 0.1179669 (269)\ttotal: 16.7s\tremaining: 1m 46s\n",
            "270:\tlearn: 0.2135304\ttest: 0.1179269\tbest: 0.1179269 (270)\ttotal: 16.7s\tremaining: 1m 46s\n",
            "271:\tlearn: 0.2134322\ttest: 0.1179285\tbest: 0.1179269 (270)\ttotal: 16.8s\tremaining: 1m 46s\n",
            "272:\tlearn: 0.2132697\ttest: 0.1179465\tbest: 0.1179269 (270)\ttotal: 16.9s\tremaining: 1m 46s\n",
            "273:\tlearn: 0.2131091\ttest: 0.1178316\tbest: 0.1178316 (273)\ttotal: 16.9s\tremaining: 1m 46s\n",
            "274:\tlearn: 0.2129710\ttest: 0.1177475\tbest: 0.1177475 (274)\ttotal: 17s\tremaining: 1m 46s\n",
            "275:\tlearn: 0.2128801\ttest: 0.1177261\tbest: 0.1177261 (275)\ttotal: 17s\tremaining: 1m 46s\n",
            "276:\tlearn: 0.2126493\ttest: 0.1175901\tbest: 0.1175901 (276)\ttotal: 17.1s\tremaining: 1m 46s\n",
            "277:\tlearn: 0.2125650\ttest: 0.1175967\tbest: 0.1175901 (276)\ttotal: 17.2s\tremaining: 1m 46s\n",
            "278:\tlearn: 0.2124420\ttest: 0.1175892\tbest: 0.1175892 (278)\ttotal: 17.2s\tremaining: 1m 46s\n",
            "279:\tlearn: 0.2122849\ttest: 0.1175065\tbest: 0.1175065 (279)\ttotal: 17.3s\tremaining: 1m 46s\n",
            "280:\tlearn: 0.2119744\ttest: 0.1172406\tbest: 0.1172406 (280)\ttotal: 17.3s\tremaining: 1m 46s\n",
            "281:\tlearn: 0.2118366\ttest: 0.1171700\tbest: 0.1171700 (281)\ttotal: 17.4s\tremaining: 1m 46s\n",
            "282:\tlearn: 0.2116652\ttest: 0.1171160\tbest: 0.1171160 (282)\ttotal: 17.5s\tremaining: 1m 45s\n",
            "283:\tlearn: 0.2115771\ttest: 0.1171082\tbest: 0.1171082 (283)\ttotal: 17.5s\tremaining: 1m 45s\n",
            "284:\tlearn: 0.2114928\ttest: 0.1170787\tbest: 0.1170787 (284)\ttotal: 17.6s\tremaining: 1m 45s\n",
            "285:\tlearn: 0.2113149\ttest: 0.1170207\tbest: 0.1170207 (285)\ttotal: 17.6s\tremaining: 1m 45s\n",
            "286:\tlearn: 0.2112103\ttest: 0.1169787\tbest: 0.1169787 (286)\ttotal: 17.7s\tremaining: 1m 45s\n",
            "287:\tlearn: 0.2110989\ttest: 0.1168848\tbest: 0.1168848 (287)\ttotal: 17.8s\tremaining: 1m 45s\n",
            "288:\tlearn: 0.2109596\ttest: 0.1167962\tbest: 0.1167962 (288)\ttotal: 17.8s\tremaining: 1m 45s\n",
            "289:\tlearn: 0.2108080\ttest: 0.1167907\tbest: 0.1167907 (289)\ttotal: 17.9s\tremaining: 1m 45s\n",
            "290:\tlearn: 0.2105854\ttest: 0.1167259\tbest: 0.1167259 (290)\ttotal: 17.9s\tremaining: 1m 45s\n",
            "291:\tlearn: 0.2104409\ttest: 0.1166398\tbest: 0.1166398 (291)\ttotal: 18s\tremaining: 1m 45s\n",
            "292:\tlearn: 0.2102188\ttest: 0.1163265\tbest: 0.1163265 (292)\ttotal: 18.1s\tremaining: 1m 45s\n",
            "293:\tlearn: 0.2100920\ttest: 0.1162932\tbest: 0.1162932 (293)\ttotal: 18.1s\tremaining: 1m 45s\n",
            "294:\tlearn: 0.2100135\ttest: 0.1162674\tbest: 0.1162674 (294)\ttotal: 18.2s\tremaining: 1m 45s\n",
            "295:\tlearn: 0.2099124\ttest: 0.1162356\tbest: 0.1162356 (295)\ttotal: 18.2s\tremaining: 1m 45s\n",
            "296:\tlearn: 0.2098160\ttest: 0.1162106\tbest: 0.1162106 (296)\ttotal: 18.3s\tremaining: 1m 44s\n",
            "297:\tlearn: 0.2096810\ttest: 0.1160842\tbest: 0.1160842 (297)\ttotal: 18.4s\tremaining: 1m 44s\n",
            "298:\tlearn: 0.2095524\ttest: 0.1160740\tbest: 0.1160740 (298)\ttotal: 18.4s\tremaining: 1m 44s\n",
            "299:\tlearn: 0.2093740\ttest: 0.1159334\tbest: 0.1159334 (299)\ttotal: 18.5s\tremaining: 1m 44s\n",
            "300:\tlearn: 0.2092302\ttest: 0.1158031\tbest: 0.1158031 (300)\ttotal: 18.6s\tremaining: 1m 44s\n",
            "301:\tlearn: 0.2091350\ttest: 0.1156042\tbest: 0.1156042 (301)\ttotal: 18.6s\tremaining: 1m 44s\n",
            "302:\tlearn: 0.2088308\ttest: 0.1153781\tbest: 0.1153781 (302)\ttotal: 18.7s\tremaining: 1m 44s\n",
            "303:\tlearn: 0.2087270\ttest: 0.1153680\tbest: 0.1153680 (303)\ttotal: 18.7s\tremaining: 1m 44s\n",
            "304:\tlearn: 0.2086243\ttest: 0.1153926\tbest: 0.1153680 (303)\ttotal: 18.8s\tremaining: 1m 44s\n",
            "305:\tlearn: 0.2083328\ttest: 0.1153307\tbest: 0.1153307 (305)\ttotal: 18.9s\tremaining: 1m 44s\n",
            "306:\tlearn: 0.2082311\ttest: 0.1152906\tbest: 0.1152906 (306)\ttotal: 18.9s\tremaining: 1m 44s\n",
            "307:\tlearn: 0.2081214\ttest: 0.1153211\tbest: 0.1152906 (306)\ttotal: 19s\tremaining: 1m 44s\n",
            "308:\tlearn: 0.2080092\ttest: 0.1153573\tbest: 0.1152906 (306)\ttotal: 19s\tremaining: 1m 44s\n",
            "309:\tlearn: 0.2079030\ttest: 0.1153258\tbest: 0.1152906 (306)\ttotal: 19.1s\tremaining: 1m 44s\n",
            "310:\tlearn: 0.2078077\ttest: 0.1153091\tbest: 0.1152906 (306)\ttotal: 19.2s\tremaining: 1m 44s\n",
            "311:\tlearn: 0.2076982\ttest: 0.1152830\tbest: 0.1152830 (311)\ttotal: 19.2s\tremaining: 1m 44s\n",
            "312:\tlearn: 0.2076221\ttest: 0.1152550\tbest: 0.1152550 (312)\ttotal: 19.3s\tremaining: 1m 43s\n",
            "313:\tlearn: 0.2075153\ttest: 0.1152498\tbest: 0.1152498 (313)\ttotal: 19.3s\tremaining: 1m 43s\n",
            "314:\tlearn: 0.2074366\ttest: 0.1152050\tbest: 0.1152050 (314)\ttotal: 19.4s\tremaining: 1m 43s\n",
            "315:\tlearn: 0.2073513\ttest: 0.1152253\tbest: 0.1152050 (314)\ttotal: 19.5s\tremaining: 1m 43s\n",
            "316:\tlearn: 0.2072514\ttest: 0.1152162\tbest: 0.1152050 (314)\ttotal: 19.5s\tremaining: 1m 43s\n",
            "317:\tlearn: 0.2070772\ttest: 0.1151638\tbest: 0.1151638 (317)\ttotal: 19.6s\tremaining: 1m 43s\n",
            "318:\tlearn: 0.2068988\ttest: 0.1151137\tbest: 0.1151137 (318)\ttotal: 19.6s\tremaining: 1m 43s\n",
            "319:\tlearn: 0.2068263\ttest: 0.1150904\tbest: 0.1150904 (319)\ttotal: 19.7s\tremaining: 1m 43s\n",
            "320:\tlearn: 0.2067605\ttest: 0.1150934\tbest: 0.1150904 (319)\ttotal: 19.8s\tremaining: 1m 43s\n",
            "321:\tlearn: 0.2066736\ttest: 0.1150727\tbest: 0.1150727 (321)\ttotal: 19.8s\tremaining: 1m 43s\n",
            "322:\tlearn: 0.2065968\ttest: 0.1150966\tbest: 0.1150727 (321)\ttotal: 19.9s\tremaining: 1m 43s\n",
            "323:\tlearn: 0.2064644\ttest: 0.1151422\tbest: 0.1150727 (321)\ttotal: 19.9s\tremaining: 1m 43s\n",
            "324:\tlearn: 0.2063963\ttest: 0.1151282\tbest: 0.1150727 (321)\ttotal: 20s\tremaining: 1m 43s\n",
            "325:\tlearn: 0.2063224\ttest: 0.1151351\tbest: 0.1150727 (321)\ttotal: 20.1s\tremaining: 1m 43s\n",
            "326:\tlearn: 0.2062404\ttest: 0.1151225\tbest: 0.1150727 (321)\ttotal: 20.1s\tremaining: 1m 43s\n",
            "327:\tlearn: 0.2061746\ttest: 0.1151183\tbest: 0.1150727 (321)\ttotal: 20.2s\tremaining: 1m 42s\n",
            "328:\tlearn: 0.2060975\ttest: 0.1151737\tbest: 0.1150727 (321)\ttotal: 20.2s\tremaining: 1m 42s\n",
            "329:\tlearn: 0.2060323\ttest: 0.1151804\tbest: 0.1150727 (321)\ttotal: 20.3s\tremaining: 1m 42s\n",
            "330:\tlearn: 0.2059911\ttest: 0.1151831\tbest: 0.1150727 (321)\ttotal: 20.4s\tremaining: 1m 42s\n",
            "331:\tlearn: 0.2059156\ttest: 0.1151901\tbest: 0.1150727 (321)\ttotal: 20.4s\tremaining: 1m 42s\n",
            "332:\tlearn: 0.2057777\ttest: 0.1151543\tbest: 0.1150727 (321)\ttotal: 20.5s\tremaining: 1m 42s\n",
            "333:\tlearn: 0.2056667\ttest: 0.1151323\tbest: 0.1150727 (321)\ttotal: 20.5s\tremaining: 1m 42s\n",
            "334:\tlearn: 0.2055595\ttest: 0.1151388\tbest: 0.1150727 (321)\ttotal: 20.6s\tremaining: 1m 42s\n",
            "335:\tlearn: 0.2054911\ttest: 0.1151443\tbest: 0.1150727 (321)\ttotal: 20.7s\tremaining: 1m 42s\n",
            "336:\tlearn: 0.2053707\ttest: 0.1150470\tbest: 0.1150470 (336)\ttotal: 20.7s\tremaining: 1m 42s\n",
            "337:\tlearn: 0.2053188\ttest: 0.1149873\tbest: 0.1149873 (337)\ttotal: 20.8s\tremaining: 1m 42s\n",
            "338:\tlearn: 0.2052052\ttest: 0.1149743\tbest: 0.1149743 (338)\ttotal: 20.9s\tremaining: 1m 42s\n",
            "339:\tlearn: 0.2050948\ttest: 0.1148913\tbest: 0.1148913 (339)\ttotal: 20.9s\tremaining: 1m 42s\n",
            "340:\tlearn: 0.2050265\ttest: 0.1148672\tbest: 0.1148672 (340)\ttotal: 21s\tremaining: 1m 42s\n",
            "341:\tlearn: 0.2049258\ttest: 0.1148456\tbest: 0.1148456 (341)\ttotal: 21.1s\tremaining: 1m 42s\n",
            "342:\tlearn: 0.2047161\ttest: 0.1146358\tbest: 0.1146358 (342)\ttotal: 21.2s\tremaining: 1m 42s\n",
            "343:\tlearn: 0.2046194\ttest: 0.1146271\tbest: 0.1146271 (343)\ttotal: 21.2s\tremaining: 1m 42s\n",
            "344:\tlearn: 0.2045456\ttest: 0.1146244\tbest: 0.1146244 (344)\ttotal: 21.3s\tremaining: 1m 42s\n",
            "345:\tlearn: 0.2044497\ttest: 0.1146116\tbest: 0.1146116 (345)\ttotal: 21.3s\tremaining: 1m 41s\n",
            "346:\tlearn: 0.2043890\ttest: 0.1146175\tbest: 0.1146116 (345)\ttotal: 21.4s\tremaining: 1m 41s\n",
            "347:\tlearn: 0.2042947\ttest: 0.1146414\tbest: 0.1146116 (345)\ttotal: 21.5s\tremaining: 1m 41s\n",
            "348:\tlearn: 0.2042240\ttest: 0.1146253\tbest: 0.1146116 (345)\ttotal: 21.5s\tremaining: 1m 41s\n",
            "349:\tlearn: 0.2041381\ttest: 0.1146170\tbest: 0.1146116 (345)\ttotal: 21.6s\tremaining: 1m 41s\n",
            "350:\tlearn: 0.2040366\ttest: 0.1145896\tbest: 0.1145896 (350)\ttotal: 21.6s\tremaining: 1m 41s\n",
            "351:\tlearn: 0.2039745\ttest: 0.1145836\tbest: 0.1145836 (351)\ttotal: 21.7s\tremaining: 1m 41s\n",
            "352:\tlearn: 0.2038388\ttest: 0.1145830\tbest: 0.1145830 (352)\ttotal: 21.8s\tremaining: 1m 41s\n",
            "353:\tlearn: 0.2036635\ttest: 0.1145179\tbest: 0.1145179 (353)\ttotal: 21.8s\tremaining: 1m 41s\n",
            "354:\tlearn: 0.2036015\ttest: 0.1145124\tbest: 0.1145124 (354)\ttotal: 21.9s\tremaining: 1m 41s\n",
            "355:\tlearn: 0.2035284\ttest: 0.1144567\tbest: 0.1144567 (355)\ttotal: 21.9s\tremaining: 1m 41s\n",
            "356:\tlearn: 0.2034440\ttest: 0.1144375\tbest: 0.1144375 (356)\ttotal: 22s\tremaining: 1m 41s\n",
            "357:\tlearn: 0.2033853\ttest: 0.1143808\tbest: 0.1143808 (357)\ttotal: 22.1s\tremaining: 1m 41s\n",
            "358:\tlearn: 0.2032846\ttest: 0.1142754\tbest: 0.1142754 (358)\ttotal: 22.1s\tremaining: 1m 41s\n",
            "359:\tlearn: 0.2031331\ttest: 0.1142229\tbest: 0.1142229 (359)\ttotal: 22.2s\tremaining: 1m 41s\n",
            "360:\tlearn: 0.2030803\ttest: 0.1142149\tbest: 0.1142149 (360)\ttotal: 22.2s\tremaining: 1m 40s\n",
            "361:\tlearn: 0.2029898\ttest: 0.1141645\tbest: 0.1141645 (361)\ttotal: 22.3s\tremaining: 1m 40s\n",
            "362:\tlearn: 0.2028587\ttest: 0.1141641\tbest: 0.1141641 (362)\ttotal: 22.4s\tremaining: 1m 40s\n",
            "363:\tlearn: 0.2027873\ttest: 0.1141484\tbest: 0.1141484 (363)\ttotal: 22.4s\tremaining: 1m 40s\n",
            "364:\tlearn: 0.2026892\ttest: 0.1141448\tbest: 0.1141448 (364)\ttotal: 22.5s\tremaining: 1m 40s\n",
            "365:\tlearn: 0.2026088\ttest: 0.1141245\tbest: 0.1141245 (365)\ttotal: 22.5s\tremaining: 1m 40s\n",
            "366:\tlearn: 0.2025247\ttest: 0.1141193\tbest: 0.1141193 (366)\ttotal: 22.6s\tremaining: 1m 40s\n",
            "367:\tlearn: 0.2024560\ttest: 0.1141086\tbest: 0.1141086 (367)\ttotal: 22.7s\tremaining: 1m 40s\n",
            "368:\tlearn: 0.2023856\ttest: 0.1141026\tbest: 0.1141026 (368)\ttotal: 22.7s\tremaining: 1m 40s\n",
            "369:\tlearn: 0.2023415\ttest: 0.1140936\tbest: 0.1140936 (369)\ttotal: 22.8s\tremaining: 1m 40s\n",
            "370:\tlearn: 0.2022742\ttest: 0.1140826\tbest: 0.1140826 (370)\ttotal: 22.8s\tremaining: 1m 40s\n",
            "371:\tlearn: 0.2021680\ttest: 0.1140897\tbest: 0.1140826 (370)\ttotal: 22.9s\tremaining: 1m 40s\n",
            "372:\tlearn: 0.2020927\ttest: 0.1140044\tbest: 0.1140044 (372)\ttotal: 23s\tremaining: 1m 40s\n",
            "373:\tlearn: 0.2020257\ttest: 0.1139893\tbest: 0.1139893 (373)\ttotal: 23s\tremaining: 1m 40s\n",
            "374:\tlearn: 0.2019485\ttest: 0.1139706\tbest: 0.1139706 (374)\ttotal: 23.1s\tremaining: 1m 40s\n",
            "375:\tlearn: 0.2018628\ttest: 0.1139353\tbest: 0.1139353 (375)\ttotal: 23.2s\tremaining: 1m 40s\n",
            "376:\tlearn: 0.2017836\ttest: 0.1139272\tbest: 0.1139272 (376)\ttotal: 23.2s\tremaining: 1m 39s\n",
            "377:\tlearn: 0.2017331\ttest: 0.1139195\tbest: 0.1139195 (377)\ttotal: 23.3s\tremaining: 1m 39s\n",
            "378:\tlearn: 0.2016417\ttest: 0.1139065\tbest: 0.1139065 (378)\ttotal: 23.3s\tremaining: 1m 39s\n",
            "379:\tlearn: 0.2015280\ttest: 0.1138361\tbest: 0.1138361 (379)\ttotal: 23.4s\tremaining: 1m 39s\n",
            "380:\tlearn: 0.2014493\ttest: 0.1138325\tbest: 0.1138325 (380)\ttotal: 23.5s\tremaining: 1m 39s\n",
            "381:\tlearn: 0.2013871\ttest: 0.1138420\tbest: 0.1138325 (380)\ttotal: 23.5s\tremaining: 1m 39s\n",
            "382:\tlearn: 0.2013324\ttest: 0.1138962\tbest: 0.1138325 (380)\ttotal: 23.6s\tremaining: 1m 39s\n",
            "383:\tlearn: 0.2012626\ttest: 0.1138414\tbest: 0.1138325 (380)\ttotal: 23.6s\tremaining: 1m 39s\n",
            "384:\tlearn: 0.2011490\ttest: 0.1138128\tbest: 0.1138128 (384)\ttotal: 23.7s\tremaining: 1m 39s\n",
            "385:\tlearn: 0.2009918\ttest: 0.1137153\tbest: 0.1137153 (385)\ttotal: 23.8s\tremaining: 1m 39s\n",
            "386:\tlearn: 0.2009047\ttest: 0.1137050\tbest: 0.1137050 (386)\ttotal: 23.8s\tremaining: 1m 39s\n",
            "387:\tlearn: 0.2008157\ttest: 0.1136700\tbest: 0.1136700 (387)\ttotal: 23.9s\tremaining: 1m 39s\n",
            "388:\tlearn: 0.2007450\ttest: 0.1136553\tbest: 0.1136553 (388)\ttotal: 23.9s\tremaining: 1m 39s\n",
            "389:\tlearn: 0.2006493\ttest: 0.1135819\tbest: 0.1135819 (389)\ttotal: 24s\tremaining: 1m 39s\n",
            "390:\tlearn: 0.2005621\ttest: 0.1135249\tbest: 0.1135249 (390)\ttotal: 24.1s\tremaining: 1m 39s\n",
            "391:\tlearn: 0.2004952\ttest: 0.1135089\tbest: 0.1135089 (391)\ttotal: 24.1s\tremaining: 1m 38s\n",
            "392:\tlearn: 0.2004106\ttest: 0.1134876\tbest: 0.1134876 (392)\ttotal: 24.2s\tremaining: 1m 38s\n",
            "393:\tlearn: 0.2002879\ttest: 0.1134597\tbest: 0.1134597 (393)\ttotal: 24.2s\tremaining: 1m 38s\n",
            "394:\tlearn: 0.2002348\ttest: 0.1134458\tbest: 0.1134458 (394)\ttotal: 24.3s\tremaining: 1m 38s\n",
            "395:\tlearn: 0.2001678\ttest: 0.1134093\tbest: 0.1134093 (395)\ttotal: 24.4s\tremaining: 1m 38s\n",
            "396:\tlearn: 0.2000892\ttest: 0.1134102\tbest: 0.1134093 (395)\ttotal: 24.4s\tremaining: 1m 38s\n",
            "397:\tlearn: 0.2000088\ttest: 0.1133904\tbest: 0.1133904 (397)\ttotal: 24.5s\tremaining: 1m 38s\n",
            "398:\tlearn: 0.1998892\ttest: 0.1133548\tbest: 0.1133548 (398)\ttotal: 24.5s\tremaining: 1m 38s\n",
            "399:\tlearn: 0.1997811\ttest: 0.1133344\tbest: 0.1133344 (399)\ttotal: 24.6s\tremaining: 1m 38s\n",
            "400:\tlearn: 0.1996478\ttest: 0.1133047\tbest: 0.1133047 (400)\ttotal: 24.7s\tremaining: 1m 38s\n",
            "401:\tlearn: 0.1995645\ttest: 0.1132392\tbest: 0.1132392 (401)\ttotal: 24.7s\tremaining: 1m 38s\n",
            "402:\tlearn: 0.1994849\ttest: 0.1132242\tbest: 0.1132242 (402)\ttotal: 24.8s\tremaining: 1m 38s\n",
            "403:\tlearn: 0.1994151\ttest: 0.1131733\tbest: 0.1131733 (403)\ttotal: 24.8s\tremaining: 1m 38s\n",
            "404:\tlearn: 0.1993338\ttest: 0.1131474\tbest: 0.1131474 (404)\ttotal: 24.9s\tremaining: 1m 38s\n",
            "405:\tlearn: 0.1992798\ttest: 0.1131561\tbest: 0.1131474 (404)\ttotal: 25s\tremaining: 1m 38s\n",
            "406:\tlearn: 0.1992022\ttest: 0.1131556\tbest: 0.1131474 (404)\ttotal: 25s\tremaining: 1m 37s\n",
            "407:\tlearn: 0.1990902\ttest: 0.1131012\tbest: 0.1131012 (407)\ttotal: 25.1s\tremaining: 1m 37s\n",
            "408:\tlearn: 0.1990010\ttest: 0.1130974\tbest: 0.1130974 (408)\ttotal: 25.1s\tremaining: 1m 37s\n",
            "409:\tlearn: 0.1989243\ttest: 0.1130670\tbest: 0.1130670 (409)\ttotal: 25.2s\tremaining: 1m 37s\n",
            "410:\tlearn: 0.1988674\ttest: 0.1130571\tbest: 0.1130571 (410)\ttotal: 25.3s\tremaining: 1m 37s\n",
            "411:\tlearn: 0.1987780\ttest: 0.1130507\tbest: 0.1130507 (411)\ttotal: 25.3s\tremaining: 1m 37s\n",
            "412:\tlearn: 0.1987035\ttest: 0.1130548\tbest: 0.1130507 (411)\ttotal: 25.4s\tremaining: 1m 37s\n",
            "413:\tlearn: 0.1985779\ttest: 0.1129548\tbest: 0.1129548 (413)\ttotal: 25.5s\tremaining: 1m 37s\n",
            "414:\tlearn: 0.1985203\ttest: 0.1129499\tbest: 0.1129499 (414)\ttotal: 25.5s\tremaining: 1m 37s\n",
            "415:\tlearn: 0.1984174\ttest: 0.1128898\tbest: 0.1128898 (415)\ttotal: 25.6s\tremaining: 1m 37s\n",
            "416:\tlearn: 0.1983124\ttest: 0.1128416\tbest: 0.1128416 (416)\ttotal: 25.6s\tremaining: 1m 37s\n",
            "417:\tlearn: 0.1982237\ttest: 0.1128150\tbest: 0.1128150 (417)\ttotal: 25.7s\tremaining: 1m 37s\n",
            "418:\tlearn: 0.1981622\ttest: 0.1127658\tbest: 0.1127658 (418)\ttotal: 25.8s\tremaining: 1m 37s\n",
            "419:\tlearn: 0.1980921\ttest: 0.1127213\tbest: 0.1127213 (419)\ttotal: 25.8s\tremaining: 1m 37s\n",
            "420:\tlearn: 0.1979623\ttest: 0.1127025\tbest: 0.1127025 (420)\ttotal: 25.9s\tremaining: 1m 37s\n",
            "421:\tlearn: 0.1978755\ttest: 0.1126662\tbest: 0.1126662 (421)\ttotal: 25.9s\tremaining: 1m 36s\n",
            "422:\tlearn: 0.1977731\ttest: 0.1126571\tbest: 0.1126571 (422)\ttotal: 26s\tremaining: 1m 36s\n",
            "423:\tlearn: 0.1976910\ttest: 0.1126385\tbest: 0.1126385 (423)\ttotal: 26.1s\tremaining: 1m 36s\n",
            "424:\tlearn: 0.1975955\ttest: 0.1126019\tbest: 0.1126019 (424)\ttotal: 26.1s\tremaining: 1m 36s\n",
            "425:\tlearn: 0.1974835\ttest: 0.1125745\tbest: 0.1125745 (425)\ttotal: 26.2s\tremaining: 1m 36s\n",
            "426:\tlearn: 0.1974249\ttest: 0.1125542\tbest: 0.1125542 (426)\ttotal: 26.2s\tremaining: 1m 36s\n",
            "427:\tlearn: 0.1973689\ttest: 0.1125468\tbest: 0.1125468 (427)\ttotal: 26.3s\tremaining: 1m 36s\n",
            "428:\tlearn: 0.1972914\ttest: 0.1125670\tbest: 0.1125468 (427)\ttotal: 26.4s\tremaining: 1m 36s\n",
            "429:\tlearn: 0.1972202\ttest: 0.1125632\tbest: 0.1125468 (427)\ttotal: 26.4s\tremaining: 1m 36s\n",
            "430:\tlearn: 0.1971473\ttest: 0.1125315\tbest: 0.1125315 (430)\ttotal: 26.5s\tremaining: 1m 36s\n",
            "431:\tlearn: 0.1970776\ttest: 0.1125352\tbest: 0.1125315 (430)\ttotal: 26.5s\tremaining: 1m 36s\n",
            "432:\tlearn: 0.1969830\ttest: 0.1125098\tbest: 0.1125098 (432)\ttotal: 26.6s\tremaining: 1m 36s\n",
            "433:\tlearn: 0.1969023\ttest: 0.1124777\tbest: 0.1124777 (433)\ttotal: 26.7s\tremaining: 1m 36s\n",
            "434:\tlearn: 0.1968011\ttest: 0.1124505\tbest: 0.1124505 (434)\ttotal: 26.7s\tremaining: 1m 36s\n",
            "435:\tlearn: 0.1967404\ttest: 0.1123850\tbest: 0.1123850 (435)\ttotal: 26.8s\tremaining: 1m 36s\n",
            "436:\tlearn: 0.1966828\ttest: 0.1123760\tbest: 0.1123760 (436)\ttotal: 26.8s\tremaining: 1m 36s\n",
            "437:\tlearn: 0.1965998\ttest: 0.1123175\tbest: 0.1123175 (437)\ttotal: 26.9s\tremaining: 1m 35s\n",
            "438:\tlearn: 0.1964999\ttest: 0.1123025\tbest: 0.1123025 (438)\ttotal: 27s\tremaining: 1m 35s\n",
            "439:\tlearn: 0.1964535\ttest: 0.1123004\tbest: 0.1123004 (439)\ttotal: 27s\tremaining: 1m 35s\n",
            "440:\tlearn: 0.1963888\ttest: 0.1122866\tbest: 0.1122866 (440)\ttotal: 27.1s\tremaining: 1m 35s\n",
            "441:\tlearn: 0.1963405\ttest: 0.1122746\tbest: 0.1122746 (441)\ttotal: 27.2s\tremaining: 1m 35s\n",
            "442:\tlearn: 0.1961818\ttest: 0.1122191\tbest: 0.1122191 (442)\ttotal: 27.2s\tremaining: 1m 35s\n",
            "443:\tlearn: 0.1961207\ttest: 0.1121713\tbest: 0.1121713 (443)\ttotal: 27.3s\tremaining: 1m 35s\n",
            "444:\tlearn: 0.1960660\ttest: 0.1121765\tbest: 0.1121713 (443)\ttotal: 27.3s\tremaining: 1m 35s\n",
            "445:\tlearn: 0.1960104\ttest: 0.1121729\tbest: 0.1121713 (443)\ttotal: 27.4s\tremaining: 1m 35s\n",
            "446:\tlearn: 0.1959461\ttest: 0.1121545\tbest: 0.1121545 (446)\ttotal: 27.5s\tremaining: 1m 35s\n",
            "447:\tlearn: 0.1958841\ttest: 0.1121351\tbest: 0.1121351 (447)\ttotal: 27.5s\tremaining: 1m 35s\n",
            "448:\tlearn: 0.1958390\ttest: 0.1121187\tbest: 0.1121187 (448)\ttotal: 27.6s\tremaining: 1m 35s\n",
            "449:\tlearn: 0.1957922\ttest: 0.1121158\tbest: 0.1121158 (449)\ttotal: 27.6s\tremaining: 1m 35s\n",
            "450:\tlearn: 0.1957175\ttest: 0.1121044\tbest: 0.1121044 (450)\ttotal: 27.7s\tremaining: 1m 35s\n",
            "451:\tlearn: 0.1956741\ttest: 0.1120951\tbest: 0.1120951 (451)\ttotal: 27.8s\tremaining: 1m 35s\n",
            "452:\tlearn: 0.1955141\ttest: 0.1120139\tbest: 0.1120139 (452)\ttotal: 27.8s\tremaining: 1m 35s\n",
            "453:\tlearn: 0.1954447\ttest: 0.1120099\tbest: 0.1120099 (453)\ttotal: 27.9s\tremaining: 1m 34s\n",
            "454:\tlearn: 0.1953766\ttest: 0.1119928\tbest: 0.1119928 (454)\ttotal: 28s\tremaining: 1m 34s\n",
            "455:\tlearn: 0.1952891\ttest: 0.1120112\tbest: 0.1119928 (454)\ttotal: 28s\tremaining: 1m 34s\n",
            "456:\tlearn: 0.1952305\ttest: 0.1119946\tbest: 0.1119928 (454)\ttotal: 28.1s\tremaining: 1m 34s\n",
            "457:\tlearn: 0.1951538\ttest: 0.1119801\tbest: 0.1119801 (457)\ttotal: 28.1s\tremaining: 1m 34s\n",
            "458:\tlearn: 0.1949777\ttest: 0.1117931\tbest: 0.1117931 (458)\ttotal: 28.2s\tremaining: 1m 34s\n",
            "459:\tlearn: 0.1949144\ttest: 0.1118240\tbest: 0.1117931 (458)\ttotal: 28.3s\tremaining: 1m 34s\n",
            "460:\tlearn: 0.1948075\ttest: 0.1118328\tbest: 0.1117931 (458)\ttotal: 28.3s\tremaining: 1m 34s\n",
            "461:\tlearn: 0.1947395\ttest: 0.1117704\tbest: 0.1117704 (461)\ttotal: 28.4s\tremaining: 1m 34s\n",
            "462:\tlearn: 0.1946499\ttest: 0.1117518\tbest: 0.1117518 (462)\ttotal: 28.4s\tremaining: 1m 34s\n",
            "463:\tlearn: 0.1945893\ttest: 0.1116723\tbest: 0.1116723 (463)\ttotal: 28.5s\tremaining: 1m 34s\n",
            "464:\tlearn: 0.1945228\ttest: 0.1116592\tbest: 0.1116592 (464)\ttotal: 28.6s\tremaining: 1m 34s\n",
            "465:\tlearn: 0.1944554\ttest: 0.1115919\tbest: 0.1115919 (465)\ttotal: 28.6s\tremaining: 1m 34s\n",
            "466:\tlearn: 0.1943832\ttest: 0.1115827\tbest: 0.1115827 (466)\ttotal: 28.7s\tremaining: 1m 34s\n",
            "467:\tlearn: 0.1943074\ttest: 0.1115949\tbest: 0.1115827 (466)\ttotal: 28.7s\tremaining: 1m 34s\n",
            "468:\tlearn: 0.1942297\ttest: 0.1115808\tbest: 0.1115808 (468)\ttotal: 28.8s\tremaining: 1m 34s\n",
            "469:\tlearn: 0.1941546\ttest: 0.1115671\tbest: 0.1115671 (469)\ttotal: 28.9s\tremaining: 1m 33s\n",
            "470:\tlearn: 0.1940938\ttest: 0.1115124\tbest: 0.1115124 (470)\ttotal: 28.9s\tremaining: 1m 33s\n",
            "471:\tlearn: 0.1940169\ttest: 0.1115259\tbest: 0.1115124 (470)\ttotal: 29s\tremaining: 1m 33s\n",
            "472:\tlearn: 0.1939644\ttest: 0.1115091\tbest: 0.1115091 (472)\ttotal: 29.1s\tremaining: 1m 33s\n",
            "473:\tlearn: 0.1939203\ttest: 0.1115123\tbest: 0.1115091 (472)\ttotal: 29.1s\tremaining: 1m 33s\n",
            "474:\tlearn: 0.1938711\ttest: 0.1115047\tbest: 0.1115047 (474)\ttotal: 29.2s\tremaining: 1m 33s\n",
            "475:\tlearn: 0.1938025\ttest: 0.1114806\tbest: 0.1114806 (475)\ttotal: 29.3s\tremaining: 1m 33s\n",
            "476:\tlearn: 0.1937233\ttest: 0.1114601\tbest: 0.1114601 (476)\ttotal: 29.3s\tremaining: 1m 33s\n",
            "477:\tlearn: 0.1936562\ttest: 0.1114485\tbest: 0.1114485 (477)\ttotal: 29.4s\tremaining: 1m 33s\n",
            "478:\tlearn: 0.1936044\ttest: 0.1114421\tbest: 0.1114421 (478)\ttotal: 29.4s\tremaining: 1m 33s\n",
            "479:\tlearn: 0.1935329\ttest: 0.1114422\tbest: 0.1114421 (478)\ttotal: 29.5s\tremaining: 1m 33s\n",
            "480:\tlearn: 0.1934711\ttest: 0.1114421\tbest: 0.1114421 (480)\ttotal: 29.5s\tremaining: 1m 33s\n",
            "481:\tlearn: 0.1934218\ttest: 0.1114619\tbest: 0.1114421 (480)\ttotal: 29.6s\tremaining: 1m 33s\n",
            "482:\tlearn: 0.1933373\ttest: 0.1114429\tbest: 0.1114421 (480)\ttotal: 29.7s\tremaining: 1m 33s\n",
            "483:\tlearn: 0.1932781\ttest: 0.1114322\tbest: 0.1114322 (483)\ttotal: 29.7s\tremaining: 1m 33s\n",
            "484:\tlearn: 0.1932246\ttest: 0.1114250\tbest: 0.1114250 (484)\ttotal: 29.8s\tremaining: 1m 33s\n",
            "485:\tlearn: 0.1931595\ttest: 0.1113993\tbest: 0.1113993 (485)\ttotal: 29.8s\tremaining: 1m 32s\n",
            "486:\tlearn: 0.1931048\ttest: 0.1113846\tbest: 0.1113846 (486)\ttotal: 29.9s\tremaining: 1m 32s\n",
            "487:\tlearn: 0.1930453\ttest: 0.1113917\tbest: 0.1113846 (486)\ttotal: 30s\tremaining: 1m 32s\n",
            "488:\tlearn: 0.1929973\ttest: 0.1113827\tbest: 0.1113827 (488)\ttotal: 30s\tremaining: 1m 32s\n",
            "489:\tlearn: 0.1929166\ttest: 0.1113767\tbest: 0.1113767 (489)\ttotal: 30.1s\tremaining: 1m 32s\n",
            "490:\tlearn: 0.1928489\ttest: 0.1113076\tbest: 0.1113076 (490)\ttotal: 30.2s\tremaining: 1m 32s\n",
            "491:\tlearn: 0.1927840\ttest: 0.1112942\tbest: 0.1112942 (491)\ttotal: 30.2s\tremaining: 1m 32s\n",
            "492:\tlearn: 0.1927332\ttest: 0.1112869\tbest: 0.1112869 (492)\ttotal: 30.3s\tremaining: 1m 32s\n",
            "493:\tlearn: 0.1926815\ttest: 0.1112740\tbest: 0.1112740 (493)\ttotal: 30.3s\tremaining: 1m 32s\n",
            "494:\tlearn: 0.1926261\ttest: 0.1112667\tbest: 0.1112667 (494)\ttotal: 30.4s\tremaining: 1m 32s\n",
            "495:\tlearn: 0.1925375\ttest: 0.1112413\tbest: 0.1112413 (495)\ttotal: 30.5s\tremaining: 1m 32s\n",
            "496:\tlearn: 0.1924822\ttest: 0.1112307\tbest: 0.1112307 (496)\ttotal: 30.5s\tremaining: 1m 32s\n",
            "497:\tlearn: 0.1924267\ttest: 0.1112302\tbest: 0.1112302 (497)\ttotal: 30.6s\tremaining: 1m 32s\n",
            "498:\tlearn: 0.1923672\ttest: 0.1111852\tbest: 0.1111852 (498)\ttotal: 30.6s\tremaining: 1m 32s\n",
            "499:\tlearn: 0.1923146\ttest: 0.1111834\tbest: 0.1111834 (499)\ttotal: 30.7s\tremaining: 1m 32s\n",
            "500:\tlearn: 0.1922509\ttest: 0.1111485\tbest: 0.1111485 (500)\ttotal: 30.8s\tremaining: 1m 32s\n",
            "501:\tlearn: 0.1921888\ttest: 0.1111309\tbest: 0.1111309 (501)\ttotal: 30.8s\tremaining: 1m 31s\n",
            "502:\tlearn: 0.1921530\ttest: 0.1111290\tbest: 0.1111290 (502)\ttotal: 30.9s\tremaining: 1m 31s\n",
            "503:\tlearn: 0.1920980\ttest: 0.1111269\tbest: 0.1111269 (503)\ttotal: 30.9s\tremaining: 1m 31s\n",
            "504:\tlearn: 0.1920203\ttest: 0.1111108\tbest: 0.1111108 (504)\ttotal: 31s\tremaining: 1m 31s\n",
            "505:\tlearn: 0.1919372\ttest: 0.1111157\tbest: 0.1111108 (504)\ttotal: 31.1s\tremaining: 1m 31s\n",
            "506:\tlearn: 0.1918731\ttest: 0.1111055\tbest: 0.1111055 (506)\ttotal: 31.1s\tremaining: 1m 31s\n",
            "507:\tlearn: 0.1918285\ttest: 0.1110967\tbest: 0.1110967 (507)\ttotal: 31.2s\tremaining: 1m 31s\n",
            "508:\tlearn: 0.1917513\ttest: 0.1110412\tbest: 0.1110412 (508)\ttotal: 31.3s\tremaining: 1m 31s\n",
            "509:\tlearn: 0.1915800\ttest: 0.1109936\tbest: 0.1109936 (509)\ttotal: 31.3s\tremaining: 1m 31s\n",
            "510:\tlearn: 0.1915193\ttest: 0.1110006\tbest: 0.1109936 (509)\ttotal: 31.4s\tremaining: 1m 31s\n",
            "511:\tlearn: 0.1914444\ttest: 0.1109823\tbest: 0.1109823 (511)\ttotal: 31.5s\tremaining: 1m 31s\n",
            "512:\tlearn: 0.1913905\ttest: 0.1109648\tbest: 0.1109648 (512)\ttotal: 31.5s\tremaining: 1m 31s\n",
            "513:\tlearn: 0.1913240\ttest: 0.1109466\tbest: 0.1109466 (513)\ttotal: 31.6s\tremaining: 1m 31s\n",
            "514:\tlearn: 0.1912478\ttest: 0.1109190\tbest: 0.1109190 (514)\ttotal: 31.6s\tremaining: 1m 31s\n",
            "515:\tlearn: 0.1911582\ttest: 0.1108752\tbest: 0.1108752 (515)\ttotal: 31.7s\tremaining: 1m 31s\n",
            "516:\tlearn: 0.1910000\ttest: 0.1106867\tbest: 0.1106867 (516)\ttotal: 31.8s\tremaining: 1m 31s\n",
            "517:\tlearn: 0.1909426\ttest: 0.1106752\tbest: 0.1106752 (517)\ttotal: 31.8s\tremaining: 1m 31s\n",
            "518:\tlearn: 0.1909006\ttest: 0.1106373\tbest: 0.1106373 (518)\ttotal: 31.9s\tremaining: 1m 30s\n",
            "519:\tlearn: 0.1908235\ttest: 0.1106278\tbest: 0.1106278 (519)\ttotal: 31.9s\tremaining: 1m 30s\n",
            "520:\tlearn: 0.1907744\ttest: 0.1105728\tbest: 0.1105728 (520)\ttotal: 32s\tremaining: 1m 30s\n",
            "521:\tlearn: 0.1907164\ttest: 0.1105890\tbest: 0.1105728 (520)\ttotal: 32.1s\tremaining: 1m 30s\n",
            "522:\tlearn: 0.1906332\ttest: 0.1105376\tbest: 0.1105376 (522)\ttotal: 32.1s\tremaining: 1m 30s\n",
            "523:\tlearn: 0.1905855\ttest: 0.1104877\tbest: 0.1104877 (523)\ttotal: 32.2s\tremaining: 1m 30s\n",
            "524:\tlearn: 0.1905249\ttest: 0.1104599\tbest: 0.1104599 (524)\ttotal: 32.2s\tremaining: 1m 30s\n",
            "525:\tlearn: 0.1904840\ttest: 0.1104635\tbest: 0.1104599 (524)\ttotal: 32.3s\tremaining: 1m 30s\n",
            "526:\tlearn: 0.1904258\ttest: 0.1104646\tbest: 0.1104599 (524)\ttotal: 32.4s\tremaining: 1m 30s\n",
            "527:\tlearn: 0.1903649\ttest: 0.1104852\tbest: 0.1104599 (524)\ttotal: 32.4s\tremaining: 1m 30s\n",
            "528:\tlearn: 0.1903099\ttest: 0.1105234\tbest: 0.1104599 (524)\ttotal: 32.5s\tremaining: 1m 30s\n",
            "529:\tlearn: 0.1902686\ttest: 0.1105185\tbest: 0.1104599 (524)\ttotal: 32.5s\tremaining: 1m 30s\n",
            "530:\tlearn: 0.1902090\ttest: 0.1105049\tbest: 0.1104599 (524)\ttotal: 32.6s\tremaining: 1m 30s\n",
            "531:\tlearn: 0.1901717\ttest: 0.1104992\tbest: 0.1104599 (524)\ttotal: 32.7s\tremaining: 1m 30s\n",
            "532:\tlearn: 0.1900804\ttest: 0.1105430\tbest: 0.1104599 (524)\ttotal: 32.7s\tremaining: 1m 30s\n",
            "533:\tlearn: 0.1900135\ttest: 0.1105325\tbest: 0.1104599 (524)\ttotal: 32.8s\tremaining: 1m 30s\n",
            "534:\tlearn: 0.1899611\ttest: 0.1104688\tbest: 0.1104599 (524)\ttotal: 32.8s\tremaining: 1m 29s\n",
            "535:\tlearn: 0.1895578\ttest: 0.1097982\tbest: 0.1097982 (535)\ttotal: 32.9s\tremaining: 1m 29s\n",
            "536:\tlearn: 0.1893156\ttest: 0.1095965\tbest: 0.1095965 (536)\ttotal: 33s\tremaining: 1m 29s\n",
            "537:\tlearn: 0.1892669\ttest: 0.1095700\tbest: 0.1095700 (537)\ttotal: 33s\tremaining: 1m 29s\n",
            "538:\tlearn: 0.1892004\ttest: 0.1094469\tbest: 0.1094469 (538)\ttotal: 33.1s\tremaining: 1m 29s\n",
            "539:\tlearn: 0.1891546\ttest: 0.1094491\tbest: 0.1094469 (538)\ttotal: 33.2s\tremaining: 1m 29s\n",
            "540:\tlearn: 0.1890831\ttest: 0.1094596\tbest: 0.1094469 (538)\ttotal: 33.2s\tremaining: 1m 29s\n",
            "541:\tlearn: 0.1890185\ttest: 0.1094534\tbest: 0.1094469 (538)\ttotal: 33.3s\tremaining: 1m 29s\n",
            "542:\tlearn: 0.1889546\ttest: 0.1094623\tbest: 0.1094469 (538)\ttotal: 33.3s\tremaining: 1m 29s\n",
            "543:\tlearn: 0.1888702\ttest: 0.1094445\tbest: 0.1094445 (543)\ttotal: 33.4s\tremaining: 1m 29s\n",
            "544:\tlearn: 0.1888278\ttest: 0.1094403\tbest: 0.1094403 (544)\ttotal: 33.5s\tremaining: 1m 29s\n",
            "545:\tlearn: 0.1887773\ttest: 0.1094437\tbest: 0.1094403 (544)\ttotal: 33.5s\tremaining: 1m 29s\n",
            "546:\tlearn: 0.1886892\ttest: 0.1094156\tbest: 0.1094156 (546)\ttotal: 33.6s\tremaining: 1m 29s\n",
            "547:\tlearn: 0.1886297\ttest: 0.1094059\tbest: 0.1094059 (547)\ttotal: 33.6s\tremaining: 1m 29s\n",
            "548:\tlearn: 0.1885091\ttest: 0.1093921\tbest: 0.1093921 (548)\ttotal: 33.7s\tremaining: 1m 29s\n",
            "549:\tlearn: 0.1884717\ttest: 0.1093838\tbest: 0.1093838 (549)\ttotal: 33.8s\tremaining: 1m 29s\n",
            "550:\tlearn: 0.1884202\ttest: 0.1093857\tbest: 0.1093838 (549)\ttotal: 33.8s\tremaining: 1m 28s\n",
            "551:\tlearn: 0.1883726\ttest: 0.1093824\tbest: 0.1093824 (551)\ttotal: 33.9s\tremaining: 1m 28s\n",
            "552:\tlearn: 0.1882963\ttest: 0.1093278\tbest: 0.1093278 (552)\ttotal: 33.9s\tremaining: 1m 28s\n",
            "553:\tlearn: 0.1882482\ttest: 0.1093145\tbest: 0.1093145 (553)\ttotal: 34s\tremaining: 1m 28s\n",
            "554:\tlearn: 0.1881108\ttest: 0.1092955\tbest: 0.1092955 (554)\ttotal: 34.1s\tremaining: 1m 28s\n",
            "555:\tlearn: 0.1880719\ttest: 0.1092855\tbest: 0.1092855 (555)\ttotal: 34.1s\tremaining: 1m 28s\n",
            "556:\tlearn: 0.1880024\ttest: 0.1092774\tbest: 0.1092774 (556)\ttotal: 34.2s\tremaining: 1m 28s\n",
            "557:\tlearn: 0.1879680\ttest: 0.1092806\tbest: 0.1092774 (556)\ttotal: 34.3s\tremaining: 1m 28s\n",
            "558:\tlearn: 0.1879072\ttest: 0.1092686\tbest: 0.1092686 (558)\ttotal: 34.3s\tremaining: 1m 28s\n",
            "559:\tlearn: 0.1877462\ttest: 0.1092976\tbest: 0.1092686 (558)\ttotal: 34.4s\tremaining: 1m 28s\n",
            "560:\tlearn: 0.1876808\ttest: 0.1092791\tbest: 0.1092686 (558)\ttotal: 34.4s\tremaining: 1m 28s\n",
            "561:\tlearn: 0.1876319\ttest: 0.1092626\tbest: 0.1092626 (561)\ttotal: 34.5s\tremaining: 1m 28s\n",
            "562:\tlearn: 0.1875957\ttest: 0.1092835\tbest: 0.1092626 (561)\ttotal: 34.6s\tremaining: 1m 28s\n",
            "563:\tlearn: 0.1875271\ttest: 0.1092447\tbest: 0.1092447 (563)\ttotal: 34.6s\tremaining: 1m 28s\n",
            "564:\tlearn: 0.1874407\ttest: 0.1091895\tbest: 0.1091895 (564)\ttotal: 34.7s\tremaining: 1m 28s\n",
            "565:\tlearn: 0.1873758\ttest: 0.1091280\tbest: 0.1091280 (565)\ttotal: 34.7s\tremaining: 1m 28s\n",
            "566:\tlearn: 0.1872704\ttest: 0.1091021\tbest: 0.1091021 (566)\ttotal: 34.8s\tremaining: 1m 27s\n",
            "567:\tlearn: 0.1872298\ttest: 0.1090991\tbest: 0.1090991 (567)\ttotal: 34.9s\tremaining: 1m 27s\n",
            "568:\tlearn: 0.1871875\ttest: 0.1090746\tbest: 0.1090746 (568)\ttotal: 34.9s\tremaining: 1m 27s\n",
            "569:\tlearn: 0.1871216\ttest: 0.1091096\tbest: 0.1090746 (568)\ttotal: 35s\tremaining: 1m 27s\n",
            "570:\tlearn: 0.1870515\ttest: 0.1090796\tbest: 0.1090746 (568)\ttotal: 35s\tremaining: 1m 27s\n",
            "571:\tlearn: 0.1870114\ttest: 0.1090705\tbest: 0.1090705 (571)\ttotal: 35.1s\tremaining: 1m 27s\n",
            "572:\tlearn: 0.1869488\ttest: 0.1090539\tbest: 0.1090539 (572)\ttotal: 35.2s\tremaining: 1m 27s\n",
            "573:\tlearn: 0.1868965\ttest: 0.1090412\tbest: 0.1090412 (573)\ttotal: 35.2s\tremaining: 1m 27s\n",
            "574:\tlearn: 0.1868482\ttest: 0.1090528\tbest: 0.1090412 (573)\ttotal: 35.3s\tremaining: 1m 27s\n",
            "575:\tlearn: 0.1868146\ttest: 0.1090494\tbest: 0.1090412 (573)\ttotal: 35.4s\tremaining: 1m 27s\n",
            "576:\tlearn: 0.1867677\ttest: 0.1090435\tbest: 0.1090412 (573)\ttotal: 35.4s\tremaining: 1m 27s\n",
            "577:\tlearn: 0.1867209\ttest: 0.1090358\tbest: 0.1090358 (577)\ttotal: 35.5s\tremaining: 1m 27s\n",
            "578:\tlearn: 0.1866151\ttest: 0.1089729\tbest: 0.1089729 (578)\ttotal: 35.5s\tremaining: 1m 27s\n",
            "579:\tlearn: 0.1865559\ttest: 0.1089329\tbest: 0.1089329 (579)\ttotal: 35.6s\tremaining: 1m 27s\n",
            "580:\tlearn: 0.1864944\ttest: 0.1089137\tbest: 0.1089137 (580)\ttotal: 35.7s\tremaining: 1m 27s\n",
            "581:\tlearn: 0.1864410\ttest: 0.1088450\tbest: 0.1088450 (581)\ttotal: 35.7s\tremaining: 1m 27s\n",
            "582:\tlearn: 0.1863775\ttest: 0.1088419\tbest: 0.1088419 (582)\ttotal: 35.8s\tremaining: 1m 26s\n",
            "583:\tlearn: 0.1863058\ttest: 0.1088463\tbest: 0.1088419 (582)\ttotal: 35.8s\tremaining: 1m 26s\n",
            "584:\tlearn: 0.1862660\ttest: 0.1088411\tbest: 0.1088411 (584)\ttotal: 35.9s\tremaining: 1m 26s\n",
            "585:\tlearn: 0.1861979\ttest: 0.1088613\tbest: 0.1088411 (584)\ttotal: 36s\tremaining: 1m 26s\n",
            "586:\tlearn: 0.1861303\ttest: 0.1088547\tbest: 0.1088411 (584)\ttotal: 36s\tremaining: 1m 26s\n",
            "587:\tlearn: 0.1860816\ttest: 0.1088252\tbest: 0.1088252 (587)\ttotal: 36.1s\tremaining: 1m 26s\n",
            "588:\tlearn: 0.1860242\ttest: 0.1088113\tbest: 0.1088113 (588)\ttotal: 36.1s\tremaining: 1m 26s\n",
            "589:\tlearn: 0.1859600\ttest: 0.1087982\tbest: 0.1087982 (589)\ttotal: 36.2s\tremaining: 1m 26s\n",
            "590:\tlearn: 0.1858268\ttest: 0.1088278\tbest: 0.1087982 (589)\ttotal: 36.3s\tremaining: 1m 26s\n",
            "591:\tlearn: 0.1857598\ttest: 0.1088713\tbest: 0.1087982 (589)\ttotal: 36.3s\tremaining: 1m 26s\n",
            "592:\tlearn: 0.1857135\ttest: 0.1088694\tbest: 0.1087982 (589)\ttotal: 36.4s\tremaining: 1m 26s\n",
            "593:\tlearn: 0.1852781\ttest: 0.1082301\tbest: 0.1082301 (593)\ttotal: 36.5s\tremaining: 1m 26s\n",
            "594:\tlearn: 0.1852418\ttest: 0.1082458\tbest: 0.1082301 (593)\ttotal: 36.5s\tremaining: 1m 26s\n",
            "595:\tlearn: 0.1851543\ttest: 0.1082282\tbest: 0.1082282 (595)\ttotal: 36.6s\tremaining: 1m 26s\n",
            "596:\tlearn: 0.1851092\ttest: 0.1082216\tbest: 0.1082216 (596)\ttotal: 36.6s\tremaining: 1m 26s\n",
            "597:\tlearn: 0.1850289\ttest: 0.1082231\tbest: 0.1082216 (596)\ttotal: 36.7s\tremaining: 1m 26s\n",
            "598:\tlearn: 0.1849862\ttest: 0.1082449\tbest: 0.1082216 (596)\ttotal: 36.7s\tremaining: 1m 25s\n",
            "599:\tlearn: 0.1849219\ttest: 0.1082267\tbest: 0.1082216 (596)\ttotal: 36.8s\tremaining: 1m 25s\n",
            "600:\tlearn: 0.1848538\ttest: 0.1081883\tbest: 0.1081883 (600)\ttotal: 36.9s\tremaining: 1m 25s\n",
            "601:\tlearn: 0.1848033\ttest: 0.1081865\tbest: 0.1081865 (601)\ttotal: 36.9s\tremaining: 1m 25s\n",
            "602:\tlearn: 0.1847588\ttest: 0.1081808\tbest: 0.1081808 (602)\ttotal: 37s\tremaining: 1m 25s\n",
            "603:\tlearn: 0.1846918\ttest: 0.1081678\tbest: 0.1081678 (603)\ttotal: 37s\tremaining: 1m 25s\n",
            "604:\tlearn: 0.1846458\ttest: 0.1081600\tbest: 0.1081600 (604)\ttotal: 37.1s\tremaining: 1m 25s\n",
            "605:\tlearn: 0.1845869\ttest: 0.1081553\tbest: 0.1081553 (605)\ttotal: 37.2s\tremaining: 1m 25s\n",
            "606:\tlearn: 0.1845382\ttest: 0.1081495\tbest: 0.1081495 (606)\ttotal: 37.2s\tremaining: 1m 25s\n",
            "607:\tlearn: 0.1844804\ttest: 0.1081318\tbest: 0.1081318 (607)\ttotal: 37.3s\tremaining: 1m 25s\n",
            "608:\tlearn: 0.1844447\ttest: 0.1081310\tbest: 0.1081310 (608)\ttotal: 37.3s\tremaining: 1m 25s\n",
            "609:\tlearn: 0.1843984\ttest: 0.1081531\tbest: 0.1081310 (608)\ttotal: 37.4s\tremaining: 1m 25s\n",
            "610:\tlearn: 0.1843644\ttest: 0.1081193\tbest: 0.1081193 (610)\ttotal: 37.5s\tremaining: 1m 25s\n",
            "611:\tlearn: 0.1842964\ttest: 0.1081062\tbest: 0.1081062 (611)\ttotal: 37.5s\tremaining: 1m 25s\n",
            "612:\tlearn: 0.1842576\ttest: 0.1080998\tbest: 0.1080998 (612)\ttotal: 37.6s\tremaining: 1m 25s\n",
            "613:\tlearn: 0.1841976\ttest: 0.1081061\tbest: 0.1080998 (612)\ttotal: 37.6s\tremaining: 1m 24s\n",
            "614:\tlearn: 0.1841636\ttest: 0.1081002\tbest: 0.1080998 (612)\ttotal: 37.7s\tremaining: 1m 24s\n",
            "615:\tlearn: 0.1841187\ttest: 0.1080890\tbest: 0.1080890 (615)\ttotal: 37.8s\tremaining: 1m 24s\n",
            "616:\tlearn: 0.1840255\ttest: 0.1080012\tbest: 0.1080012 (616)\ttotal: 37.8s\tremaining: 1m 24s\n",
            "617:\tlearn: 0.1839788\ttest: 0.1080479\tbest: 0.1080012 (616)\ttotal: 37.9s\tremaining: 1m 24s\n",
            "618:\tlearn: 0.1839422\ttest: 0.1080505\tbest: 0.1080012 (616)\ttotal: 38s\tremaining: 1m 24s\n",
            "619:\tlearn: 0.1838746\ttest: 0.1080904\tbest: 0.1080012 (616)\ttotal: 38s\tremaining: 1m 24s\n",
            "620:\tlearn: 0.1838305\ttest: 0.1080805\tbest: 0.1080012 (616)\ttotal: 38.1s\tremaining: 1m 24s\n",
            "621:\tlearn: 0.1837762\ttest: 0.1080679\tbest: 0.1080012 (616)\ttotal: 38.1s\tremaining: 1m 24s\n",
            "622:\tlearn: 0.1837206\ttest: 0.1080725\tbest: 0.1080012 (616)\ttotal: 38.2s\tremaining: 1m 24s\n",
            "623:\tlearn: 0.1836831\ttest: 0.1080759\tbest: 0.1080012 (616)\ttotal: 38.2s\tremaining: 1m 24s\n",
            "624:\tlearn: 0.1834885\ttest: 0.1080782\tbest: 0.1080012 (616)\ttotal: 38.3s\tremaining: 1m 24s\n",
            "625:\tlearn: 0.1833980\ttest: 0.1079878\tbest: 0.1079878 (625)\ttotal: 38.4s\tremaining: 1m 24s\n",
            "626:\tlearn: 0.1833640\ttest: 0.1079508\tbest: 0.1079508 (626)\ttotal: 38.4s\tremaining: 1m 24s\n",
            "627:\tlearn: 0.1832929\ttest: 0.1078992\tbest: 0.1078992 (627)\ttotal: 38.5s\tremaining: 1m 24s\n",
            "628:\tlearn: 0.1832523\ttest: 0.1078922\tbest: 0.1078922 (628)\ttotal: 38.5s\tremaining: 1m 24s\n",
            "629:\tlearn: 0.1832186\ttest: 0.1078861\tbest: 0.1078861 (629)\ttotal: 38.6s\tremaining: 1m 23s\n",
            "630:\tlearn: 0.1831691\ttest: 0.1078757\tbest: 0.1078757 (630)\ttotal: 38.7s\tremaining: 1m 23s\n",
            "631:\tlearn: 0.1831299\ttest: 0.1078775\tbest: 0.1078757 (630)\ttotal: 38.7s\tremaining: 1m 23s\n",
            "632:\tlearn: 0.1830828\ttest: 0.1078938\tbest: 0.1078757 (630)\ttotal: 38.8s\tremaining: 1m 23s\n",
            "633:\tlearn: 0.1830129\ttest: 0.1079018\tbest: 0.1078757 (630)\ttotal: 38.8s\tremaining: 1m 23s\n",
            "634:\tlearn: 0.1829737\ttest: 0.1078920\tbest: 0.1078757 (630)\ttotal: 38.9s\tremaining: 1m 23s\n",
            "635:\tlearn: 0.1829240\ttest: 0.1078783\tbest: 0.1078757 (630)\ttotal: 39s\tremaining: 1m 23s\n",
            "636:\tlearn: 0.1828222\ttest: 0.1078629\tbest: 0.1078629 (636)\ttotal: 39s\tremaining: 1m 23s\n",
            "637:\tlearn: 0.1826956\ttest: 0.1077621\tbest: 0.1077621 (637)\ttotal: 39.1s\tremaining: 1m 23s\n",
            "638:\tlearn: 0.1826509\ttest: 0.1077760\tbest: 0.1077621 (637)\ttotal: 39.2s\tremaining: 1m 23s\n",
            "639:\tlearn: 0.1823347\ttest: 0.1072402\tbest: 0.1072402 (639)\ttotal: 39.2s\tremaining: 1m 23s\n",
            "640:\tlearn: 0.1822897\ttest: 0.1072502\tbest: 0.1072402 (639)\ttotal: 39.3s\tremaining: 1m 23s\n",
            "641:\tlearn: 0.1822453\ttest: 0.1072810\tbest: 0.1072402 (639)\ttotal: 39.3s\tremaining: 1m 23s\n",
            "642:\tlearn: 0.1822049\ttest: 0.1072805\tbest: 0.1072402 (639)\ttotal: 39.4s\tremaining: 1m 23s\n",
            "643:\tlearn: 0.1821411\ttest: 0.1072419\tbest: 0.1072402 (639)\ttotal: 39.5s\tremaining: 1m 23s\n",
            "644:\tlearn: 0.1820847\ttest: 0.1072130\tbest: 0.1072130 (644)\ttotal: 39.5s\tremaining: 1m 23s\n",
            "645:\tlearn: 0.1820356\ttest: 0.1072413\tbest: 0.1072130 (644)\ttotal: 39.6s\tremaining: 1m 22s\n",
            "646:\tlearn: 0.1819793\ttest: 0.1072308\tbest: 0.1072130 (644)\ttotal: 39.6s\tremaining: 1m 22s\n",
            "647:\tlearn: 0.1819309\ttest: 0.1072451\tbest: 0.1072130 (644)\ttotal: 39.7s\tremaining: 1m 22s\n",
            "648:\tlearn: 0.1818735\ttest: 0.1072497\tbest: 0.1072130 (644)\ttotal: 39.7s\tremaining: 1m 22s\n",
            "649:\tlearn: 0.1818296\ttest: 0.1071965\tbest: 0.1071965 (649)\ttotal: 39.8s\tremaining: 1m 22s\n",
            "650:\tlearn: 0.1817838\ttest: 0.1071877\tbest: 0.1071877 (650)\ttotal: 39.9s\tremaining: 1m 22s\n",
            "651:\tlearn: 0.1816861\ttest: 0.1071955\tbest: 0.1071877 (650)\ttotal: 39.9s\tremaining: 1m 22s\n",
            "652:\tlearn: 0.1816010\ttest: 0.1071756\tbest: 0.1071756 (652)\ttotal: 40s\tremaining: 1m 22s\n",
            "653:\tlearn: 0.1815310\ttest: 0.1071627\tbest: 0.1071627 (653)\ttotal: 40.1s\tremaining: 1m 22s\n",
            "654:\tlearn: 0.1815013\ttest: 0.1071555\tbest: 0.1071555 (654)\ttotal: 40.1s\tremaining: 1m 22s\n",
            "655:\tlearn: 0.1814453\ttest: 0.1071415\tbest: 0.1071415 (655)\ttotal: 40.2s\tremaining: 1m 22s\n",
            "656:\tlearn: 0.1814125\ttest: 0.1071419\tbest: 0.1071415 (655)\ttotal: 40.2s\tremaining: 1m 22s\n",
            "657:\tlearn: 0.1813763\ttest: 0.1071356\tbest: 0.1071356 (657)\ttotal: 40.3s\tremaining: 1m 22s\n",
            "658:\tlearn: 0.1813192\ttest: 0.1071506\tbest: 0.1071356 (657)\ttotal: 40.4s\tremaining: 1m 22s\n",
            "659:\tlearn: 0.1812699\ttest: 0.1071498\tbest: 0.1071356 (657)\ttotal: 40.4s\tremaining: 1m 22s\n",
            "660:\tlearn: 0.1812070\ttest: 0.1070927\tbest: 0.1070927 (660)\ttotal: 40.5s\tremaining: 1m 21s\n",
            "661:\tlearn: 0.1811749\ttest: 0.1070963\tbest: 0.1070927 (660)\ttotal: 40.5s\tremaining: 1m 21s\n",
            "662:\tlearn: 0.1811119\ttest: 0.1070706\tbest: 0.1070706 (662)\ttotal: 40.6s\tremaining: 1m 21s\n",
            "663:\tlearn: 0.1810496\ttest: 0.1070554\tbest: 0.1070554 (663)\ttotal: 40.6s\tremaining: 1m 21s\n",
            "664:\tlearn: 0.1809801\ttest: 0.1070126\tbest: 0.1070126 (664)\ttotal: 40.7s\tremaining: 1m 21s\n",
            "665:\tlearn: 0.1809245\ttest: 0.1069551\tbest: 0.1069551 (665)\ttotal: 40.8s\tremaining: 1m 21s\n",
            "666:\tlearn: 0.1808845\ttest: 0.1069877\tbest: 0.1069551 (665)\ttotal: 40.8s\tremaining: 1m 21s\n",
            "667:\tlearn: 0.1808359\ttest: 0.1069509\tbest: 0.1069509 (667)\ttotal: 40.9s\tremaining: 1m 21s\n",
            "668:\tlearn: 0.1807924\ttest: 0.1069433\tbest: 0.1069433 (668)\ttotal: 40.9s\tremaining: 1m 21s\n",
            "669:\tlearn: 0.1807166\ttest: 0.1068636\tbest: 0.1068636 (669)\ttotal: 41s\tremaining: 1m 21s\n",
            "670:\tlearn: 0.1806602\ttest: 0.1068480\tbest: 0.1068480 (670)\ttotal: 41.1s\tremaining: 1m 21s\n",
            "671:\tlearn: 0.1806015\ttest: 0.1068387\tbest: 0.1068387 (671)\ttotal: 41.1s\tremaining: 1m 21s\n",
            "672:\tlearn: 0.1805636\ttest: 0.1067931\tbest: 0.1067931 (672)\ttotal: 41.2s\tremaining: 1m 21s\n",
            "673:\tlearn: 0.1804947\ttest: 0.1067002\tbest: 0.1067002 (673)\ttotal: 41.2s\tremaining: 1m 21s\n",
            "674:\tlearn: 0.1804410\ttest: 0.1066851\tbest: 0.1066851 (674)\ttotal: 41.3s\tremaining: 1m 21s\n",
            "675:\tlearn: 0.1804099\ttest: 0.1066986\tbest: 0.1066851 (674)\ttotal: 41.4s\tremaining: 1m 21s\n",
            "676:\tlearn: 0.1803794\ttest: 0.1067049\tbest: 0.1066851 (674)\ttotal: 41.4s\tremaining: 1m 20s\n",
            "677:\tlearn: 0.1803353\ttest: 0.1067098\tbest: 0.1066851 (674)\ttotal: 41.5s\tremaining: 1m 20s\n",
            "678:\tlearn: 0.1802610\ttest: 0.1067327\tbest: 0.1066851 (674)\ttotal: 41.6s\tremaining: 1m 20s\n",
            "679:\tlearn: 0.1802154\ttest: 0.1067266\tbest: 0.1066851 (674)\ttotal: 41.6s\tremaining: 1m 20s\n",
            "680:\tlearn: 0.1801594\ttest: 0.1067154\tbest: 0.1066851 (674)\ttotal: 41.7s\tremaining: 1m 20s\n",
            "681:\tlearn: 0.1801067\ttest: 0.1066962\tbest: 0.1066851 (674)\ttotal: 41.7s\tremaining: 1m 20s\n",
            "682:\tlearn: 0.1800684\ttest: 0.1066554\tbest: 0.1066554 (682)\ttotal: 41.8s\tremaining: 1m 20s\n",
            "683:\tlearn: 0.1800324\ttest: 0.1066623\tbest: 0.1066554 (682)\ttotal: 41.9s\tremaining: 1m 20s\n",
            "684:\tlearn: 0.1800027\ttest: 0.1066671\tbest: 0.1066554 (682)\ttotal: 41.9s\tremaining: 1m 20s\n",
            "685:\tlearn: 0.1799614\ttest: 0.1066714\tbest: 0.1066554 (682)\ttotal: 42s\tremaining: 1m 20s\n",
            "686:\tlearn: 0.1799337\ttest: 0.1066646\tbest: 0.1066554 (682)\ttotal: 42s\tremaining: 1m 20s\n",
            "687:\tlearn: 0.1798647\ttest: 0.1066583\tbest: 0.1066554 (682)\ttotal: 42.1s\tremaining: 1m 20s\n",
            "688:\tlearn: 0.1798037\ttest: 0.1066445\tbest: 0.1066445 (688)\ttotal: 42.2s\tremaining: 1m 20s\n",
            "689:\tlearn: 0.1797629\ttest: 0.1066468\tbest: 0.1066445 (688)\ttotal: 42.2s\tremaining: 1m 20s\n",
            "690:\tlearn: 0.1797200\ttest: 0.1066345\tbest: 0.1066345 (690)\ttotal: 42.3s\tremaining: 1m 20s\n",
            "691:\tlearn: 0.1796591\ttest: 0.1066724\tbest: 0.1066345 (690)\ttotal: 42.3s\tremaining: 1m 20s\n",
            "692:\tlearn: 0.1795990\ttest: 0.1066821\tbest: 0.1066345 (690)\ttotal: 42.4s\tremaining: 1m 19s\n",
            "693:\tlearn: 0.1795481\ttest: 0.1066832\tbest: 0.1066345 (690)\ttotal: 42.5s\tremaining: 1m 19s\n",
            "694:\tlearn: 0.1794802\ttest: 0.1066697\tbest: 0.1066345 (690)\ttotal: 42.5s\tremaining: 1m 19s\n",
            "695:\tlearn: 0.1794285\ttest: 0.1066277\tbest: 0.1066277 (695)\ttotal: 42.6s\tremaining: 1m 19s\n",
            "696:\tlearn: 0.1793813\ttest: 0.1066493\tbest: 0.1066277 (695)\ttotal: 42.6s\tremaining: 1m 19s\n",
            "697:\tlearn: 0.1793129\ttest: 0.1066651\tbest: 0.1066277 (695)\ttotal: 42.7s\tremaining: 1m 19s\n",
            "698:\tlearn: 0.1792537\ttest: 0.1066479\tbest: 0.1066277 (695)\ttotal: 42.8s\tremaining: 1m 19s\n",
            "699:\tlearn: 0.1792142\ttest: 0.1066515\tbest: 0.1066277 (695)\ttotal: 42.8s\tremaining: 1m 19s\n",
            "700:\tlearn: 0.1791669\ttest: 0.1066508\tbest: 0.1066277 (695)\ttotal: 42.9s\tremaining: 1m 19s\n",
            "701:\tlearn: 0.1791346\ttest: 0.1066549\tbest: 0.1066277 (695)\ttotal: 42.9s\tremaining: 1m 19s\n",
            "702:\tlearn: 0.1791028\ttest: 0.1066543\tbest: 0.1066277 (695)\ttotal: 43s\tremaining: 1m 19s\n",
            "703:\tlearn: 0.1790742\ttest: 0.1066491\tbest: 0.1066277 (695)\ttotal: 43s\tremaining: 1m 19s\n",
            "704:\tlearn: 0.1790294\ttest: 0.1066392\tbest: 0.1066277 (695)\ttotal: 43.1s\tremaining: 1m 19s\n",
            "705:\tlearn: 0.1789972\ttest: 0.1066355\tbest: 0.1066277 (695)\ttotal: 43.2s\tremaining: 1m 19s\n",
            "706:\tlearn: 0.1789323\ttest: 0.1065936\tbest: 0.1065936 (706)\ttotal: 43.2s\tremaining: 1m 19s\n",
            "707:\tlearn: 0.1788750\ttest: 0.1065842\tbest: 0.1065842 (707)\ttotal: 43.3s\tremaining: 1m 18s\n",
            "708:\tlearn: 0.1788231\ttest: 0.1065771\tbest: 0.1065771 (708)\ttotal: 43.3s\tremaining: 1m 18s\n",
            "709:\tlearn: 0.1787694\ttest: 0.1065271\tbest: 0.1065271 (709)\ttotal: 43.4s\tremaining: 1m 18s\n",
            "710:\tlearn: 0.1787282\ttest: 0.1065197\tbest: 0.1065197 (710)\ttotal: 43.5s\tremaining: 1m 18s\n",
            "711:\tlearn: 0.1786459\ttest: 0.1064954\tbest: 0.1064954 (711)\ttotal: 43.5s\tremaining: 1m 18s\n",
            "712:\tlearn: 0.1786044\ttest: 0.1064767\tbest: 0.1064767 (712)\ttotal: 43.6s\tremaining: 1m 18s\n",
            "713:\tlearn: 0.1785623\ttest: 0.1064596\tbest: 0.1064596 (713)\ttotal: 43.6s\tremaining: 1m 18s\n",
            "714:\tlearn: 0.1785164\ttest: 0.1064808\tbest: 0.1064596 (713)\ttotal: 43.7s\tremaining: 1m 18s\n",
            "715:\tlearn: 0.1784725\ttest: 0.1065009\tbest: 0.1064596 (713)\ttotal: 43.8s\tremaining: 1m 18s\n",
            "716:\tlearn: 0.1783719\ttest: 0.1063506\tbest: 0.1063506 (716)\ttotal: 43.8s\tremaining: 1m 18s\n",
            "717:\tlearn: 0.1783165\ttest: 0.1063172\tbest: 0.1063172 (717)\ttotal: 43.9s\tremaining: 1m 18s\n",
            "718:\tlearn: 0.1782626\ttest: 0.1063032\tbest: 0.1063032 (718)\ttotal: 43.9s\tremaining: 1m 18s\n",
            "719:\tlearn: 0.1781975\ttest: 0.1062514\tbest: 0.1062514 (719)\ttotal: 44s\tremaining: 1m 18s\n",
            "720:\tlearn: 0.1781434\ttest: 0.1062096\tbest: 0.1062096 (720)\ttotal: 44.1s\tremaining: 1m 18s\n",
            "721:\tlearn: 0.1780804\ttest: 0.1061909\tbest: 0.1061909 (721)\ttotal: 44.1s\tremaining: 1m 18s\n",
            "722:\tlearn: 0.1780383\ttest: 0.1061343\tbest: 0.1061343 (722)\ttotal: 44.2s\tremaining: 1m 18s\n",
            "723:\tlearn: 0.1779982\ttest: 0.1061551\tbest: 0.1061343 (722)\ttotal: 44.2s\tremaining: 1m 17s\n",
            "724:\tlearn: 0.1779621\ttest: 0.1061468\tbest: 0.1061343 (722)\ttotal: 44.3s\tremaining: 1m 17s\n",
            "725:\tlearn: 0.1779287\ttest: 0.1061407\tbest: 0.1061343 (722)\ttotal: 44.4s\tremaining: 1m 17s\n",
            "726:\tlearn: 0.1778795\ttest: 0.1061868\tbest: 0.1061343 (722)\ttotal: 44.4s\tremaining: 1m 17s\n",
            "727:\tlearn: 0.1778301\ttest: 0.1062265\tbest: 0.1061343 (722)\ttotal: 44.5s\tremaining: 1m 17s\n",
            "728:\tlearn: 0.1777966\ttest: 0.1062194\tbest: 0.1061343 (722)\ttotal: 44.5s\tremaining: 1m 17s\n",
            "729:\tlearn: 0.1777441\ttest: 0.1062083\tbest: 0.1061343 (722)\ttotal: 44.6s\tremaining: 1m 17s\n",
            "730:\tlearn: 0.1777003\ttest: 0.1062065\tbest: 0.1061343 (722)\ttotal: 44.7s\tremaining: 1m 17s\n",
            "731:\tlearn: 0.1776697\ttest: 0.1061984\tbest: 0.1061343 (722)\ttotal: 44.7s\tremaining: 1m 17s\n",
            "732:\tlearn: 0.1775256\ttest: 0.1061033\tbest: 0.1061033 (732)\ttotal: 44.8s\tremaining: 1m 17s\n",
            "733:\tlearn: 0.1774753\ttest: 0.1060931\tbest: 0.1060931 (733)\ttotal: 44.8s\tremaining: 1m 17s\n",
            "734:\tlearn: 0.1774377\ttest: 0.1060860\tbest: 0.1060860 (734)\ttotal: 44.9s\tremaining: 1m 17s\n",
            "735:\tlearn: 0.1774034\ttest: 0.1060863\tbest: 0.1060860 (734)\ttotal: 45s\tremaining: 1m 17s\n",
            "736:\tlearn: 0.1773704\ttest: 0.1060742\tbest: 0.1060742 (736)\ttotal: 45s\tremaining: 1m 17s\n",
            "737:\tlearn: 0.1773351\ttest: 0.1060679\tbest: 0.1060679 (737)\ttotal: 45.1s\tremaining: 1m 17s\n",
            "738:\tlearn: 0.1773103\ttest: 0.1060698\tbest: 0.1060679 (737)\ttotal: 45.1s\tremaining: 1m 17s\n",
            "739:\tlearn: 0.1772332\ttest: 0.1060354\tbest: 0.1060354 (739)\ttotal: 45.2s\tremaining: 1m 16s\n",
            "740:\tlearn: 0.1772009\ttest: 0.1060113\tbest: 0.1060113 (740)\ttotal: 45.3s\tremaining: 1m 16s\n",
            "741:\tlearn: 0.1771497\ttest: 0.1060019\tbest: 0.1060019 (741)\ttotal: 45.3s\tremaining: 1m 16s\n",
            "742:\tlearn: 0.1771138\ttest: 0.1060152\tbest: 0.1060019 (741)\ttotal: 45.4s\tremaining: 1m 16s\n",
            "743:\tlearn: 0.1770769\ttest: 0.1060137\tbest: 0.1060019 (741)\ttotal: 45.5s\tremaining: 1m 16s\n",
            "744:\tlearn: 0.1770462\ttest: 0.1059611\tbest: 0.1059611 (744)\ttotal: 45.5s\tremaining: 1m 16s\n",
            "745:\tlearn: 0.1769485\ttest: 0.1059082\tbest: 0.1059082 (745)\ttotal: 45.6s\tremaining: 1m 16s\n",
            "746:\tlearn: 0.1769223\ttest: 0.1059181\tbest: 0.1059082 (745)\ttotal: 45.6s\tremaining: 1m 16s\n",
            "747:\tlearn: 0.1768947\ttest: 0.1059105\tbest: 0.1059082 (745)\ttotal: 45.7s\tremaining: 1m 16s\n",
            "748:\tlearn: 0.1768451\ttest: 0.1059030\tbest: 0.1059030 (748)\ttotal: 45.7s\tremaining: 1m 16s\n",
            "749:\tlearn: 0.1768065\ttest: 0.1059173\tbest: 0.1059030 (748)\ttotal: 45.8s\tremaining: 1m 16s\n",
            "750:\tlearn: 0.1767757\ttest: 0.1058507\tbest: 0.1058507 (750)\ttotal: 45.9s\tremaining: 1m 16s\n",
            "751:\tlearn: 0.1767322\ttest: 0.1058562\tbest: 0.1058507 (750)\ttotal: 45.9s\tremaining: 1m 16s\n",
            "752:\tlearn: 0.1767043\ttest: 0.1058529\tbest: 0.1058507 (750)\ttotal: 46s\tremaining: 1m 16s\n",
            "753:\tlearn: 0.1766736\ttest: 0.1058471\tbest: 0.1058471 (753)\ttotal: 46s\tremaining: 1m 16s\n",
            "754:\tlearn: 0.1766419\ttest: 0.1058477\tbest: 0.1058471 (753)\ttotal: 46.1s\tremaining: 1m 16s\n",
            "755:\tlearn: 0.1765004\ttest: 0.1057864\tbest: 0.1057864 (755)\ttotal: 46.2s\tremaining: 1m 15s\n",
            "756:\tlearn: 0.1764539\ttest: 0.1057718\tbest: 0.1057718 (756)\ttotal: 46.2s\tremaining: 1m 15s\n",
            "757:\tlearn: 0.1763981\ttest: 0.1057596\tbest: 0.1057596 (757)\ttotal: 46.3s\tremaining: 1m 15s\n",
            "758:\tlearn: 0.1763572\ttest: 0.1057566\tbest: 0.1057566 (758)\ttotal: 46.4s\tremaining: 1m 15s\n",
            "759:\tlearn: 0.1763016\ttest: 0.1057395\tbest: 0.1057395 (759)\ttotal: 46.4s\tremaining: 1m 15s\n",
            "760:\tlearn: 0.1762663\ttest: 0.1057331\tbest: 0.1057331 (760)\ttotal: 46.5s\tremaining: 1m 15s\n",
            "761:\tlearn: 0.1762216\ttest: 0.1057188\tbest: 0.1057188 (761)\ttotal: 46.5s\tremaining: 1m 15s\n",
            "762:\tlearn: 0.1761912\ttest: 0.1057104\tbest: 0.1057104 (762)\ttotal: 46.6s\tremaining: 1m 15s\n",
            "763:\tlearn: 0.1761630\ttest: 0.1057045\tbest: 0.1057045 (763)\ttotal: 46.6s\tremaining: 1m 15s\n",
            "764:\tlearn: 0.1761232\ttest: 0.1057029\tbest: 0.1057029 (764)\ttotal: 46.7s\tremaining: 1m 15s\n",
            "765:\tlearn: 0.1760581\ttest: 0.1056454\tbest: 0.1056454 (765)\ttotal: 46.8s\tremaining: 1m 15s\n",
            "766:\tlearn: 0.1759970\ttest: 0.1056334\tbest: 0.1056334 (766)\ttotal: 46.8s\tremaining: 1m 15s\n",
            "767:\tlearn: 0.1759616\ttest: 0.1056353\tbest: 0.1056334 (766)\ttotal: 46.9s\tremaining: 1m 15s\n",
            "768:\tlearn: 0.1759186\ttest: 0.1056385\tbest: 0.1056334 (766)\ttotal: 46.9s\tremaining: 1m 15s\n",
            "769:\tlearn: 0.1758560\ttest: 0.1056376\tbest: 0.1056334 (766)\ttotal: 47s\tremaining: 1m 15s\n",
            "770:\tlearn: 0.1758128\ttest: 0.1055932\tbest: 0.1055932 (770)\ttotal: 47.1s\tremaining: 1m 15s\n",
            "771:\tlearn: 0.1757820\ttest: 0.1055856\tbest: 0.1055856 (771)\ttotal: 47.1s\tremaining: 1m 14s\n",
            "772:\tlearn: 0.1757196\ttest: 0.1055732\tbest: 0.1055732 (772)\ttotal: 47.2s\tremaining: 1m 14s\n",
            "773:\tlearn: 0.1756817\ttest: 0.1055541\tbest: 0.1055541 (773)\ttotal: 47.2s\tremaining: 1m 14s\n",
            "774:\tlearn: 0.1756334\ttest: 0.1055313\tbest: 0.1055313 (774)\ttotal: 47.3s\tremaining: 1m 14s\n",
            "775:\tlearn: 0.1755921\ttest: 0.1055163\tbest: 0.1055163 (775)\ttotal: 47.4s\tremaining: 1m 14s\n",
            "776:\tlearn: 0.1755592\ttest: 0.1055215\tbest: 0.1055163 (775)\ttotal: 47.4s\tremaining: 1m 14s\n",
            "777:\tlearn: 0.1755106\ttest: 0.1055088\tbest: 0.1055088 (777)\ttotal: 47.5s\tremaining: 1m 14s\n",
            "778:\tlearn: 0.1754818\ttest: 0.1054598\tbest: 0.1054598 (778)\ttotal: 47.6s\tremaining: 1m 14s\n",
            "779:\tlearn: 0.1752636\ttest: 0.1052451\tbest: 0.1052451 (779)\ttotal: 47.6s\tremaining: 1m 14s\n",
            "780:\tlearn: 0.1751741\ttest: 0.1052227\tbest: 0.1052227 (780)\ttotal: 47.7s\tremaining: 1m 14s\n",
            "781:\tlearn: 0.1751406\ttest: 0.1052377\tbest: 0.1052227 (780)\ttotal: 47.7s\tremaining: 1m 14s\n",
            "782:\tlearn: 0.1751020\ttest: 0.1052573\tbest: 0.1052227 (780)\ttotal: 47.8s\tremaining: 1m 14s\n",
            "783:\tlearn: 0.1750706\ttest: 0.1052641\tbest: 0.1052227 (780)\ttotal: 47.9s\tremaining: 1m 14s\n",
            "784:\tlearn: 0.1750326\ttest: 0.1052427\tbest: 0.1052227 (780)\ttotal: 47.9s\tremaining: 1m 14s\n",
            "785:\tlearn: 0.1749962\ttest: 0.1052795\tbest: 0.1052227 (780)\ttotal: 48s\tremaining: 1m 14s\n",
            "786:\tlearn: 0.1749443\ttest: 0.1052864\tbest: 0.1052227 (780)\ttotal: 48s\tremaining: 1m 14s\n",
            "787:\tlearn: 0.1749073\ttest: 0.1053039\tbest: 0.1052227 (780)\ttotal: 48.1s\tremaining: 1m 13s\n",
            "788:\tlearn: 0.1748668\ttest: 0.1053168\tbest: 0.1052227 (780)\ttotal: 48.1s\tremaining: 1m 13s\n",
            "789:\tlearn: 0.1748400\ttest: 0.1053155\tbest: 0.1052227 (780)\ttotal: 48.2s\tremaining: 1m 13s\n",
            "790:\tlearn: 0.1748034\ttest: 0.1053058\tbest: 0.1052227 (780)\ttotal: 48.3s\tremaining: 1m 13s\n",
            "791:\tlearn: 0.1746628\ttest: 0.1052401\tbest: 0.1052227 (780)\ttotal: 48.3s\tremaining: 1m 13s\n",
            "792:\tlearn: 0.1746285\ttest: 0.1052209\tbest: 0.1052209 (792)\ttotal: 48.4s\tremaining: 1m 13s\n",
            "793:\tlearn: 0.1745921\ttest: 0.1052213\tbest: 0.1052209 (792)\ttotal: 48.5s\tremaining: 1m 13s\n",
            "794:\tlearn: 0.1745649\ttest: 0.1052113\tbest: 0.1052113 (794)\ttotal: 48.5s\tremaining: 1m 13s\n",
            "795:\tlearn: 0.1745338\ttest: 0.1052285\tbest: 0.1052113 (794)\ttotal: 48.6s\tremaining: 1m 13s\n",
            "796:\tlearn: 0.1744883\ttest: 0.1051859\tbest: 0.1051859 (796)\ttotal: 48.6s\tremaining: 1m 13s\n",
            "797:\tlearn: 0.1744392\ttest: 0.1051948\tbest: 0.1051859 (796)\ttotal: 48.7s\tremaining: 1m 13s\n",
            "798:\tlearn: 0.1743918\ttest: 0.1051996\tbest: 0.1051859 (796)\ttotal: 48.8s\tremaining: 1m 13s\n",
            "799:\tlearn: 0.1743480\ttest: 0.1051614\tbest: 0.1051614 (799)\ttotal: 48.8s\tremaining: 1m 13s\n",
            "800:\tlearn: 0.1742916\ttest: 0.1051168\tbest: 0.1051168 (800)\ttotal: 48.9s\tremaining: 1m 13s\n",
            "801:\tlearn: 0.1742367\ttest: 0.1050912\tbest: 0.1050912 (801)\ttotal: 48.9s\tremaining: 1m 13s\n",
            "802:\tlearn: 0.1741662\ttest: 0.1050887\tbest: 0.1050887 (802)\ttotal: 49s\tremaining: 1m 13s\n",
            "803:\tlearn: 0.1740882\ttest: 0.1050525\tbest: 0.1050525 (803)\ttotal: 49s\tremaining: 1m 12s\n",
            "804:\tlearn: 0.1740207\ttest: 0.1050337\tbest: 0.1050337 (804)\ttotal: 49.1s\tremaining: 1m 12s\n",
            "805:\tlearn: 0.1739835\ttest: 0.1050232\tbest: 0.1050232 (805)\ttotal: 49.2s\tremaining: 1m 12s\n",
            "806:\tlearn: 0.1739406\ttest: 0.1050151\tbest: 0.1050151 (806)\ttotal: 49.2s\tremaining: 1m 12s\n",
            "807:\tlearn: 0.1738877\ttest: 0.1050134\tbest: 0.1050134 (807)\ttotal: 49.3s\tremaining: 1m 12s\n",
            "808:\tlearn: 0.1738590\ttest: 0.1050043\tbest: 0.1050043 (808)\ttotal: 49.3s\tremaining: 1m 12s\n",
            "809:\tlearn: 0.1738126\ttest: 0.1049641\tbest: 0.1049641 (809)\ttotal: 49.4s\tremaining: 1m 12s\n",
            "810:\tlearn: 0.1737542\ttest: 0.1049623\tbest: 0.1049623 (810)\ttotal: 49.5s\tremaining: 1m 12s\n",
            "811:\tlearn: 0.1737161\ttest: 0.1049317\tbest: 0.1049317 (811)\ttotal: 49.5s\tremaining: 1m 12s\n",
            "812:\tlearn: 0.1736660\ttest: 0.1049207\tbest: 0.1049207 (812)\ttotal: 49.6s\tremaining: 1m 12s\n",
            "813:\tlearn: 0.1736145\ttest: 0.1049111\tbest: 0.1049111 (813)\ttotal: 49.7s\tremaining: 1m 12s\n",
            "814:\tlearn: 0.1735789\ttest: 0.1049027\tbest: 0.1049027 (814)\ttotal: 49.7s\tremaining: 1m 12s\n",
            "815:\tlearn: 0.1735349\ttest: 0.1049081\tbest: 0.1049027 (814)\ttotal: 49.8s\tremaining: 1m 12s\n",
            "816:\tlearn: 0.1734529\ttest: 0.1048429\tbest: 0.1048429 (816)\ttotal: 49.8s\tremaining: 1m 12s\n",
            "817:\tlearn: 0.1734153\ttest: 0.1048321\tbest: 0.1048321 (817)\ttotal: 49.9s\tremaining: 1m 12s\n",
            "818:\tlearn: 0.1733824\ttest: 0.1048263\tbest: 0.1048263 (818)\ttotal: 50s\tremaining: 1m 12s\n",
            "819:\tlearn: 0.1733535\ttest: 0.1048218\tbest: 0.1048218 (819)\ttotal: 50s\tremaining: 1m 11s\n",
            "820:\tlearn: 0.1733218\ttest: 0.1048246\tbest: 0.1048218 (819)\ttotal: 50.1s\tremaining: 1m 11s\n",
            "821:\tlearn: 0.1732856\ttest: 0.1048153\tbest: 0.1048153 (821)\ttotal: 50.1s\tremaining: 1m 11s\n",
            "822:\tlearn: 0.1732426\ttest: 0.1048314\tbest: 0.1048153 (821)\ttotal: 50.2s\tremaining: 1m 11s\n",
            "823:\tlearn: 0.1731956\ttest: 0.1048350\tbest: 0.1048153 (821)\ttotal: 50.2s\tremaining: 1m 11s\n",
            "824:\tlearn: 0.1731621\ttest: 0.1048234\tbest: 0.1048153 (821)\ttotal: 50.3s\tremaining: 1m 11s\n",
            "825:\tlearn: 0.1731209\ttest: 0.1048129\tbest: 0.1048129 (825)\ttotal: 50.4s\tremaining: 1m 11s\n",
            "826:\tlearn: 0.1730733\ttest: 0.1048166\tbest: 0.1048129 (825)\ttotal: 50.4s\tremaining: 1m 11s\n",
            "827:\tlearn: 0.1730138\ttest: 0.1047818\tbest: 0.1047818 (827)\ttotal: 50.5s\tremaining: 1m 11s\n",
            "828:\tlearn: 0.1729826\ttest: 0.1047767\tbest: 0.1047767 (828)\ttotal: 50.6s\tremaining: 1m 11s\n",
            "829:\tlearn: 0.1729621\ttest: 0.1047803\tbest: 0.1047767 (828)\ttotal: 50.6s\tremaining: 1m 11s\n",
            "830:\tlearn: 0.1729346\ttest: 0.1047763\tbest: 0.1047763 (830)\ttotal: 50.7s\tremaining: 1m 11s\n",
            "831:\tlearn: 0.1728989\ttest: 0.1047514\tbest: 0.1047514 (831)\ttotal: 50.7s\tremaining: 1m 11s\n",
            "832:\tlearn: 0.1728473\ttest: 0.1047796\tbest: 0.1047514 (831)\ttotal: 50.8s\tremaining: 1m 11s\n",
            "833:\tlearn: 0.1728157\ttest: 0.1047744\tbest: 0.1047514 (831)\ttotal: 50.9s\tremaining: 1m 11s\n",
            "834:\tlearn: 0.1727844\ttest: 0.1047927\tbest: 0.1047514 (831)\ttotal: 50.9s\tremaining: 1m 11s\n",
            "835:\tlearn: 0.1727404\ttest: 0.1047803\tbest: 0.1047514 (831)\ttotal: 51s\tremaining: 1m 10s\n",
            "836:\tlearn: 0.1727018\ttest: 0.1047758\tbest: 0.1047514 (831)\ttotal: 51s\tremaining: 1m 10s\n",
            "837:\tlearn: 0.1726622\ttest: 0.1048002\tbest: 0.1047514 (831)\ttotal: 51.1s\tremaining: 1m 10s\n",
            "838:\tlearn: 0.1726007\ttest: 0.1047623\tbest: 0.1047514 (831)\ttotal: 51.2s\tremaining: 1m 10s\n",
            "839:\tlearn: 0.1725655\ttest: 0.1047513\tbest: 0.1047513 (839)\ttotal: 51.2s\tremaining: 1m 10s\n",
            "840:\tlearn: 0.1725266\ttest: 0.1047433\tbest: 0.1047433 (840)\ttotal: 51.3s\tremaining: 1m 10s\n",
            "841:\tlearn: 0.1725019\ttest: 0.1047416\tbest: 0.1047416 (841)\ttotal: 51.3s\tremaining: 1m 10s\n",
            "842:\tlearn: 0.1724567\ttest: 0.1047529\tbest: 0.1047416 (841)\ttotal: 51.4s\tremaining: 1m 10s\n",
            "843:\tlearn: 0.1724237\ttest: 0.1047447\tbest: 0.1047416 (841)\ttotal: 51.5s\tremaining: 1m 10s\n",
            "844:\tlearn: 0.1723693\ttest: 0.1047340\tbest: 0.1047340 (844)\ttotal: 51.5s\tremaining: 1m 10s\n",
            "845:\tlearn: 0.1723357\ttest: 0.1047476\tbest: 0.1047340 (844)\ttotal: 51.6s\tremaining: 1m 10s\n",
            "846:\tlearn: 0.1722982\ttest: 0.1047659\tbest: 0.1047340 (844)\ttotal: 51.6s\tremaining: 1m 10s\n",
            "847:\tlearn: 0.1722569\ttest: 0.1047543\tbest: 0.1047340 (844)\ttotal: 51.7s\tremaining: 1m 10s\n",
            "848:\tlearn: 0.1722159\ttest: 0.1047228\tbest: 0.1047228 (848)\ttotal: 51.8s\tremaining: 1m 10s\n",
            "849:\tlearn: 0.1721738\ttest: 0.1047129\tbest: 0.1047129 (849)\ttotal: 51.8s\tremaining: 1m 10s\n",
            "850:\tlearn: 0.1721480\ttest: 0.1047188\tbest: 0.1047129 (849)\ttotal: 51.9s\tremaining: 1m 10s\n",
            "851:\tlearn: 0.1721153\ttest: 0.1047051\tbest: 0.1047051 (851)\ttotal: 52s\tremaining: 1m 10s\n",
            "852:\tlearn: 0.1720713\ttest: 0.1046394\tbest: 0.1046394 (852)\ttotal: 52s\tremaining: 1m 9s\n",
            "853:\tlearn: 0.1720435\ttest: 0.1046371\tbest: 0.1046371 (853)\ttotal: 52.1s\tremaining: 1m 9s\n",
            "854:\tlearn: 0.1719966\ttest: 0.1047044\tbest: 0.1046371 (853)\ttotal: 52.1s\tremaining: 1m 9s\n",
            "855:\tlearn: 0.1719332\ttest: 0.1046573\tbest: 0.1046371 (853)\ttotal: 52.2s\tremaining: 1m 9s\n",
            "856:\tlearn: 0.1718880\ttest: 0.1046543\tbest: 0.1046371 (853)\ttotal: 52.3s\tremaining: 1m 9s\n",
            "857:\tlearn: 0.1718475\ttest: 0.1046892\tbest: 0.1046371 (853)\ttotal: 52.3s\tremaining: 1m 9s\n",
            "858:\tlearn: 0.1718059\ttest: 0.1046782\tbest: 0.1046371 (853)\ttotal: 52.4s\tremaining: 1m 9s\n",
            "859:\tlearn: 0.1717690\ttest: 0.1046711\tbest: 0.1046371 (853)\ttotal: 52.5s\tremaining: 1m 9s\n",
            "860:\tlearn: 0.1717414\ttest: 0.1046649\tbest: 0.1046371 (853)\ttotal: 52.5s\tremaining: 1m 9s\n",
            "861:\tlearn: 0.1717015\ttest: 0.1046419\tbest: 0.1046371 (853)\ttotal: 52.6s\tremaining: 1m 9s\n",
            "862:\tlearn: 0.1716751\ttest: 0.1046512\tbest: 0.1046371 (853)\ttotal: 52.6s\tremaining: 1m 9s\n",
            "863:\tlearn: 0.1716163\ttest: 0.1046479\tbest: 0.1046371 (853)\ttotal: 52.7s\tremaining: 1m 9s\n",
            "864:\tlearn: 0.1715905\ttest: 0.1046423\tbest: 0.1046371 (853)\ttotal: 52.8s\tremaining: 1m 9s\n",
            "865:\tlearn: 0.1715081\ttest: 0.1045975\tbest: 0.1045975 (865)\ttotal: 52.8s\tremaining: 1m 9s\n",
            "866:\tlearn: 0.1714819\ttest: 0.1046009\tbest: 0.1045975 (865)\ttotal: 52.9s\tremaining: 1m 9s\n",
            "867:\tlearn: 0.1714488\ttest: 0.1045940\tbest: 0.1045940 (867)\ttotal: 52.9s\tremaining: 1m 9s\n",
            "868:\tlearn: 0.1713923\ttest: 0.1045975\tbest: 0.1045940 (867)\ttotal: 53s\tremaining: 1m 8s\n",
            "869:\tlearn: 0.1713475\ttest: 0.1045813\tbest: 0.1045813 (869)\ttotal: 53.1s\tremaining: 1m 8s\n",
            "870:\tlearn: 0.1713038\ttest: 0.1045736\tbest: 0.1045736 (870)\ttotal: 53.1s\tremaining: 1m 8s\n",
            "871:\tlearn: 0.1712685\ttest: 0.1045644\tbest: 0.1045644 (871)\ttotal: 53.2s\tremaining: 1m 8s\n",
            "872:\tlearn: 0.1712185\ttest: 0.1045244\tbest: 0.1045244 (872)\ttotal: 53.2s\tremaining: 1m 8s\n",
            "873:\tlearn: 0.1711722\ttest: 0.1045115\tbest: 0.1045115 (873)\ttotal: 53.3s\tremaining: 1m 8s\n",
            "874:\tlearn: 0.1711255\ttest: 0.1045018\tbest: 0.1045018 (874)\ttotal: 53.4s\tremaining: 1m 8s\n",
            "875:\tlearn: 0.1710850\ttest: 0.1044951\tbest: 0.1044951 (875)\ttotal: 53.4s\tremaining: 1m 8s\n",
            "876:\tlearn: 0.1710535\ttest: 0.1044497\tbest: 0.1044497 (876)\ttotal: 53.5s\tremaining: 1m 8s\n",
            "877:\tlearn: 0.1710238\ttest: 0.1044502\tbest: 0.1044497 (876)\ttotal: 53.5s\tremaining: 1m 8s\n",
            "878:\tlearn: 0.1709048\ttest: 0.1044258\tbest: 0.1044258 (878)\ttotal: 53.6s\tremaining: 1m 8s\n",
            "879:\tlearn: 0.1708708\ttest: 0.1044284\tbest: 0.1044258 (878)\ttotal: 53.7s\tremaining: 1m 8s\n",
            "880:\tlearn: 0.1708395\ttest: 0.1044257\tbest: 0.1044257 (880)\ttotal: 53.7s\tremaining: 1m 8s\n",
            "881:\tlearn: 0.1707759\ttest: 0.1043527\tbest: 0.1043527 (881)\ttotal: 53.8s\tremaining: 1m 8s\n",
            "882:\tlearn: 0.1707305\ttest: 0.1043376\tbest: 0.1043376 (882)\ttotal: 53.8s\tremaining: 1m 8s\n",
            "883:\tlearn: 0.1706909\ttest: 0.1043526\tbest: 0.1043376 (882)\ttotal: 53.9s\tremaining: 1m 8s\n",
            "884:\tlearn: 0.1706523\ttest: 0.1043438\tbest: 0.1043376 (882)\ttotal: 54s\tremaining: 1m 8s\n",
            "885:\tlearn: 0.1706232\ttest: 0.1043323\tbest: 0.1043323 (885)\ttotal: 54s\tremaining: 1m 7s\n",
            "886:\tlearn: 0.1705799\ttest: 0.1043338\tbest: 0.1043323 (885)\ttotal: 54.1s\tremaining: 1m 7s\n",
            "887:\tlearn: 0.1705281\ttest: 0.1043169\tbest: 0.1043169 (887)\ttotal: 54.1s\tremaining: 1m 7s\n",
            "888:\tlearn: 0.1704910\ttest: 0.1043126\tbest: 0.1043126 (888)\ttotal: 54.2s\tremaining: 1m 7s\n",
            "889:\tlearn: 0.1704657\ttest: 0.1042968\tbest: 0.1042968 (889)\ttotal: 54.3s\tremaining: 1m 7s\n",
            "890:\tlearn: 0.1704255\ttest: 0.1042827\tbest: 0.1042827 (890)\ttotal: 54.3s\tremaining: 1m 7s\n",
            "891:\tlearn: 0.1703154\ttest: 0.1042834\tbest: 0.1042827 (890)\ttotal: 54.4s\tremaining: 1m 7s\n",
            "892:\tlearn: 0.1702643\ttest: 0.1042703\tbest: 0.1042703 (892)\ttotal: 54.5s\tremaining: 1m 7s\n",
            "893:\tlearn: 0.1701792\ttest: 0.1042981\tbest: 0.1042703 (892)\ttotal: 54.5s\tremaining: 1m 7s\n",
            "894:\tlearn: 0.1700690\ttest: 0.1042082\tbest: 0.1042082 (894)\ttotal: 54.6s\tremaining: 1m 7s\n",
            "895:\tlearn: 0.1700400\ttest: 0.1042123\tbest: 0.1042082 (894)\ttotal: 54.6s\tremaining: 1m 7s\n",
            "896:\tlearn: 0.1700118\ttest: 0.1042057\tbest: 0.1042057 (896)\ttotal: 54.7s\tremaining: 1m 7s\n",
            "897:\tlearn: 0.1699813\ttest: 0.1042072\tbest: 0.1042057 (896)\ttotal: 54.8s\tremaining: 1m 7s\n",
            "898:\tlearn: 0.1699281\ttest: 0.1041957\tbest: 0.1041957 (898)\ttotal: 54.8s\tremaining: 1m 7s\n",
            "899:\tlearn: 0.1698979\ttest: 0.1042007\tbest: 0.1041957 (898)\ttotal: 54.9s\tremaining: 1m 7s\n",
            "900:\tlearn: 0.1698578\ttest: 0.1041885\tbest: 0.1041885 (900)\ttotal: 54.9s\tremaining: 1m 7s\n",
            "901:\tlearn: 0.1698254\ttest: 0.1041817\tbest: 0.1041817 (901)\ttotal: 55s\tremaining: 1m 6s\n",
            "902:\tlearn: 0.1697991\ttest: 0.1041985\tbest: 0.1041817 (901)\ttotal: 55.1s\tremaining: 1m 6s\n",
            "903:\tlearn: 0.1697720\ttest: 0.1041933\tbest: 0.1041817 (901)\ttotal: 55.1s\tremaining: 1m 6s\n",
            "904:\tlearn: 0.1697358\ttest: 0.1041893\tbest: 0.1041817 (901)\ttotal: 55.2s\tremaining: 1m 6s\n",
            "905:\tlearn: 0.1696828\ttest: 0.1041828\tbest: 0.1041817 (901)\ttotal: 55.2s\tremaining: 1m 6s\n",
            "906:\tlearn: 0.1696442\ttest: 0.1041799\tbest: 0.1041799 (906)\ttotal: 55.3s\tremaining: 1m 6s\n",
            "907:\tlearn: 0.1696084\ttest: 0.1041229\tbest: 0.1041229 (907)\ttotal: 55.4s\tremaining: 1m 6s\n",
            "908:\tlearn: 0.1694246\ttest: 0.1040028\tbest: 0.1040028 (908)\ttotal: 55.4s\tremaining: 1m 6s\n",
            "909:\tlearn: 0.1693889\ttest: 0.1039931\tbest: 0.1039931 (909)\ttotal: 55.5s\tremaining: 1m 6s\n",
            "910:\tlearn: 0.1693480\ttest: 0.1039853\tbest: 0.1039853 (910)\ttotal: 55.5s\tremaining: 1m 6s\n",
            "911:\tlearn: 0.1693177\ttest: 0.1039910\tbest: 0.1039853 (910)\ttotal: 55.6s\tremaining: 1m 6s\n",
            "912:\tlearn: 0.1692488\ttest: 0.1039841\tbest: 0.1039841 (912)\ttotal: 55.7s\tremaining: 1m 6s\n",
            "913:\tlearn: 0.1692128\ttest: 0.1039990\tbest: 0.1039841 (912)\ttotal: 55.7s\tremaining: 1m 6s\n",
            "914:\tlearn: 0.1691715\ttest: 0.1039885\tbest: 0.1039841 (912)\ttotal: 55.8s\tremaining: 1m 6s\n",
            "915:\tlearn: 0.1691380\ttest: 0.1039910\tbest: 0.1039841 (912)\ttotal: 55.8s\tremaining: 1m 6s\n",
            "916:\tlearn: 0.1691094\ttest: 0.1039909\tbest: 0.1039841 (912)\ttotal: 55.9s\tremaining: 1m 6s\n",
            "917:\tlearn: 0.1690823\ttest: 0.1040000\tbest: 0.1039841 (912)\ttotal: 56s\tremaining: 1m 5s\n",
            "918:\tlearn: 0.1690436\ttest: 0.1040437\tbest: 0.1039841 (912)\ttotal: 56s\tremaining: 1m 5s\n",
            "919:\tlearn: 0.1690192\ttest: 0.1040400\tbest: 0.1039841 (912)\ttotal: 56.1s\tremaining: 1m 5s\n",
            "920:\tlearn: 0.1688735\ttest: 0.1039630\tbest: 0.1039630 (920)\ttotal: 56.1s\tremaining: 1m 5s\n",
            "921:\tlearn: 0.1688439\ttest: 0.1039075\tbest: 0.1039075 (921)\ttotal: 56.2s\tremaining: 1m 5s\n",
            "922:\tlearn: 0.1688077\ttest: 0.1038919\tbest: 0.1038919 (922)\ttotal: 56.3s\tremaining: 1m 5s\n",
            "923:\tlearn: 0.1687810\ttest: 0.1038823\tbest: 0.1038823 (923)\ttotal: 56.3s\tremaining: 1m 5s\n",
            "924:\tlearn: 0.1687418\ttest: 0.1038738\tbest: 0.1038738 (924)\ttotal: 56.4s\tremaining: 1m 5s\n",
            "925:\tlearn: 0.1687037\ttest: 0.1038627\tbest: 0.1038627 (925)\ttotal: 56.5s\tremaining: 1m 5s\n",
            "926:\tlearn: 0.1686732\ttest: 0.1038613\tbest: 0.1038613 (926)\ttotal: 56.5s\tremaining: 1m 5s\n",
            "927:\tlearn: 0.1686277\ttest: 0.1038185\tbest: 0.1038185 (927)\ttotal: 56.6s\tremaining: 1m 5s\n",
            "928:\tlearn: 0.1686087\ttest: 0.1038248\tbest: 0.1038185 (927)\ttotal: 56.6s\tremaining: 1m 5s\n",
            "929:\tlearn: 0.1685778\ttest: 0.1038157\tbest: 0.1038157 (929)\ttotal: 56.7s\tremaining: 1m 5s\n",
            "930:\tlearn: 0.1685409\ttest: 0.1038061\tbest: 0.1038061 (930)\ttotal: 56.8s\tremaining: 1m 5s\n",
            "931:\tlearn: 0.1684858\ttest: 0.1038078\tbest: 0.1038061 (930)\ttotal: 56.8s\tremaining: 1m 5s\n",
            "932:\tlearn: 0.1684556\ttest: 0.1038124\tbest: 0.1038061 (930)\ttotal: 56.9s\tremaining: 1m 5s\n",
            "933:\tlearn: 0.1684182\ttest: 0.1038069\tbest: 0.1038061 (930)\ttotal: 56.9s\tremaining: 1m 4s\n",
            "934:\tlearn: 0.1683459\ttest: 0.1037768\tbest: 0.1037768 (934)\ttotal: 57s\tremaining: 1m 4s\n",
            "935:\tlearn: 0.1683009\ttest: 0.1037702\tbest: 0.1037702 (935)\ttotal: 57s\tremaining: 1m 4s\n",
            "936:\tlearn: 0.1682707\ttest: 0.1037764\tbest: 0.1037702 (935)\ttotal: 57.1s\tremaining: 1m 4s\n",
            "937:\tlearn: 0.1682407\ttest: 0.1037738\tbest: 0.1037702 (935)\ttotal: 57.2s\tremaining: 1m 4s\n",
            "938:\tlearn: 0.1682098\ttest: 0.1037749\tbest: 0.1037702 (935)\ttotal: 57.2s\tremaining: 1m 4s\n",
            "939:\tlearn: 0.1681743\ttest: 0.1037718\tbest: 0.1037702 (935)\ttotal: 57.3s\tremaining: 1m 4s\n",
            "940:\tlearn: 0.1681439\ttest: 0.1037661\tbest: 0.1037661 (940)\ttotal: 57.4s\tremaining: 1m 4s\n",
            "941:\tlearn: 0.1680982\ttest: 0.1037805\tbest: 0.1037661 (940)\ttotal: 57.4s\tremaining: 1m 4s\n",
            "942:\tlearn: 0.1680513\ttest: 0.1037701\tbest: 0.1037661 (940)\ttotal: 57.5s\tremaining: 1m 4s\n",
            "943:\tlearn: 0.1680119\ttest: 0.1037588\tbest: 0.1037588 (943)\ttotal: 57.5s\tremaining: 1m 4s\n",
            "944:\tlearn: 0.1679696\ttest: 0.1037518\tbest: 0.1037518 (944)\ttotal: 57.6s\tremaining: 1m 4s\n",
            "945:\tlearn: 0.1679299\ttest: 0.1037514\tbest: 0.1037514 (945)\ttotal: 57.7s\tremaining: 1m 4s\n",
            "946:\tlearn: 0.1678942\ttest: 0.1037551\tbest: 0.1037514 (945)\ttotal: 57.7s\tremaining: 1m 4s\n",
            "947:\tlearn: 0.1678610\ttest: 0.1037464\tbest: 0.1037464 (947)\ttotal: 57.8s\tremaining: 1m 4s\n",
            "948:\tlearn: 0.1678072\ttest: 0.1037431\tbest: 0.1037431 (948)\ttotal: 57.8s\tremaining: 1m 4s\n",
            "949:\tlearn: 0.1677398\ttest: 0.1037053\tbest: 0.1037053 (949)\ttotal: 57.9s\tremaining: 1m 4s\n",
            "950:\tlearn: 0.1677017\ttest: 0.1037187\tbest: 0.1037053 (949)\ttotal: 58s\tremaining: 1m 3s\n",
            "951:\tlearn: 0.1676661\ttest: 0.1036761\tbest: 0.1036761 (951)\ttotal: 58s\tremaining: 1m 3s\n",
            "952:\tlearn: 0.1675164\ttest: 0.1036117\tbest: 0.1036117 (952)\ttotal: 58.1s\tremaining: 1m 3s\n",
            "953:\tlearn: 0.1674881\ttest: 0.1035974\tbest: 0.1035974 (953)\ttotal: 58.1s\tremaining: 1m 3s\n",
            "954:\tlearn: 0.1674626\ttest: 0.1035934\tbest: 0.1035934 (954)\ttotal: 58.2s\tremaining: 1m 3s\n",
            "955:\tlearn: 0.1673632\ttest: 0.1035863\tbest: 0.1035863 (955)\ttotal: 58.3s\tremaining: 1m 3s\n",
            "956:\tlearn: 0.1673272\ttest: 0.1035726\tbest: 0.1035726 (956)\ttotal: 58.3s\tremaining: 1m 3s\n",
            "957:\tlearn: 0.1672908\ttest: 0.1035658\tbest: 0.1035658 (957)\ttotal: 58.4s\tremaining: 1m 3s\n",
            "958:\tlearn: 0.1672627\ttest: 0.1035130\tbest: 0.1035130 (958)\ttotal: 58.4s\tremaining: 1m 3s\n",
            "959:\tlearn: 0.1672347\ttest: 0.1035242\tbest: 0.1035130 (958)\ttotal: 58.5s\tremaining: 1m 3s\n",
            "960:\tlearn: 0.1671938\ttest: 0.1035146\tbest: 0.1035130 (958)\ttotal: 58.6s\tremaining: 1m 3s\n",
            "961:\tlearn: 0.1671653\ttest: 0.1035081\tbest: 0.1035081 (961)\ttotal: 58.6s\tremaining: 1m 3s\n",
            "962:\tlearn: 0.1671328\ttest: 0.1034894\tbest: 0.1034894 (962)\ttotal: 58.7s\tremaining: 1m 3s\n",
            "963:\tlearn: 0.1670595\ttest: 0.1034533\tbest: 0.1034533 (963)\ttotal: 58.7s\tremaining: 1m 3s\n",
            "964:\tlearn: 0.1670233\ttest: 0.1034434\tbest: 0.1034434 (964)\ttotal: 58.8s\tremaining: 1m 3s\n",
            "965:\tlearn: 0.1669830\ttest: 0.1034276\tbest: 0.1034276 (965)\ttotal: 58.9s\tremaining: 1m 3s\n",
            "966:\tlearn: 0.1669402\ttest: 0.1034225\tbest: 0.1034225 (966)\ttotal: 58.9s\tremaining: 1m 2s\n",
            "967:\tlearn: 0.1669081\ttest: 0.1034508\tbest: 0.1034225 (966)\ttotal: 59s\tremaining: 1m 2s\n",
            "968:\tlearn: 0.1667971\ttest: 0.1033985\tbest: 0.1033985 (968)\ttotal: 59.1s\tremaining: 1m 2s\n",
            "969:\tlearn: 0.1667491\ttest: 0.1034065\tbest: 0.1033985 (968)\ttotal: 59.1s\tremaining: 1m 2s\n",
            "970:\tlearn: 0.1667227\ttest: 0.1034411\tbest: 0.1033985 (968)\ttotal: 59.2s\tremaining: 1m 2s\n",
            "971:\tlearn: 0.1666888\ttest: 0.1034314\tbest: 0.1033985 (968)\ttotal: 59.2s\tremaining: 1m 2s\n",
            "972:\tlearn: 0.1666479\ttest: 0.1033932\tbest: 0.1033932 (972)\ttotal: 59.3s\tremaining: 1m 2s\n",
            "973:\tlearn: 0.1666282\ttest: 0.1033863\tbest: 0.1033863 (973)\ttotal: 59.4s\tremaining: 1m 2s\n",
            "974:\tlearn: 0.1665746\ttest: 0.1033509\tbest: 0.1033509 (974)\ttotal: 59.4s\tremaining: 1m 2s\n",
            "975:\tlearn: 0.1665300\ttest: 0.1034155\tbest: 0.1033509 (974)\ttotal: 59.5s\tremaining: 1m 2s\n",
            "976:\tlearn: 0.1664919\ttest: 0.1033831\tbest: 0.1033509 (974)\ttotal: 59.5s\tremaining: 1m 2s\n",
            "977:\tlearn: 0.1664595\ttest: 0.1033618\tbest: 0.1033509 (974)\ttotal: 59.6s\tremaining: 1m 2s\n",
            "978:\tlearn: 0.1663698\ttest: 0.1032678\tbest: 0.1032678 (978)\ttotal: 59.7s\tremaining: 1m 2s\n",
            "979:\tlearn: 0.1663137\ttest: 0.1032583\tbest: 0.1032583 (979)\ttotal: 59.7s\tremaining: 1m 2s\n",
            "980:\tlearn: 0.1662584\ttest: 0.1032449\tbest: 0.1032449 (980)\ttotal: 59.8s\tremaining: 1m 2s\n",
            "981:\tlearn: 0.1662259\ttest: 0.1032401\tbest: 0.1032401 (981)\ttotal: 59.8s\tremaining: 1m 2s\n",
            "982:\tlearn: 0.1662041\ttest: 0.1032446\tbest: 0.1032401 (981)\ttotal: 59.9s\tremaining: 1m 1s\n",
            "983:\tlearn: 0.1661837\ttest: 0.1032391\tbest: 0.1032391 (983)\ttotal: 60s\tremaining: 1m 1s\n",
            "984:\tlearn: 0.1661259\ttest: 0.1032162\tbest: 0.1032162 (984)\ttotal: 1m\tremaining: 1m 1s\n",
            "985:\tlearn: 0.1661001\ttest: 0.1032110\tbest: 0.1032110 (985)\ttotal: 1m\tremaining: 1m 1s\n",
            "986:\tlearn: 0.1660405\ttest: 0.1031951\tbest: 0.1031951 (986)\ttotal: 1m\tremaining: 1m 1s\n",
            "987:\tlearn: 0.1659919\ttest: 0.1031862\tbest: 0.1031862 (987)\ttotal: 1m\tremaining: 1m 1s\n",
            "988:\tlearn: 0.1658614\ttest: 0.1031423\tbest: 0.1031423 (988)\ttotal: 1m\tremaining: 1m 1s\n",
            "989:\tlearn: 0.1658187\ttest: 0.1031296\tbest: 0.1031296 (989)\ttotal: 1m\tremaining: 1m 1s\n",
            "990:\tlearn: 0.1657822\ttest: 0.1031145\tbest: 0.1031145 (990)\ttotal: 1m\tremaining: 1m 1s\n",
            "991:\tlearn: 0.1657345\ttest: 0.1031368\tbest: 0.1031145 (990)\ttotal: 1m\tremaining: 1m 1s\n",
            "992:\tlearn: 0.1657116\ttest: 0.1031294\tbest: 0.1031145 (990)\ttotal: 1m\tremaining: 1m 1s\n",
            "993:\tlearn: 0.1656907\ttest: 0.1031250\tbest: 0.1031145 (990)\ttotal: 1m\tremaining: 1m 1s\n",
            "994:\tlearn: 0.1656427\ttest: 0.1031288\tbest: 0.1031145 (990)\ttotal: 1m\tremaining: 1m 1s\n",
            "995:\tlearn: 0.1655712\ttest: 0.1030366\tbest: 0.1030366 (995)\ttotal: 1m\tremaining: 1m 1s\n",
            "996:\tlearn: 0.1655343\ttest: 0.1030376\tbest: 0.1030366 (995)\ttotal: 1m\tremaining: 1m 1s\n",
            "997:\tlearn: 0.1655015\ttest: 0.1030288\tbest: 0.1030288 (997)\ttotal: 1m\tremaining: 1m 1s\n",
            "998:\tlearn: 0.1654673\ttest: 0.1030300\tbest: 0.1030288 (997)\ttotal: 1m\tremaining: 1m\n",
            "999:\tlearn: 0.1654271\ttest: 0.1030496\tbest: 0.1030288 (997)\ttotal: 1m\tremaining: 1m\n",
            "1000:\tlearn: 0.1654056\ttest: 0.1030679\tbest: 0.1030288 (997)\ttotal: 1m\tremaining: 1m\n",
            "1001:\tlearn: 0.1653432\ttest: 0.1030544\tbest: 0.1030288 (997)\ttotal: 1m 1s\tremaining: 1m\n",
            "1002:\tlearn: 0.1653226\ttest: 0.1030483\tbest: 0.1030288 (997)\ttotal: 1m 1s\tremaining: 1m\n",
            "1003:\tlearn: 0.1652904\ttest: 0.1030374\tbest: 0.1030288 (997)\ttotal: 1m 1s\tremaining: 1m\n",
            "1004:\tlearn: 0.1652513\ttest: 0.1030424\tbest: 0.1030288 (997)\ttotal: 1m 1s\tremaining: 1m\n",
            "1005:\tlearn: 0.1652234\ttest: 0.1030387\tbest: 0.1030288 (997)\ttotal: 1m 1s\tremaining: 1m\n",
            "1006:\tlearn: 0.1652015\ttest: 0.1030385\tbest: 0.1030288 (997)\ttotal: 1m 1s\tremaining: 1m\n",
            "1007:\tlearn: 0.1651343\ttest: 0.1030053\tbest: 0.1030053 (1007)\ttotal: 1m 1s\tremaining: 1m\n",
            "1008:\tlearn: 0.1651137\ttest: 0.1029978\tbest: 0.1029978 (1008)\ttotal: 1m 1s\tremaining: 1m\n",
            "1009:\tlearn: 0.1650907\ttest: 0.1029909\tbest: 0.1029909 (1009)\ttotal: 1m 1s\tremaining: 1m\n",
            "1010:\tlearn: 0.1650529\ttest: 0.1029501\tbest: 0.1029501 (1010)\ttotal: 1m 1s\tremaining: 1m\n",
            "1011:\tlearn: 0.1650137\ttest: 0.1029393\tbest: 0.1029393 (1011)\ttotal: 1m 1s\tremaining: 1m\n",
            "1012:\tlearn: 0.1649812\ttest: 0.1029456\tbest: 0.1029393 (1011)\ttotal: 1m 1s\tremaining: 1m\n",
            "1013:\tlearn: 0.1649397\ttest: 0.1029459\tbest: 0.1029393 (1011)\ttotal: 1m 1s\tremaining: 1m\n",
            "1014:\tlearn: 0.1648797\ttest: 0.1029615\tbest: 0.1029393 (1011)\ttotal: 1m 1s\tremaining: 1m\n",
            "1015:\tlearn: 0.1648521\ttest: 0.1029502\tbest: 0.1029393 (1011)\ttotal: 1m 1s\tremaining: 60s\n",
            "1016:\tlearn: 0.1647890\ttest: 0.1029346\tbest: 0.1029346 (1016)\ttotal: 1m 1s\tremaining: 59.9s\n",
            "1017:\tlearn: 0.1647524\ttest: 0.1029546\tbest: 0.1029346 (1016)\ttotal: 1m 2s\tremaining: 59.8s\n",
            "1018:\tlearn: 0.1647182\ttest: 0.1029484\tbest: 0.1029346 (1016)\ttotal: 1m 2s\tremaining: 59.8s\n",
            "1019:\tlearn: 0.1646810\ttest: 0.1029215\tbest: 0.1029215 (1019)\ttotal: 1m 2s\tremaining: 59.7s\n",
            "1020:\tlearn: 0.1646510\ttest: 0.1029117\tbest: 0.1029117 (1020)\ttotal: 1m 2s\tremaining: 59.7s\n",
            "1021:\tlearn: 0.1646276\ttest: 0.1029085\tbest: 0.1029085 (1021)\ttotal: 1m 2s\tremaining: 59.6s\n",
            "1022:\tlearn: 0.1645984\ttest: 0.1029255\tbest: 0.1029085 (1021)\ttotal: 1m 2s\tremaining: 59.5s\n",
            "1023:\tlearn: 0.1645692\ttest: 0.1029202\tbest: 0.1029085 (1021)\ttotal: 1m 2s\tremaining: 59.5s\n",
            "1024:\tlearn: 0.1645328\ttest: 0.1028925\tbest: 0.1028925 (1024)\ttotal: 1m 2s\tremaining: 59.4s\n",
            "1025:\tlearn: 0.1644870\ttest: 0.1028804\tbest: 0.1028804 (1025)\ttotal: 1m 2s\tremaining: 59.4s\n",
            "1026:\tlearn: 0.1644464\ttest: 0.1028677\tbest: 0.1028677 (1026)\ttotal: 1m 2s\tremaining: 59.3s\n",
            "1027:\tlearn: 0.1644086\ttest: 0.1028783\tbest: 0.1028677 (1026)\ttotal: 1m 2s\tremaining: 59.2s\n",
            "1028:\tlearn: 0.1643822\ttest: 0.1028906\tbest: 0.1028677 (1026)\ttotal: 1m 2s\tremaining: 59.2s\n",
            "1029:\tlearn: 0.1643503\ttest: 0.1028854\tbest: 0.1028677 (1026)\ttotal: 1m 2s\tremaining: 59.1s\n",
            "1030:\tlearn: 0.1642826\ttest: 0.1028962\tbest: 0.1028677 (1026)\ttotal: 1m 2s\tremaining: 59.1s\n",
            "1031:\tlearn: 0.1642502\ttest: 0.1028930\tbest: 0.1028677 (1026)\ttotal: 1m 2s\tremaining: 59s\n",
            "1032:\tlearn: 0.1642056\ttest: 0.1028862\tbest: 0.1028677 (1026)\ttotal: 1m 2s\tremaining: 58.9s\n",
            "1033:\tlearn: 0.1641341\ttest: 0.1028594\tbest: 0.1028594 (1033)\ttotal: 1m 3s\tremaining: 58.9s\n",
            "1034:\tlearn: 0.1641007\ttest: 0.1028426\tbest: 0.1028426 (1034)\ttotal: 1m 3s\tremaining: 58.8s\n",
            "1035:\tlearn: 0.1640524\ttest: 0.1028389\tbest: 0.1028389 (1035)\ttotal: 1m 3s\tremaining: 58.7s\n",
            "1036:\tlearn: 0.1640242\ttest: 0.1028313\tbest: 0.1028313 (1036)\ttotal: 1m 3s\tremaining: 58.7s\n",
            "1037:\tlearn: 0.1639639\ttest: 0.1028389\tbest: 0.1028313 (1036)\ttotal: 1m 3s\tremaining: 58.6s\n",
            "1038:\tlearn: 0.1639338\ttest: 0.1028438\tbest: 0.1028313 (1036)\ttotal: 1m 3s\tremaining: 58.6s\n",
            "1039:\tlearn: 0.1639024\ttest: 0.1028360\tbest: 0.1028313 (1036)\ttotal: 1m 3s\tremaining: 58.5s\n",
            "1040:\tlearn: 0.1638650\ttest: 0.1028170\tbest: 0.1028170 (1040)\ttotal: 1m 3s\tremaining: 58.4s\n",
            "1041:\tlearn: 0.1638476\ttest: 0.1028152\tbest: 0.1028152 (1041)\ttotal: 1m 3s\tremaining: 58.4s\n",
            "1042:\tlearn: 0.1638147\ttest: 0.1028120\tbest: 0.1028120 (1042)\ttotal: 1m 3s\tremaining: 58.3s\n",
            "1043:\tlearn: 0.1637874\ttest: 0.1027927\tbest: 0.1027927 (1043)\ttotal: 1m 3s\tremaining: 58.3s\n",
            "1044:\tlearn: 0.1637656\ttest: 0.1027874\tbest: 0.1027874 (1044)\ttotal: 1m 3s\tremaining: 58.2s\n",
            "1045:\tlearn: 0.1637280\ttest: 0.1027725\tbest: 0.1027725 (1045)\ttotal: 1m 3s\tremaining: 58.1s\n",
            "1046:\tlearn: 0.1637068\ttest: 0.1027661\tbest: 0.1027661 (1046)\ttotal: 1m 3s\tremaining: 58.1s\n",
            "1047:\tlearn: 0.1636606\ttest: 0.1027666\tbest: 0.1027661 (1046)\ttotal: 1m 3s\tremaining: 58s\n",
            "1048:\tlearn: 0.1636342\ttest: 0.1027819\tbest: 0.1027661 (1046)\ttotal: 1m 3s\tremaining: 58s\n",
            "1049:\tlearn: 0.1635717\ttest: 0.1026983\tbest: 0.1026983 (1049)\ttotal: 1m 3s\tremaining: 57.9s\n",
            "1050:\tlearn: 0.1635511\ttest: 0.1026906\tbest: 0.1026906 (1050)\ttotal: 1m 4s\tremaining: 57.8s\n",
            "1051:\tlearn: 0.1635254\ttest: 0.1026851\tbest: 0.1026851 (1051)\ttotal: 1m 4s\tremaining: 57.8s\n",
            "1052:\tlearn: 0.1634630\ttest: 0.1026619\tbest: 0.1026619 (1052)\ttotal: 1m 4s\tremaining: 57.7s\n",
            "1053:\tlearn: 0.1634311\ttest: 0.1026488\tbest: 0.1026488 (1053)\ttotal: 1m 4s\tremaining: 57.7s\n",
            "1054:\tlearn: 0.1633923\ttest: 0.1026527\tbest: 0.1026488 (1053)\ttotal: 1m 4s\tremaining: 57.6s\n",
            "1055:\tlearn: 0.1633611\ttest: 0.1026472\tbest: 0.1026472 (1055)\ttotal: 1m 4s\tremaining: 57.5s\n",
            "1056:\tlearn: 0.1633103\ttest: 0.1026000\tbest: 0.1026000 (1056)\ttotal: 1m 4s\tremaining: 57.5s\n",
            "1057:\tlearn: 0.1632655\ttest: 0.1025453\tbest: 0.1025453 (1057)\ttotal: 1m 4s\tremaining: 57.4s\n",
            "1058:\tlearn: 0.1632196\ttest: 0.1025599\tbest: 0.1025453 (1057)\ttotal: 1m 4s\tremaining: 57.4s\n",
            "1059:\tlearn: 0.1631861\ttest: 0.1025630\tbest: 0.1025453 (1057)\ttotal: 1m 4s\tremaining: 57.3s\n",
            "1060:\tlearn: 0.1631583\ttest: 0.1025252\tbest: 0.1025252 (1060)\ttotal: 1m 4s\tremaining: 57.2s\n",
            "1061:\tlearn: 0.1631159\ttest: 0.1025345\tbest: 0.1025252 (1060)\ttotal: 1m 4s\tremaining: 57.2s\n",
            "1062:\tlearn: 0.1630798\ttest: 0.1025261\tbest: 0.1025252 (1060)\ttotal: 1m 4s\tremaining: 57.1s\n",
            "1063:\tlearn: 0.1630463\ttest: 0.1025172\tbest: 0.1025172 (1063)\ttotal: 1m 4s\tremaining: 57s\n",
            "1064:\tlearn: 0.1629924\ttest: 0.1024944\tbest: 0.1024944 (1064)\ttotal: 1m 4s\tremaining: 57s\n",
            "1065:\tlearn: 0.1629658\ttest: 0.1024877\tbest: 0.1024877 (1065)\ttotal: 1m 4s\tremaining: 56.9s\n",
            "1066:\tlearn: 0.1629421\ttest: 0.1024914\tbest: 0.1024877 (1065)\ttotal: 1m 5s\tremaining: 56.9s\n",
            "1067:\tlearn: 0.1629141\ttest: 0.1024857\tbest: 0.1024857 (1067)\ttotal: 1m 5s\tremaining: 56.8s\n",
            "1068:\tlearn: 0.1628900\ttest: 0.1024948\tbest: 0.1024857 (1067)\ttotal: 1m 5s\tremaining: 56.7s\n",
            "1069:\tlearn: 0.1628669\ttest: 0.1024895\tbest: 0.1024857 (1067)\ttotal: 1m 5s\tremaining: 56.7s\n",
            "1070:\tlearn: 0.1628444\ttest: 0.1024542\tbest: 0.1024542 (1070)\ttotal: 1m 5s\tremaining: 56.6s\n",
            "1071:\tlearn: 0.1627921\ttest: 0.1024132\tbest: 0.1024132 (1071)\ttotal: 1m 5s\tremaining: 56.6s\n",
            "1072:\tlearn: 0.1626836\ttest: 0.1022882\tbest: 0.1022882 (1072)\ttotal: 1m 5s\tremaining: 56.5s\n",
            "1073:\tlearn: 0.1626537\ttest: 0.1022929\tbest: 0.1022882 (1072)\ttotal: 1m 5s\tremaining: 56.4s\n",
            "1074:\tlearn: 0.1626015\ttest: 0.1022621\tbest: 0.1022621 (1074)\ttotal: 1m 5s\tremaining: 56.4s\n",
            "1075:\tlearn: 0.1625714\ttest: 0.1022557\tbest: 0.1022557 (1075)\ttotal: 1m 5s\tremaining: 56.3s\n",
            "1076:\tlearn: 0.1624938\ttest: 0.1022446\tbest: 0.1022446 (1076)\ttotal: 1m 5s\tremaining: 56.3s\n",
            "1077:\tlearn: 0.1624399\ttest: 0.1021983\tbest: 0.1021983 (1077)\ttotal: 1m 5s\tremaining: 56.2s\n",
            "1078:\tlearn: 0.1623915\ttest: 0.1021568\tbest: 0.1021568 (1078)\ttotal: 1m 5s\tremaining: 56.1s\n",
            "1079:\tlearn: 0.1623698\ttest: 0.1021530\tbest: 0.1021530 (1079)\ttotal: 1m 5s\tremaining: 56.1s\n",
            "1080:\tlearn: 0.1623318\ttest: 0.1021408\tbest: 0.1021408 (1080)\ttotal: 1m 5s\tremaining: 56s\n",
            "1081:\tlearn: 0.1622890\ttest: 0.1021201\tbest: 0.1021201 (1081)\ttotal: 1m 5s\tremaining: 56s\n",
            "1082:\tlearn: 0.1622485\ttest: 0.1020966\tbest: 0.1020966 (1082)\ttotal: 1m 6s\tremaining: 55.9s\n",
            "1083:\tlearn: 0.1622204\ttest: 0.1020919\tbest: 0.1020919 (1083)\ttotal: 1m 6s\tremaining: 55.8s\n",
            "1084:\tlearn: 0.1621925\ttest: 0.1020827\tbest: 0.1020827 (1084)\ttotal: 1m 6s\tremaining: 55.8s\n",
            "1085:\tlearn: 0.1621591\ttest: 0.1020986\tbest: 0.1020827 (1084)\ttotal: 1m 6s\tremaining: 55.7s\n",
            "1086:\tlearn: 0.1621325\ttest: 0.1021032\tbest: 0.1020827 (1084)\ttotal: 1m 6s\tremaining: 55.7s\n",
            "1087:\tlearn: 0.1620976\ttest: 0.1021069\tbest: 0.1020827 (1084)\ttotal: 1m 6s\tremaining: 55.6s\n",
            "1088:\tlearn: 0.1620639\ttest: 0.1020669\tbest: 0.1020669 (1088)\ttotal: 1m 6s\tremaining: 55.5s\n",
            "1089:\tlearn: 0.1620414\ttest: 0.1020619\tbest: 0.1020619 (1089)\ttotal: 1m 6s\tremaining: 55.5s\n",
            "1090:\tlearn: 0.1620139\ttest: 0.1020555\tbest: 0.1020555 (1090)\ttotal: 1m 6s\tremaining: 55.4s\n",
            "1091:\tlearn: 0.1619817\ttest: 0.1020479\tbest: 0.1020479 (1091)\ttotal: 1m 6s\tremaining: 55.4s\n",
            "1092:\tlearn: 0.1619586\ttest: 0.1020421\tbest: 0.1020421 (1092)\ttotal: 1m 6s\tremaining: 55.3s\n",
            "1093:\tlearn: 0.1619339\ttest: 0.1020370\tbest: 0.1020370 (1093)\ttotal: 1m 6s\tremaining: 55.2s\n",
            "1094:\tlearn: 0.1618812\ttest: 0.1020300\tbest: 0.1020300 (1094)\ttotal: 1m 6s\tremaining: 55.2s\n",
            "1095:\tlearn: 0.1618447\ttest: 0.1020153\tbest: 0.1020153 (1095)\ttotal: 1m 6s\tremaining: 55.1s\n",
            "1096:\tlearn: 0.1618173\ttest: 0.1020127\tbest: 0.1020127 (1096)\ttotal: 1m 6s\tremaining: 55s\n",
            "1097:\tlearn: 0.1617979\ttest: 0.1020122\tbest: 0.1020122 (1097)\ttotal: 1m 6s\tremaining: 55s\n",
            "1098:\tlearn: 0.1617633\ttest: 0.1019996\tbest: 0.1019996 (1098)\ttotal: 1m 6s\tremaining: 54.9s\n",
            "1099:\tlearn: 0.1617144\ttest: 0.1019940\tbest: 0.1019940 (1099)\ttotal: 1m 7s\tremaining: 54.9s\n",
            "1100:\tlearn: 0.1616847\ttest: 0.1019886\tbest: 0.1019886 (1100)\ttotal: 1m 7s\tremaining: 54.8s\n",
            "1101:\tlearn: 0.1615853\ttest: 0.1019354\tbest: 0.1019354 (1101)\ttotal: 1m 7s\tremaining: 54.7s\n",
            "1102:\tlearn: 0.1615641\ttest: 0.1019238\tbest: 0.1019238 (1102)\ttotal: 1m 7s\tremaining: 54.7s\n",
            "1103:\tlearn: 0.1615215\ttest: 0.1019155\tbest: 0.1019155 (1103)\ttotal: 1m 7s\tremaining: 54.6s\n",
            "1104:\tlearn: 0.1614857\ttest: 0.1019033\tbest: 0.1019033 (1104)\ttotal: 1m 7s\tremaining: 54.5s\n",
            "1105:\tlearn: 0.1614394\ttest: 0.1019306\tbest: 0.1019033 (1104)\ttotal: 1m 7s\tremaining: 54.5s\n",
            "1106:\tlearn: 0.1613822\ttest: 0.1019163\tbest: 0.1019033 (1104)\ttotal: 1m 7s\tremaining: 54.4s\n",
            "1107:\tlearn: 0.1613583\ttest: 0.1019094\tbest: 0.1019033 (1104)\ttotal: 1m 7s\tremaining: 54.4s\n",
            "1108:\tlearn: 0.1612836\ttest: 0.1019186\tbest: 0.1019033 (1104)\ttotal: 1m 7s\tremaining: 54.3s\n",
            "1109:\tlearn: 0.1612155\ttest: 0.1019271\tbest: 0.1019033 (1104)\ttotal: 1m 7s\tremaining: 54.3s\n",
            "1110:\tlearn: 0.1611762\ttest: 0.1018878\tbest: 0.1018878 (1110)\ttotal: 1m 7s\tremaining: 54.2s\n",
            "1111:\tlearn: 0.1611472\ttest: 0.1018302\tbest: 0.1018302 (1111)\ttotal: 1m 7s\tremaining: 54.1s\n",
            "1112:\tlearn: 0.1611225\ttest: 0.1018243\tbest: 0.1018243 (1112)\ttotal: 1m 7s\tremaining: 54.1s\n",
            "1113:\tlearn: 0.1610993\ttest: 0.1018211\tbest: 0.1018211 (1113)\ttotal: 1m 7s\tremaining: 54s\n",
            "1114:\tlearn: 0.1610725\ttest: 0.1018167\tbest: 0.1018167 (1114)\ttotal: 1m 7s\tremaining: 53.9s\n",
            "1115:\tlearn: 0.1610505\ttest: 0.1018106\tbest: 0.1018106 (1115)\ttotal: 1m 8s\tremaining: 53.9s\n",
            "1116:\tlearn: 0.1610073\ttest: 0.1018003\tbest: 0.1018003 (1116)\ttotal: 1m 8s\tremaining: 53.8s\n",
            "1117:\tlearn: 0.1609701\ttest: 0.1017994\tbest: 0.1017994 (1117)\ttotal: 1m 8s\tremaining: 53.8s\n",
            "1118:\tlearn: 0.1609243\ttest: 0.1018057\tbest: 0.1017994 (1117)\ttotal: 1m 8s\tremaining: 53.7s\n",
            "1119:\tlearn: 0.1609050\ttest: 0.1017995\tbest: 0.1017994 (1117)\ttotal: 1m 8s\tremaining: 53.6s\n",
            "1120:\tlearn: 0.1608268\ttest: 0.1017826\tbest: 0.1017826 (1120)\ttotal: 1m 8s\tremaining: 53.6s\n",
            "1121:\tlearn: 0.1608031\ttest: 0.1017738\tbest: 0.1017738 (1121)\ttotal: 1m 8s\tremaining: 53.5s\n",
            "1122:\tlearn: 0.1607810\ttest: 0.1017631\tbest: 0.1017631 (1122)\ttotal: 1m 8s\tremaining: 53.4s\n",
            "1123:\tlearn: 0.1607589\ttest: 0.1017564\tbest: 0.1017564 (1123)\ttotal: 1m 8s\tremaining: 53.4s\n",
            "1124:\tlearn: 0.1607172\ttest: 0.1017467\tbest: 0.1017467 (1124)\ttotal: 1m 8s\tremaining: 53.3s\n",
            "1125:\tlearn: 0.1606934\ttest: 0.1017388\tbest: 0.1017388 (1125)\ttotal: 1m 8s\tremaining: 53.3s\n",
            "1126:\tlearn: 0.1606765\ttest: 0.1017338\tbest: 0.1017338 (1126)\ttotal: 1m 8s\tremaining: 53.2s\n",
            "1127:\tlearn: 0.1606494\ttest: 0.1017414\tbest: 0.1017338 (1126)\ttotal: 1m 8s\tremaining: 53.1s\n",
            "1128:\tlearn: 0.1606037\ttest: 0.1017455\tbest: 0.1017338 (1126)\ttotal: 1m 8s\tremaining: 53.1s\n",
            "1129:\tlearn: 0.1605429\ttest: 0.1016976\tbest: 0.1016976 (1129)\ttotal: 1m 8s\tremaining: 53s\n",
            "1130:\tlearn: 0.1605200\ttest: 0.1016942\tbest: 0.1016942 (1130)\ttotal: 1m 8s\tremaining: 53s\n",
            "1131:\tlearn: 0.1604820\ttest: 0.1016840\tbest: 0.1016840 (1131)\ttotal: 1m 8s\tremaining: 52.9s\n",
            "1132:\tlearn: 0.1604577\ttest: 0.1016761\tbest: 0.1016761 (1132)\ttotal: 1m 9s\tremaining: 52.8s\n",
            "1133:\tlearn: 0.1603720\ttest: 0.1016523\tbest: 0.1016523 (1133)\ttotal: 1m 9s\tremaining: 52.8s\n",
            "1134:\tlearn: 0.1603484\ttest: 0.1016449\tbest: 0.1016449 (1134)\ttotal: 1m 9s\tremaining: 52.7s\n",
            "1135:\tlearn: 0.1603066\ttest: 0.1016386\tbest: 0.1016386 (1135)\ttotal: 1m 9s\tremaining: 52.7s\n",
            "1136:\tlearn: 0.1602891\ttest: 0.1016491\tbest: 0.1016386 (1135)\ttotal: 1m 9s\tremaining: 52.6s\n",
            "1137:\tlearn: 0.1602545\ttest: 0.1016599\tbest: 0.1016386 (1135)\ttotal: 1m 9s\tremaining: 52.5s\n",
            "1138:\tlearn: 0.1601714\ttest: 0.1016389\tbest: 0.1016386 (1135)\ttotal: 1m 9s\tremaining: 52.5s\n",
            "1139:\tlearn: 0.1601360\ttest: 0.1016277\tbest: 0.1016277 (1139)\ttotal: 1m 9s\tremaining: 52.4s\n",
            "1140:\tlearn: 0.1601110\ttest: 0.1016161\tbest: 0.1016161 (1140)\ttotal: 1m 9s\tremaining: 52.4s\n",
            "1141:\tlearn: 0.1600649\ttest: 0.1015943\tbest: 0.1015943 (1141)\ttotal: 1m 9s\tremaining: 52.3s\n",
            "1142:\tlearn: 0.1600386\ttest: 0.1015865\tbest: 0.1015865 (1142)\ttotal: 1m 9s\tremaining: 52.2s\n",
            "1143:\tlearn: 0.1600169\ttest: 0.1015806\tbest: 0.1015806 (1143)\ttotal: 1m 9s\tremaining: 52.2s\n",
            "1144:\tlearn: 0.1599831\ttest: 0.1015696\tbest: 0.1015696 (1144)\ttotal: 1m 9s\tremaining: 52.1s\n",
            "1145:\tlearn: 0.1599633\ttest: 0.1015795\tbest: 0.1015696 (1144)\ttotal: 1m 9s\tremaining: 52.1s\n",
            "1146:\tlearn: 0.1599199\ttest: 0.1015687\tbest: 0.1015687 (1146)\ttotal: 1m 9s\tremaining: 52s\n",
            "1147:\tlearn: 0.1599010\ttest: 0.1015684\tbest: 0.1015684 (1147)\ttotal: 1m 9s\tremaining: 51.9s\n",
            "1148:\tlearn: 0.1598861\ttest: 0.1015752\tbest: 0.1015684 (1147)\ttotal: 1m 10s\tremaining: 51.9s\n",
            "1149:\tlearn: 0.1598607\ttest: 0.1015662\tbest: 0.1015662 (1149)\ttotal: 1m 10s\tremaining: 51.8s\n",
            "1150:\tlearn: 0.1598409\ttest: 0.1015593\tbest: 0.1015593 (1150)\ttotal: 1m 10s\tremaining: 51.7s\n",
            "1151:\tlearn: 0.1598048\ttest: 0.1015685\tbest: 0.1015593 (1150)\ttotal: 1m 10s\tremaining: 51.7s\n",
            "1152:\tlearn: 0.1597793\ttest: 0.1015611\tbest: 0.1015593 (1150)\ttotal: 1m 10s\tremaining: 51.6s\n",
            "1153:\tlearn: 0.1597585\ttest: 0.1015550\tbest: 0.1015550 (1153)\ttotal: 1m 10s\tremaining: 51.6s\n",
            "1154:\tlearn: 0.1597314\ttest: 0.1015659\tbest: 0.1015550 (1153)\ttotal: 1m 10s\tremaining: 51.5s\n",
            "1155:\tlearn: 0.1596990\ttest: 0.1015562\tbest: 0.1015550 (1153)\ttotal: 1m 10s\tremaining: 51.4s\n",
            "1156:\tlearn: 0.1596737\ttest: 0.1015509\tbest: 0.1015509 (1156)\ttotal: 1m 10s\tremaining: 51.4s\n",
            "1157:\tlearn: 0.1596398\ttest: 0.1015490\tbest: 0.1015490 (1157)\ttotal: 1m 10s\tremaining: 51.3s\n",
            "1158:\tlearn: 0.1596177\ttest: 0.1015466\tbest: 0.1015466 (1158)\ttotal: 1m 10s\tremaining: 51.3s\n",
            "1159:\tlearn: 0.1595665\ttest: 0.1015207\tbest: 0.1015207 (1159)\ttotal: 1m 10s\tremaining: 51.2s\n",
            "1160:\tlearn: 0.1595481\ttest: 0.1015205\tbest: 0.1015205 (1160)\ttotal: 1m 10s\tremaining: 51.1s\n",
            "1161:\tlearn: 0.1595208\ttest: 0.1015151\tbest: 0.1015151 (1161)\ttotal: 1m 10s\tremaining: 51.1s\n",
            "1162:\tlearn: 0.1594881\ttest: 0.1015063\tbest: 0.1015063 (1162)\ttotal: 1m 10s\tremaining: 51s\n",
            "1163:\tlearn: 0.1594511\ttest: 0.1014616\tbest: 0.1014616 (1163)\ttotal: 1m 10s\tremaining: 51s\n",
            "1164:\tlearn: 0.1594237\ttest: 0.1014530\tbest: 0.1014530 (1164)\ttotal: 1m 11s\tremaining: 50.9s\n",
            "1165:\tlearn: 0.1593798\ttest: 0.1014302\tbest: 0.1014302 (1165)\ttotal: 1m 11s\tremaining: 50.8s\n",
            "1166:\tlearn: 0.1593524\ttest: 0.1014230\tbest: 0.1014230 (1166)\ttotal: 1m 11s\tremaining: 50.8s\n",
            "1167:\tlearn: 0.1593221\ttest: 0.1014175\tbest: 0.1014175 (1167)\ttotal: 1m 11s\tremaining: 50.7s\n",
            "1168:\tlearn: 0.1592105\ttest: 0.1013862\tbest: 0.1013862 (1168)\ttotal: 1m 11s\tremaining: 50.7s\n",
            "1169:\tlearn: 0.1591830\ttest: 0.1013644\tbest: 0.1013644 (1169)\ttotal: 1m 11s\tremaining: 50.6s\n",
            "1170:\tlearn: 0.1591364\ttest: 0.1013382\tbest: 0.1013382 (1170)\ttotal: 1m 11s\tremaining: 50.5s\n",
            "1171:\tlearn: 0.1591057\ttest: 0.1013302\tbest: 0.1013302 (1171)\ttotal: 1m 11s\tremaining: 50.5s\n",
            "1172:\tlearn: 0.1589821\ttest: 0.1012481\tbest: 0.1012481 (1172)\ttotal: 1m 11s\tremaining: 50.4s\n",
            "1173:\tlearn: 0.1589331\ttest: 0.1012754\tbest: 0.1012481 (1172)\ttotal: 1m 11s\tremaining: 50.4s\n",
            "1174:\tlearn: 0.1589029\ttest: 0.1012661\tbest: 0.1012481 (1172)\ttotal: 1m 11s\tremaining: 50.3s\n",
            "1175:\tlearn: 0.1588827\ttest: 0.1012807\tbest: 0.1012481 (1172)\ttotal: 1m 11s\tremaining: 50.2s\n",
            "1176:\tlearn: 0.1588634\ttest: 0.1012848\tbest: 0.1012481 (1172)\ttotal: 1m 11s\tremaining: 50.2s\n",
            "1177:\tlearn: 0.1588351\ttest: 0.1013319\tbest: 0.1012481 (1172)\ttotal: 1m 11s\tremaining: 50.1s\n",
            "1178:\tlearn: 0.1588177\ttest: 0.1013271\tbest: 0.1012481 (1172)\ttotal: 1m 11s\tremaining: 50s\n",
            "1179:\tlearn: 0.1587833\ttest: 0.1013289\tbest: 0.1012481 (1172)\ttotal: 1m 11s\tremaining: 50s\n",
            "1180:\tlearn: 0.1587627\ttest: 0.1013498\tbest: 0.1012481 (1172)\ttotal: 1m 11s\tremaining: 49.9s\n",
            "1181:\tlearn: 0.1586645\ttest: 0.1011776\tbest: 0.1011776 (1181)\ttotal: 1m 12s\tremaining: 49.9s\n",
            "1182:\tlearn: 0.1586453\ttest: 0.1011916\tbest: 0.1011776 (1181)\ttotal: 1m 12s\tremaining: 49.8s\n",
            "1183:\tlearn: 0.1586180\ttest: 0.1011945\tbest: 0.1011776 (1181)\ttotal: 1m 12s\tremaining: 49.7s\n",
            "1184:\tlearn: 0.1585109\ttest: 0.1011424\tbest: 0.1011424 (1184)\ttotal: 1m 12s\tremaining: 49.7s\n",
            "1185:\tlearn: 0.1584843\ttest: 0.1011348\tbest: 0.1011348 (1185)\ttotal: 1m 12s\tremaining: 49.6s\n",
            "1186:\tlearn: 0.1584231\ttest: 0.1011191\tbest: 0.1011191 (1186)\ttotal: 1m 12s\tremaining: 49.6s\n",
            "1187:\tlearn: 0.1583960\ttest: 0.1011212\tbest: 0.1011191 (1186)\ttotal: 1m 12s\tremaining: 49.5s\n",
            "1188:\tlearn: 0.1583779\ttest: 0.1011145\tbest: 0.1011145 (1188)\ttotal: 1m 12s\tremaining: 49.4s\n",
            "1189:\tlearn: 0.1583495\ttest: 0.1011168\tbest: 0.1011145 (1188)\ttotal: 1m 12s\tremaining: 49.4s\n",
            "1190:\tlearn: 0.1583233\ttest: 0.1011132\tbest: 0.1011132 (1190)\ttotal: 1m 12s\tremaining: 49.3s\n",
            "1191:\tlearn: 0.1582890\ttest: 0.1011086\tbest: 0.1011086 (1191)\ttotal: 1m 12s\tremaining: 49.3s\n",
            "1192:\tlearn: 0.1582625\ttest: 0.1011073\tbest: 0.1011073 (1192)\ttotal: 1m 12s\tremaining: 49.2s\n",
            "1193:\tlearn: 0.1582289\ttest: 0.1011070\tbest: 0.1011070 (1193)\ttotal: 1m 12s\tremaining: 49.1s\n",
            "1194:\tlearn: 0.1581886\ttest: 0.1010969\tbest: 0.1010969 (1194)\ttotal: 1m 12s\tremaining: 49.1s\n",
            "1195:\tlearn: 0.1581406\ttest: 0.1011038\tbest: 0.1010969 (1194)\ttotal: 1m 12s\tremaining: 49s\n",
            "1196:\tlearn: 0.1581166\ttest: 0.1010985\tbest: 0.1010969 (1194)\ttotal: 1m 12s\tremaining: 49s\n",
            "1197:\tlearn: 0.1580869\ttest: 0.1010944\tbest: 0.1010944 (1197)\ttotal: 1m 13s\tremaining: 48.9s\n",
            "1198:\tlearn: 0.1580555\ttest: 0.1010547\tbest: 0.1010547 (1198)\ttotal: 1m 13s\tremaining: 48.8s\n",
            "1199:\tlearn: 0.1580304\ttest: 0.1010237\tbest: 0.1010237 (1199)\ttotal: 1m 13s\tremaining: 48.8s\n",
            "1200:\tlearn: 0.1579748\ttest: 0.1010104\tbest: 0.1010104 (1200)\ttotal: 1m 13s\tremaining: 48.7s\n",
            "1201:\tlearn: 0.1579425\ttest: 0.1010035\tbest: 0.1010035 (1201)\ttotal: 1m 13s\tremaining: 48.6s\n",
            "1202:\tlearn: 0.1579118\ttest: 0.1009906\tbest: 0.1009906 (1202)\ttotal: 1m 13s\tremaining: 48.6s\n",
            "1203:\tlearn: 0.1578803\ttest: 0.1009646\tbest: 0.1009646 (1203)\ttotal: 1m 13s\tremaining: 48.5s\n",
            "1204:\tlearn: 0.1578398\ttest: 0.1009542\tbest: 0.1009542 (1204)\ttotal: 1m 13s\tremaining: 48.5s\n",
            "1205:\tlearn: 0.1578009\ttest: 0.1009442\tbest: 0.1009442 (1205)\ttotal: 1m 13s\tremaining: 48.4s\n",
            "1206:\tlearn: 0.1577258\ttest: 0.1008399\tbest: 0.1008399 (1206)\ttotal: 1m 13s\tremaining: 48.3s\n",
            "1207:\tlearn: 0.1577012\ttest: 0.1008292\tbest: 0.1008292 (1207)\ttotal: 1m 13s\tremaining: 48.3s\n",
            "1208:\tlearn: 0.1576744\ttest: 0.1008224\tbest: 0.1008224 (1208)\ttotal: 1m 13s\tremaining: 48.2s\n",
            "1209:\tlearn: 0.1576496\ttest: 0.1008157\tbest: 0.1008157 (1209)\ttotal: 1m 13s\tremaining: 48.2s\n",
            "1210:\tlearn: 0.1575237\ttest: 0.1006229\tbest: 0.1006229 (1210)\ttotal: 1m 13s\tremaining: 48.1s\n",
            "1211:\tlearn: 0.1574776\ttest: 0.1005984\tbest: 0.1005984 (1211)\ttotal: 1m 13s\tremaining: 48s\n",
            "1212:\tlearn: 0.1574442\ttest: 0.1005882\tbest: 0.1005882 (1212)\ttotal: 1m 13s\tremaining: 48s\n",
            "1213:\tlearn: 0.1573892\ttest: 0.1005599\tbest: 0.1005599 (1213)\ttotal: 1m 14s\tremaining: 47.9s\n",
            "1214:\tlearn: 0.1573478\ttest: 0.1005281\tbest: 0.1005281 (1214)\ttotal: 1m 14s\tremaining: 47.9s\n",
            "1215:\tlearn: 0.1573007\ttest: 0.1004990\tbest: 0.1004990 (1215)\ttotal: 1m 14s\tremaining: 47.8s\n",
            "1216:\tlearn: 0.1572784\ttest: 0.1005220\tbest: 0.1004990 (1215)\ttotal: 1m 14s\tremaining: 47.7s\n",
            "1217:\tlearn: 0.1572480\ttest: 0.1005158\tbest: 0.1004990 (1215)\ttotal: 1m 14s\tremaining: 47.7s\n",
            "1218:\tlearn: 0.1572267\ttest: 0.1005106\tbest: 0.1004990 (1215)\ttotal: 1m 14s\tremaining: 47.6s\n",
            "1219:\tlearn: 0.1572009\ttest: 0.1005177\tbest: 0.1004990 (1215)\ttotal: 1m 14s\tremaining: 47.5s\n",
            "1220:\tlearn: 0.1571608\ttest: 0.1005088\tbest: 0.1004990 (1215)\ttotal: 1m 14s\tremaining: 47.5s\n",
            "1221:\tlearn: 0.1571321\ttest: 0.1005088\tbest: 0.1004990 (1215)\ttotal: 1m 14s\tremaining: 47.4s\n",
            "1222:\tlearn: 0.1571046\ttest: 0.1005373\tbest: 0.1004990 (1215)\ttotal: 1m 14s\tremaining: 47.4s\n",
            "1223:\tlearn: 0.1570335\ttest: 0.1005169\tbest: 0.1004990 (1215)\ttotal: 1m 14s\tremaining: 47.3s\n",
            "1224:\tlearn: 0.1570155\ttest: 0.1005222\tbest: 0.1004990 (1215)\ttotal: 1m 14s\tremaining: 47.3s\n",
            "1225:\tlearn: 0.1569141\ttest: 0.1003295\tbest: 0.1003295 (1225)\ttotal: 1m 14s\tremaining: 47.2s\n",
            "1226:\tlearn: 0.1568889\ttest: 0.1003152\tbest: 0.1003152 (1226)\ttotal: 1m 14s\tremaining: 47.1s\n",
            "1227:\tlearn: 0.1568628\ttest: 0.1003116\tbest: 0.1003116 (1227)\ttotal: 1m 14s\tremaining: 47.1s\n",
            "1228:\tlearn: 0.1565355\ttest: 0.0996590\tbest: 0.0996590 (1228)\ttotal: 1m 14s\tremaining: 47s\n",
            "1229:\tlearn: 0.1565171\ttest: 0.0996723\tbest: 0.0996590 (1228)\ttotal: 1m 14s\tremaining: 46.9s\n",
            "1230:\tlearn: 0.1564655\ttest: 0.0996750\tbest: 0.0996590 (1228)\ttotal: 1m 15s\tremaining: 46.9s\n",
            "1231:\tlearn: 0.1562675\ttest: 0.0992968\tbest: 0.0992968 (1231)\ttotal: 1m 15s\tremaining: 46.8s\n",
            "1232:\tlearn: 0.1561643\ttest: 0.0992386\tbest: 0.0992386 (1232)\ttotal: 1m 15s\tremaining: 46.8s\n",
            "1233:\tlearn: 0.1561299\ttest: 0.0992478\tbest: 0.0992386 (1232)\ttotal: 1m 15s\tremaining: 46.7s\n",
            "1234:\tlearn: 0.1561002\ttest: 0.0992210\tbest: 0.0992210 (1234)\ttotal: 1m 15s\tremaining: 46.6s\n",
            "1235:\tlearn: 0.1560432\ttest: 0.0991886\tbest: 0.0991886 (1235)\ttotal: 1m 15s\tremaining: 46.6s\n",
            "1236:\tlearn: 0.1560102\ttest: 0.0991989\tbest: 0.0991886 (1235)\ttotal: 1m 15s\tremaining: 46.5s\n",
            "1237:\tlearn: 0.1559778\ttest: 0.0992370\tbest: 0.0991886 (1235)\ttotal: 1m 15s\tremaining: 46.5s\n",
            "1238:\tlearn: 0.1559425\ttest: 0.0992363\tbest: 0.0991886 (1235)\ttotal: 1m 15s\tremaining: 46.4s\n",
            "1239:\tlearn: 0.1558991\ttest: 0.0992061\tbest: 0.0991886 (1235)\ttotal: 1m 15s\tremaining: 46.3s\n",
            "1240:\tlearn: 0.1558809\ttest: 0.0991860\tbest: 0.0991860 (1240)\ttotal: 1m 15s\tremaining: 46.3s\n",
            "1241:\tlearn: 0.1558391\ttest: 0.0991769\tbest: 0.0991769 (1241)\ttotal: 1m 15s\tremaining: 46.2s\n",
            "1242:\tlearn: 0.1558069\ttest: 0.0991678\tbest: 0.0991678 (1242)\ttotal: 1m 15s\tremaining: 46.2s\n",
            "1243:\tlearn: 0.1557817\ttest: 0.0991725\tbest: 0.0991678 (1242)\ttotal: 1m 15s\tremaining: 46.1s\n",
            "1244:\tlearn: 0.1557476\ttest: 0.0991634\tbest: 0.0991634 (1244)\ttotal: 1m 15s\tremaining: 46s\n",
            "1245:\tlearn: 0.1557165\ttest: 0.0991544\tbest: 0.0991544 (1245)\ttotal: 1m 15s\tremaining: 46s\n",
            "1246:\tlearn: 0.1556905\ttest: 0.0991470\tbest: 0.0991470 (1246)\ttotal: 1m 16s\tremaining: 45.9s\n",
            "1247:\tlearn: 0.1556653\ttest: 0.0991339\tbest: 0.0991339 (1247)\ttotal: 1m 16s\tremaining: 45.9s\n",
            "1248:\tlearn: 0.1556351\ttest: 0.0991260\tbest: 0.0991260 (1248)\ttotal: 1m 16s\tremaining: 45.8s\n",
            "1249:\tlearn: 0.1556045\ttest: 0.0991028\tbest: 0.0991028 (1249)\ttotal: 1m 16s\tremaining: 45.7s\n",
            "1250:\tlearn: 0.1555863\ttest: 0.0991079\tbest: 0.0991028 (1249)\ttotal: 1m 16s\tremaining: 45.7s\n",
            "1251:\tlearn: 0.1555518\ttest: 0.0990954\tbest: 0.0990954 (1251)\ttotal: 1m 16s\tremaining: 45.6s\n",
            "1252:\tlearn: 0.1555240\ttest: 0.0990872\tbest: 0.0990872 (1252)\ttotal: 1m 16s\tremaining: 45.5s\n",
            "1253:\tlearn: 0.1554997\ttest: 0.0990792\tbest: 0.0990792 (1253)\ttotal: 1m 16s\tremaining: 45.5s\n",
            "1254:\tlearn: 0.1554722\ttest: 0.0990808\tbest: 0.0990792 (1253)\ttotal: 1m 16s\tremaining: 45.4s\n",
            "1255:\tlearn: 0.1554506\ttest: 0.0990771\tbest: 0.0990771 (1255)\ttotal: 1m 16s\tremaining: 45.4s\n",
            "1256:\tlearn: 0.1554060\ttest: 0.0990215\tbest: 0.0990215 (1256)\ttotal: 1m 16s\tremaining: 45.3s\n",
            "1257:\tlearn: 0.1553832\ttest: 0.0990160\tbest: 0.0990160 (1257)\ttotal: 1m 16s\tremaining: 45.2s\n",
            "1258:\tlearn: 0.1553621\ttest: 0.0989766\tbest: 0.0989766 (1258)\ttotal: 1m 16s\tremaining: 45.2s\n",
            "1259:\tlearn: 0.1553392\ttest: 0.0989940\tbest: 0.0989766 (1258)\ttotal: 1m 16s\tremaining: 45.1s\n",
            "1260:\tlearn: 0.1553111\ttest: 0.0989857\tbest: 0.0989766 (1258)\ttotal: 1m 16s\tremaining: 45.1s\n",
            "1261:\tlearn: 0.1552931\ttest: 0.0989843\tbest: 0.0989766 (1258)\ttotal: 1m 16s\tremaining: 45s\n",
            "1262:\tlearn: 0.1552736\ttest: 0.0989819\tbest: 0.0989766 (1258)\ttotal: 1m 16s\tremaining: 44.9s\n",
            "1263:\tlearn: 0.1552408\ttest: 0.0990180\tbest: 0.0989766 (1258)\ttotal: 1m 17s\tremaining: 44.9s\n",
            "1264:\tlearn: 0.1551934\ttest: 0.0989981\tbest: 0.0989766 (1258)\ttotal: 1m 17s\tremaining: 44.8s\n",
            "1265:\tlearn: 0.1551658\ttest: 0.0990011\tbest: 0.0989766 (1258)\ttotal: 1m 17s\tremaining: 44.7s\n",
            "1266:\tlearn: 0.1551499\ttest: 0.0989955\tbest: 0.0989766 (1258)\ttotal: 1m 17s\tremaining: 44.7s\n",
            "1267:\tlearn: 0.1550999\ttest: 0.0989682\tbest: 0.0989682 (1267)\ttotal: 1m 17s\tremaining: 44.6s\n",
            "1268:\tlearn: 0.1550727\ttest: 0.0989609\tbest: 0.0989609 (1268)\ttotal: 1m 17s\tremaining: 44.6s\n",
            "1269:\tlearn: 0.1550520\ttest: 0.0989542\tbest: 0.0989542 (1269)\ttotal: 1m 17s\tremaining: 44.5s\n",
            "1270:\tlearn: 0.1548461\ttest: 0.0988386\tbest: 0.0988386 (1270)\ttotal: 1m 17s\tremaining: 44.4s\n",
            "1271:\tlearn: 0.1548243\ttest: 0.0988406\tbest: 0.0988386 (1270)\ttotal: 1m 17s\tremaining: 44.4s\n",
            "1272:\tlearn: 0.1547969\ttest: 0.0988368\tbest: 0.0988368 (1272)\ttotal: 1m 17s\tremaining: 44.3s\n",
            "1273:\tlearn: 0.1547731\ttest: 0.0988006\tbest: 0.0988006 (1273)\ttotal: 1m 17s\tremaining: 44.3s\n",
            "1274:\tlearn: 0.1547519\ttest: 0.0987965\tbest: 0.0987965 (1274)\ttotal: 1m 17s\tremaining: 44.2s\n",
            "1275:\tlearn: 0.1545673\ttest: 0.0984957\tbest: 0.0984957 (1275)\ttotal: 1m 17s\tremaining: 44.1s\n",
            "1276:\tlearn: 0.1545461\ttest: 0.0984985\tbest: 0.0984957 (1275)\ttotal: 1m 17s\tremaining: 44.1s\n",
            "1277:\tlearn: 0.1543959\ttest: 0.0982622\tbest: 0.0982622 (1277)\ttotal: 1m 17s\tremaining: 44s\n",
            "1278:\tlearn: 0.1543715\ttest: 0.0982764\tbest: 0.0982622 (1277)\ttotal: 1m 17s\tremaining: 44s\n",
            "1279:\tlearn: 0.1543341\ttest: 0.0982830\tbest: 0.0982622 (1277)\ttotal: 1m 18s\tremaining: 43.9s\n",
            "1280:\tlearn: 0.1543009\ttest: 0.0982782\tbest: 0.0982622 (1277)\ttotal: 1m 18s\tremaining: 43.8s\n",
            "1281:\tlearn: 0.1542788\ttest: 0.0982845\tbest: 0.0982622 (1277)\ttotal: 1m 18s\tremaining: 43.8s\n",
            "1282:\tlearn: 0.1542444\ttest: 0.0982698\tbest: 0.0982622 (1277)\ttotal: 1m 18s\tremaining: 43.7s\n",
            "1283:\tlearn: 0.1542204\ttest: 0.0982764\tbest: 0.0982622 (1277)\ttotal: 1m 18s\tremaining: 43.6s\n",
            "1284:\tlearn: 0.1542011\ttest: 0.0982979\tbest: 0.0982622 (1277)\ttotal: 1m 18s\tremaining: 43.6s\n",
            "1285:\tlearn: 0.1541836\ttest: 0.0983084\tbest: 0.0982622 (1277)\ttotal: 1m 18s\tremaining: 43.5s\n",
            "1286:\tlearn: 0.1540943\ttest: 0.0982500\tbest: 0.0982500 (1286)\ttotal: 1m 18s\tremaining: 43.5s\n",
            "1287:\tlearn: 0.1540666\ttest: 0.0982488\tbest: 0.0982488 (1287)\ttotal: 1m 18s\tremaining: 43.4s\n",
            "1288:\tlearn: 0.1540405\ttest: 0.0982325\tbest: 0.0982325 (1288)\ttotal: 1m 18s\tremaining: 43.3s\n",
            "1289:\tlearn: 0.1540218\ttest: 0.0982272\tbest: 0.0982272 (1289)\ttotal: 1m 18s\tremaining: 43.3s\n",
            "1290:\tlearn: 0.1539841\ttest: 0.0982146\tbest: 0.0982146 (1290)\ttotal: 1m 18s\tremaining: 43.2s\n",
            "1291:\tlearn: 0.1539561\ttest: 0.0981812\tbest: 0.0981812 (1291)\ttotal: 1m 18s\tremaining: 43.2s\n",
            "1292:\tlearn: 0.1538894\ttest: 0.0981629\tbest: 0.0981629 (1292)\ttotal: 1m 18s\tremaining: 43.1s\n",
            "1293:\tlearn: 0.1538583\ttest: 0.0981206\tbest: 0.0981206 (1293)\ttotal: 1m 18s\tremaining: 43s\n",
            "1294:\tlearn: 0.1538423\ttest: 0.0981196\tbest: 0.0981196 (1294)\ttotal: 1m 18s\tremaining: 43s\n",
            "1295:\tlearn: 0.1538183\ttest: 0.0981146\tbest: 0.0981146 (1295)\ttotal: 1m 19s\tremaining: 42.9s\n",
            "1296:\tlearn: 0.1537917\ttest: 0.0981160\tbest: 0.0981146 (1295)\ttotal: 1m 19s\tremaining: 42.9s\n",
            "1297:\tlearn: 0.1537700\ttest: 0.0981036\tbest: 0.0981036 (1297)\ttotal: 1m 19s\tremaining: 42.8s\n",
            "1298:\tlearn: 0.1537332\ttest: 0.0980914\tbest: 0.0980914 (1298)\ttotal: 1m 19s\tremaining: 42.7s\n",
            "1299:\tlearn: 0.1537038\ttest: 0.0980886\tbest: 0.0980886 (1299)\ttotal: 1m 19s\tremaining: 42.7s\n",
            "1300:\tlearn: 0.1536834\ttest: 0.0980841\tbest: 0.0980841 (1300)\ttotal: 1m 19s\tremaining: 42.6s\n",
            "1301:\tlearn: 0.1536643\ttest: 0.0981129\tbest: 0.0980841 (1300)\ttotal: 1m 19s\tremaining: 42.5s\n",
            "1302:\tlearn: 0.1536306\ttest: 0.0981236\tbest: 0.0980841 (1300)\ttotal: 1m 19s\tremaining: 42.5s\n",
            "1303:\tlearn: 0.1535925\ttest: 0.0981092\tbest: 0.0980841 (1300)\ttotal: 1m 19s\tremaining: 42.4s\n",
            "1304:\tlearn: 0.1535692\ttest: 0.0981011\tbest: 0.0980841 (1300)\ttotal: 1m 19s\tremaining: 42.4s\n",
            "1305:\tlearn: 0.1535445\ttest: 0.0980934\tbest: 0.0980841 (1300)\ttotal: 1m 19s\tremaining: 42.3s\n",
            "1306:\tlearn: 0.1535035\ttest: 0.0980815\tbest: 0.0980815 (1306)\ttotal: 1m 19s\tremaining: 42.2s\n",
            "1307:\tlearn: 0.1534873\ttest: 0.0980819\tbest: 0.0980815 (1306)\ttotal: 1m 19s\tremaining: 42.2s\n",
            "1308:\tlearn: 0.1534664\ttest: 0.0980921\tbest: 0.0980815 (1306)\ttotal: 1m 19s\tremaining: 42.1s\n",
            "1309:\tlearn: 0.1534319\ttest: 0.0980855\tbest: 0.0980815 (1306)\ttotal: 1m 19s\tremaining: 42.1s\n",
            "1310:\tlearn: 0.1534092\ttest: 0.0980939\tbest: 0.0980815 (1306)\ttotal: 1m 19s\tremaining: 42s\n",
            "1311:\tlearn: 0.1533827\ttest: 0.0980679\tbest: 0.0980679 (1311)\ttotal: 1m 19s\tremaining: 41.9s\n",
            "1312:\tlearn: 0.1533544\ttest: 0.0980644\tbest: 0.0980644 (1312)\ttotal: 1m 20s\tremaining: 41.9s\n",
            "1313:\tlearn: 0.1533266\ttest: 0.0980590\tbest: 0.0980590 (1313)\ttotal: 1m 20s\tremaining: 41.8s\n",
            "1314:\tlearn: 0.1532757\ttest: 0.0979842\tbest: 0.0979842 (1314)\ttotal: 1m 20s\tremaining: 41.8s\n",
            "1315:\tlearn: 0.1532578\ttest: 0.0979799\tbest: 0.0979799 (1315)\ttotal: 1m 20s\tremaining: 41.7s\n",
            "1316:\tlearn: 0.1532124\ttest: 0.0979823\tbest: 0.0979799 (1315)\ttotal: 1m 20s\tremaining: 41.6s\n",
            "1317:\tlearn: 0.1531921\ttest: 0.0979813\tbest: 0.0979799 (1315)\ttotal: 1m 20s\tremaining: 41.6s\n",
            "1318:\tlearn: 0.1531681\ttest: 0.0979756\tbest: 0.0979756 (1318)\ttotal: 1m 20s\tremaining: 41.5s\n",
            "1319:\tlearn: 0.1530847\ttest: 0.0979617\tbest: 0.0979617 (1319)\ttotal: 1m 20s\tremaining: 41.4s\n",
            "1320:\tlearn: 0.1530648\ttest: 0.0979557\tbest: 0.0979557 (1320)\ttotal: 1m 20s\tremaining: 41.4s\n",
            "1321:\tlearn: 0.1530363\ttest: 0.0979536\tbest: 0.0979536 (1321)\ttotal: 1m 20s\tremaining: 41.3s\n",
            "1322:\tlearn: 0.1530161\ttest: 0.0979430\tbest: 0.0979430 (1322)\ttotal: 1m 20s\tremaining: 41.3s\n",
            "1323:\tlearn: 0.1529939\ttest: 0.0979428\tbest: 0.0979428 (1323)\ttotal: 1m 20s\tremaining: 41.2s\n",
            "1324:\tlearn: 0.1529760\ttest: 0.0979569\tbest: 0.0979428 (1323)\ttotal: 1m 20s\tremaining: 41.1s\n",
            "1325:\tlearn: 0.1529490\ttest: 0.0979512\tbest: 0.0979428 (1323)\ttotal: 1m 20s\tremaining: 41.1s\n",
            "1326:\tlearn: 0.1529314\ttest: 0.0979448\tbest: 0.0979428 (1323)\ttotal: 1m 20s\tremaining: 41s\n",
            "1327:\tlearn: 0.1529074\ttest: 0.0979492\tbest: 0.0979428 (1323)\ttotal: 1m 20s\tremaining: 41s\n",
            "1328:\tlearn: 0.1528305\ttest: 0.0979118\tbest: 0.0979118 (1328)\ttotal: 1m 21s\tremaining: 40.9s\n",
            "1329:\tlearn: 0.1528077\ttest: 0.0978817\tbest: 0.0978817 (1329)\ttotal: 1m 21s\tremaining: 40.8s\n",
            "1330:\tlearn: 0.1527837\ttest: 0.0978750\tbest: 0.0978750 (1330)\ttotal: 1m 21s\tremaining: 40.8s\n",
            "1331:\tlearn: 0.1527526\ttest: 0.0978777\tbest: 0.0978750 (1330)\ttotal: 1m 21s\tremaining: 40.7s\n",
            "1332:\tlearn: 0.1527158\ttest: 0.0979477\tbest: 0.0978750 (1330)\ttotal: 1m 21s\tremaining: 40.7s\n",
            "1333:\tlearn: 0.1526856\ttest: 0.0979534\tbest: 0.0978750 (1330)\ttotal: 1m 21s\tremaining: 40.6s\n",
            "1334:\tlearn: 0.1526572\ttest: 0.0979509\tbest: 0.0978750 (1330)\ttotal: 1m 21s\tremaining: 40.5s\n",
            "1335:\tlearn: 0.1526050\ttest: 0.0980008\tbest: 0.0978750 (1330)\ttotal: 1m 21s\tremaining: 40.5s\n",
            "1336:\tlearn: 0.1525640\ttest: 0.0980052\tbest: 0.0978750 (1330)\ttotal: 1m 21s\tremaining: 40.4s\n",
            "1337:\tlearn: 0.1525306\ttest: 0.0979964\tbest: 0.0978750 (1330)\ttotal: 1m 21s\tremaining: 40.4s\n",
            "1338:\tlearn: 0.1524756\ttest: 0.0979255\tbest: 0.0978750 (1330)\ttotal: 1m 21s\tremaining: 40.3s\n",
            "1339:\tlearn: 0.1524517\ttest: 0.0979169\tbest: 0.0978750 (1330)\ttotal: 1m 21s\tremaining: 40.2s\n",
            "1340:\tlearn: 0.1524324\ttest: 0.0979095\tbest: 0.0978750 (1330)\ttotal: 1m 21s\tremaining: 40.2s\n",
            "1341:\tlearn: 0.1524167\ttest: 0.0979114\tbest: 0.0978750 (1330)\ttotal: 1m 21s\tremaining: 40.1s\n",
            "1342:\tlearn: 0.1523678\ttest: 0.0979291\tbest: 0.0978750 (1330)\ttotal: 1m 21s\tremaining: 40.1s\n",
            "1343:\tlearn: 0.1523417\ttest: 0.0979242\tbest: 0.0978750 (1330)\ttotal: 1m 21s\tremaining: 40s\n",
            "1344:\tlearn: 0.1523174\ttest: 0.0979128\tbest: 0.0978750 (1330)\ttotal: 1m 22s\tremaining: 39.9s\n",
            "1345:\tlearn: 0.1522986\ttest: 0.0979144\tbest: 0.0978750 (1330)\ttotal: 1m 22s\tremaining: 39.9s\n",
            "1346:\tlearn: 0.1522752\ttest: 0.0979121\tbest: 0.0978750 (1330)\ttotal: 1m 22s\tremaining: 39.8s\n",
            "1347:\tlearn: 0.1522576\ttest: 0.0979206\tbest: 0.0978750 (1330)\ttotal: 1m 22s\tremaining: 39.7s\n",
            "1348:\tlearn: 0.1522433\ttest: 0.0979189\tbest: 0.0978750 (1330)\ttotal: 1m 22s\tremaining: 39.7s\n",
            "1349:\tlearn: 0.1521342\ttest: 0.0977500\tbest: 0.0977500 (1349)\ttotal: 1m 22s\tremaining: 39.6s\n",
            "1350:\tlearn: 0.1521104\ttest: 0.0977461\tbest: 0.0977461 (1350)\ttotal: 1m 22s\tremaining: 39.6s\n",
            "1351:\tlearn: 0.1520833\ttest: 0.0977572\tbest: 0.0977461 (1350)\ttotal: 1m 22s\tremaining: 39.5s\n",
            "1352:\tlearn: 0.1520385\ttest: 0.0977656\tbest: 0.0977461 (1350)\ttotal: 1m 22s\tremaining: 39.4s\n",
            "1353:\tlearn: 0.1520115\ttest: 0.0977797\tbest: 0.0977461 (1350)\ttotal: 1m 22s\tremaining: 39.4s\n",
            "1354:\tlearn: 0.1519947\ttest: 0.0977766\tbest: 0.0977461 (1350)\ttotal: 1m 22s\tremaining: 39.3s\n",
            "1355:\tlearn: 0.1519751\ttest: 0.0977703\tbest: 0.0977461 (1350)\ttotal: 1m 22s\tremaining: 39.3s\n",
            "1356:\tlearn: 0.1519004\ttest: 0.0977185\tbest: 0.0977185 (1356)\ttotal: 1m 22s\tremaining: 39.2s\n",
            "1357:\tlearn: 0.1518226\ttest: 0.0976830\tbest: 0.0976830 (1357)\ttotal: 1m 22s\tremaining: 39.1s\n",
            "1358:\tlearn: 0.1517918\ttest: 0.0976727\tbest: 0.0976727 (1358)\ttotal: 1m 22s\tremaining: 39.1s\n",
            "1359:\tlearn: 0.1517762\ttest: 0.0976662\tbest: 0.0976662 (1359)\ttotal: 1m 22s\tremaining: 39s\n",
            "1360:\tlearn: 0.1517406\ttest: 0.0976534\tbest: 0.0976534 (1360)\ttotal: 1m 22s\tremaining: 39s\n",
            "1361:\tlearn: 0.1517132\ttest: 0.0976479\tbest: 0.0976479 (1361)\ttotal: 1m 23s\tremaining: 38.9s\n",
            "1362:\tlearn: 0.1516778\ttest: 0.0976445\tbest: 0.0976445 (1362)\ttotal: 1m 23s\tremaining: 38.8s\n",
            "1363:\tlearn: 0.1516496\ttest: 0.0976382\tbest: 0.0976382 (1363)\ttotal: 1m 23s\tremaining: 38.8s\n",
            "1364:\tlearn: 0.1516013\ttest: 0.0976038\tbest: 0.0976038 (1364)\ttotal: 1m 23s\tremaining: 38.7s\n",
            "1365:\tlearn: 0.1515855\ttest: 0.0976095\tbest: 0.0976038 (1364)\ttotal: 1m 23s\tremaining: 38.7s\n",
            "1366:\tlearn: 0.1515613\ttest: 0.0976040\tbest: 0.0976038 (1364)\ttotal: 1m 23s\tremaining: 38.6s\n",
            "1367:\tlearn: 0.1515012\ttest: 0.0976225\tbest: 0.0976038 (1364)\ttotal: 1m 23s\tremaining: 38.5s\n",
            "1368:\tlearn: 0.1514626\ttest: 0.0976182\tbest: 0.0976038 (1364)\ttotal: 1m 23s\tremaining: 38.5s\n",
            "1369:\tlearn: 0.1514263\ttest: 0.0976222\tbest: 0.0976038 (1364)\ttotal: 1m 23s\tremaining: 38.4s\n",
            "1370:\tlearn: 0.1514112\ttest: 0.0976235\tbest: 0.0976038 (1364)\ttotal: 1m 23s\tremaining: 38.4s\n",
            "1371:\tlearn: 0.1513923\ttest: 0.0976290\tbest: 0.0976038 (1364)\ttotal: 1m 23s\tremaining: 38.3s\n",
            "1372:\tlearn: 0.1513336\ttest: 0.0976113\tbest: 0.0976038 (1364)\ttotal: 1m 23s\tremaining: 38.2s\n",
            "1373:\tlearn: 0.1512599\ttest: 0.0976603\tbest: 0.0976038 (1364)\ttotal: 1m 23s\tremaining: 38.2s\n",
            "1374:\tlearn: 0.1512425\ttest: 0.0976594\tbest: 0.0976038 (1364)\ttotal: 1m 23s\tremaining: 38.1s\n",
            "1375:\tlearn: 0.1512056\ttest: 0.0976571\tbest: 0.0976038 (1364)\ttotal: 1m 23s\tremaining: 38s\n",
            "1376:\tlearn: 0.1511776\ttest: 0.0976553\tbest: 0.0976038 (1364)\ttotal: 1m 23s\tremaining: 38s\n",
            "1377:\tlearn: 0.1511546\ttest: 0.0976567\tbest: 0.0976038 (1364)\ttotal: 1m 24s\tremaining: 37.9s\n",
            "1378:\tlearn: 0.1511035\ttest: 0.0976407\tbest: 0.0976038 (1364)\ttotal: 1m 24s\tremaining: 37.9s\n",
            "1379:\tlearn: 0.1510837\ttest: 0.0976357\tbest: 0.0976038 (1364)\ttotal: 1m 24s\tremaining: 37.8s\n",
            "1380:\tlearn: 0.1510665\ttest: 0.0976264\tbest: 0.0976038 (1364)\ttotal: 1m 24s\tremaining: 37.7s\n",
            "1381:\tlearn: 0.1510461\ttest: 0.0976209\tbest: 0.0976038 (1364)\ttotal: 1m 24s\tremaining: 37.7s\n",
            "1382:\tlearn: 0.1510216\ttest: 0.0976128\tbest: 0.0976038 (1364)\ttotal: 1m 24s\tremaining: 37.6s\n",
            "1383:\tlearn: 0.1509972\ttest: 0.0976049\tbest: 0.0976038 (1364)\ttotal: 1m 24s\tremaining: 37.6s\n",
            "1384:\tlearn: 0.1509728\ttest: 0.0975956\tbest: 0.0975956 (1384)\ttotal: 1m 24s\tremaining: 37.5s\n",
            "1385:\tlearn: 0.1509459\ttest: 0.0975995\tbest: 0.0975956 (1384)\ttotal: 1m 24s\tremaining: 37.4s\n",
            "1386:\tlearn: 0.1509191\ttest: 0.0976059\tbest: 0.0975956 (1384)\ttotal: 1m 24s\tremaining: 37.4s\n",
            "1387:\tlearn: 0.1507754\ttest: 0.0974793\tbest: 0.0974793 (1387)\ttotal: 1m 24s\tremaining: 37.3s\n",
            "1388:\tlearn: 0.1507288\ttest: 0.0974622\tbest: 0.0974622 (1388)\ttotal: 1m 24s\tremaining: 37.3s\n",
            "1389:\tlearn: 0.1507086\ttest: 0.0974529\tbest: 0.0974529 (1389)\ttotal: 1m 24s\tremaining: 37.2s\n",
            "1390:\tlearn: 0.1506880\ttest: 0.0974519\tbest: 0.0974519 (1390)\ttotal: 1m 24s\tremaining: 37.1s\n",
            "1391:\tlearn: 0.1506626\ttest: 0.0974399\tbest: 0.0974399 (1391)\ttotal: 1m 24s\tremaining: 37.1s\n",
            "1392:\tlearn: 0.1502860\ttest: 0.0973885\tbest: 0.0973885 (1392)\ttotal: 1m 24s\tremaining: 37s\n",
            "1393:\tlearn: 0.1502635\ttest: 0.0973726\tbest: 0.0973726 (1393)\ttotal: 1m 24s\tremaining: 36.9s\n",
            "1394:\tlearn: 0.1502211\ttest: 0.0973480\tbest: 0.0973480 (1394)\ttotal: 1m 25s\tremaining: 36.9s\n",
            "1395:\tlearn: 0.1502018\ttest: 0.0973202\tbest: 0.0973202 (1395)\ttotal: 1m 25s\tremaining: 36.8s\n",
            "1396:\tlearn: 0.1501611\ttest: 0.0972427\tbest: 0.0972427 (1396)\ttotal: 1m 25s\tremaining: 36.8s\n",
            "1397:\tlearn: 0.1501237\ttest: 0.0972570\tbest: 0.0972427 (1396)\ttotal: 1m 25s\tremaining: 36.7s\n",
            "1398:\tlearn: 0.1500801\ttest: 0.0972684\tbest: 0.0972427 (1396)\ttotal: 1m 25s\tremaining: 36.6s\n",
            "1399:\tlearn: 0.1500590\ttest: 0.0972587\tbest: 0.0972427 (1396)\ttotal: 1m 25s\tremaining: 36.6s\n",
            "1400:\tlearn: 0.1500423\ttest: 0.0972515\tbest: 0.0972427 (1396)\ttotal: 1m 25s\tremaining: 36.5s\n",
            "1401:\tlearn: 0.1500024\ttest: 0.0972951\tbest: 0.0972427 (1396)\ttotal: 1m 25s\tremaining: 36.5s\n",
            "1402:\tlearn: 0.1499466\ttest: 0.0972855\tbest: 0.0972427 (1396)\ttotal: 1m 25s\tremaining: 36.4s\n",
            "1403:\tlearn: 0.1499287\ttest: 0.0972584\tbest: 0.0972427 (1396)\ttotal: 1m 25s\tremaining: 36.3s\n",
            "1404:\tlearn: 0.1498866\ttest: 0.0972409\tbest: 0.0972409 (1404)\ttotal: 1m 25s\tremaining: 36.3s\n",
            "1405:\tlearn: 0.1498473\ttest: 0.0972838\tbest: 0.0972409 (1404)\ttotal: 1m 25s\tremaining: 36.2s\n",
            "1406:\tlearn: 0.1498316\ttest: 0.0972829\tbest: 0.0972409 (1404)\ttotal: 1m 25s\tremaining: 36.1s\n",
            "1407:\tlearn: 0.1497977\ttest: 0.0972726\tbest: 0.0972409 (1404)\ttotal: 1m 25s\tremaining: 36.1s\n",
            "1408:\tlearn: 0.1497628\ttest: 0.0972592\tbest: 0.0972409 (1404)\ttotal: 1m 25s\tremaining: 36s\n",
            "1409:\tlearn: 0.1497366\ttest: 0.0972553\tbest: 0.0972409 (1404)\ttotal: 1m 25s\tremaining: 36s\n",
            "1410:\tlearn: 0.1497146\ttest: 0.0972627\tbest: 0.0972409 (1404)\ttotal: 1m 26s\tremaining: 35.9s\n",
            "1411:\tlearn: 0.1496835\ttest: 0.0972693\tbest: 0.0972409 (1404)\ttotal: 1m 26s\tremaining: 35.8s\n",
            "1412:\tlearn: 0.1496632\ttest: 0.0972802\tbest: 0.0972409 (1404)\ttotal: 1m 26s\tremaining: 35.8s\n",
            "1413:\tlearn: 0.1496384\ttest: 0.0972766\tbest: 0.0972409 (1404)\ttotal: 1m 26s\tremaining: 35.7s\n",
            "1414:\tlearn: 0.1496102\ttest: 0.0972867\tbest: 0.0972409 (1404)\ttotal: 1m 26s\tremaining: 35.7s\n",
            "1415:\tlearn: 0.1495890\ttest: 0.0972801\tbest: 0.0972409 (1404)\ttotal: 1m 26s\tremaining: 35.6s\n",
            "1416:\tlearn: 0.1495365\ttest: 0.0972513\tbest: 0.0972409 (1404)\ttotal: 1m 26s\tremaining: 35.5s\n",
            "1417:\tlearn: 0.1495101\ttest: 0.0972487\tbest: 0.0972409 (1404)\ttotal: 1m 26s\tremaining: 35.5s\n",
            "1418:\tlearn: 0.1494736\ttest: 0.0972343\tbest: 0.0972343 (1418)\ttotal: 1m 26s\tremaining: 35.4s\n",
            "1419:\tlearn: 0.1494539\ttest: 0.0972291\tbest: 0.0972291 (1419)\ttotal: 1m 26s\tremaining: 35.4s\n",
            "1420:\tlearn: 0.1494273\ttest: 0.0972370\tbest: 0.0972291 (1419)\ttotal: 1m 26s\tremaining: 35.3s\n",
            "1421:\tlearn: 0.1493996\ttest: 0.0972843\tbest: 0.0972291 (1419)\ttotal: 1m 26s\tremaining: 35.2s\n",
            "1422:\tlearn: 0.1493810\ttest: 0.0972818\tbest: 0.0972291 (1419)\ttotal: 1m 26s\tremaining: 35.2s\n",
            "1423:\tlearn: 0.1493583\ttest: 0.0972782\tbest: 0.0972291 (1419)\ttotal: 1m 26s\tremaining: 35.1s\n",
            "1424:\tlearn: 0.1492804\ttest: 0.0972892\tbest: 0.0972291 (1419)\ttotal: 1m 26s\tremaining: 35.1s\n",
            "1425:\tlearn: 0.1492606\ttest: 0.0972814\tbest: 0.0972291 (1419)\ttotal: 1m 26s\tremaining: 35s\n",
            "1426:\tlearn: 0.1492407\ttest: 0.0972766\tbest: 0.0972291 (1419)\ttotal: 1m 26s\tremaining: 34.9s\n",
            "1427:\tlearn: 0.1492146\ttest: 0.0972382\tbest: 0.0972291 (1419)\ttotal: 1m 27s\tremaining: 34.9s\n",
            "1428:\tlearn: 0.1491792\ttest: 0.0972369\tbest: 0.0972291 (1419)\ttotal: 1m 27s\tremaining: 34.8s\n",
            "1429:\tlearn: 0.1491516\ttest: 0.0972843\tbest: 0.0972291 (1419)\ttotal: 1m 27s\tremaining: 34.7s\n",
            "1430:\tlearn: 0.1489201\ttest: 0.0972040\tbest: 0.0972040 (1430)\ttotal: 1m 27s\tremaining: 34.7s\n",
            "1431:\tlearn: 0.1488975\ttest: 0.0971854\tbest: 0.0971854 (1431)\ttotal: 1m 27s\tremaining: 34.6s\n",
            "1432:\tlearn: 0.1488584\ttest: 0.0971578\tbest: 0.0971578 (1432)\ttotal: 1m 27s\tremaining: 34.6s\n",
            "1433:\tlearn: 0.1488282\ttest: 0.0971218\tbest: 0.0971218 (1433)\ttotal: 1m 27s\tremaining: 34.5s\n",
            "1434:\tlearn: 0.1488045\ttest: 0.0971017\tbest: 0.0971017 (1434)\ttotal: 1m 27s\tremaining: 34.4s\n",
            "1435:\tlearn: 0.1487835\ttest: 0.0970900\tbest: 0.0970900 (1435)\ttotal: 1m 27s\tremaining: 34.4s\n",
            "1436:\tlearn: 0.1487680\ttest: 0.0970986\tbest: 0.0970900 (1435)\ttotal: 1m 27s\tremaining: 34.3s\n",
            "1437:\tlearn: 0.1487436\ttest: 0.0970947\tbest: 0.0970900 (1435)\ttotal: 1m 27s\tremaining: 34.3s\n",
            "1438:\tlearn: 0.1487283\ttest: 0.0970927\tbest: 0.0970900 (1435)\ttotal: 1m 27s\tremaining: 34.2s\n",
            "1439:\tlearn: 0.1486883\ttest: 0.0970809\tbest: 0.0970809 (1439)\ttotal: 1m 27s\tremaining: 34.1s\n",
            "1440:\tlearn: 0.1486681\ttest: 0.0970750\tbest: 0.0970750 (1440)\ttotal: 1m 27s\tremaining: 34.1s\n",
            "1441:\tlearn: 0.1486452\ttest: 0.0970649\tbest: 0.0970649 (1441)\ttotal: 1m 27s\tremaining: 34s\n",
            "1442:\tlearn: 0.1486163\ttest: 0.0970557\tbest: 0.0970557 (1442)\ttotal: 1m 27s\tremaining: 34s\n",
            "1443:\tlearn: 0.1485993\ttest: 0.0970198\tbest: 0.0970198 (1443)\ttotal: 1m 28s\tremaining: 33.9s\n",
            "1444:\tlearn: 0.1485835\ttest: 0.0970226\tbest: 0.0970198 (1443)\ttotal: 1m 28s\tremaining: 33.8s\n",
            "1445:\tlearn: 0.1485635\ttest: 0.0970170\tbest: 0.0970170 (1445)\ttotal: 1m 28s\tremaining: 33.8s\n",
            "1446:\tlearn: 0.1485341\ttest: 0.0970132\tbest: 0.0970132 (1446)\ttotal: 1m 28s\tremaining: 33.7s\n",
            "1447:\tlearn: 0.1484810\ttest: 0.0970204\tbest: 0.0970132 (1446)\ttotal: 1m 28s\tremaining: 33.6s\n",
            "1448:\tlearn: 0.1484624\ttest: 0.0970140\tbest: 0.0970132 (1446)\ttotal: 1m 28s\tremaining: 33.6s\n",
            "1449:\tlearn: 0.1483715\ttest: 0.0969692\tbest: 0.0969692 (1449)\ttotal: 1m 28s\tremaining: 33.5s\n",
            "1450:\tlearn: 0.1483294\ttest: 0.0969927\tbest: 0.0969692 (1449)\ttotal: 1m 28s\tremaining: 33.5s\n",
            "1451:\tlearn: 0.1483087\ttest: 0.0969705\tbest: 0.0969692 (1449)\ttotal: 1m 28s\tremaining: 33.4s\n",
            "1452:\tlearn: 0.1482795\ttest: 0.0969601\tbest: 0.0969601 (1452)\ttotal: 1m 28s\tremaining: 33.3s\n",
            "1453:\tlearn: 0.1482554\ttest: 0.0969560\tbest: 0.0969560 (1453)\ttotal: 1m 28s\tremaining: 33.3s\n",
            "1454:\tlearn: 0.1482215\ttest: 0.0969460\tbest: 0.0969460 (1454)\ttotal: 1m 28s\tremaining: 33.2s\n",
            "1455:\tlearn: 0.1481923\ttest: 0.0969167\tbest: 0.0969167 (1455)\ttotal: 1m 28s\tremaining: 33.2s\n",
            "1456:\tlearn: 0.1481698\ttest: 0.0969155\tbest: 0.0969155 (1456)\ttotal: 1m 28s\tremaining: 33.1s\n",
            "1457:\tlearn: 0.1481472\ttest: 0.0969194\tbest: 0.0969155 (1456)\ttotal: 1m 28s\tremaining: 33s\n",
            "1458:\tlearn: 0.1481286\ttest: 0.0969103\tbest: 0.0969103 (1458)\ttotal: 1m 28s\tremaining: 33s\n",
            "1459:\tlearn: 0.1481091\ttest: 0.0969295\tbest: 0.0969103 (1458)\ttotal: 1m 28s\tremaining: 32.9s\n",
            "1460:\tlearn: 0.1480817\ttest: 0.0969234\tbest: 0.0969103 (1458)\ttotal: 1m 29s\tremaining: 32.9s\n",
            "1461:\tlearn: 0.1480406\ttest: 0.0969253\tbest: 0.0969103 (1458)\ttotal: 1m 29s\tremaining: 32.8s\n",
            "1462:\tlearn: 0.1480024\ttest: 0.0969265\tbest: 0.0969103 (1458)\ttotal: 1m 29s\tremaining: 32.7s\n",
            "1463:\tlearn: 0.1479750\ttest: 0.0969465\tbest: 0.0969103 (1458)\ttotal: 1m 29s\tremaining: 32.7s\n",
            "1464:\tlearn: 0.1479214\ttest: 0.0969094\tbest: 0.0969094 (1464)\ttotal: 1m 29s\tremaining: 32.6s\n",
            "1465:\tlearn: 0.1479029\ttest: 0.0969149\tbest: 0.0969094 (1464)\ttotal: 1m 29s\tremaining: 32.5s\n",
            "1466:\tlearn: 0.1478673\ttest: 0.0969101\tbest: 0.0969094 (1464)\ttotal: 1m 29s\tremaining: 32.5s\n",
            "1467:\tlearn: 0.1478359\ttest: 0.0968780\tbest: 0.0968780 (1467)\ttotal: 1m 29s\tremaining: 32.4s\n",
            "1468:\tlearn: 0.1478083\ttest: 0.0968864\tbest: 0.0968780 (1467)\ttotal: 1m 29s\tremaining: 32.4s\n",
            "1469:\tlearn: 0.1477959\ttest: 0.0969003\tbest: 0.0968780 (1467)\ttotal: 1m 29s\tremaining: 32.3s\n",
            "1470:\tlearn: 0.1477766\ttest: 0.0969189\tbest: 0.0968780 (1467)\ttotal: 1m 29s\tremaining: 32.2s\n",
            "1471:\tlearn: 0.1477540\ttest: 0.0969227\tbest: 0.0968780 (1467)\ttotal: 1m 29s\tremaining: 32.2s\n",
            "1472:\tlearn: 0.1477249\ttest: 0.0969305\tbest: 0.0968780 (1467)\ttotal: 1m 29s\tremaining: 32.1s\n",
            "1473:\tlearn: 0.1477065\ttest: 0.0969249\tbest: 0.0968780 (1467)\ttotal: 1m 29s\tremaining: 32.1s\n",
            "1474:\tlearn: 0.1476773\ttest: 0.0969181\tbest: 0.0968780 (1467)\ttotal: 1m 29s\tremaining: 32s\n",
            "1475:\tlearn: 0.1476449\ttest: 0.0969140\tbest: 0.0968780 (1467)\ttotal: 1m 29s\tremaining: 31.9s\n",
            "1476:\tlearn: 0.1476018\ttest: 0.0969296\tbest: 0.0968780 (1467)\ttotal: 1m 30s\tremaining: 31.9s\n",
            "1477:\tlearn: 0.1475893\ttest: 0.0969258\tbest: 0.0968780 (1467)\ttotal: 1m 30s\tremaining: 31.8s\n",
            "1478:\tlearn: 0.1475626\ttest: 0.0969909\tbest: 0.0968780 (1467)\ttotal: 1m 30s\tremaining: 31.8s\n",
            "1479:\tlearn: 0.1475323\ttest: 0.0969804\tbest: 0.0968780 (1467)\ttotal: 1m 30s\tremaining: 31.7s\n",
            "1480:\tlearn: 0.1474599\ttest: 0.0969593\tbest: 0.0968780 (1467)\ttotal: 1m 30s\tremaining: 31.6s\n",
            "1481:\tlearn: 0.1473956\ttest: 0.0969523\tbest: 0.0968780 (1467)\ttotal: 1m 30s\tremaining: 31.6s\n",
            "1482:\tlearn: 0.1473711\ttest: 0.0969518\tbest: 0.0968780 (1467)\ttotal: 1m 30s\tremaining: 31.5s\n",
            "1483:\tlearn: 0.1473500\ttest: 0.0969455\tbest: 0.0968780 (1467)\ttotal: 1m 30s\tremaining: 31.4s\n",
            "1484:\tlearn: 0.1473254\ttest: 0.0969333\tbest: 0.0968780 (1467)\ttotal: 1m 30s\tremaining: 31.4s\n",
            "1485:\tlearn: 0.1472996\ttest: 0.0969069\tbest: 0.0968780 (1467)\ttotal: 1m 30s\tremaining: 31.3s\n",
            "1486:\tlearn: 0.1472845\ttest: 0.0969030\tbest: 0.0968780 (1467)\ttotal: 1m 30s\tremaining: 31.3s\n",
            "1487:\tlearn: 0.1472647\ttest: 0.0969024\tbest: 0.0968780 (1467)\ttotal: 1m 30s\tremaining: 31.2s\n",
            "1488:\tlearn: 0.1472082\ttest: 0.0968724\tbest: 0.0968724 (1488)\ttotal: 1m 30s\tremaining: 31.1s\n",
            "1489:\tlearn: 0.1471865\ttest: 0.0968574\tbest: 0.0968574 (1489)\ttotal: 1m 30s\tremaining: 31.1s\n",
            "1490:\tlearn: 0.1471667\ttest: 0.0968962\tbest: 0.0968574 (1489)\ttotal: 1m 30s\tremaining: 31s\n",
            "1491:\tlearn: 0.1471349\ttest: 0.0969009\tbest: 0.0968574 (1489)\ttotal: 1m 30s\tremaining: 31s\n",
            "1492:\tlearn: 0.1471141\ttest: 0.0969143\tbest: 0.0968574 (1489)\ttotal: 1m 31s\tremaining: 30.9s\n",
            "1493:\tlearn: 0.1471018\ttest: 0.0969286\tbest: 0.0968574 (1489)\ttotal: 1m 31s\tremaining: 30.8s\n",
            "1494:\tlearn: 0.1470829\ttest: 0.0969272\tbest: 0.0968574 (1489)\ttotal: 1m 31s\tremaining: 30.8s\n",
            "1495:\tlearn: 0.1470503\ttest: 0.0969009\tbest: 0.0968574 (1489)\ttotal: 1m 31s\tremaining: 30.7s\n",
            "1496:\tlearn: 0.1470328\ttest: 0.0968976\tbest: 0.0968574 (1489)\ttotal: 1m 31s\tremaining: 30.7s\n",
            "1497:\tlearn: 0.1470125\ttest: 0.0969042\tbest: 0.0968574 (1489)\ttotal: 1m 31s\tremaining: 30.6s\n",
            "1498:\tlearn: 0.1469758\ttest: 0.0969131\tbest: 0.0968574 (1489)\ttotal: 1m 31s\tremaining: 30.5s\n",
            "1499:\tlearn: 0.1469557\ttest: 0.0969041\tbest: 0.0968574 (1489)\ttotal: 1m 31s\tremaining: 30.5s\n",
            "1500:\tlearn: 0.1469249\ttest: 0.0968859\tbest: 0.0968574 (1489)\ttotal: 1m 31s\tremaining: 30.4s\n",
            "1501:\tlearn: 0.1468392\ttest: 0.0968590\tbest: 0.0968574 (1489)\ttotal: 1m 31s\tremaining: 30.4s\n",
            "1502:\tlearn: 0.1468125\ttest: 0.0968532\tbest: 0.0968532 (1502)\ttotal: 1m 31s\tremaining: 30.3s\n",
            "1503:\tlearn: 0.1467899\ttest: 0.0968528\tbest: 0.0968528 (1503)\ttotal: 1m 31s\tremaining: 30.2s\n",
            "1504:\tlearn: 0.1467705\ttest: 0.0968498\tbest: 0.0968498 (1504)\ttotal: 1m 31s\tremaining: 30.2s\n",
            "1505:\tlearn: 0.1467473\ttest: 0.0968604\tbest: 0.0968498 (1504)\ttotal: 1m 31s\tremaining: 30.1s\n",
            "1506:\tlearn: 0.1467055\ttest: 0.0968544\tbest: 0.0968498 (1504)\ttotal: 1m 31s\tremaining: 30s\n",
            "1507:\tlearn: 0.1466895\ttest: 0.0968651\tbest: 0.0968498 (1504)\ttotal: 1m 31s\tremaining: 30s\n",
            "1508:\tlearn: 0.1466599\ttest: 0.0968510\tbest: 0.0968498 (1504)\ttotal: 1m 31s\tremaining: 29.9s\n",
            "1509:\tlearn: 0.1466268\ttest: 0.0968349\tbest: 0.0968349 (1509)\ttotal: 1m 32s\tremaining: 29.9s\n",
            "1510:\tlearn: 0.1466051\ttest: 0.0968273\tbest: 0.0968273 (1510)\ttotal: 1m 32s\tremaining: 29.8s\n",
            "1511:\tlearn: 0.1465801\ttest: 0.0968245\tbest: 0.0968245 (1511)\ttotal: 1m 32s\tremaining: 29.7s\n",
            "1512:\tlearn: 0.1465285\ttest: 0.0967858\tbest: 0.0967858 (1512)\ttotal: 1m 32s\tremaining: 29.7s\n",
            "1513:\tlearn: 0.1465085\ttest: 0.0967929\tbest: 0.0967858 (1512)\ttotal: 1m 32s\tremaining: 29.6s\n",
            "1514:\tlearn: 0.1464924\ttest: 0.0967935\tbest: 0.0967858 (1512)\ttotal: 1m 32s\tremaining: 29.6s\n",
            "1515:\tlearn: 0.1464591\ttest: 0.0967768\tbest: 0.0967768 (1515)\ttotal: 1m 32s\tremaining: 29.5s\n",
            "1516:\tlearn: 0.1464320\ttest: 0.0967472\tbest: 0.0967472 (1516)\ttotal: 1m 32s\tremaining: 29.4s\n",
            "1517:\tlearn: 0.1464059\ttest: 0.0967381\tbest: 0.0967381 (1517)\ttotal: 1m 32s\tremaining: 29.4s\n",
            "1518:\tlearn: 0.1463727\ttest: 0.0967100\tbest: 0.0967100 (1518)\ttotal: 1m 32s\tremaining: 29.3s\n",
            "1519:\tlearn: 0.1463546\ttest: 0.0967050\tbest: 0.0967050 (1519)\ttotal: 1m 32s\tremaining: 29.3s\n",
            "1520:\tlearn: 0.1463295\ttest: 0.0966934\tbest: 0.0966934 (1520)\ttotal: 1m 32s\tremaining: 29.2s\n",
            "1521:\tlearn: 0.1463110\ttest: 0.0966752\tbest: 0.0966752 (1521)\ttotal: 1m 32s\tremaining: 29.1s\n",
            "1522:\tlearn: 0.1462963\ttest: 0.0966796\tbest: 0.0966752 (1521)\ttotal: 1m 32s\tremaining: 29.1s\n",
            "1523:\tlearn: 0.1462835\ttest: 0.0966793\tbest: 0.0966752 (1521)\ttotal: 1m 32s\tremaining: 29s\n",
            "1524:\tlearn: 0.1462616\ttest: 0.0966736\tbest: 0.0966736 (1524)\ttotal: 1m 32s\tremaining: 28.9s\n",
            "1525:\tlearn: 0.1462342\ttest: 0.0966850\tbest: 0.0966736 (1524)\ttotal: 1m 33s\tremaining: 28.9s\n",
            "1526:\tlearn: 0.1462084\ttest: 0.0966588\tbest: 0.0966588 (1526)\ttotal: 1m 33s\tremaining: 28.8s\n",
            "1527:\tlearn: 0.1461687\ttest: 0.0966535\tbest: 0.0966535 (1527)\ttotal: 1m 33s\tremaining: 28.8s\n",
            "1528:\tlearn: 0.1461472\ttest: 0.0966486\tbest: 0.0966486 (1528)\ttotal: 1m 33s\tremaining: 28.7s\n",
            "1529:\tlearn: 0.1461286\ttest: 0.0966455\tbest: 0.0966455 (1529)\ttotal: 1m 33s\tremaining: 28.6s\n",
            "1530:\tlearn: 0.1461053\ttest: 0.0966410\tbest: 0.0966410 (1530)\ttotal: 1m 33s\tremaining: 28.6s\n",
            "1531:\tlearn: 0.1460796\ttest: 0.0966321\tbest: 0.0966321 (1531)\ttotal: 1m 33s\tremaining: 28.5s\n",
            "1532:\tlearn: 0.1460454\ttest: 0.0966363\tbest: 0.0966321 (1531)\ttotal: 1m 33s\tremaining: 28.5s\n",
            "1533:\tlearn: 0.1460223\ttest: 0.0966299\tbest: 0.0966299 (1533)\ttotal: 1m 33s\tremaining: 28.4s\n",
            "1534:\tlearn: 0.1460067\ttest: 0.0966261\tbest: 0.0966261 (1534)\ttotal: 1m 33s\tremaining: 28.3s\n",
            "1535:\tlearn: 0.1459833\ttest: 0.0966217\tbest: 0.0966217 (1535)\ttotal: 1m 33s\tremaining: 28.3s\n",
            "1536:\tlearn: 0.1459619\ttest: 0.0966335\tbest: 0.0966217 (1535)\ttotal: 1m 33s\tremaining: 28.2s\n",
            "1537:\tlearn: 0.1459288\ttest: 0.0966249\tbest: 0.0966217 (1535)\ttotal: 1m 33s\tremaining: 28.2s\n",
            "1538:\tlearn: 0.1458912\ttest: 0.0966591\tbest: 0.0966217 (1535)\ttotal: 1m 33s\tremaining: 28.1s\n",
            "1539:\tlearn: 0.1458610\ttest: 0.0966475\tbest: 0.0966217 (1535)\ttotal: 1m 33s\tremaining: 28s\n",
            "1540:\tlearn: 0.1458213\ttest: 0.0966190\tbest: 0.0966190 (1540)\ttotal: 1m 33s\tremaining: 28s\n",
            "1541:\tlearn: 0.1457914\ttest: 0.0966126\tbest: 0.0966126 (1541)\ttotal: 1m 33s\tremaining: 27.9s\n",
            "1542:\tlearn: 0.1457538\ttest: 0.0966071\tbest: 0.0966071 (1542)\ttotal: 1m 34s\tremaining: 27.9s\n",
            "1543:\tlearn: 0.1457267\ttest: 0.0966375\tbest: 0.0966071 (1542)\ttotal: 1m 34s\tremaining: 27.8s\n",
            "1544:\tlearn: 0.1457040\ttest: 0.0966324\tbest: 0.0966071 (1542)\ttotal: 1m 34s\tremaining: 27.7s\n",
            "1545:\tlearn: 0.1456870\ttest: 0.0966290\tbest: 0.0966071 (1542)\ttotal: 1m 34s\tremaining: 27.7s\n",
            "1546:\tlearn: 0.1456498\ttest: 0.0965725\tbest: 0.0965725 (1546)\ttotal: 1m 34s\tremaining: 27.6s\n",
            "1547:\tlearn: 0.1456306\ttest: 0.0965319\tbest: 0.0965319 (1547)\ttotal: 1m 34s\tremaining: 27.5s\n",
            "1548:\tlearn: 0.1456148\ttest: 0.0965393\tbest: 0.0965319 (1547)\ttotal: 1m 34s\tremaining: 27.5s\n",
            "1549:\tlearn: 0.1455498\ttest: 0.0965215\tbest: 0.0965215 (1549)\ttotal: 1m 34s\tremaining: 27.4s\n",
            "1550:\tlearn: 0.1455260\ttest: 0.0965351\tbest: 0.0965215 (1549)\ttotal: 1m 34s\tremaining: 27.4s\n",
            "1551:\tlearn: 0.1455035\ttest: 0.0965276\tbest: 0.0965215 (1549)\ttotal: 1m 34s\tremaining: 27.3s\n",
            "1552:\tlearn: 0.1454867\ttest: 0.0965404\tbest: 0.0965215 (1549)\ttotal: 1m 34s\tremaining: 27.2s\n",
            "1553:\tlearn: 0.1454528\ttest: 0.0965096\tbest: 0.0965096 (1553)\ttotal: 1m 34s\tremaining: 27.2s\n",
            "1554:\tlearn: 0.1453998\ttest: 0.0965474\tbest: 0.0965096 (1553)\ttotal: 1m 34s\tremaining: 27.1s\n",
            "1555:\tlearn: 0.1453633\ttest: 0.0965565\tbest: 0.0965096 (1553)\ttotal: 1m 34s\tremaining: 27.1s\n",
            "1556:\tlearn: 0.1453161\ttest: 0.0965723\tbest: 0.0965096 (1553)\ttotal: 1m 34s\tremaining: 27s\n",
            "1557:\tlearn: 0.1453002\ttest: 0.0965647\tbest: 0.0965096 (1553)\ttotal: 1m 34s\tremaining: 26.9s\n",
            "1558:\tlearn: 0.1452850\ttest: 0.0965839\tbest: 0.0965096 (1553)\ttotal: 1m 35s\tremaining: 26.9s\n",
            "1559:\tlearn: 0.1452536\ttest: 0.0965761\tbest: 0.0965096 (1553)\ttotal: 1m 35s\tremaining: 26.8s\n",
            "1560:\tlearn: 0.1451945\ttest: 0.0964927\tbest: 0.0964927 (1560)\ttotal: 1m 35s\tremaining: 26.8s\n",
            "1561:\tlearn: 0.1451687\ttest: 0.0964522\tbest: 0.0964522 (1561)\ttotal: 1m 35s\tremaining: 26.7s\n",
            "1562:\tlearn: 0.1451432\ttest: 0.0964447\tbest: 0.0964447 (1562)\ttotal: 1m 35s\tremaining: 26.6s\n",
            "1563:\tlearn: 0.1451064\ttest: 0.0964685\tbest: 0.0964447 (1562)\ttotal: 1m 35s\tremaining: 26.6s\n",
            "1564:\tlearn: 0.1450901\ttest: 0.0964615\tbest: 0.0964447 (1562)\ttotal: 1m 35s\tremaining: 26.5s\n",
            "1565:\tlearn: 0.1450551\ttest: 0.0964454\tbest: 0.0964447 (1562)\ttotal: 1m 35s\tremaining: 26.5s\n",
            "1566:\tlearn: 0.1450319\ttest: 0.0964372\tbest: 0.0964372 (1566)\ttotal: 1m 35s\tremaining: 26.4s\n",
            "1567:\tlearn: 0.1450008\ttest: 0.0964676\tbest: 0.0964372 (1566)\ttotal: 1m 35s\tremaining: 26.3s\n",
            "1568:\tlearn: 0.1449781\ttest: 0.0964531\tbest: 0.0964372 (1566)\ttotal: 1m 35s\tremaining: 26.3s\n",
            "1569:\tlearn: 0.1449418\ttest: 0.0964355\tbest: 0.0964355 (1569)\ttotal: 1m 35s\tremaining: 26.2s\n",
            "1570:\tlearn: 0.1449131\ttest: 0.0964298\tbest: 0.0964298 (1570)\ttotal: 1m 35s\tremaining: 26.1s\n",
            "1571:\tlearn: 0.1448607\ttest: 0.0964128\tbest: 0.0964128 (1571)\ttotal: 1m 35s\tremaining: 26.1s\n",
            "1572:\tlearn: 0.1448388\ttest: 0.0964142\tbest: 0.0964128 (1571)\ttotal: 1m 35s\tremaining: 26s\n",
            "1573:\tlearn: 0.1448171\ttest: 0.0964300\tbest: 0.0964128 (1571)\ttotal: 1m 35s\tremaining: 26s\n",
            "1574:\tlearn: 0.1447854\ttest: 0.0964166\tbest: 0.0964128 (1571)\ttotal: 1m 35s\tremaining: 25.9s\n",
            "1575:\tlearn: 0.1447670\ttest: 0.0963850\tbest: 0.0963850 (1575)\ttotal: 1m 36s\tremaining: 25.8s\n",
            "1576:\tlearn: 0.1447465\ttest: 0.0963981\tbest: 0.0963850 (1575)\ttotal: 1m 36s\tremaining: 25.8s\n",
            "1577:\tlearn: 0.1447332\ttest: 0.0963949\tbest: 0.0963850 (1575)\ttotal: 1m 36s\tremaining: 25.7s\n",
            "1578:\tlearn: 0.1446834\ttest: 0.0963857\tbest: 0.0963850 (1575)\ttotal: 1m 36s\tremaining: 25.7s\n",
            "1579:\tlearn: 0.1446602\ttest: 0.0964313\tbest: 0.0963850 (1575)\ttotal: 1m 36s\tremaining: 25.6s\n",
            "1580:\tlearn: 0.1446134\ttest: 0.0963996\tbest: 0.0963850 (1575)\ttotal: 1m 36s\tremaining: 25.5s\n",
            "1581:\tlearn: 0.1445937\ttest: 0.0963993\tbest: 0.0963850 (1575)\ttotal: 1m 36s\tremaining: 25.5s\n",
            "1582:\tlearn: 0.1445739\ttest: 0.0963945\tbest: 0.0963850 (1575)\ttotal: 1m 36s\tremaining: 25.4s\n",
            "1583:\tlearn: 0.1445461\ttest: 0.0963889\tbest: 0.0963850 (1575)\ttotal: 1m 36s\tremaining: 25.3s\n",
            "1584:\tlearn: 0.1445274\ttest: 0.0964016\tbest: 0.0963850 (1575)\ttotal: 1m 36s\tremaining: 25.3s\n",
            "1585:\tlearn: 0.1445123\ttest: 0.0963971\tbest: 0.0963850 (1575)\ttotal: 1m 36s\tremaining: 25.2s\n",
            "1586:\tlearn: 0.1444964\ttest: 0.0964070\tbest: 0.0963850 (1575)\ttotal: 1m 36s\tremaining: 25.2s\n",
            "1587:\tlearn: 0.1444816\ttest: 0.0964028\tbest: 0.0963850 (1575)\ttotal: 1m 36s\tremaining: 25.1s\n",
            "1588:\tlearn: 0.1444623\ttest: 0.0963966\tbest: 0.0963850 (1575)\ttotal: 1m 36s\tremaining: 25s\n",
            "1589:\tlearn: 0.1444414\ttest: 0.0963907\tbest: 0.0963850 (1575)\ttotal: 1m 36s\tremaining: 25s\n",
            "1590:\tlearn: 0.1444155\ttest: 0.0963843\tbest: 0.0963843 (1590)\ttotal: 1m 36s\tremaining: 24.9s\n",
            "1591:\tlearn: 0.1443750\ttest: 0.0963931\tbest: 0.0963843 (1590)\ttotal: 1m 37s\tremaining: 24.9s\n",
            "1592:\tlearn: 0.1443598\ttest: 0.0963826\tbest: 0.0963826 (1592)\ttotal: 1m 37s\tremaining: 24.8s\n",
            "1593:\tlearn: 0.1442815\ttest: 0.0963272\tbest: 0.0963272 (1593)\ttotal: 1m 37s\tremaining: 24.7s\n",
            "1594:\tlearn: 0.1442545\ttest: 0.0963283\tbest: 0.0963272 (1593)\ttotal: 1m 37s\tremaining: 24.7s\n",
            "1595:\tlearn: 0.1442319\ttest: 0.0963248\tbest: 0.0963248 (1595)\ttotal: 1m 37s\tremaining: 24.6s\n",
            "1596:\tlearn: 0.1441384\ttest: 0.0961987\tbest: 0.0961987 (1596)\ttotal: 1m 37s\tremaining: 24.6s\n",
            "1597:\tlearn: 0.1441216\ttest: 0.0961952\tbest: 0.0961952 (1597)\ttotal: 1m 37s\tremaining: 24.5s\n",
            "1598:\tlearn: 0.1440889\ttest: 0.0961833\tbest: 0.0961833 (1598)\ttotal: 1m 37s\tremaining: 24.4s\n",
            "1599:\tlearn: 0.1440247\ttest: 0.0961591\tbest: 0.0961591 (1599)\ttotal: 1m 37s\tremaining: 24.4s\n",
            "1600:\tlearn: 0.1440056\ttest: 0.0961568\tbest: 0.0961568 (1600)\ttotal: 1m 37s\tremaining: 24.3s\n",
            "1601:\tlearn: 0.1439874\ttest: 0.0961577\tbest: 0.0961568 (1600)\ttotal: 1m 37s\tremaining: 24.3s\n",
            "1602:\tlearn: 0.1439617\ttest: 0.0961635\tbest: 0.0961568 (1600)\ttotal: 1m 37s\tremaining: 24.2s\n",
            "1603:\tlearn: 0.1439342\ttest: 0.0961617\tbest: 0.0961568 (1600)\ttotal: 1m 37s\tremaining: 24.1s\n",
            "1604:\tlearn: 0.1439041\ttest: 0.0961599\tbest: 0.0961568 (1600)\ttotal: 1m 37s\tremaining: 24.1s\n",
            "1605:\tlearn: 0.1438821\ttest: 0.0961578\tbest: 0.0961568 (1600)\ttotal: 1m 37s\tremaining: 24s\n",
            "1606:\tlearn: 0.1438580\ttest: 0.0961668\tbest: 0.0961568 (1600)\ttotal: 1m 37s\tremaining: 24s\n",
            "1607:\tlearn: 0.1438310\ttest: 0.0961636\tbest: 0.0961568 (1600)\ttotal: 1m 37s\tremaining: 23.9s\n",
            "1608:\tlearn: 0.1438128\ttest: 0.0961483\tbest: 0.0961483 (1608)\ttotal: 1m 38s\tremaining: 23.8s\n",
            "1609:\tlearn: 0.1437975\ttest: 0.0961433\tbest: 0.0961433 (1609)\ttotal: 1m 38s\tremaining: 23.8s\n",
            "1610:\tlearn: 0.1437818\ttest: 0.0961442\tbest: 0.0961433 (1609)\ttotal: 1m 38s\tremaining: 23.7s\n",
            "1611:\tlearn: 0.1437584\ttest: 0.0961402\tbest: 0.0961402 (1611)\ttotal: 1m 38s\tremaining: 23.6s\n",
            "1612:\tlearn: 0.1437376\ttest: 0.0961314\tbest: 0.0961314 (1612)\ttotal: 1m 38s\tremaining: 23.6s\n",
            "1613:\tlearn: 0.1437192\ttest: 0.0961280\tbest: 0.0961280 (1613)\ttotal: 1m 38s\tremaining: 23.5s\n",
            "1614:\tlearn: 0.1436880\ttest: 0.0961175\tbest: 0.0961175 (1614)\ttotal: 1m 38s\tremaining: 23.5s\n",
            "1615:\tlearn: 0.1436510\ttest: 0.0960678\tbest: 0.0960678 (1615)\ttotal: 1m 38s\tremaining: 23.4s\n",
            "1616:\tlearn: 0.1436348\ttest: 0.0960691\tbest: 0.0960678 (1615)\ttotal: 1m 38s\tremaining: 23.3s\n",
            "1617:\tlearn: 0.1435705\ttest: 0.0960496\tbest: 0.0960496 (1617)\ttotal: 1m 38s\tremaining: 23.3s\n",
            "1618:\tlearn: 0.1435420\ttest: 0.0960389\tbest: 0.0960389 (1618)\ttotal: 1m 38s\tremaining: 23.2s\n",
            "1619:\tlearn: 0.1435325\ttest: 0.0960365\tbest: 0.0960365 (1619)\ttotal: 1m 38s\tremaining: 23.2s\n",
            "1620:\tlearn: 0.1434992\ttest: 0.0960527\tbest: 0.0960365 (1619)\ttotal: 1m 38s\tremaining: 23.1s\n",
            "1621:\tlearn: 0.1434855\ttest: 0.0960467\tbest: 0.0960365 (1619)\ttotal: 1m 38s\tremaining: 23s\n",
            "1622:\tlearn: 0.1434616\ttest: 0.0960441\tbest: 0.0960365 (1619)\ttotal: 1m 38s\tremaining: 23s\n",
            "1623:\tlearn: 0.1433627\ttest: 0.0959122\tbest: 0.0959122 (1623)\ttotal: 1m 38s\tremaining: 22.9s\n",
            "1624:\tlearn: 0.1433435\ttest: 0.0958767\tbest: 0.0958767 (1624)\ttotal: 1m 39s\tremaining: 22.9s\n",
            "1625:\tlearn: 0.1433285\ttest: 0.0958808\tbest: 0.0958767 (1624)\ttotal: 1m 39s\tremaining: 22.8s\n",
            "1626:\tlearn: 0.1433032\ttest: 0.0958752\tbest: 0.0958752 (1626)\ttotal: 1m 39s\tremaining: 22.7s\n",
            "1627:\tlearn: 0.1432897\ttest: 0.0958688\tbest: 0.0958688 (1627)\ttotal: 1m 39s\tremaining: 22.7s\n",
            "1628:\tlearn: 0.1432615\ttest: 0.0958834\tbest: 0.0958688 (1627)\ttotal: 1m 39s\tremaining: 22.6s\n",
            "1629:\tlearn: 0.1432442\ttest: 0.0958830\tbest: 0.0958688 (1627)\ttotal: 1m 39s\tremaining: 22.5s\n",
            "1630:\tlearn: 0.1432259\ttest: 0.0958783\tbest: 0.0958688 (1627)\ttotal: 1m 39s\tremaining: 22.5s\n",
            "1631:\tlearn: 0.1431941\ttest: 0.0958812\tbest: 0.0958688 (1627)\ttotal: 1m 39s\tremaining: 22.4s\n",
            "1632:\tlearn: 0.1431523\ttest: 0.0958761\tbest: 0.0958688 (1627)\ttotal: 1m 39s\tremaining: 22.4s\n",
            "1633:\tlearn: 0.1431361\ttest: 0.0958703\tbest: 0.0958688 (1627)\ttotal: 1m 39s\tremaining: 22.3s\n",
            "1634:\tlearn: 0.1431024\ttest: 0.0958752\tbest: 0.0958688 (1627)\ttotal: 1m 39s\tremaining: 22.2s\n",
            "1635:\tlearn: 0.1430602\ttest: 0.0958450\tbest: 0.0958450 (1635)\ttotal: 1m 39s\tremaining: 22.2s\n",
            "1636:\tlearn: 0.1430384\ttest: 0.0958614\tbest: 0.0958450 (1635)\ttotal: 1m 39s\tremaining: 22.1s\n",
            "1637:\tlearn: 0.1430181\ttest: 0.0958711\tbest: 0.0958450 (1635)\ttotal: 1m 39s\tremaining: 22.1s\n",
            "1638:\tlearn: 0.1430039\ttest: 0.0958873\tbest: 0.0958450 (1635)\ttotal: 1m 39s\tremaining: 22s\n",
            "1639:\tlearn: 0.1429816\ttest: 0.0958768\tbest: 0.0958450 (1635)\ttotal: 1m 39s\tremaining: 21.9s\n",
            "1640:\tlearn: 0.1429616\ttest: 0.0958710\tbest: 0.0958450 (1635)\ttotal: 1m 40s\tremaining: 21.9s\n",
            "1641:\tlearn: 0.1429436\ttest: 0.0958376\tbest: 0.0958376 (1641)\ttotal: 1m 40s\tremaining: 21.8s\n",
            "1642:\tlearn: 0.1429184\ttest: 0.0958398\tbest: 0.0958376 (1641)\ttotal: 1m 40s\tremaining: 21.8s\n",
            "1643:\tlearn: 0.1429017\ttest: 0.0958360\tbest: 0.0958360 (1643)\ttotal: 1m 40s\tremaining: 21.7s\n",
            "1644:\tlearn: 0.1428698\ttest: 0.0958261\tbest: 0.0958261 (1644)\ttotal: 1m 40s\tremaining: 21.6s\n",
            "1645:\tlearn: 0.1428560\ttest: 0.0958426\tbest: 0.0958261 (1644)\ttotal: 1m 40s\tremaining: 21.6s\n",
            "1646:\tlearn: 0.1427623\ttest: 0.0957988\tbest: 0.0957988 (1646)\ttotal: 1m 40s\tremaining: 21.5s\n",
            "1647:\tlearn: 0.1427430\ttest: 0.0957912\tbest: 0.0957912 (1647)\ttotal: 1m 40s\tremaining: 21.4s\n",
            "1648:\tlearn: 0.1427061\ttest: 0.0957715\tbest: 0.0957715 (1648)\ttotal: 1m 40s\tremaining: 21.4s\n",
            "1649:\tlearn: 0.1426782\ttest: 0.0957678\tbest: 0.0957678 (1649)\ttotal: 1m 40s\tremaining: 21.3s\n",
            "1650:\tlearn: 0.1426512\ttest: 0.0958011\tbest: 0.0957678 (1649)\ttotal: 1m 40s\tremaining: 21.3s\n",
            "1651:\tlearn: 0.1426122\ttest: 0.0957523\tbest: 0.0957523 (1651)\ttotal: 1m 40s\tremaining: 21.2s\n",
            "1652:\tlearn: 0.1425974\ttest: 0.0957044\tbest: 0.0957044 (1652)\ttotal: 1m 40s\tremaining: 21.1s\n",
            "1653:\tlearn: 0.1425701\ttest: 0.0956821\tbest: 0.0956821 (1653)\ttotal: 1m 40s\tremaining: 21.1s\n",
            "1654:\tlearn: 0.1425503\ttest: 0.0956758\tbest: 0.0956758 (1654)\ttotal: 1m 40s\tremaining: 21s\n",
            "1655:\tlearn: 0.1425328\ttest: 0.0956741\tbest: 0.0956741 (1655)\ttotal: 1m 40s\tremaining: 21s\n",
            "1656:\tlearn: 0.1425108\ttest: 0.0956894\tbest: 0.0956741 (1655)\ttotal: 1m 40s\tremaining: 20.9s\n",
            "1657:\tlearn: 0.1424898\ttest: 0.0956818\tbest: 0.0956741 (1655)\ttotal: 1m 41s\tremaining: 20.8s\n",
            "1658:\tlearn: 0.1424747\ttest: 0.0956769\tbest: 0.0956741 (1655)\ttotal: 1m 41s\tremaining: 20.8s\n",
            "1659:\tlearn: 0.1424472\ttest: 0.0956732\tbest: 0.0956732 (1659)\ttotal: 1m 41s\tremaining: 20.7s\n",
            "1660:\tlearn: 0.1424287\ttest: 0.0956660\tbest: 0.0956660 (1660)\ttotal: 1m 41s\tremaining: 20.7s\n",
            "1661:\tlearn: 0.1424126\ttest: 0.0956643\tbest: 0.0956643 (1661)\ttotal: 1m 41s\tremaining: 20.6s\n",
            "1662:\tlearn: 0.1423846\ttest: 0.0956805\tbest: 0.0956643 (1661)\ttotal: 1m 41s\tremaining: 20.5s\n",
            "1663:\tlearn: 0.1423716\ttest: 0.0956811\tbest: 0.0956643 (1661)\ttotal: 1m 41s\tremaining: 20.5s\n",
            "1664:\tlearn: 0.1423558\ttest: 0.0956791\tbest: 0.0956643 (1661)\ttotal: 1m 41s\tremaining: 20.4s\n",
            "1665:\tlearn: 0.1423376\ttest: 0.0956771\tbest: 0.0956643 (1661)\ttotal: 1m 41s\tremaining: 20.4s\n",
            "1666:\tlearn: 0.1423103\ttest: 0.0956683\tbest: 0.0956643 (1661)\ttotal: 1m 41s\tremaining: 20.3s\n",
            "1667:\tlearn: 0.1422888\ttest: 0.0956652\tbest: 0.0956643 (1661)\ttotal: 1m 41s\tremaining: 20.2s\n",
            "1668:\tlearn: 0.1422710\ttest: 0.0956618\tbest: 0.0956618 (1668)\ttotal: 1m 41s\tremaining: 20.2s\n",
            "1669:\tlearn: 0.1422408\ttest: 0.0956594\tbest: 0.0956594 (1669)\ttotal: 1m 41s\tremaining: 20.1s\n",
            "1670:\tlearn: 0.1421990\ttest: 0.0956425\tbest: 0.0956425 (1670)\ttotal: 1m 41s\tremaining: 20s\n",
            "1671:\tlearn: 0.1421776\ttest: 0.0955963\tbest: 0.0955963 (1671)\ttotal: 1m 41s\tremaining: 20s\n",
            "1672:\tlearn: 0.1421665\ttest: 0.0955921\tbest: 0.0955921 (1672)\ttotal: 1m 41s\tremaining: 19.9s\n",
            "1673:\tlearn: 0.1420952\ttest: 0.0955616\tbest: 0.0955616 (1673)\ttotal: 1m 42s\tremaining: 19.9s\n",
            "1674:\tlearn: 0.1420787\ttest: 0.0955386\tbest: 0.0955386 (1674)\ttotal: 1m 42s\tremaining: 19.8s\n",
            "1675:\tlearn: 0.1420524\ttest: 0.0955278\tbest: 0.0955278 (1675)\ttotal: 1m 42s\tremaining: 19.7s\n",
            "1676:\tlearn: 0.1420324\ttest: 0.0955202\tbest: 0.0955202 (1676)\ttotal: 1m 42s\tremaining: 19.7s\n",
            "1677:\tlearn: 0.1419567\ttest: 0.0954881\tbest: 0.0954881 (1677)\ttotal: 1m 42s\tremaining: 19.6s\n",
            "1678:\tlearn: 0.1419182\ttest: 0.0954785\tbest: 0.0954785 (1678)\ttotal: 1m 42s\tremaining: 19.6s\n",
            "1679:\tlearn: 0.1418300\ttest: 0.0954725\tbest: 0.0954725 (1679)\ttotal: 1m 42s\tremaining: 19.5s\n",
            "1680:\tlearn: 0.1417702\ttest: 0.0954371\tbest: 0.0954371 (1680)\ttotal: 1m 42s\tremaining: 19.4s\n",
            "1681:\tlearn: 0.1417324\ttest: 0.0954371\tbest: 0.0954371 (1681)\ttotal: 1m 42s\tremaining: 19.4s\n",
            "1682:\tlearn: 0.1417169\ttest: 0.0954375\tbest: 0.0954371 (1681)\ttotal: 1m 42s\tremaining: 19.3s\n",
            "1683:\tlearn: 0.1416854\ttest: 0.0954453\tbest: 0.0954371 (1681)\ttotal: 1m 42s\tremaining: 19.3s\n",
            "1684:\tlearn: 0.1416205\ttest: 0.0954287\tbest: 0.0954287 (1684)\ttotal: 1m 42s\tremaining: 19.2s\n",
            "1685:\tlearn: 0.1415918\ttest: 0.0954526\tbest: 0.0954287 (1684)\ttotal: 1m 42s\tremaining: 19.1s\n",
            "1686:\tlearn: 0.1415564\ttest: 0.0954441\tbest: 0.0954287 (1684)\ttotal: 1m 42s\tremaining: 19.1s\n",
            "1687:\tlearn: 0.1415367\ttest: 0.0954357\tbest: 0.0954287 (1684)\ttotal: 1m 42s\tremaining: 19s\n",
            "1688:\tlearn: 0.1414892\ttest: 0.0954230\tbest: 0.0954230 (1688)\ttotal: 1m 42s\tremaining: 19s\n",
            "1689:\tlearn: 0.1414442\ttest: 0.0953861\tbest: 0.0953861 (1689)\ttotal: 1m 43s\tremaining: 18.9s\n",
            "1690:\tlearn: 0.1414286\ttest: 0.0953833\tbest: 0.0953833 (1690)\ttotal: 1m 43s\tremaining: 18.8s\n",
            "1691:\tlearn: 0.1413915\ttest: 0.0954016\tbest: 0.0953833 (1690)\ttotal: 1m 43s\tremaining: 18.8s\n",
            "1692:\tlearn: 0.1413632\ttest: 0.0954131\tbest: 0.0953833 (1690)\ttotal: 1m 43s\tremaining: 18.7s\n",
            "1693:\tlearn: 0.1412922\ttest: 0.0953518\tbest: 0.0953518 (1693)\ttotal: 1m 43s\tremaining: 18.6s\n",
            "1694:\tlearn: 0.1412763\ttest: 0.0953703\tbest: 0.0953518 (1693)\ttotal: 1m 43s\tremaining: 18.6s\n",
            "1695:\tlearn: 0.1412449\ttest: 0.0953673\tbest: 0.0953518 (1693)\ttotal: 1m 43s\tremaining: 18.5s\n",
            "1696:\tlearn: 0.1412242\ttest: 0.0953596\tbest: 0.0953518 (1693)\ttotal: 1m 43s\tremaining: 18.5s\n",
            "1697:\tlearn: 0.1412103\ttest: 0.0953567\tbest: 0.0953518 (1693)\ttotal: 1m 43s\tremaining: 18.4s\n",
            "1698:\tlearn: 0.1411883\ttest: 0.0953588\tbest: 0.0953518 (1693)\ttotal: 1m 43s\tremaining: 18.3s\n",
            "1699:\tlearn: 0.1411650\ttest: 0.0953449\tbest: 0.0953449 (1699)\ttotal: 1m 43s\tremaining: 18.3s\n",
            "1700:\tlearn: 0.1411441\ttest: 0.0953439\tbest: 0.0953439 (1700)\ttotal: 1m 43s\tremaining: 18.2s\n",
            "1701:\tlearn: 0.1411198\ttest: 0.0953396\tbest: 0.0953396 (1701)\ttotal: 1m 43s\tremaining: 18.2s\n",
            "1702:\tlearn: 0.1410978\ttest: 0.0953215\tbest: 0.0953215 (1702)\ttotal: 1m 43s\tremaining: 18.1s\n",
            "1703:\tlearn: 0.1410822\ttest: 0.0953372\tbest: 0.0953215 (1702)\ttotal: 1m 43s\tremaining: 18s\n",
            "1704:\tlearn: 0.1410537\ttest: 0.0953326\tbest: 0.0953215 (1702)\ttotal: 1m 43s\tremaining: 18s\n",
            "1705:\tlearn: 0.1410368\ttest: 0.0953276\tbest: 0.0953215 (1702)\ttotal: 1m 44s\tremaining: 17.9s\n",
            "1706:\tlearn: 0.1409913\ttest: 0.0953166\tbest: 0.0953166 (1706)\ttotal: 1m 44s\tremaining: 17.9s\n",
            "1707:\tlearn: 0.1409528\ttest: 0.0953051\tbest: 0.0953051 (1707)\ttotal: 1m 44s\tremaining: 17.8s\n",
            "1708:\tlearn: 0.1409422\ttest: 0.0953008\tbest: 0.0953008 (1708)\ttotal: 1m 44s\tremaining: 17.7s\n",
            "1709:\tlearn: 0.1409303\ttest: 0.0953007\tbest: 0.0953007 (1709)\ttotal: 1m 44s\tremaining: 17.7s\n",
            "1710:\tlearn: 0.1408934\ttest: 0.0953077\tbest: 0.0953007 (1709)\ttotal: 1m 44s\tremaining: 17.6s\n",
            "1711:\tlearn: 0.1408749\ttest: 0.0953080\tbest: 0.0953007 (1709)\ttotal: 1m 44s\tremaining: 17.6s\n",
            "1712:\tlearn: 0.1408581\ttest: 0.0952861\tbest: 0.0952861 (1712)\ttotal: 1m 44s\tremaining: 17.5s\n",
            "1713:\tlearn: 0.1408382\ttest: 0.0952858\tbest: 0.0952858 (1713)\ttotal: 1m 44s\tremaining: 17.4s\n",
            "1714:\tlearn: 0.1408245\ttest: 0.0952817\tbest: 0.0952817 (1714)\ttotal: 1m 44s\tremaining: 17.4s\n",
            "1715:\tlearn: 0.1408014\ttest: 0.0952895\tbest: 0.0952817 (1714)\ttotal: 1m 44s\tremaining: 17.3s\n",
            "1716:\tlearn: 0.1407798\ttest: 0.0952829\tbest: 0.0952817 (1714)\ttotal: 1m 44s\tremaining: 17.3s\n",
            "1717:\tlearn: 0.1407491\ttest: 0.0952654\tbest: 0.0952654 (1717)\ttotal: 1m 44s\tremaining: 17.2s\n",
            "1718:\tlearn: 0.1407273\ttest: 0.0953151\tbest: 0.0952654 (1717)\ttotal: 1m 44s\tremaining: 17.1s\n",
            "1719:\tlearn: 0.1407035\ttest: 0.0953086\tbest: 0.0952654 (1717)\ttotal: 1m 44s\tremaining: 17.1s\n",
            "1720:\tlearn: 0.1406717\ttest: 0.0952857\tbest: 0.0952654 (1717)\ttotal: 1m 44s\tremaining: 17s\n",
            "1721:\tlearn: 0.1406356\ttest: 0.0953035\tbest: 0.0952654 (1717)\ttotal: 1m 45s\tremaining: 17s\n",
            "1722:\tlearn: 0.1406136\ttest: 0.0952935\tbest: 0.0952654 (1717)\ttotal: 1m 45s\tremaining: 16.9s\n",
            "1723:\tlearn: 0.1405924\ttest: 0.0952789\tbest: 0.0952654 (1717)\ttotal: 1m 45s\tremaining: 16.8s\n",
            "1724:\tlearn: 0.1405623\ttest: 0.0952713\tbest: 0.0952654 (1717)\ttotal: 1m 45s\tremaining: 16.8s\n",
            "1725:\tlearn: 0.1405426\ttest: 0.0952670\tbest: 0.0952654 (1717)\ttotal: 1m 45s\tremaining: 16.7s\n",
            "1726:\tlearn: 0.1405297\ttest: 0.0952404\tbest: 0.0952404 (1726)\ttotal: 1m 45s\tremaining: 16.6s\n",
            "1727:\tlearn: 0.1405123\ttest: 0.0952517\tbest: 0.0952404 (1726)\ttotal: 1m 45s\tremaining: 16.6s\n",
            "1728:\tlearn: 0.1405025\ttest: 0.0952555\tbest: 0.0952404 (1726)\ttotal: 1m 45s\tremaining: 16.5s\n",
            "1729:\tlearn: 0.1404781\ttest: 0.0952612\tbest: 0.0952404 (1726)\ttotal: 1m 45s\tremaining: 16.5s\n",
            "1730:\tlearn: 0.1404394\ttest: 0.0952689\tbest: 0.0952404 (1726)\ttotal: 1m 45s\tremaining: 16.4s\n",
            "1731:\tlearn: 0.1403910\ttest: 0.0952616\tbest: 0.0952404 (1726)\ttotal: 1m 45s\tremaining: 16.3s\n",
            "1732:\tlearn: 0.1403794\ttest: 0.0952595\tbest: 0.0952404 (1726)\ttotal: 1m 45s\tremaining: 16.3s\n",
            "1733:\tlearn: 0.1403457\ttest: 0.0952330\tbest: 0.0952330 (1733)\ttotal: 1m 45s\tremaining: 16.2s\n",
            "1734:\tlearn: 0.1403310\ttest: 0.0952119\tbest: 0.0952119 (1734)\ttotal: 1m 45s\tremaining: 16.2s\n",
            "1735:\tlearn: 0.1403137\ttest: 0.0952047\tbest: 0.0952047 (1735)\ttotal: 1m 45s\tremaining: 16.1s\n",
            "1736:\tlearn: 0.1402965\ttest: 0.0951710\tbest: 0.0951710 (1736)\ttotal: 1m 45s\tremaining: 16s\n",
            "1737:\tlearn: 0.1402759\ttest: 0.0951579\tbest: 0.0951579 (1737)\ttotal: 1m 45s\tremaining: 16s\n",
            "1738:\tlearn: 0.1401946\ttest: 0.0950610\tbest: 0.0950610 (1738)\ttotal: 1m 46s\tremaining: 15.9s\n",
            "1739:\tlearn: 0.1401722\ttest: 0.0950505\tbest: 0.0950505 (1739)\ttotal: 1m 46s\tremaining: 15.9s\n",
            "1740:\tlearn: 0.1401420\ttest: 0.0950634\tbest: 0.0950505 (1739)\ttotal: 1m 46s\tremaining: 15.8s\n",
            "1741:\tlearn: 0.1401214\ttest: 0.0950564\tbest: 0.0950505 (1739)\ttotal: 1m 46s\tremaining: 15.7s\n",
            "1742:\tlearn: 0.1401026\ttest: 0.0950594\tbest: 0.0950505 (1739)\ttotal: 1m 46s\tremaining: 15.7s\n",
            "1743:\tlearn: 0.1400813\ttest: 0.0950638\tbest: 0.0950505 (1739)\ttotal: 1m 46s\tremaining: 15.6s\n",
            "1744:\tlearn: 0.1400464\ttest: 0.0950456\tbest: 0.0950456 (1744)\ttotal: 1m 46s\tremaining: 15.6s\n",
            "1745:\tlearn: 0.1400236\ttest: 0.0950392\tbest: 0.0950392 (1745)\ttotal: 1m 46s\tremaining: 15.5s\n",
            "1746:\tlearn: 0.1400113\ttest: 0.0950334\tbest: 0.0950334 (1746)\ttotal: 1m 46s\tremaining: 15.4s\n",
            "1747:\tlearn: 0.1399929\ttest: 0.0950238\tbest: 0.0950238 (1747)\ttotal: 1m 46s\tremaining: 15.4s\n",
            "1748:\tlearn: 0.1399682\ttest: 0.0950256\tbest: 0.0950238 (1747)\ttotal: 1m 46s\tremaining: 15.3s\n",
            "1749:\tlearn: 0.1399479\ttest: 0.0950219\tbest: 0.0950219 (1749)\ttotal: 1m 46s\tremaining: 15.2s\n",
            "1750:\tlearn: 0.1399382\ttest: 0.0950214\tbest: 0.0950214 (1750)\ttotal: 1m 46s\tremaining: 15.2s\n",
            "1751:\tlearn: 0.1399106\ttest: 0.0949777\tbest: 0.0949777 (1751)\ttotal: 1m 46s\tremaining: 15.1s\n",
            "1752:\tlearn: 0.1398870\ttest: 0.0949878\tbest: 0.0949777 (1751)\ttotal: 1m 46s\tremaining: 15.1s\n",
            "1753:\tlearn: 0.1398668\ttest: 0.0949866\tbest: 0.0949777 (1751)\ttotal: 1m 46s\tremaining: 15s\n",
            "1754:\tlearn: 0.1398407\ttest: 0.0949602\tbest: 0.0949602 (1754)\ttotal: 1m 47s\tremaining: 14.9s\n",
            "1755:\tlearn: 0.1398051\ttest: 0.0949290\tbest: 0.0949290 (1755)\ttotal: 1m 47s\tremaining: 14.9s\n",
            "1756:\tlearn: 0.1397360\ttest: 0.0950291\tbest: 0.0949290 (1755)\ttotal: 1m 47s\tremaining: 14.8s\n",
            "1757:\tlearn: 0.1397137\ttest: 0.0950209\tbest: 0.0949290 (1755)\ttotal: 1m 47s\tremaining: 14.8s\n",
            "1758:\tlearn: 0.1396949\ttest: 0.0950247\tbest: 0.0949290 (1755)\ttotal: 1m 47s\tremaining: 14.7s\n",
            "1759:\tlearn: 0.1396746\ttest: 0.0950177\tbest: 0.0949290 (1755)\ttotal: 1m 47s\tremaining: 14.6s\n",
            "1760:\tlearn: 0.1395427\ttest: 0.0947984\tbest: 0.0947984 (1760)\ttotal: 1m 47s\tremaining: 14.6s\n",
            "1761:\tlearn: 0.1394872\ttest: 0.0947312\tbest: 0.0947312 (1761)\ttotal: 1m 47s\tremaining: 14.5s\n",
            "1762:\tlearn: 0.1394729\ttest: 0.0947301\tbest: 0.0947301 (1762)\ttotal: 1m 47s\tremaining: 14.5s\n",
            "1763:\tlearn: 0.1394544\ttest: 0.0947295\tbest: 0.0947295 (1763)\ttotal: 1m 47s\tremaining: 14.4s\n",
            "1764:\tlearn: 0.1394298\ttest: 0.0947182\tbest: 0.0947182 (1764)\ttotal: 1m 47s\tremaining: 14.3s\n",
            "1765:\tlearn: 0.1393970\ttest: 0.0946998\tbest: 0.0946998 (1765)\ttotal: 1m 47s\tremaining: 14.3s\n",
            "1766:\tlearn: 0.1393799\ttest: 0.0947006\tbest: 0.0946998 (1765)\ttotal: 1m 47s\tremaining: 14.2s\n",
            "1767:\tlearn: 0.1393546\ttest: 0.0946990\tbest: 0.0946990 (1767)\ttotal: 1m 47s\tremaining: 14.1s\n",
            "1768:\tlearn: 0.1392932\ttest: 0.0946826\tbest: 0.0946826 (1768)\ttotal: 1m 47s\tremaining: 14.1s\n",
            "1769:\tlearn: 0.1392784\ttest: 0.0946886\tbest: 0.0946826 (1768)\ttotal: 1m 47s\tremaining: 14s\n",
            "1770:\tlearn: 0.1392498\ttest: 0.0946829\tbest: 0.0946826 (1768)\ttotal: 1m 48s\tremaining: 14s\n",
            "1771:\tlearn: 0.1392335\ttest: 0.0946962\tbest: 0.0946826 (1768)\ttotal: 1m 48s\tremaining: 13.9s\n",
            "1772:\tlearn: 0.1392195\ttest: 0.0947124\tbest: 0.0946826 (1768)\ttotal: 1m 48s\tremaining: 13.8s\n",
            "1773:\tlearn: 0.1391970\ttest: 0.0947048\tbest: 0.0946826 (1768)\ttotal: 1m 48s\tremaining: 13.8s\n",
            "1774:\tlearn: 0.1391749\ttest: 0.0947082\tbest: 0.0946826 (1768)\ttotal: 1m 48s\tremaining: 13.7s\n",
            "1775:\tlearn: 0.1391521\ttest: 0.0946612\tbest: 0.0946612 (1775)\ttotal: 1m 48s\tremaining: 13.7s\n",
            "1776:\tlearn: 0.1391298\ttest: 0.0946595\tbest: 0.0946595 (1776)\ttotal: 1m 48s\tremaining: 13.6s\n",
            "1777:\tlearn: 0.1391146\ttest: 0.0946707\tbest: 0.0946595 (1776)\ttotal: 1m 48s\tremaining: 13.5s\n",
            "1778:\tlearn: 0.1390956\ttest: 0.0946712\tbest: 0.0946595 (1776)\ttotal: 1m 48s\tremaining: 13.5s\n",
            "1779:\tlearn: 0.1390776\ttest: 0.0946819\tbest: 0.0946595 (1776)\ttotal: 1m 48s\tremaining: 13.4s\n",
            "1780:\tlearn: 0.1390511\ttest: 0.0946775\tbest: 0.0946595 (1776)\ttotal: 1m 48s\tremaining: 13.4s\n",
            "1781:\tlearn: 0.1390289\ttest: 0.0946873\tbest: 0.0946595 (1776)\ttotal: 1m 48s\tremaining: 13.3s\n",
            "1782:\tlearn: 0.1390055\ttest: 0.0946885\tbest: 0.0946595 (1776)\ttotal: 1m 48s\tremaining: 13.2s\n",
            "1783:\tlearn: 0.1389844\ttest: 0.0946905\tbest: 0.0946595 (1776)\ttotal: 1m 48s\tremaining: 13.2s\n",
            "1784:\tlearn: 0.1389671\ttest: 0.0946917\tbest: 0.0946595 (1776)\ttotal: 1m 48s\tremaining: 13.1s\n",
            "1785:\tlearn: 0.1389432\ttest: 0.0946849\tbest: 0.0946595 (1776)\ttotal: 1m 48s\tremaining: 13.1s\n",
            "1786:\tlearn: 0.1389103\ttest: 0.0946843\tbest: 0.0946595 (1776)\ttotal: 1m 49s\tremaining: 13s\n",
            "1787:\tlearn: 0.1388941\ttest: 0.0946868\tbest: 0.0946595 (1776)\ttotal: 1m 49s\tremaining: 12.9s\n",
            "1788:\tlearn: 0.1388650\ttest: 0.0946576\tbest: 0.0946576 (1788)\ttotal: 1m 49s\tremaining: 12.9s\n",
            "1789:\tlearn: 0.1388497\ttest: 0.0946558\tbest: 0.0946558 (1789)\ttotal: 1m 49s\tremaining: 12.8s\n",
            "1790:\tlearn: 0.1388154\ttest: 0.0946164\tbest: 0.0946164 (1790)\ttotal: 1m 49s\tremaining: 12.7s\n",
            "1791:\tlearn: 0.1387965\ttest: 0.0946002\tbest: 0.0946002 (1791)\ttotal: 1m 49s\tremaining: 12.7s\n",
            "1792:\tlearn: 0.1387712\ttest: 0.0945950\tbest: 0.0945950 (1792)\ttotal: 1m 49s\tremaining: 12.6s\n",
            "1793:\tlearn: 0.1387536\ttest: 0.0945657\tbest: 0.0945657 (1793)\ttotal: 1m 49s\tremaining: 12.6s\n",
            "1794:\tlearn: 0.1387231\ttest: 0.0945576\tbest: 0.0945576 (1794)\ttotal: 1m 49s\tremaining: 12.5s\n",
            "1795:\tlearn: 0.1387096\ttest: 0.0945530\tbest: 0.0945530 (1795)\ttotal: 1m 49s\tremaining: 12.4s\n",
            "1796:\tlearn: 0.1386894\ttest: 0.0945475\tbest: 0.0945475 (1796)\ttotal: 1m 49s\tremaining: 12.4s\n",
            "1797:\tlearn: 0.1386726\ttest: 0.0945546\tbest: 0.0945475 (1796)\ttotal: 1m 49s\tremaining: 12.3s\n",
            "1798:\tlearn: 0.1386531\ttest: 0.0945501\tbest: 0.0945475 (1796)\ttotal: 1m 49s\tremaining: 12.3s\n",
            "1799:\tlearn: 0.1386337\ttest: 0.0945464\tbest: 0.0945464 (1799)\ttotal: 1m 49s\tremaining: 12.2s\n",
            "1800:\tlearn: 0.1386047\ttest: 0.0945303\tbest: 0.0945303 (1800)\ttotal: 1m 49s\tremaining: 12.1s\n",
            "1801:\tlearn: 0.1385834\ttest: 0.0945287\tbest: 0.0945287 (1801)\ttotal: 1m 49s\tremaining: 12.1s\n",
            "1802:\tlearn: 0.1385506\ttest: 0.0945207\tbest: 0.0945207 (1802)\ttotal: 1m 49s\tremaining: 12s\n",
            "1803:\tlearn: 0.1385394\ttest: 0.0945166\tbest: 0.0945166 (1803)\ttotal: 1m 50s\tremaining: 12s\n",
            "1804:\tlearn: 0.1385198\ttest: 0.0945130\tbest: 0.0945130 (1804)\ttotal: 1m 50s\tremaining: 11.9s\n",
            "1805:\tlearn: 0.1385060\ttest: 0.0945073\tbest: 0.0945073 (1805)\ttotal: 1m 50s\tremaining: 11.8s\n",
            "1806:\tlearn: 0.1384852\ttest: 0.0945078\tbest: 0.0945073 (1805)\ttotal: 1m 50s\tremaining: 11.8s\n",
            "1807:\tlearn: 0.1384572\ttest: 0.0944991\tbest: 0.0944991 (1807)\ttotal: 1m 50s\tremaining: 11.7s\n",
            "1808:\tlearn: 0.1384284\ttest: 0.0944966\tbest: 0.0944966 (1808)\ttotal: 1m 50s\tremaining: 11.7s\n",
            "1809:\tlearn: 0.1384077\ttest: 0.0945024\tbest: 0.0944966 (1808)\ttotal: 1m 50s\tremaining: 11.6s\n",
            "1810:\tlearn: 0.1383808\ttest: 0.0944981\tbest: 0.0944966 (1808)\ttotal: 1m 50s\tremaining: 11.5s\n",
            "1811:\tlearn: 0.1383673\ttest: 0.0944918\tbest: 0.0944918 (1811)\ttotal: 1m 50s\tremaining: 11.5s\n",
            "1812:\tlearn: 0.1383533\ttest: 0.0944879\tbest: 0.0944879 (1812)\ttotal: 1m 50s\tremaining: 11.4s\n",
            "1813:\tlearn: 0.1383389\ttest: 0.0944900\tbest: 0.0944879 (1812)\ttotal: 1m 50s\tremaining: 11.3s\n",
            "1814:\tlearn: 0.1383282\ttest: 0.0944929\tbest: 0.0944879 (1812)\ttotal: 1m 50s\tremaining: 11.3s\n",
            "1815:\tlearn: 0.1383224\ttest: 0.0944900\tbest: 0.0944879 (1812)\ttotal: 1m 50s\tremaining: 11.2s\n",
            "1816:\tlearn: 0.1382973\ttest: 0.0944627\tbest: 0.0944627 (1816)\ttotal: 1m 50s\tremaining: 11.2s\n",
            "1817:\tlearn: 0.1382007\ttest: 0.0945036\tbest: 0.0944627 (1816)\ttotal: 1m 50s\tremaining: 11.1s\n",
            "1818:\tlearn: 0.1381767\ttest: 0.0945087\tbest: 0.0944627 (1816)\ttotal: 1m 50s\tremaining: 11s\n",
            "1819:\tlearn: 0.1381558\ttest: 0.0945022\tbest: 0.0944627 (1816)\ttotal: 1m 51s\tremaining: 11s\n",
            "1820:\tlearn: 0.1381392\ttest: 0.0944935\tbest: 0.0944627 (1816)\ttotal: 1m 51s\tremaining: 10.9s\n",
            "1821:\tlearn: 0.1381066\ttest: 0.0944749\tbest: 0.0944627 (1816)\ttotal: 1m 51s\tremaining: 10.9s\n",
            "1822:\tlearn: 0.1380874\ttest: 0.0944765\tbest: 0.0944627 (1816)\ttotal: 1m 51s\tremaining: 10.8s\n",
            "1823:\tlearn: 0.1380559\ttest: 0.0944677\tbest: 0.0944627 (1816)\ttotal: 1m 51s\tremaining: 10.7s\n",
            "1824:\tlearn: 0.1380439\ttest: 0.0944647\tbest: 0.0944627 (1816)\ttotal: 1m 51s\tremaining: 10.7s\n",
            "1825:\tlearn: 0.1380338\ttest: 0.0944621\tbest: 0.0944621 (1825)\ttotal: 1m 51s\tremaining: 10.6s\n",
            "1826:\tlearn: 0.1380221\ttest: 0.0944574\tbest: 0.0944574 (1826)\ttotal: 1m 51s\tremaining: 10.6s\n",
            "1827:\tlearn: 0.1380102\ttest: 0.0944529\tbest: 0.0944529 (1827)\ttotal: 1m 51s\tremaining: 10.5s\n",
            "1828:\tlearn: 0.1379922\ttest: 0.0944414\tbest: 0.0944414 (1828)\ttotal: 1m 51s\tremaining: 10.4s\n",
            "1829:\tlearn: 0.1379637\ttest: 0.0943852\tbest: 0.0943852 (1829)\ttotal: 1m 51s\tremaining: 10.4s\n",
            "1830:\tlearn: 0.1379478\ttest: 0.0943797\tbest: 0.0943797 (1830)\ttotal: 1m 51s\tremaining: 10.3s\n",
            "1831:\tlearn: 0.1379286\ttest: 0.0943478\tbest: 0.0943478 (1831)\ttotal: 1m 51s\tremaining: 10.2s\n",
            "1832:\tlearn: 0.1379144\ttest: 0.0943402\tbest: 0.0943402 (1832)\ttotal: 1m 51s\tremaining: 10.2s\n",
            "1833:\tlearn: 0.1378968\ttest: 0.0943466\tbest: 0.0943402 (1832)\ttotal: 1m 51s\tremaining: 10.1s\n",
            "1834:\tlearn: 0.1378836\ttest: 0.0943420\tbest: 0.0943402 (1832)\ttotal: 1m 51s\tremaining: 10.1s\n",
            "1835:\tlearn: 0.1378458\ttest: 0.0942981\tbest: 0.0942981 (1835)\ttotal: 1m 52s\tremaining: 10s\n",
            "1836:\tlearn: 0.1378308\ttest: 0.0942903\tbest: 0.0942903 (1836)\ttotal: 1m 52s\tremaining: 9.94s\n",
            "1837:\tlearn: 0.1378135\ttest: 0.0942971\tbest: 0.0942903 (1836)\ttotal: 1m 52s\tremaining: 9.88s\n",
            "1838:\tlearn: 0.1378063\ttest: 0.0943138\tbest: 0.0942903 (1836)\ttotal: 1m 52s\tremaining: 9.82s\n",
            "1839:\tlearn: 0.1377804\ttest: 0.0943113\tbest: 0.0942903 (1836)\ttotal: 1m 52s\tremaining: 9.76s\n",
            "1840:\tlearn: 0.1377544\ttest: 0.0943440\tbest: 0.0942903 (1836)\ttotal: 1m 52s\tremaining: 9.7s\n",
            "1841:\tlearn: 0.1377390\ttest: 0.0943413\tbest: 0.0942903 (1836)\ttotal: 1m 52s\tremaining: 9.64s\n",
            "1842:\tlearn: 0.1377147\ttest: 0.0943360\tbest: 0.0942903 (1836)\ttotal: 1m 52s\tremaining: 9.58s\n",
            "1843:\tlearn: 0.1376850\ttest: 0.0943255\tbest: 0.0942903 (1836)\ttotal: 1m 52s\tremaining: 9.52s\n",
            "1844:\tlearn: 0.1376733\ttest: 0.0943201\tbest: 0.0942903 (1836)\ttotal: 1m 52s\tremaining: 9.46s\n",
            "1845:\tlearn: 0.1376612\ttest: 0.0943153\tbest: 0.0942903 (1836)\ttotal: 1m 52s\tremaining: 9.39s\n",
            "1846:\tlearn: 0.1376314\ttest: 0.0943095\tbest: 0.0942903 (1836)\ttotal: 1m 52s\tremaining: 9.33s\n",
            "1847:\tlearn: 0.1376180\ttest: 0.0943049\tbest: 0.0942903 (1836)\ttotal: 1m 52s\tremaining: 9.27s\n",
            "1848:\tlearn: 0.1375960\ttest: 0.0942820\tbest: 0.0942820 (1848)\ttotal: 1m 52s\tremaining: 9.21s\n",
            "1849:\tlearn: 0.1375469\ttest: 0.0942956\tbest: 0.0942820 (1848)\ttotal: 1m 52s\tremaining: 9.15s\n",
            "1850:\tlearn: 0.1375328\ttest: 0.0942893\tbest: 0.0942820 (1848)\ttotal: 1m 52s\tremaining: 9.09s\n",
            "1851:\tlearn: 0.1375196\ttest: 0.0942787\tbest: 0.0942787 (1851)\ttotal: 1m 52s\tremaining: 9.03s\n",
            "1852:\tlearn: 0.1374985\ttest: 0.0942630\tbest: 0.0942630 (1852)\ttotal: 1m 53s\tremaining: 8.97s\n",
            "1853:\tlearn: 0.1374630\ttest: 0.0942702\tbest: 0.0942630 (1852)\ttotal: 1m 53s\tremaining: 8.91s\n",
            "1854:\tlearn: 0.1373859\ttest: 0.0942494\tbest: 0.0942494 (1854)\ttotal: 1m 53s\tremaining: 8.85s\n",
            "1855:\tlearn: 0.1373713\ttest: 0.0942501\tbest: 0.0942494 (1854)\ttotal: 1m 53s\tremaining: 8.78s\n",
            "1856:\tlearn: 0.1373315\ttest: 0.0942550\tbest: 0.0942494 (1854)\ttotal: 1m 53s\tremaining: 8.72s\n",
            "1857:\tlearn: 0.1372419\ttest: 0.0941971\tbest: 0.0941971 (1857)\ttotal: 1m 53s\tremaining: 8.66s\n",
            "1858:\tlearn: 0.1372242\ttest: 0.0941914\tbest: 0.0941914 (1858)\ttotal: 1m 53s\tremaining: 8.6s\n",
            "1859:\tlearn: 0.1372088\ttest: 0.0941808\tbest: 0.0941808 (1859)\ttotal: 1m 53s\tremaining: 8.54s\n",
            "1860:\tlearn: 0.1371446\ttest: 0.0941734\tbest: 0.0941734 (1860)\ttotal: 1m 53s\tremaining: 8.48s\n",
            "1861:\tlearn: 0.1371211\ttest: 0.0941494\tbest: 0.0941494 (1861)\ttotal: 1m 53s\tremaining: 8.42s\n",
            "1862:\tlearn: 0.1370862\ttest: 0.0941234\tbest: 0.0941234 (1862)\ttotal: 1m 53s\tremaining: 8.36s\n",
            "1863:\tlearn: 0.1370668\ttest: 0.0941165\tbest: 0.0941165 (1863)\ttotal: 1m 53s\tremaining: 8.3s\n",
            "1864:\tlearn: 0.1370474\ttest: 0.0941076\tbest: 0.0941076 (1864)\ttotal: 1m 53s\tremaining: 8.23s\n",
            "1865:\tlearn: 0.1370363\ttest: 0.0941075\tbest: 0.0941075 (1865)\ttotal: 1m 53s\tremaining: 8.17s\n",
            "1866:\tlearn: 0.1370259\ttest: 0.0941043\tbest: 0.0941043 (1866)\ttotal: 1m 53s\tremaining: 8.11s\n",
            "1867:\tlearn: 0.1369779\ttest: 0.0940890\tbest: 0.0940890 (1867)\ttotal: 1m 53s\tremaining: 8.05s\n",
            "1868:\tlearn: 0.1369484\ttest: 0.0940830\tbest: 0.0940830 (1868)\ttotal: 1m 54s\tremaining: 7.99s\n",
            "1869:\tlearn: 0.1368972\ttest: 0.0940757\tbest: 0.0940757 (1869)\ttotal: 1m 54s\tremaining: 7.93s\n",
            "1870:\tlearn: 0.1368701\ttest: 0.0940623\tbest: 0.0940623 (1870)\ttotal: 1m 54s\tremaining: 7.87s\n",
            "1871:\tlearn: 0.1368534\ttest: 0.0940595\tbest: 0.0940595 (1871)\ttotal: 1m 54s\tremaining: 7.81s\n",
            "1872:\tlearn: 0.1368292\ttest: 0.0940070\tbest: 0.0940070 (1872)\ttotal: 1m 54s\tremaining: 7.75s\n",
            "1873:\tlearn: 0.1368172\ttest: 0.0940026\tbest: 0.0940026 (1873)\ttotal: 1m 54s\tremaining: 7.69s\n",
            "1874:\tlearn: 0.1367976\ttest: 0.0940047\tbest: 0.0940026 (1873)\ttotal: 1m 54s\tremaining: 7.63s\n",
            "1875:\tlearn: 0.1367563\ttest: 0.0939728\tbest: 0.0939728 (1875)\ttotal: 1m 54s\tremaining: 7.57s\n",
            "1876:\tlearn: 0.1367403\ttest: 0.0939670\tbest: 0.0939670 (1876)\ttotal: 1m 54s\tremaining: 7.5s\n",
            "1877:\tlearn: 0.1367265\ttest: 0.0939711\tbest: 0.0939670 (1876)\ttotal: 1m 54s\tremaining: 7.44s\n",
            "1878:\tlearn: 0.1367076\ttest: 0.0939654\tbest: 0.0939654 (1878)\ttotal: 1m 54s\tremaining: 7.38s\n",
            "1879:\tlearn: 0.1366708\ttest: 0.0939901\tbest: 0.0939654 (1878)\ttotal: 1m 54s\tremaining: 7.32s\n",
            "1880:\tlearn: 0.1366565\ttest: 0.0939748\tbest: 0.0939654 (1878)\ttotal: 1m 54s\tremaining: 7.26s\n",
            "1881:\tlearn: 0.1366446\ttest: 0.0939527\tbest: 0.0939527 (1881)\ttotal: 1m 54s\tremaining: 7.2s\n",
            "1882:\tlearn: 0.1366264\ttest: 0.0939411\tbest: 0.0939411 (1882)\ttotal: 1m 54s\tremaining: 7.14s\n",
            "1883:\tlearn: 0.1365198\ttest: 0.0937837\tbest: 0.0937837 (1883)\ttotal: 1m 54s\tremaining: 7.08s\n",
            "1884:\tlearn: 0.1364951\ttest: 0.0937885\tbest: 0.0937837 (1883)\ttotal: 1m 55s\tremaining: 7.02s\n",
            "1885:\tlearn: 0.1364712\ttest: 0.0937903\tbest: 0.0937837 (1883)\ttotal: 1m 55s\tremaining: 6.96s\n",
            "1886:\tlearn: 0.1364433\ttest: 0.0937837\tbest: 0.0937837 (1886)\ttotal: 1m 55s\tremaining: 6.89s\n",
            "1887:\tlearn: 0.1364276\ttest: 0.0937723\tbest: 0.0937723 (1887)\ttotal: 1m 55s\tremaining: 6.83s\n",
            "1888:\tlearn: 0.1364049\ttest: 0.0937884\tbest: 0.0937723 (1887)\ttotal: 1m 55s\tremaining: 6.77s\n",
            "1889:\tlearn: 0.1363947\ttest: 0.0937896\tbest: 0.0937723 (1887)\ttotal: 1m 55s\tremaining: 6.71s\n",
            "1890:\tlearn: 0.1363708\ttest: 0.0937571\tbest: 0.0937571 (1890)\ttotal: 1m 55s\tremaining: 6.65s\n",
            "1891:\tlearn: 0.1363393\ttest: 0.0937676\tbest: 0.0937571 (1890)\ttotal: 1m 55s\tremaining: 6.59s\n",
            "1892:\tlearn: 0.1363265\ttest: 0.0937657\tbest: 0.0937571 (1890)\ttotal: 1m 55s\tremaining: 6.53s\n",
            "1893:\tlearn: 0.1362947\ttest: 0.0937713\tbest: 0.0937571 (1890)\ttotal: 1m 55s\tremaining: 6.47s\n",
            "1894:\tlearn: 0.1362819\ttest: 0.0937685\tbest: 0.0937571 (1890)\ttotal: 1m 55s\tremaining: 6.41s\n",
            "1895:\tlearn: 0.1362565\ttest: 0.0937594\tbest: 0.0937571 (1890)\ttotal: 1m 55s\tremaining: 6.35s\n",
            "1896:\tlearn: 0.1362363\ttest: 0.0937561\tbest: 0.0937561 (1896)\ttotal: 1m 55s\tremaining: 6.29s\n",
            "1897:\tlearn: 0.1362203\ttest: 0.0937520\tbest: 0.0937520 (1897)\ttotal: 1m 55s\tremaining: 6.22s\n",
            "1898:\tlearn: 0.1361919\ttest: 0.0937456\tbest: 0.0937456 (1898)\ttotal: 1m 55s\tremaining: 6.16s\n",
            "1899:\tlearn: 0.1361795\ttest: 0.0937368\tbest: 0.0937368 (1899)\ttotal: 1m 55s\tremaining: 6.1s\n",
            "1900:\tlearn: 0.1361715\ttest: 0.0937340\tbest: 0.0937340 (1900)\ttotal: 1m 56s\tremaining: 6.04s\n",
            "1901:\tlearn: 0.1361568\ttest: 0.0937297\tbest: 0.0937297 (1901)\ttotal: 1m 56s\tremaining: 5.98s\n",
            "1902:\tlearn: 0.1361368\ttest: 0.0937326\tbest: 0.0937297 (1901)\ttotal: 1m 56s\tremaining: 5.92s\n",
            "1903:\tlearn: 0.1360678\ttest: 0.0937126\tbest: 0.0937126 (1903)\ttotal: 1m 56s\tremaining: 5.86s\n",
            "1904:\tlearn: 0.1360554\ttest: 0.0936917\tbest: 0.0936917 (1904)\ttotal: 1m 56s\tremaining: 5.8s\n",
            "1905:\tlearn: 0.1360422\ttest: 0.0936859\tbest: 0.0936859 (1905)\ttotal: 1m 56s\tremaining: 5.74s\n",
            "1906:\tlearn: 0.1360161\ttest: 0.0936791\tbest: 0.0936791 (1906)\ttotal: 1m 56s\tremaining: 5.67s\n",
            "1907:\tlearn: 0.1360011\ttest: 0.0936769\tbest: 0.0936769 (1907)\ttotal: 1m 56s\tremaining: 5.61s\n",
            "1908:\tlearn: 0.1359830\ttest: 0.0936796\tbest: 0.0936769 (1907)\ttotal: 1m 56s\tremaining: 5.55s\n",
            "1909:\tlearn: 0.1359713\ttest: 0.0936773\tbest: 0.0936769 (1907)\ttotal: 1m 56s\tremaining: 5.49s\n",
            "1910:\tlearn: 0.1359289\ttest: 0.0936623\tbest: 0.0936623 (1910)\ttotal: 1m 56s\tremaining: 5.43s\n",
            "1911:\tlearn: 0.1359101\ttest: 0.0936590\tbest: 0.0936590 (1911)\ttotal: 1m 56s\tremaining: 5.37s\n",
            "1912:\tlearn: 0.1358775\ttest: 0.0936556\tbest: 0.0936556 (1912)\ttotal: 1m 56s\tremaining: 5.31s\n",
            "1913:\tlearn: 0.1358582\ttest: 0.0936501\tbest: 0.0936501 (1913)\ttotal: 1m 56s\tremaining: 5.25s\n",
            "1914:\tlearn: 0.1358405\ttest: 0.0936481\tbest: 0.0936481 (1914)\ttotal: 1m 56s\tremaining: 5.19s\n",
            "1915:\tlearn: 0.1358146\ttest: 0.0936511\tbest: 0.0936481 (1914)\ttotal: 1m 56s\tremaining: 5.13s\n",
            "1916:\tlearn: 0.1357570\ttest: 0.0936875\tbest: 0.0936481 (1914)\ttotal: 1m 56s\tremaining: 5.07s\n",
            "1917:\tlearn: 0.1357329\ttest: 0.0936844\tbest: 0.0936481 (1914)\ttotal: 1m 57s\tremaining: 5s\n",
            "1918:\tlearn: 0.1356176\ttest: 0.0935770\tbest: 0.0935770 (1918)\ttotal: 1m 57s\tremaining: 4.94s\n",
            "1919:\tlearn: 0.1356024\ttest: 0.0935827\tbest: 0.0935770 (1918)\ttotal: 1m 57s\tremaining: 4.88s\n",
            "1920:\tlearn: 0.1355927\ttest: 0.0935808\tbest: 0.0935770 (1918)\ttotal: 1m 57s\tremaining: 4.82s\n",
            "1921:\tlearn: 0.1355821\ttest: 0.0935825\tbest: 0.0935770 (1918)\ttotal: 1m 57s\tremaining: 4.76s\n",
            "1922:\tlearn: 0.1355519\ttest: 0.0935846\tbest: 0.0935770 (1918)\ttotal: 1m 57s\tremaining: 4.7s\n",
            "1923:\tlearn: 0.1355350\ttest: 0.0935790\tbest: 0.0935770 (1918)\ttotal: 1m 57s\tremaining: 4.64s\n",
            "1924:\tlearn: 0.1354947\ttest: 0.0935641\tbest: 0.0935641 (1924)\ttotal: 1m 57s\tremaining: 4.58s\n",
            "1925:\tlearn: 0.1354784\ttest: 0.0935665\tbest: 0.0935641 (1924)\ttotal: 1m 57s\tremaining: 4.52s\n",
            "1926:\tlearn: 0.1354574\ttest: 0.0935628\tbest: 0.0935628 (1926)\ttotal: 1m 57s\tremaining: 4.46s\n",
            "1927:\tlearn: 0.1354421\ttest: 0.0935551\tbest: 0.0935551 (1927)\ttotal: 1m 57s\tremaining: 4.39s\n",
            "1928:\tlearn: 0.1354160\ttest: 0.0935206\tbest: 0.0935206 (1928)\ttotal: 1m 57s\tremaining: 4.33s\n",
            "1929:\tlearn: 0.1354030\ttest: 0.0935234\tbest: 0.0935206 (1928)\ttotal: 1m 57s\tremaining: 4.27s\n",
            "1930:\tlearn: 0.1353922\ttest: 0.0935184\tbest: 0.0935184 (1930)\ttotal: 1m 57s\tremaining: 4.21s\n",
            "1931:\tlearn: 0.1353750\ttest: 0.0935139\tbest: 0.0935139 (1931)\ttotal: 1m 57s\tremaining: 4.15s\n",
            "1932:\tlearn: 0.1353597\ttest: 0.0935221\tbest: 0.0935139 (1931)\ttotal: 1m 57s\tremaining: 4.09s\n",
            "1933:\tlearn: 0.1353464\ttest: 0.0935266\tbest: 0.0935139 (1931)\ttotal: 1m 58s\tremaining: 4.03s\n",
            "1934:\tlearn: 0.1353263\ttest: 0.0935037\tbest: 0.0935037 (1934)\ttotal: 1m 58s\tremaining: 3.97s\n",
            "1935:\tlearn: 0.1353135\ttest: 0.0934998\tbest: 0.0934998 (1935)\ttotal: 1m 58s\tremaining: 3.91s\n",
            "1936:\tlearn: 0.1352924\ttest: 0.0934720\tbest: 0.0934720 (1936)\ttotal: 1m 58s\tremaining: 3.85s\n",
            "1937:\tlearn: 0.1352573\ttest: 0.0934578\tbest: 0.0934578 (1937)\ttotal: 1m 58s\tremaining: 3.78s\n",
            "1938:\tlearn: 0.1352081\ttest: 0.0934209\tbest: 0.0934209 (1938)\ttotal: 1m 58s\tremaining: 3.72s\n",
            "1939:\tlearn: 0.1351827\ttest: 0.0933889\tbest: 0.0933889 (1939)\ttotal: 1m 58s\tremaining: 3.66s\n",
            "1940:\tlearn: 0.1351416\ttest: 0.0933772\tbest: 0.0933772 (1940)\ttotal: 1m 58s\tremaining: 3.6s\n",
            "1941:\tlearn: 0.1351337\ttest: 0.0933742\tbest: 0.0933742 (1941)\ttotal: 1m 58s\tremaining: 3.54s\n",
            "1942:\tlearn: 0.1351037\ttest: 0.0933622\tbest: 0.0933622 (1942)\ttotal: 1m 58s\tremaining: 3.48s\n",
            "1943:\tlearn: 0.1350741\ttest: 0.0933435\tbest: 0.0933435 (1943)\ttotal: 1m 58s\tremaining: 3.42s\n",
            "1944:\tlearn: 0.1350493\ttest: 0.0933308\tbest: 0.0933308 (1944)\ttotal: 1m 58s\tremaining: 3.36s\n",
            "1945:\tlearn: 0.1350315\ttest: 0.0933304\tbest: 0.0933304 (1945)\ttotal: 1m 58s\tremaining: 3.3s\n",
            "1946:\tlearn: 0.1350163\ttest: 0.0933271\tbest: 0.0933271 (1946)\ttotal: 1m 58s\tremaining: 3.23s\n",
            "1947:\tlearn: 0.1349865\ttest: 0.0933197\tbest: 0.0933197 (1947)\ttotal: 1m 58s\tremaining: 3.17s\n",
            "1948:\tlearn: 0.1349718\ttest: 0.0933305\tbest: 0.0933197 (1947)\ttotal: 1m 58s\tremaining: 3.11s\n",
            "1949:\tlearn: 0.1349515\ttest: 0.0933252\tbest: 0.0933197 (1947)\ttotal: 1m 59s\tremaining: 3.05s\n",
            "1950:\tlearn: 0.1349258\ttest: 0.0933190\tbest: 0.0933190 (1950)\ttotal: 1m 59s\tremaining: 2.99s\n",
            "1951:\tlearn: 0.1349089\ttest: 0.0933183\tbest: 0.0933183 (1951)\ttotal: 1m 59s\tremaining: 2.93s\n",
            "1952:\tlearn: 0.1348945\ttest: 0.0933283\tbest: 0.0933183 (1951)\ttotal: 1m 59s\tremaining: 2.87s\n",
            "1953:\tlearn: 0.1348874\ttest: 0.0933257\tbest: 0.0933183 (1951)\ttotal: 1m 59s\tremaining: 2.81s\n",
            "1954:\tlearn: 0.1348548\ttest: 0.0933248\tbest: 0.0933183 (1951)\ttotal: 1m 59s\tremaining: 2.75s\n",
            "1955:\tlearn: 0.1348369\ttest: 0.0933233\tbest: 0.0933183 (1951)\ttotal: 1m 59s\tremaining: 2.69s\n",
            "1956:\tlearn: 0.1348099\ttest: 0.0933245\tbest: 0.0933183 (1951)\ttotal: 1m 59s\tremaining: 2.62s\n",
            "1957:\tlearn: 0.1347959\ttest: 0.0933221\tbest: 0.0933183 (1951)\ttotal: 1m 59s\tremaining: 2.56s\n",
            "1958:\tlearn: 0.1347716\ttest: 0.0933111\tbest: 0.0933111 (1958)\ttotal: 1m 59s\tremaining: 2.5s\n",
            "1959:\tlearn: 0.1347469\ttest: 0.0933106\tbest: 0.0933106 (1959)\ttotal: 1m 59s\tremaining: 2.44s\n",
            "1960:\tlearn: 0.1347312\ttest: 0.0933095\tbest: 0.0933095 (1960)\ttotal: 1m 59s\tremaining: 2.38s\n",
            "1961:\tlearn: 0.1347121\ttest: 0.0932876\tbest: 0.0932876 (1961)\ttotal: 1m 59s\tremaining: 2.32s\n",
            "1962:\tlearn: 0.1346914\ttest: 0.0932817\tbest: 0.0932817 (1962)\ttotal: 1m 59s\tremaining: 2.26s\n",
            "1963:\tlearn: 0.1346744\ttest: 0.0932817\tbest: 0.0932817 (1963)\ttotal: 1m 59s\tremaining: 2.2s\n",
            "1964:\tlearn: 0.1346596\ttest: 0.0932800\tbest: 0.0932800 (1964)\ttotal: 1m 59s\tremaining: 2.14s\n",
            "1965:\tlearn: 0.1346397\ttest: 0.0932794\tbest: 0.0932794 (1965)\ttotal: 2m\tremaining: 2.08s\n",
            "1966:\tlearn: 0.1346260\ttest: 0.0932743\tbest: 0.0932743 (1966)\ttotal: 2m\tremaining: 2.01s\n",
            "1967:\tlearn: 0.1346112\ttest: 0.0932940\tbest: 0.0932743 (1966)\ttotal: 2m\tremaining: 1.95s\n",
            "1968:\tlearn: 0.1345971\ttest: 0.0932904\tbest: 0.0932743 (1966)\ttotal: 2m\tremaining: 1.89s\n",
            "1969:\tlearn: 0.1345750\ttest: 0.0932878\tbest: 0.0932743 (1966)\ttotal: 2m\tremaining: 1.83s\n",
            "1970:\tlearn: 0.1345584\ttest: 0.0932850\tbest: 0.0932743 (1966)\ttotal: 2m\tremaining: 1.77s\n",
            "1971:\tlearn: 0.1345442\ttest: 0.0932820\tbest: 0.0932743 (1966)\ttotal: 2m\tremaining: 1.71s\n",
            "1972:\tlearn: 0.1345209\ttest: 0.0932748\tbest: 0.0932743 (1966)\ttotal: 2m\tremaining: 1.65s\n",
            "1973:\tlearn: 0.1345098\ttest: 0.0932709\tbest: 0.0932709 (1973)\ttotal: 2m\tremaining: 1.59s\n",
            "1974:\tlearn: 0.1344864\ttest: 0.0932834\tbest: 0.0932709 (1973)\ttotal: 2m\tremaining: 1.53s\n",
            "1975:\tlearn: 0.1344593\ttest: 0.0932844\tbest: 0.0932709 (1973)\ttotal: 2m\tremaining: 1.47s\n",
            "1976:\tlearn: 0.1344283\ttest: 0.0932696\tbest: 0.0932696 (1976)\ttotal: 2m\tremaining: 1.4s\n",
            "1977:\tlearn: 0.1344075\ttest: 0.0932730\tbest: 0.0932696 (1976)\ttotal: 2m\tremaining: 1.34s\n",
            "1978:\tlearn: 0.1343857\ttest: 0.0932691\tbest: 0.0932691 (1978)\ttotal: 2m\tremaining: 1.28s\n",
            "1979:\tlearn: 0.1343778\ttest: 0.0932344\tbest: 0.0932344 (1979)\ttotal: 2m\tremaining: 1.22s\n",
            "1980:\tlearn: 0.1343676\ttest: 0.0932327\tbest: 0.0932327 (1980)\ttotal: 2m\tremaining: 1.16s\n",
            "1981:\tlearn: 0.1343344\ttest: 0.0932269\tbest: 0.0932269 (1981)\ttotal: 2m\tremaining: 1.1s\n",
            "1982:\tlearn: 0.1343001\ttest: 0.0932076\tbest: 0.0932076 (1982)\ttotal: 2m 1s\tremaining: 1.04s\n",
            "1983:\tlearn: 0.1342668\ttest: 0.0931846\tbest: 0.0931846 (1983)\ttotal: 2m 1s\tremaining: 977ms\n",
            "1984:\tlearn: 0.1342220\ttest: 0.0931576\tbest: 0.0931576 (1984)\ttotal: 2m 1s\tremaining: 916ms\n",
            "1985:\tlearn: 0.1341894\ttest: 0.0931317\tbest: 0.0931317 (1985)\ttotal: 2m 1s\tremaining: 855ms\n",
            "1986:\tlearn: 0.1341602\ttest: 0.0931271\tbest: 0.0931271 (1986)\ttotal: 2m 1s\tremaining: 794ms\n",
            "1987:\tlearn: 0.1341337\ttest: 0.0931200\tbest: 0.0931200 (1987)\ttotal: 2m 1s\tremaining: 733ms\n",
            "1988:\tlearn: 0.1341066\ttest: 0.0931109\tbest: 0.0931109 (1988)\ttotal: 2m 1s\tremaining: 672ms\n",
            "1989:\tlearn: 0.1340938\ttest: 0.0931123\tbest: 0.0931109 (1988)\ttotal: 2m 1s\tremaining: 611ms\n",
            "1990:\tlearn: 0.1340721\ttest: 0.0931067\tbest: 0.0931067 (1990)\ttotal: 2m 1s\tremaining: 549ms\n",
            "1991:\tlearn: 0.1340276\ttest: 0.0930964\tbest: 0.0930964 (1991)\ttotal: 2m 1s\tremaining: 488ms\n",
            "1992:\tlearn: 0.1340079\ttest: 0.0930898\tbest: 0.0930898 (1992)\ttotal: 2m 1s\tremaining: 427ms\n",
            "1993:\tlearn: 0.1339846\ttest: 0.0930891\tbest: 0.0930891 (1993)\ttotal: 2m 1s\tremaining: 366ms\n",
            "1994:\tlearn: 0.1338963\ttest: 0.0930480\tbest: 0.0930480 (1994)\ttotal: 2m 1s\tremaining: 305ms\n",
            "1995:\tlearn: 0.1338773\ttest: 0.0930425\tbest: 0.0930425 (1995)\ttotal: 2m 1s\tremaining: 244ms\n",
            "1996:\tlearn: 0.1338582\ttest: 0.0931041\tbest: 0.0930425 (1995)\ttotal: 2m 1s\tremaining: 183ms\n",
            "1997:\tlearn: 0.1338458\ttest: 0.0931014\tbest: 0.0930425 (1995)\ttotal: 2m 1s\tremaining: 122ms\n",
            "1998:\tlearn: 0.1338187\ttest: 0.0931057\tbest: 0.0930425 (1995)\ttotal: 2m 2s\tremaining: 61ms\n",
            "1999:\tlearn: 0.1337938\ttest: 0.0930757\tbest: 0.0930425 (1995)\ttotal: 2m 2s\tremaining: 0us\n",
            "bestTest = 0.09304250126\n",
            "bestIteration = 1995\n",
            "Shrink model to first 1996 iterations.\n"
          ],
          "name": "stdout"
        },
        {
          "output_type": "execute_result",
          "data": {
            "text/plain": [
              "<catboost.core.CatBoostClassifier at 0x7f2023289050>"
            ]
          },
          "metadata": {
            "tags": []
          },
          "execution_count": 90
        }
      ]
    },
    {
      "cell_type": "code",
      "metadata": {
        "colab": {
          "base_uri": "https://localhost:8080/"
        },
        "id": "a7BOaM-pkQHE",
        "outputId": "8a615fd8-6f6f-49b0-d28c-0c25d442eacf"
      },
      "source": [
        "pred = cat.predict(sparse.csr_matrix(tfidf_test))\n",
        "print('F1 on cat:', f1_score(pred, y_test))"
      ],
      "execution_count": 96,
      "outputs": [
        {
          "output_type": "stream",
          "text": [
            "F1 on cat: 0.5693069306930694\n"
          ],
          "name": "stdout"
        }
      ]
    },
    {
      "cell_type": "code",
      "metadata": {
        "id": "r0nFOql0Soo4"
      },
      "source": [
        "cat.save_model('catboost_055.model')"
      ],
      "execution_count": 87,
      "outputs": []
    },
    {
      "cell_type": "code",
      "metadata": {
        "id": "y50i-B0SVg7j"
      },
      "source": [
        "y_pred = cat.predict_proba(sparse.csr_matrix(tfidf_test))[:, 1]\n",
        "y_pred_cat = cat.predict_proba(sparse.csr_matrix(tfidf_test))[:, 1]"
      ],
      "execution_count": 97,
      "outputs": []
    },
    {
      "cell_type": "code",
      "metadata": {
        "id": "WJCrerCH5hvs"
      },
      "source": [
        "from sklearn.metrics import roc_auc_score, roc_curve, f1_score, precision_score, recall_score, precision_recall_curve"
      ],
      "execution_count": 98,
      "outputs": []
    },
    {
      "cell_type": "code",
      "metadata": {
        "colab": {
          "base_uri": "https://localhost:8080/"
        },
        "id": "T8yLTtzpXZRn",
        "outputId": "aa74a279-ad64-4d2d-a159-2e9b7cf6531e"
      },
      "source": [
        "roc_auc_score(y_test, y_pred)"
      ],
      "execution_count": 99,
      "outputs": [
        {
          "output_type": "execute_result",
          "data": {
            "text/plain": [
              "0.9451416145184764"
            ]
          },
          "metadata": {
            "tags": []
          },
          "execution_count": 99
        }
      ]
    },
    {
      "cell_type": "code",
      "metadata": {
        "colab": {
          "base_uri": "https://localhost:8080/",
          "height": 296
        },
        "id": "Ocw76_qBVf72",
        "outputId": "07a73fa5-9b90-4ee9-ea22-58e4f6346837"
      },
      "source": [
        "from sklearn.metrics import roc_auc_score, roc_curve, f1_score, precision_score, recall_score, precision_recall_curve\n",
        "fpr, tpr, thresholds = roc_curve(y_test, y_pred)\n",
        "plt.plot(fpr, tpr)\n",
        "plt.xlabel('fpr')\n",
        "plt.ylabel('tpr')\n",
        "plt.plot([i for i in np.arange(0, 1, 0.01)], [i for i in np.arange(0, 1, 0.01)])"
      ],
      "execution_count": 100,
      "outputs": [
        {
          "output_type": "execute_result",
          "data": {
            "text/plain": [
              "[<matplotlib.lines.Line2D at 0x7f2026f44e90>]"
            ]
          },
          "metadata": {
            "tags": []
          },
          "execution_count": 100
        },
        {
          "output_type": "display_data",
          "data": {
            "image/png": "[encoded data removed]",
            "text/plain": [
              "<Figure size 432x288 with 1 Axes>"
            ]
          },
          "metadata": {
            "tags": [],
            "needs_background": "light"
          }
        }
      ]
    },
    {
      "cell_type": "code",
      "metadata": {
        "colab": {
          "base_uri": "https://localhost:8080/",
          "height": 278
        },
        "id": "OoITMv54Vq4L",
        "outputId": "250c88d9-977e-4541-e49d-a7019953e9f7"
      },
      "source": [
        "precision, recall, thresholds = precision_recall_curve(y_test, y_pred)\n",
        "plt.plot(recall, precision)\n",
        "plt.xlabel('recall')\n",
        "plt.ylabel('precision')\n",
        "plt.show()"
      ],
      "execution_count": 101,
      "outputs": [
        {
          "output_type": "display_data",
          "data": {
            "image/png": "[encoded data removed]",
            "text/plain": [
              "<Figure size 432x288 with 1 Axes>"
            ]
          },
          "metadata": {
            "tags": [],
            "needs_background": "light"
          }
        }
      ]
    },
    {
      "cell_type": "code",
      "metadata": {
        "colab": {
          "base_uri": "https://localhost:8080/"
        },
        "id": "o5pbs2ygV3gO",
        "outputId": "b6b7647e-2347-41b1-f263-4807a5bece87"
      },
      "source": [
        "np.nanmax(2 * recall * precision / (recall + precision)), thresholds[np.nanargmax(2 * recall * precision / (recall + precision))]"
      ],
      "execution_count": 102,
      "outputs": [
        {
          "output_type": "execute_result",
          "data": {
            "text/plain": [
              "(0.580188679245283, 0.44722135272772223)"
            ]
          },
          "metadata": {
            "tags": []
          },
          "execution_count": 102
        }
      ]
    },
    {
      "cell_type": "code",
      "metadata": {
        "id": "finAk1ivfg5g"
      },
      "source": [
        "cat.save_model('best.model')"
      ],
      "execution_count": 103,
      "outputs": []
    },
    {
      "cell_type": "code",
      "metadata": {
        "id": "R-fJSY6V7Vxu"
      },
      "source": [
        "%tensorflow_version 2.x\n",
        "from tensorflow.keras.models import Sequential\n",
        "from tensorflow.keras.layers import Dense, Embedding, MaxPooling1D, Conv1D, GlobalMaxPooling1D, Dropout, LSTM, GRU, Conv2D\n",
        "from tensorflow.keras import utils\n",
        "from tensorflow.keras.preprocessing.sequence import pad_sequences\n",
        "from tensorflow.keras.preprocessing.text import Tokenizer\n",
        "from tensorflow.keras.callbacks import ModelCheckpoint\n",
        "from tensorflow.keras import utils\n",
        "import pandas as pd\n",
        "import numpy as np\n",
        "import matplotlib.pyplot as plt\n",
        "from tensorflow.compat.v1.keras.layers import CuDNNLSTM\n",
        "from tensorflow.keras.layers import SpatialDropout1D, Bidirectional, Flatten, BatchNormalization, LSTMCell, RNN, GRU\n",
        "import tensorflow as tf\n",
        "%matplotlib inline "
      ],
      "execution_count": 20,
      "outputs": []
    },
    {
      "cell_type": "code",
      "metadata": {
        "id": "GO1ob3ks7V2O"
      },
      "source": [
        "# Максимальное количество слов \n",
        "num_words = 10000\n",
        "# Максимальная длина новости\n",
        "max_news_len = 30\n",
        "# Количество классов новостей\n",
        "nb_classes = 4"
      ],
      "execution_count": 21,
      "outputs": []
    },
    {
      "cell_type": "code",
      "metadata": {
        "id": "w8HyhwRE7V5I"
      },
      "source": [
        "from sklearn.utils import shuffle\n",
        "\n",
        "num_words = 40000\n",
        "max_news_len = 10\n",
        "\n",
        "def preprocess_cnn(text):\n",
        "    text = list(filter(str.isalpha, word_tokenize(text.lower())))\n",
        "    text = list(lemmatizer.lemmatize(word) for word in text)\n",
        "    return ' '.join(text)\n",
        "\n",
        "\n",
        "text_train = pd.read_csv(\"train_new.csv\").dropna().text\n",
        "text_test = pd.read_csv(\"test_new.csv\").fillna('').text.apply(lambda x: preprocess_cnn(x))\n",
        "tokenizer = Tokenizer(num_words=num_words)\n",
        "tokenizer.fit_on_texts(text_train)"
      ],
      "execution_count": 91,
      "outputs": []
    },
    {
      "cell_type": "code",
      "metadata": {
        "colab": {
          "base_uri": "https://localhost:8080/"
        },
        "id": "Hm4fltbj7V7q",
        "outputId": "53b987a8-e975-4c67-d42b-b86a1085ddcc"
      },
      "source": [
        "model_cnn = Sequential()\n",
        "model_cnn.add(Embedding(num_words, 124, input_length=max_news_len))\n",
        "model_cnn.add(LSTM(128, activation='relu'))\n",
        "model_cnn.add(Dense(128, activation='relu'))\n",
        "model_cnn.add(Dense(1, activation='sigmoid'))"
      ],
      "execution_count": 92,
      "outputs": [
        {
          "output_type": "stream",
          "text": [
            "WARNING:tensorflow:Layer lstm_4 will not use cuDNN kernel since it doesn't meet the cuDNN kernel criteria. It will use generic GPU kernel as fallback when running on GPU\n"
          ],
          "name": "stdout"
        }
      ]
    },
    {
      "cell_type": "code",
      "metadata": {
        "id": "99mG5IC67V-I"
      },
      "source": [
        "from tensorflow.keras.metrics import Precision, Recall\n",
        "import keras.backend as K\n",
        "\n",
        "def f1_metric(y_true, y_pred):\n",
        "    true_positives = K.sum(K.round(K.clip(y_true * y_pred, 0, 1)))\n",
        "    possible_positives = K.sum(K.round(K.clip(y_true, 0, 1)))\n",
        "    predicted_positives = K.sum(K.round(K.clip(y_pred, 0, 1)))\n",
        "    precision = true_positives / (predicted_positives + K.epsilon())\n",
        "    recall = true_positives / (possible_positives + K.epsilon())\n",
        "    f1_val = 2*(precision*recall)/(precision+recall+K.epsilon())\n",
        "    return f1_val\n",
        "\n",
        "model_cnn.compile(optimizer='adam', \n",
        "              loss='binary_crossentropy', \n",
        "              metrics=['accuracy', Recall(name='Recall'), Precision(name='Precision'), f1_metric])"
      ],
      "execution_count": 93,
      "outputs": []
    },
    {
      "cell_type": "code",
      "metadata": {
        "id": "InnCR0n57WAv"
      },
      "source": [
        "model_cnn.load_weights('SASHA_my_model_weights.h5')"
      ],
      "execution_count": 94,
      "outputs": []
    },
    {
      "cell_type": "code",
      "metadata": {
        "colab": {
          "base_uri": "https://localhost:8080/"
        },
        "id": "G4VIBkOb7WDh",
        "outputId": "b031c185-b4e5-4dbc-92d6-247522b84f2d"
      },
      "source": [
        "from sklearn.metrics import f1_score\n",
        "\n",
        "test_sequences = tokenizer.texts_to_sequences(text_test)\t\n",
        "x_test = pad_sequences(test_sequences, maxlen=max_news_len, value=0, padding='post')\n",
        "\n",
        "label_predict = model_cnn.predict_classes(x_test)\n",
        "\n",
        "print('Оценка F1', f1_score(label_predict, y_test))"
      ],
      "execution_count": 105,
      "outputs": [
        {
          "output_type": "stream",
          "text": [
            "/usr/local/lib/python3.7/dist-packages/tensorflow/python/keras/engine/sequential.py:450: UserWarning: `model.predict_classes()` is deprecated and will be removed after 2021-01-01. Please use instead:* `np.argmax(model.predict(x), axis=-1)`,   if your model does multi-class classification   (e.g. if it uses a `softmax` last-layer activation).* `(model.predict(x) > 0.5).astype(\"int32\")`,   if your model does binary classification   (e.g. if it uses a `sigmoid` last-layer activation).\n",
            "  warnings.warn('`model.predict_classes()` is deprecated and '\n"
          ],
          "name": "stderr"
        },
        {
          "output_type": "stream",
          "text": [
            "Оценка F1 0.36750483558994196\n"
          ],
          "name": "stdout"
        }
      ]
    },
    {
      "cell_type": "code",
      "metadata": {
        "colab": {
          "base_uri": "https://localhost:8080/"
        },
        "id": "dvf2zHg8_e8-",
        "outputId": "2b8125f5-bfdc-4f00-984a-7af31e224148"
      },
      "source": [
        "y_pred_cnn = model_cnn.predict_proba(x_test).reshape(-1)"
      ],
      "execution_count": 106,
      "outputs": [
        {
          "output_type": "stream",
          "text": [
            "/usr/local/lib/python3.7/dist-packages/tensorflow/python/keras/engine/sequential.py:425: UserWarning: `model.predict_proba()` is deprecated and will be removed after 2021-01-01. Please use `model.predict()` instead.\n",
            "  warnings.warn('`model.predict_proba()` is deprecated and '\n"
          ],
          "name": "stderr"
        }
      ]
    },
    {
      "cell_type": "code",
      "metadata": {
        "id": "O1oVanMw_3gI"
      },
      "source": [
        ""
      ],
      "execution_count": 106,
      "outputs": []
    },
    {
      "cell_type": "code",
      "metadata": {
        "colab": {
          "base_uri": "https://localhost:8080/"
        },
        "id": "YeRaF1bL_fHz",
        "outputId": "08802e5f-641b-47b7-f0c8-9ec255133b7e"
      },
      "source": [
        "for alpha in range(1, 100, 1):\n",
        "  a = alpha / 100\n",
        "  y_pred_total = a * y_pred_cat + (1-a) * y_pred_cnn\n",
        "  precision, recall, thresholds = precision_recall_curve(y_test, y_pred_total)\n",
        "  #plt.plot(recall, precision)\n",
        "  #plt.xlabel('recall')\n",
        "  #plt.ylabel('precision')\n",
        "  #plt.show()\n",
        "  print(a, np.nanmax(2 * recall * precision / (recall + precision)), thresholds[np.nanargmax(2 * recall * precision / (recall + precision))])"
      ],
      "execution_count": 107,
      "outputs": [
        {
          "output_type": "stream",
          "text": [
            "/usr/local/lib/python3.7/dist-packages/ipykernel_launcher.py:9: RuntimeWarning: invalid value encountered in true_divide\n",
            "  if __name__ == '__main__':\n"
          ],
          "name": "stderr"
        },
        {
          "output_type": "stream",
          "text": [
            "0.01 0.391304347826087 0.48962880056825936\n",
            "0.02 0.39849624060150374 0.4928356176442531\n",
            "0.03 0.4078014184397163 0.4820861154486259\n",
            "0.04 0.4208566108007448 0.4849009492934069\n",
            "0.05 0.4250474383301707 0.4834042675652925\n",
            "0.06 0.43243243243243246 0.4832967485943084\n",
            "0.07 0.4375 0.48065904989699676\n",
            "0.08 0.44575936883629186 0.477880227521857\n",
            "0.09 0.45387453874538747 0.46762179026708717\n",
            "0.1 0.4624277456647399 0.4693953713852577\n",
            "0.11 0.4691848906560636 0.4710456716607857\n",
            "0.12 0.4776785714285715 0.48032771913418787\n",
            "0.13 0.4838012958963283 0.47412334630402725\n",
            "0.14 0.4934497816593887 0.4714561020097204\n",
            "0.15 0.4927536231884058 0.5102158711635834\n",
            "0.16 0.5072046109510087 0.50525334246124\n",
            "0.17 0.5114942528735632 0.5029253144641963\n",
            "0.18 0.519774011299435 0.4969464925040587\n",
            "0.19 0.5307125307125307 0.47019409467726164\n",
            "0.2 0.5378973105134475 0.46686978143915725\n",
            "0.21 0.5493975903614458 0.4622089437784355\n",
            "0.22 0.5568445475638051 0.4537867671290675\n",
            "0.23 0.5627906976744185 0.45099462848229704\n",
            "0.24 0.5727482678983834 0.4467966326238543\n",
            "0.25 0.5789473684210527 0.4680565024798057\n",
            "0.26 0.5812356979405034 0.4411503244355478\n",
            "0.27 0.5896805896805896 0.4506867614955698\n",
            "0.28 0.599009900990099 0.45006331086779416\n",
            "0.29 0.599009900990099 0.4479645800275056\n",
            "0.3 0.6009615384615385 0.44038471469674\n",
            "0.31 0.6095238095238096 0.43683487396146314\n",
            "0.32 0.6052009456264776 0.4349648463926685\n",
            "0.33 0.6018957345971564 0.43585241852373885\n",
            "0.34 0.5986078886310906 0.42727821261213833\n",
            "0.35 0.6022988505747127 0.4252295446362073\n",
            "0.36 0.6022988505747127 0.4231808766602763\n",
            "0.37 0.6094420600858369 0.4044258012555403\n",
            "0.38 0.6127659574468085 0.39952731691260757\n",
            "0.39 0.6157112526539278 0.39757426382100547\n",
            "0.4 0.6206896551724138 0.3999894433277479\n",
            "0.41 0.6200873362445415 0.40288478321278576\n",
            "0.42 0.620985010706638 0.39508897679155197\n",
            "0.43 0.625 0.3873064607949956\n",
            "0.44 0.628930817610063 0.39018856986000083\n",
            "0.45 0.6276150627615062 0.3859764404261662\n",
            "0.46 0.6218487394957983 0.3852881331261273\n",
            "0.47 0.6213991769547326 0.3760708083788141\n",
            "0.48 0.6182572614107884 0.3774547301789126\n",
            "0.49 0.6169772256728778 0.37598587714530113\n",
            "0.5 0.615702479338843 0.3714443496183583\n",
            "0.51 0.6141078838174273 0.37121984454804297\n",
            "0.52 0.6103092783505155 0.36723631188493716\n",
            "0.53 0.6078028747433265 0.36325277922183136\n",
            "0.54 0.6033057851239669 0.3644382559266077\n",
            "0.55 0.6 0.3596880267117355\n",
            "0.56 0.5978947368421053 0.3690379560084868\n",
            "0.57 0.5963488843813387 0.3560618399862965\n",
            "0.58 0.5942622950819672 0.3582628315049151\n",
            "0.59 0.590818363273453 0.34757192884930793\n",
            "0.6 0.590818363273453 0.3476490681964343\n",
            "0.61 0.5907990314769976 0.44593373177583817\n",
            "0.62 0.5907990314769976 0.44642182477944004\n",
            "0.63 0.5915492957746479 0.4296635013193839\n",
            "0.64 0.5915492957746479 0.42847818170549534\n",
            "0.65 0.5924170616113745 0.43497884125641667\n",
            "0.66 0.5924170616113745 0.43684734907283096\n",
            "0.67 0.5924170616113745 0.43760511645040284\n",
            "0.68 0.5904761904761905 0.4405843498044984\n",
            "0.69 0.5904761904761905 0.44245285017033203\n",
            "0.7 0.5904761904761905 0.4443213579867463\n",
            "0.71 0.5918854415274464 0.44618985835258\n",
            "0.72 0.5890736342042755 0.4460284482365618\n",
            "0.73 0.5890410958904109 0.4120525367627958\n",
            "0.74 0.5903890160183067 0.4134364436617331\n",
            "0.75 0.5903890160183067 0.4142056951072245\n",
            "0.76 0.5903890160183067 0.4142543761411553\n",
            "0.77 0.5903890160183067 0.4130690639778474\n",
            "0.78 0.5890410958904109 0.4118837443639588\n",
            "0.79 0.5885057471264367 0.4152225613032022\n",
            "0.8 0.5879518072289157 0.45732677572723257\n",
            "0.81 0.5879518072289157 0.45774497400276837\n",
            "0.82 0.5879518072289157 0.4581631797288847\n",
            "0.83 0.5873786407766991 0.46157871274089235\n",
            "0.84 0.5879518072289157 0.4589995762799563\n",
            "0.85 0.5879518072289157 0.45941778200607275\n",
            "0.86 0.5851318944844125 0.45904506097386233\n",
            "0.87 0.5846867749419954 0.4314273004031433\n",
            "0.88 0.586046511627907 0.4328112110273709\n",
            "0.89 0.586046511627907 0.4341951253768888\n",
            "0.9 0.586046511627907 0.43557903786376156\n",
            "0.91 0.586046511627907 0.4351670191578361\n",
            "0.92 0.586046511627907 0.43459536166264345\n",
            "0.93 0.5846867749419954 0.4340237078927411\n",
            "0.94 0.5815602836879432 0.4449417534541329\n",
            "0.95 0.5815602836879432 0.44485600801067765\n",
            "0.96 0.5807962529274006 0.44388250905970766\n",
            "0.97 0.5821596244131456 0.44468451432979944\n",
            "0.98 0.5821596244131456 0.4445987679550216\n",
            "0.99 0.5821596244131456 0.4445130215802438\n"
          ],
          "name": "stdout"
        }
      ]
    },
    {
      "cell_type": "code",
      "metadata": {
        "id": "sq5spbKfDC_n"
      },
      "source": [
        "RES = pd.read_csv('/content/test.csv')"
      ],
      "execution_count": 118,
      "outputs": []
    },
    {
      "cell_type": "code",
      "metadata": {
        "id": "Fzq2nIeycWEJ"
      },
      "source": [
        "def get_predicts(df):\n",
        "  df['text'] = df['text'].apply(lambda row: preprocess(row))\n",
        "  text_test = df['text'].apply(lambda row: preprocess_cnn(row))\n",
        "\n",
        "  test_sequences = tokenizer.texts_to_sequences(text_test)\t\n",
        "  x_test = pad_sequences(test_sequences, maxlen=max_news_len, value=0, padding='post')\n",
        "\n",
        "  tfidf_data = np.asarray(vectorizer.transform(df['text']).todense())\n",
        "  return 0.44 * cat.predict_proba(sparse.csr_matrix(tfidf_data))[:, 1] + 0.56 * model_cnn.predict_proba(x_test).reshape(-1)"
      ],
      "execution_count": 119,
      "outputs": []
    },
    {
      "cell_type": "code",
      "metadata": {
        "colab": {
          "base_uri": "https://localhost:8080/"
        },
        "id": "I3x4vipXDCXA",
        "outputId": "333b6e82-cb82-4402-d715-842884f64628"
      },
      "source": [
        "RES['toxic'] = (get_predicts(RES) > 0.39).astype(int)\n",
        "RES.to_csv('RESULT.csv', index=False)\n"
      ],
      "execution_count": 120,
      "outputs": [
        {
          "output_type": "stream",
          "text": [
            "/usr/local/lib/python3.7/dist-packages/tensorflow/python/keras/engine/sequential.py:425: UserWarning: `model.predict_proba()` is deprecated and will be removed after 2021-01-01. Please use `model.predict()` instead.\n",
            "  warnings.warn('`model.predict_proba()` is deprecated and '\n"
          ],
          "name": "stderr"
        }
      ]
    },
    {
      "cell_type": "markdown",
      "metadata": {
        "id": "kgziMrHgcWsc"
      },
      "source": [
        "## Таск 2"
      ]
    },
    {
      "cell_type": "code",
      "metadata": {
        "id": "oeJm20k5cacj"
      },
      "source": [
        "from sklearn import metrics"
      ],
      "execution_count": 109,
      "outputs": []
    },
    {
      "cell_type": "code",
      "metadata": {
        "id": "RqTXdWTWce65"
      },
      "source": [
        "SUBGROUP_AUC = 'subgroup_auc'\n",
        "BPSN_AUC = 'bpsn_auc'  # stands for background positive, subgroup negative\n",
        "BNSP_AUC = 'bnsp_auc'  # stands for background negative, subgroup positive\n",
        "\n",
        "def compute_auc(y_true, y_pred):\n",
        "    try:\n",
        "        return metrics.roc_auc_score(y_true, y_pred)\n",
        "    except ValueError:\n",
        "        return np.nan\n",
        "\n",
        "def compute_subgroup_auc(df, subgroup, label, model_name):\n",
        "    subgroup_examples = df[df[subgroup]]\n",
        "    return compute_auc(subgroup_examples[label], subgroup_examples[model_name])\n",
        "\n",
        "def compute_bpsn_auc(df, subgroup, label, model_name):\n",
        "    \"\"\"Computes the AUC of the within-subgroup negative examples and the background positive examples.\"\"\"\n",
        "    subgroup_negative_examples = df[df[subgroup] & ~df[label]]\n",
        "    non_subgroup_positive_examples = df[~df[subgroup] & df[label]]\n",
        "    examples = subgroup_negative_examples.append(non_subgroup_positive_examples)\n",
        "    return compute_auc(examples[label], examples[model_name])\n",
        "\n",
        "def compute_bnsp_auc(df, subgroup, label, model_name):\n",
        "    \"\"\"Computes the AUC of the within-subgroup positive examples and the background negative examples.\"\"\"\n",
        "    subgroup_positive_examples = df[df[subgroup] & df[label]]\n",
        "    non_subgroup_negative_examples = df[~df[subgroup] & ~df[label]]\n",
        "    examples = subgroup_positive_examples.append(non_subgroup_negative_examples)\n",
        "    return compute_auc(examples[label], examples[model_name])\n",
        "\n",
        "def compute_bias_metrics_for_model(dataset,\n",
        "                                   subgroups,\n",
        "                                   model,\n",
        "                                   label_col,\n",
        "                                   include_asegs=False):\n",
        "    \"\"\"Computes per-subgroup metrics for all subgroups and one model.\"\"\"\n",
        "    records = []\n",
        "    for subgroup in subgroups:\n",
        "        record = {\n",
        "            'subgroup': subgroup,\n",
        "            'subgroup_size': len(dataset[dataset[subgroup]])\n",
        "        }\n",
        "        record[SUBGROUP_AUC] = compute_subgroup_auc(dataset, subgroup, label_col, model)\n",
        "        record[BPSN_AUC] = compute_bpsn_auc(dataset, subgroup, label_col, model)\n",
        "        record[BNSP_AUC] = compute_bnsp_auc(dataset, subgroup, label_col, model)\n",
        "        records.append(record)\n",
        "    return pd.DataFrame(records).sort_values('subgroup_auc', ascending=True)\n",
        "\n",
        "\n",
        "def calculate_overall_auc(df, model_name):\n",
        "    true_labels = df['label']\n",
        "    predicted_labels = df[model_name]\n",
        "    return metrics.roc_auc_score(true_labels, predicted_labels)\n",
        "\n",
        "def power_mean(series, p):\n",
        "    total = sum(np.power(series, p))\n",
        "    return np.power(total / len(series), 1 / p)\n",
        "\n",
        "def get_final_metric(bias_df, overall_auc, POWER=-5, OVERALL_MODEL_WEIGHT=0.25):\n",
        "    bias_score = np.average([\n",
        "        power_mean(bias_df[SUBGROUP_AUC], POWER),\n",
        "        power_mean(bias_df[BPSN_AUC], POWER),\n",
        "        power_mean(bias_df[BNSP_AUC], POWER)\n",
        "    ])\n",
        "    return (OVERALL_MODEL_WEIGHT * overall_auc) + ((1 - OVERALL_MODEL_WEIGHT) * bias_score)"
      ],
      "execution_count": 110,
      "outputs": []
    },
    {
      "cell_type": "code",
      "metadata": {
        "id": "JR005Irace9x",
        "colab": {
          "base_uri": "https://localhost:8080/"
        },
        "outputId": "03a35c51-d435-40f0-d7e4-7361c3798db6"
      },
      "source": [
        "model_preds = 'model'\n",
        "target_label = 'label'\n",
        "dataset_path = '/content/task2_data.csv' # Dataframe (label, category, model)\n",
        "dataset = pd.read_csv(dataset_path).dropna()\n",
        "dataset['model'] = get_predicts(dataset)"
      ],
      "execution_count": 111,
      "outputs": [
        {
          "output_type": "stream",
          "text": [
            "/usr/local/lib/python3.7/dist-packages/tensorflow/python/keras/engine/sequential.py:425: UserWarning: `model.predict_proba()` is deprecated and will be removed after 2021-01-01. Please use `model.predict()` instead.\n",
            "  warnings.warn('`model.predict_proba()` is deprecated and '\n"
          ],
          "name": "stderr"
        }
      ]
    },
    {
      "cell_type": "code",
      "metadata": {
        "colab": {
          "base_uri": "https://localhost:8080/",
          "height": 391
        },
        "id": "NvbM5m3SdT5n",
        "outputId": "b519186a-e563-4e21-a789-939b00ccdfda"
      },
      "source": [
        "dataset"
      ],
      "execution_count": 112,
      "outputs": [
        {
          "output_type": "execute_result",
          "data": {
            "text/html": [
              "<div>\n",
              "<style scoped>\n",
              "    .dataframe tbody tr th:only-of-type {\n",
              "        vertical-align: middle;\n",
              "    }\n",
              "\n",
              "    .dataframe tbody tr th {\n",
              "        vertical-align: top;\n",
              "    }\n",
              "\n",
              "    .dataframe thead th {\n",
              "        text-align: right;\n",
              "    }\n",
              "</style>\n",
              "<table border=\"1\" class=\"dataframe\">\n",
              "  <thead>\n",
              "    <tr style=\"text-align: right;\">\n",
              "      <th></th>\n",
              "      <th>message</th>\n",
              "      <th>label</th>\n",
              "      <th>token</th>\n",
              "      <th>category</th>\n",
              "      <th>model</th>\n",
              "      <th>text</th>\n",
              "    </tr>\n",
              "  </thead>\n",
              "  <tbody>\n",
              "    <tr>\n",
              "      <th>0</th>\n",
              "      <td>лося опасно ставить, сегодня баба на открытии ...</td>\n",
              "      <td>False</td>\n",
              "      <td>баба</td>\n",
              "      <td>сексизм</td>\n",
              "      <td>0.250870</td>\n",
              "      <td>лось опасно ставить сегодня баба открытие прот...</td>\n",
              "    </tr>\n",
              "    <tr>\n",
              "      <th>1</th>\n",
              "      <td>На очень долгий срок это  space, на дистанцию ...</td>\n",
              "      <td>False</td>\n",
              "      <td>баба</td>\n",
              "      <td>сексизм</td>\n",
              "      <td>0.167417</td>\n",
              "      <td>очень долгий срок это space дистанция год опре...</td>\n",
              "    </tr>\n",
              "    <tr>\n",
              "      <th>2</th>\n",
              "      <td>Значит нужно срочно продать Алибаба? А он у ме...</td>\n",
              "      <td>False</td>\n",
              "      <td>баба</td>\n",
              "      <td>сексизм</td>\n",
              "      <td>0.133349</td>\n",
              "      <td>значит нужно срочно продать алибаба минус</td>\n",
              "    </tr>\n",
              "    <tr>\n",
              "      <th>3</th>\n",
              "      <td>с Яндексом вы точно все спрогнозировали, но ес...</td>\n",
              "      <td>False</td>\n",
              "      <td>яндекс</td>\n",
              "      <td>компании</td>\n",
              "      <td>0.099372</td>\n",
              "      <td>яндекс точно всё спрогнозировать знать тиньков...</td>\n",
              "    </tr>\n",
              "    <tr>\n",
              "      <th>4</th>\n",
              "      <td>с чего ты это взял ?)  если я действительно не...</td>\n",
              "      <td>False</td>\n",
              "      <td>тиньк</td>\n",
              "      <td>компании</td>\n",
              "      <td>0.098258</td>\n",
              "      <td>это взять действительно эксперт рекомендовать ...</td>\n",
              "    </tr>\n",
              "    <tr>\n",
              "      <th>...</th>\n",
              "      <td>...</td>\n",
              "      <td>...</td>\n",
              "      <td>...</td>\n",
              "      <td>...</td>\n",
              "      <td>...</td>\n",
              "      <td>...</td>\n",
              "    </tr>\n",
              "    <tr>\n",
              "      <th>3865</th>\n",
              "      <td>Индия топ рынок. И для баба это проблема</td>\n",
              "      <td>False</td>\n",
              "      <td>баба</td>\n",
              "      <td>сексизм</td>\n",
              "      <td>0.293485</td>\n",
              "      <td>индия топ рынок баба это проблема</td>\n",
              "    </tr>\n",
              "    <tr>\n",
              "      <th>3866</th>\n",
              "      <td>да в целом смешно читать, когда бумага растет,...</td>\n",
              "      <td>False</td>\n",
              "      <td>баба</td>\n",
              "      <td>сексизм</td>\n",
              "      <td>0.140454</td>\n",
              "      <td>целое смешно читать бумага расти человек алиба...</td>\n",
              "    </tr>\n",
              "    <tr>\n",
              "      <th>3867</th>\n",
              "      <td>Я думаю америкосы имеют давление на Германию, ...</td>\n",
              "      <td>False</td>\n",
              "      <td>трамп</td>\n",
              "      <td>политика</td>\n",
              "      <td>0.104418</td>\n",
              "      <td>думать америкос иметь давление германия всё жд...</td>\n",
              "    </tr>\n",
              "    <tr>\n",
              "      <th>3868</th>\n",
              "      <td>не давай вверх, Трамп трампом, а новости хорош...</td>\n",
              "      <td>False</td>\n",
              "      <td>трамп</td>\n",
              "      <td>политика</td>\n",
              "      <td>0.169592</td>\n",
              "      <td>давать вверх трамп трамп новость хороший теслый</td>\n",
              "    </tr>\n",
              "    <tr>\n",
              "      <th>3869</th>\n",
              "      <td>у меня тейк на 22,55. Но могу передвинуть и ни...</td>\n",
              "      <td>False</td>\n",
              "      <td>трамп</td>\n",
              "      <td>политика</td>\n",
              "      <td>0.163851</td>\n",
              "      <td>тейк мочь передвинуть ниже всё зависеть состоя...</td>\n",
              "    </tr>\n",
              "  </tbody>\n",
              "</table>\n",
              "<p>3775 rows × 6 columns</p>\n",
              "</div>"
            ],
            "text/plain": [
              "                                                message  ...                                               text\n",
              "0     лося опасно ставить, сегодня баба на открытии ...  ...  лось опасно ставить сегодня баба открытие прот...\n",
              "1     На очень долгий срок это  space, на дистанцию ...  ...  очень долгий срок это space дистанция год опре...\n",
              "2     Значит нужно срочно продать Алибаба? А он у ме...  ...          значит нужно срочно продать алибаба минус\n",
              "3     с Яндексом вы точно все спрогнозировали, но ес...  ...  яндекс точно всё спрогнозировать знать тиньков...\n",
              "4     с чего ты это взял ?)  если я действительно не...  ...  это взять действительно эксперт рекомендовать ...\n",
              "...                                                 ...  ...                                                ...\n",
              "3865           Индия топ рынок. И для баба это проблема  ...                  индия топ рынок баба это проблема\n",
              "3866  да в целом смешно читать, когда бумага растет,...  ...  целое смешно читать бумага расти человек алиба...\n",
              "3867  Я думаю америкосы имеют давление на Германию, ...  ...  думать америкос иметь давление германия всё жд...\n",
              "3868  не давай вверх, Трамп трампом, а новости хорош...  ...    давать вверх трамп трамп новость хороший теслый\n",
              "3869  у меня тейк на 22,55. Но могу передвинуть и ни...  ...  тейк мочь передвинуть ниже всё зависеть состоя...\n",
              "\n",
              "[3775 rows x 6 columns]"
            ]
          },
          "metadata": {
            "tags": []
          },
          "execution_count": 112
        }
      ]
    },
    {
      "cell_type": "code",
      "metadata": {
        "id": "bIJNOGbmcfDa"
      },
      "source": [
        "categories = dataset.category.unique()\n",
        "for category in categories:\n",
        "    dataset[category] = dataset.category == category"
      ],
      "execution_count": 113,
      "outputs": []
    },
    {
      "cell_type": "code",
      "metadata": {
        "colab": {
          "base_uri": "https://localhost:8080/",
          "height": 162
        },
        "id": "XajKnpPzcfGA",
        "outputId": "1077d887-9535-4fb2-fc06-b1ea981f60ce"
      },
      "source": [
        "bias_metrics_df = compute_bias_metrics_for_model(dataset, categories, model_preds, target_label)\n",
        "bias_metrics_df"
      ],
      "execution_count": 114,
      "outputs": [
        {
          "output_type": "execute_result",
          "data": {
            "text/html": [
              "<div>\n",
              "<style scoped>\n",
              "    .dataframe tbody tr th:only-of-type {\n",
              "        vertical-align: middle;\n",
              "    }\n",
              "\n",
              "    .dataframe tbody tr th {\n",
              "        vertical-align: top;\n",
              "    }\n",
              "\n",
              "    .dataframe thead th {\n",
              "        text-align: right;\n",
              "    }\n",
              "</style>\n",
              "<table border=\"1\" class=\"dataframe\">\n",
              "  <thead>\n",
              "    <tr style=\"text-align: right;\">\n",
              "      <th></th>\n",
              "      <th>subgroup</th>\n",
              "      <th>subgroup_size</th>\n",
              "      <th>subgroup_auc</th>\n",
              "      <th>bpsn_auc</th>\n",
              "      <th>bnsp_auc</th>\n",
              "    </tr>\n",
              "  </thead>\n",
              "  <tbody>\n",
              "    <tr>\n",
              "      <th>1</th>\n",
              "      <td>компании</td>\n",
              "      <td>1000</td>\n",
              "      <td>0.701898</td>\n",
              "      <td>0.889526</td>\n",
              "      <td>0.564922</td>\n",
              "    </tr>\n",
              "    <tr>\n",
              "      <th>2</th>\n",
              "      <td>политика</td>\n",
              "      <td>986</td>\n",
              "      <td>0.711819</td>\n",
              "      <td>0.831192</td>\n",
              "      <td>0.694968</td>\n",
              "    </tr>\n",
              "    <tr>\n",
              "      <th>0</th>\n",
              "      <td>сексизм</td>\n",
              "      <td>820</td>\n",
              "      <td>0.785161</td>\n",
              "      <td>0.742386</td>\n",
              "      <td>0.845667</td>\n",
              "    </tr>\n",
              "    <tr>\n",
              "      <th>3</th>\n",
              "      <td>другое</td>\n",
              "      <td>969</td>\n",
              "      <td>0.788037</td>\n",
              "      <td>0.722415</td>\n",
              "      <td>0.851947</td>\n",
              "    </tr>\n",
              "  </tbody>\n",
              "</table>\n",
              "</div>"
            ],
            "text/plain": [
              "   subgroup  subgroup_size  subgroup_auc  bpsn_auc  bnsp_auc\n",
              "1  компании           1000      0.701898  0.889526  0.564922\n",
              "2  политика            986      0.711819  0.831192  0.694968\n",
              "0   сексизм            820      0.785161  0.742386  0.845667\n",
              "3    другое            969      0.788037  0.722415  0.851947"
            ]
          },
          "metadata": {
            "tags": []
          },
          "execution_count": 114
        }
      ]
    },
    {
      "cell_type": "code",
      "metadata": {
        "colab": {
          "base_uri": "https://localhost:8080/"
        },
        "id": "ntkX8omNcfIM",
        "outputId": "c21d33c4-9ac9-480d-8889-d3f23cbb6699"
      },
      "source": [
        "get_final_metric(bias_metrics_df, calculate_overall_auc(dataset, 'model'))"
      ],
      "execution_count": 115,
      "outputs": [
        {
          "output_type": "execute_result",
          "data": {
            "text/plain": [
              "0.7512494247048231"
            ]
          },
          "metadata": {
            "tags": []
          },
          "execution_count": 115
        }
      ]
    },
    {
      "cell_type": "code",
      "metadata": {
        "id": "2Xd8yUxacfLA"
      },
      "source": [
        ""
      ],
      "execution_count": null,
      "outputs": []
    },
    {
      "cell_type": "code",
      "metadata": {
        "id": "JUm4BDtKcfNP"
      },
      "source": [
        ""
      ],
      "execution_count": null,
      "outputs": []
    },
    {
      "cell_type": "code",
      "metadata": {
        "id": "-VY0gg-VcfRP"
      },
      "source": [
        ""
      ],
      "execution_count": null,
      "outputs": []
    },
    {
      "cell_type": "code",
      "metadata": {
        "id": "fp27vWPncfTo"
      },
      "source": [
        ""
      ],
      "execution_count": null,
      "outputs": []
    },
    {
      "cell_type": "markdown",
      "metadata": {
        "id": "J1SAAI1T2NPi"
      },
      "source": [
        "## Нейронка"
      ]
    },
    {
      "cell_type": "code",
      "metadata": {
        "id": "g2Yoqqe2kZ7R"
      },
      "source": [
        "from gensim.test.utils import common_texts\n",
        "from gensim.models import Word2Vec\n",
        "import gensim.downloader as download_api\n",
        "model = Word2Vec(sentences=X_train, size=100, window=5, min_count=1, workers=4)\n",
        "model.save(\"word2vec.model\")"
      ],
      "execution_count": null,
      "outputs": []
    },
    {
      "cell_type": "code",
      "metadata": {
        "colab": {
          "base_uri": "https://localhost:8080/"
        },
        "id": "CjojQW-Jwg1G",
        "outputId": "476ef2f1-944a-4f87-c302-ddbab0966374"
      },
      "source": [
        "corpus = download_api.load('word2vec-ruscorpora-300')"
      ],
      "execution_count": null,
      "outputs": [
        {
          "output_type": "stream",
          "text": [
            "[==================================================] 100.0% 198.8/198.8MB downloaded\n"
          ],
          "name": "stdout"
        }
      ]
    },
    {
      "cell_type": "code",
      "metadata": {
        "colab": {
          "base_uri": "https://localhost:8080/",
          "height": 312
        },
        "id": "5gZaUf2QvTAZ",
        "outputId": "8cafa1cc-ff93-4eec-a92c-a2cd2646ea47"
      },
      "source": [
        "russian_model = Word2Vec(corpus) "
      ],
      "execution_count": null,
      "outputs": [
        {
          "output_type": "error",
          "ename": "TypeError",
          "evalue": "ignored",
          "traceback": [
            "\u001b[0;31m---------------------------------------------------------------------------\u001b[0m",
            "\u001b[0;31mTypeError\u001b[0m                                 Traceback (most recent call last)",
            "\u001b[0;32m<ipython-input-15-312bc26d8f3c>\u001b[0m in \u001b[0;36m<module>\u001b[0;34m()\u001b[0m\n\u001b[0;32m----> 1\u001b[0;31m \u001b[0mrussian_model\u001b[0m \u001b[0;34m=\u001b[0m \u001b[0mWord2Vec\u001b[0m\u001b[0;34m(\u001b[0m\u001b[0mcorpus\u001b[0m\u001b[0;34m)\u001b[0m\u001b[0;34m\u001b[0m\u001b[0;34m\u001b[0m\u001b[0m\n\u001b[0m",
            "\u001b[0;32m/usr/local/lib/python3.7/dist-packages/gensim/models/word2vec.py\u001b[0m in \u001b[0;36m__init__\u001b[0;34m(self, sentences, corpus_file, size, alpha, window, min_count, max_vocab_size, sample, seed, workers, min_alpha, sg, hs, negative, ns_exponent, cbow_mean, hashfxn, iter, null_word, trim_rule, sorted_vocab, batch_words, compute_loss, callbacks, max_final_vocab)\u001b[0m\n\u001b[1;32m    765\u001b[0m             \u001b[0mcallbacks\u001b[0m\u001b[0;34m=\u001b[0m\u001b[0mcallbacks\u001b[0m\u001b[0;34m,\u001b[0m \u001b[0mbatch_words\u001b[0m\u001b[0;34m=\u001b[0m\u001b[0mbatch_words\u001b[0m\u001b[0;34m,\u001b[0m \u001b[0mtrim_rule\u001b[0m\u001b[0;34m=\u001b[0m\u001b[0mtrim_rule\u001b[0m\u001b[0;34m,\u001b[0m \u001b[0msg\u001b[0m\u001b[0;34m=\u001b[0m\u001b[0msg\u001b[0m\u001b[0;34m,\u001b[0m \u001b[0malpha\u001b[0m\u001b[0;34m=\u001b[0m\u001b[0malpha\u001b[0m\u001b[0;34m,\u001b[0m \u001b[0mwindow\u001b[0m\u001b[0;34m=\u001b[0m\u001b[0mwindow\u001b[0m\u001b[0;34m,\u001b[0m\u001b[0;34m\u001b[0m\u001b[0;34m\u001b[0m\u001b[0m\n\u001b[1;32m    766\u001b[0m             \u001b[0mseed\u001b[0m\u001b[0;34m=\u001b[0m\u001b[0mseed\u001b[0m\u001b[0;34m,\u001b[0m \u001b[0mhs\u001b[0m\u001b[0;34m=\u001b[0m\u001b[0mhs\u001b[0m\u001b[0;34m,\u001b[0m \u001b[0mnegative\u001b[0m\u001b[0;34m=\u001b[0m\u001b[0mnegative\u001b[0m\u001b[0;34m,\u001b[0m \u001b[0mcbow_mean\u001b[0m\u001b[0;34m=\u001b[0m\u001b[0mcbow_mean\u001b[0m\u001b[0;34m,\u001b[0m \u001b[0mmin_alpha\u001b[0m\u001b[0;34m=\u001b[0m\u001b[0mmin_alpha\u001b[0m\u001b[0;34m,\u001b[0m \u001b[0mcompute_loss\u001b[0m\u001b[0;34m=\u001b[0m\u001b[0mcompute_loss\u001b[0m\u001b[0;34m,\u001b[0m\u001b[0;34m\u001b[0m\u001b[0;34m\u001b[0m\u001b[0m\n\u001b[0;32m--> 767\u001b[0;31m             fast_version=FAST_VERSION)\n\u001b[0m\u001b[1;32m    768\u001b[0m \u001b[0;34m\u001b[0m\u001b[0m\n\u001b[1;32m    769\u001b[0m     def _do_train_epoch(self, corpus_file, thread_id, offset, cython_vocab, thread_private_mem, cur_epoch,\n",
            "\u001b[0;32m/usr/local/lib/python3.7/dist-packages/gensim/models/base_any2vec.py\u001b[0m in \u001b[0;36m__init__\u001b[0;34m(self, sentences, corpus_file, workers, vector_size, epochs, callbacks, batch_words, trim_rule, sg, alpha, window, seed, hs, negative, ns_exponent, cbow_mean, min_alpha, compute_loss, fast_version, **kwargs)\u001b[0m\n\u001b[1;32m    757\u001b[0m                 \u001b[0;32mraise\u001b[0m \u001b[0mTypeError\u001b[0m\u001b[0;34m(\u001b[0m\u001b[0;34m\"You can't pass a generator as the sentences argument. Try an iterator.\"\u001b[0m\u001b[0;34m)\u001b[0m\u001b[0;34m\u001b[0m\u001b[0;34m\u001b[0m\u001b[0m\n\u001b[1;32m    758\u001b[0m \u001b[0;34m\u001b[0m\u001b[0m\n\u001b[0;32m--> 759\u001b[0;31m             \u001b[0mself\u001b[0m\u001b[0;34m.\u001b[0m\u001b[0mbuild_vocab\u001b[0m\u001b[0;34m(\u001b[0m\u001b[0msentences\u001b[0m\u001b[0;34m=\u001b[0m\u001b[0msentences\u001b[0m\u001b[0;34m,\u001b[0m \u001b[0mcorpus_file\u001b[0m\u001b[0;34m=\u001b[0m\u001b[0mcorpus_file\u001b[0m\u001b[0;34m,\u001b[0m \u001b[0mtrim_rule\u001b[0m\u001b[0;34m=\u001b[0m\u001b[0mtrim_rule\u001b[0m\u001b[0;34m)\u001b[0m\u001b[0;34m\u001b[0m\u001b[0;34m\u001b[0m\u001b[0m\n\u001b[0m\u001b[1;32m    760\u001b[0m             self.train(\n\u001b[1;32m    761\u001b[0m                 \u001b[0msentences\u001b[0m\u001b[0;34m=\u001b[0m\u001b[0msentences\u001b[0m\u001b[0;34m,\u001b[0m \u001b[0mcorpus_file\u001b[0m\u001b[0;34m=\u001b[0m\u001b[0mcorpus_file\u001b[0m\u001b[0;34m,\u001b[0m \u001b[0mtotal_examples\u001b[0m\u001b[0;34m=\u001b[0m\u001b[0mself\u001b[0m\u001b[0;34m.\u001b[0m\u001b[0mcorpus_count\u001b[0m\u001b[0;34m,\u001b[0m\u001b[0;34m\u001b[0m\u001b[0;34m\u001b[0m\u001b[0m\n",
            "\u001b[0;32m/usr/local/lib/python3.7/dist-packages/gensim/models/base_any2vec.py\u001b[0m in \u001b[0;36mbuild_vocab\u001b[0;34m(self, sentences, corpus_file, update, progress_per, keep_raw_vocab, trim_rule, **kwargs)\u001b[0m\n\u001b[1;32m    934\u001b[0m         \"\"\"\n\u001b[1;32m    935\u001b[0m         total_words, corpus_count = self.vocabulary.scan_vocab(\n\u001b[0;32m--> 936\u001b[0;31m             sentences=sentences, corpus_file=corpus_file, progress_per=progress_per, trim_rule=trim_rule)\n\u001b[0m\u001b[1;32m    937\u001b[0m         \u001b[0mself\u001b[0m\u001b[0;34m.\u001b[0m\u001b[0mcorpus_count\u001b[0m \u001b[0;34m=\u001b[0m \u001b[0mcorpus_count\u001b[0m\u001b[0;34m\u001b[0m\u001b[0;34m\u001b[0m\u001b[0m\n\u001b[1;32m    938\u001b[0m         \u001b[0mself\u001b[0m\u001b[0;34m.\u001b[0m\u001b[0mcorpus_total_words\u001b[0m \u001b[0;34m=\u001b[0m \u001b[0mtotal_words\u001b[0m\u001b[0;34m\u001b[0m\u001b[0;34m\u001b[0m\u001b[0m\n",
            "\u001b[0;32m/usr/local/lib/python3.7/dist-packages/gensim/models/word2vec.py\u001b[0m in \u001b[0;36mscan_vocab\u001b[0;34m(self, sentences, corpus_file, progress_per, workers, trim_rule)\u001b[0m\n\u001b[1;32m   1569\u001b[0m             \u001b[0msentences\u001b[0m \u001b[0;34m=\u001b[0m \u001b[0mLineSentence\u001b[0m\u001b[0;34m(\u001b[0m\u001b[0mcorpus_file\u001b[0m\u001b[0;34m)\u001b[0m\u001b[0;34m\u001b[0m\u001b[0;34m\u001b[0m\u001b[0m\n\u001b[1;32m   1570\u001b[0m \u001b[0;34m\u001b[0m\u001b[0m\n\u001b[0;32m-> 1571\u001b[0;31m         \u001b[0mtotal_words\u001b[0m\u001b[0;34m,\u001b[0m \u001b[0mcorpus_count\u001b[0m \u001b[0;34m=\u001b[0m \u001b[0mself\u001b[0m\u001b[0;34m.\u001b[0m\u001b[0m_scan_vocab\u001b[0m\u001b[0;34m(\u001b[0m\u001b[0msentences\u001b[0m\u001b[0;34m,\u001b[0m \u001b[0mprogress_per\u001b[0m\u001b[0;34m,\u001b[0m \u001b[0mtrim_rule\u001b[0m\u001b[0;34m)\u001b[0m\u001b[0;34m\u001b[0m\u001b[0;34m\u001b[0m\u001b[0m\n\u001b[0m\u001b[1;32m   1572\u001b[0m \u001b[0;34m\u001b[0m\u001b[0m\n\u001b[1;32m   1573\u001b[0m         logger.info(\n",
            "\u001b[0;32m/usr/local/lib/python3.7/dist-packages/gensim/models/word2vec.py\u001b[0m in \u001b[0;36m_scan_vocab\u001b[0;34m(self, sentences, progress_per, trim_rule)\u001b[0m\n\u001b[1;32m   1538\u001b[0m         \u001b[0mvocab\u001b[0m \u001b[0;34m=\u001b[0m \u001b[0mdefaultdict\u001b[0m\u001b[0;34m(\u001b[0m\u001b[0mint\u001b[0m\u001b[0;34m)\u001b[0m\u001b[0;34m\u001b[0m\u001b[0;34m\u001b[0m\u001b[0m\n\u001b[1;32m   1539\u001b[0m         \u001b[0mchecked_string_types\u001b[0m \u001b[0;34m=\u001b[0m \u001b[0;36m0\u001b[0m\u001b[0;34m\u001b[0m\u001b[0;34m\u001b[0m\u001b[0m\n\u001b[0;32m-> 1540\u001b[0;31m         \u001b[0;32mfor\u001b[0m \u001b[0msentence_no\u001b[0m\u001b[0;34m,\u001b[0m \u001b[0msentence\u001b[0m \u001b[0;32min\u001b[0m \u001b[0menumerate\u001b[0m\u001b[0;34m(\u001b[0m\u001b[0msentences\u001b[0m\u001b[0;34m)\u001b[0m\u001b[0;34m:\u001b[0m\u001b[0;34m\u001b[0m\u001b[0;34m\u001b[0m\u001b[0m\n\u001b[0m\u001b[1;32m   1541\u001b[0m             \u001b[0;32mif\u001b[0m \u001b[0;32mnot\u001b[0m \u001b[0mchecked_string_types\u001b[0m\u001b[0;34m:\u001b[0m\u001b[0;34m\u001b[0m\u001b[0;34m\u001b[0m\u001b[0m\n\u001b[1;32m   1542\u001b[0m                 \u001b[0;32mif\u001b[0m \u001b[0misinstance\u001b[0m\u001b[0;34m(\u001b[0m\u001b[0msentence\u001b[0m\u001b[0;34m,\u001b[0m \u001b[0mstring_types\u001b[0m\u001b[0;34m)\u001b[0m\u001b[0;34m:\u001b[0m\u001b[0;34m\u001b[0m\u001b[0;34m\u001b[0m\u001b[0m\n",
            "\u001b[0;32m/usr/local/lib/python3.7/dist-packages/gensim/models/keyedvectors.py\u001b[0m in \u001b[0;36m__getitem__\u001b[0;34m(self, entities)\u001b[0m\n\u001b[1;32m    337\u001b[0m             \u001b[0;32mreturn\u001b[0m \u001b[0mself\u001b[0m\u001b[0;34m.\u001b[0m\u001b[0mget_vector\u001b[0m\u001b[0;34m(\u001b[0m\u001b[0mentities\u001b[0m\u001b[0;34m)\u001b[0m\u001b[0;34m\u001b[0m\u001b[0;34m\u001b[0m\u001b[0m\n\u001b[1;32m    338\u001b[0m \u001b[0;34m\u001b[0m\u001b[0m\n\u001b[0;32m--> 339\u001b[0;31m         \u001b[0;32mreturn\u001b[0m \u001b[0mvstack\u001b[0m\u001b[0;34m(\u001b[0m\u001b[0;34m[\u001b[0m\u001b[0mself\u001b[0m\u001b[0;34m.\u001b[0m\u001b[0mget_vector\u001b[0m\u001b[0;34m(\u001b[0m\u001b[0mentity\u001b[0m\u001b[0;34m)\u001b[0m \u001b[0;32mfor\u001b[0m \u001b[0mentity\u001b[0m \u001b[0;32min\u001b[0m \u001b[0mentities\u001b[0m\u001b[0;34m]\u001b[0m\u001b[0;34m)\u001b[0m\u001b[0;34m\u001b[0m\u001b[0;34m\u001b[0m\u001b[0m\n\u001b[0m\u001b[1;32m    340\u001b[0m \u001b[0;34m\u001b[0m\u001b[0m\n\u001b[1;32m    341\u001b[0m     \u001b[0;32mdef\u001b[0m \u001b[0m__contains__\u001b[0m\u001b[0;34m(\u001b[0m\u001b[0mself\u001b[0m\u001b[0;34m,\u001b[0m \u001b[0mentity\u001b[0m\u001b[0;34m)\u001b[0m\u001b[0;34m:\u001b[0m\u001b[0;34m\u001b[0m\u001b[0;34m\u001b[0m\u001b[0m\n",
            "\u001b[0;31mTypeError\u001b[0m: 'int' object is not iterable"
          ]
        }
      ]
    },
    {
      "cell_type": "code",
      "metadata": {
        "colab": {
          "base_uri": "https://localhost:8080/"
        },
        "id": "Tm8hX76Tyfcc",
        "outputId": "48f06d0d-b375-418b-c9b2-231c9cee9d72"
      },
      "source": [
        "! pip install navec"
      ],
      "execution_count": null,
      "outputs": [
        {
          "output_type": "stream",
          "text": [
            "Requirement already satisfied: navec in /usr/local/lib/python3.7/dist-packages (0.10.0)\n",
            "Requirement already satisfied: numpy in /usr/local/lib/python3.7/dist-packages (from navec) (1.19.5)\n"
          ],
          "name": "stdout"
        }
      ]
    },
    {
      "cell_type": "code",
      "metadata": {
        "colab": {
          "base_uri": "https://localhost:8080/"
        },
        "id": "EF5-Q1QJyND0",
        "outputId": "92f964a8-9354-4f46-8932-dc0c5503f98b"
      },
      "source": [
        "!wget https://storage.yandexcloud.net/natasha-navec/packs/navec_hudlit_v1_12B_500K_300d_100q.tar"
      ],
      "execution_count": null,
      "outputs": [
        {
          "output_type": "stream",
          "text": [
            "--2021-04-14 21:13:24--  https://storage.yandexcloud.net/natasha-navec/packs/navec_hudlit_v1_12B_500K_300d_100q.tar\n",
            "Resolving storage.yandexcloud.net (storage.yandexcloud.net)... 213.180.193.243, 2a02:6b8::1d9\n",
            "Connecting to storage.yandexcloud.net (storage.yandexcloud.net)|213.180.193.243|:443... connected.\n",
            "HTTP request sent, awaiting response... 200 OK\n",
            "Length: 53012480 (51M) [application/x-tar]\n",
            "Saving to: ‘navec_hudlit_v1_12B_500K_300d_100q.tar’\n",
            "\n",
            "navec_hudlit_v1_12B 100%[===================>]  50.56M  15.9MB/s    in 4.3s    \n",
            "\n",
            "2021-04-14 21:13:29 (11.7 MB/s) - ‘navec_hudlit_v1_12B_500K_300d_100q.tar’ saved [53012480/53012480]\n",
            "\n"
          ],
          "name": "stdout"
        }
      ]
    },
    {
      "cell_type": "code",
      "metadata": {
        "id": "JNnkeJx0zK0n"
      },
      "source": [
        "from navec import Navec\n",
        "\n",
        "path = '/content/navec_hudlit_v1_12B_500K_300d_100q.tar'\n",
        "navec = Navec.load(path)"
      ],
      "execution_count": null,
      "outputs": []
    },
    {
      "cell_type": "code",
      "metadata": {
        "colab": {
          "base_uri": "https://localhost:8080/"
        },
        "id": "FbWhMXhfzpyO",
        "outputId": "44bdadc3-b0ee-42cd-8559-2f01cf931b95"
      },
      "source": [
        "!pip install slovnet"
      ],
      "execution_count": null,
      "outputs": [
        {
          "output_type": "stream",
          "text": [
            "Collecting slovnet\n",
            "\u001b[?25l  Downloading https://files.pythonhosted.org/packages/a9/3b/f1ef495be8990004959dd0510c95f688d1b07529f6a862bc56a405770b26/slovnet-0.5.0-py3-none-any.whl (49kB)\n",
            "\r\u001b[K     |██████▋                         | 10kB 16.0MB/s eta 0:00:01\r\u001b[K     |█████████████▎                  | 20kB 23.1MB/s eta 0:00:01\r\u001b[K     |████████████████████            | 30kB 13.6MB/s eta 0:00:01\r\u001b[K     |██████████████████████████▌     | 40kB 10.1MB/s eta 0:00:01\r\u001b[K     |████████████████████████████████| 51kB 4.2MB/s \n",
            "\u001b[?25hRequirement already satisfied: numpy in /usr/local/lib/python3.7/dist-packages (from slovnet) (1.19.5)\n",
            "Collecting razdel\n",
            "  Downloading https://files.pythonhosted.org/packages/15/2c/664223a3924aa6e70479f7d37220b3a658765b9cfe760b4af7ffdc50d38f/razdel-0.5.0-py3-none-any.whl\n",
            "Requirement already satisfied: navec in /usr/local/lib/python3.7/dist-packages (from slovnet) (0.10.0)\n",
            "Installing collected packages: razdel, slovnet\n",
            "Successfully installed razdel-0.5.0 slovnet-0.5.0\n"
          ],
          "name": "stdout"
        }
      ]
    },
    {
      "cell_type": "code",
      "metadata": {
        "colab": {
          "base_uri": "https://localhost:8080/"
        },
        "id": "kH2PUo2azQC1",
        "outputId": "eb06291e-76fd-4cbb-b08a-69e8dc1c9916"
      },
      "source": [
        "from slovnet.model.emb import NavecEmbedding\n",
        "\n",
        "emb = NavecEmbedding(navec)\n",
        "input = torch.tensor([497765])\n",
        "output = emb(input)"
      ],
      "execution_count": null,
      "outputs": [
        {
          "output_type": "stream",
          "text": [
            "/usr/local/lib/python3.7/dist-packages/slovnet/model/emb.py:46: UserWarning: The given NumPy array is not writeable, and PyTorch does not support non-writeable tensors. This means you can write to the underlying (supposedly non-writeable) NumPy array using the tensor. You may want to copy the array to protect its data or make it writeable before converting it to a tensor. This type of warning will be suppressed for the rest of this program. (Triggered internally at  /pytorch/torch/csrc/utils/tensor_numpy.cpp:143.)\n",
            "  torch.from_numpy(navec.pq.indexes),\n"
          ],
          "name": "stderr"
        }
      ]
    },
    {
      "cell_type": "code",
      "metadata": {
        "colab": {
          "base_uri": "https://localhost:8080/"
        },
        "id": "OQ8FyTNZ_Pda",
        "outputId": "190a1424-150a-43cd-bd16-61141257ba26"
      },
      "source": [
        "output.shape"
      ],
      "execution_count": null,
      "outputs": [
        {
          "output_type": "execute_result",
          "data": {
            "text/plain": [
              "torch.Size([1, 300])"
            ]
          },
          "metadata": {
            "tags": []
          },
          "execution_count": 48
        }
      ]
    },
    {
      "cell_type": "code",
      "metadata": {
        "colab": {
          "base_uri": "https://localhost:8080/"
        },
        "id": "ghYyP2q7-GYh",
        "outputId": "3ccf6a89-5c05-439c-9783-21a724101e3f"
      },
      "source": [
        "from tqdm import tqdm\n",
        "X_train_w2v = np.zeros((X_train.shape[0],300))\n",
        "for idx, i in tqdm(enumerate(X_train)):\n",
        "  vector = np.zeros((300))\n",
        "  words_cnt = 1e-05\n",
        "  for word in i:\n",
        "    try:\n",
        "        vector+=navec.get(word)\n",
        "        words_cnt+=1\n",
        "    except:\n",
        "        continue\n",
        "  vector/=words_cnt\n",
        "  X_train_w2v[idx]=vector"
      ],
      "execution_count": null,
      "outputs": [
        {
          "output_type": "stream",
          "text": [
            "190888it [01:34, 2022.42it/s]\n"
          ],
          "name": "stderr"
        }
      ]
    },
    {
      "cell_type": "code",
      "metadata": {
        "id": "kHLeZ1KFAwAb"
      },
      "source": [
        "X_test_w2v = np.zeros((X_test.shape[0],300))\n",
        "for idx, i in enumerate(X_test):\n",
        "  vector = np.zeros((300))\n",
        "  words_cnt = 1e-05\n",
        "  for word in i:\n",
        "    try:\n",
        "        vector+=navec.get(word)\n",
        "        words_cnt+=1\n",
        "    except:\n",
        "        continue\n",
        "  vector/=words_cnt\n",
        "  X_test_w2v[idx]=vector"
      ],
      "execution_count": null,
      "outputs": []
    },
    {
      "cell_type": "code",
      "metadata": {
        "colab": {
          "base_uri": "https://localhost:8080/"
        },
        "id": "_GenPBb4A-l8",
        "outputId": "0e965bad-9c55-4907-b4b0-0bb2b2a8923f"
      },
      "source": [
        "cat_w2v = CatBoostClassifier()\n",
        "cat_w2v.fit(X_train_w2v,y_train)"
      ],
      "execution_count": null,
      "outputs": [
        {
          "output_type": "stream",
          "text": [
            "Learning rate set to 0.097012\n",
            "0:\tlearn: 0.6292591\ttotal: 359ms\tremaining: 5m 58s\n",
            "1:\tlearn: 0.5804976\ttotal: 610ms\tremaining: 5m 4s\n",
            "2:\tlearn: 0.5423332\ttotal: 897ms\tremaining: 4m 58s\n",
            "3:\tlearn: 0.5119858\ttotal: 1.16s\tremaining: 4m 49s\n",
            "4:\tlearn: 0.4882704\ttotal: 1.4s\tremaining: 4m 39s\n",
            "5:\tlearn: 0.4689922\ttotal: 1.72s\tremaining: 4m 44s\n",
            "6:\tlearn: 0.4537758\ttotal: 1.99s\tremaining: 4m 42s\n",
            "7:\tlearn: 0.4420799\ttotal: 2.29s\tremaining: 4m 44s\n",
            "8:\tlearn: 0.4320455\ttotal: 2.58s\tremaining: 4m 44s\n",
            "9:\tlearn: 0.4240737\ttotal: 2.88s\tremaining: 4m 45s\n",
            "10:\tlearn: 0.4176160\ttotal: 3.21s\tremaining: 4m 48s\n",
            "11:\tlearn: 0.4121907\ttotal: 3.49s\tremaining: 4m 47s\n",
            "12:\tlearn: 0.4078417\ttotal: 3.77s\tremaining: 4m 45s\n",
            "13:\tlearn: 0.4038345\ttotal: 4.06s\tremaining: 4m 45s\n",
            "14:\tlearn: 0.4006098\ttotal: 4.36s\tremaining: 4m 46s\n",
            "15:\tlearn: 0.3980281\ttotal: 4.63s\tremaining: 4m 45s\n",
            "16:\tlearn: 0.3957296\ttotal: 4.92s\tremaining: 4m 44s\n",
            "17:\tlearn: 0.3937812\ttotal: 5.23s\tremaining: 4m 45s\n",
            "18:\tlearn: 0.3919838\ttotal: 5.53s\tremaining: 4m 45s\n",
            "19:\tlearn: 0.3906059\ttotal: 5.82s\tremaining: 4m 44s\n",
            "20:\tlearn: 0.3892422\ttotal: 6.12s\tremaining: 4m 45s\n",
            "21:\tlearn: 0.3879445\ttotal: 6.43s\tremaining: 4m 46s\n",
            "22:\tlearn: 0.3868099\ttotal: 6.67s\tremaining: 4m 43s\n",
            "23:\tlearn: 0.3857597\ttotal: 6.98s\tremaining: 4m 43s\n",
            "24:\tlearn: 0.3849685\ttotal: 7.26s\tremaining: 4m 43s\n",
            "25:\tlearn: 0.3839995\ttotal: 7.54s\tremaining: 4m 42s\n",
            "26:\tlearn: 0.3831447\ttotal: 7.82s\tremaining: 4m 41s\n",
            "27:\tlearn: 0.3824125\ttotal: 8.09s\tremaining: 4m 40s\n",
            "28:\tlearn: 0.3815893\ttotal: 8.36s\tremaining: 4m 39s\n",
            "29:\tlearn: 0.3809083\ttotal: 8.62s\tremaining: 4m 38s\n",
            "30:\tlearn: 0.3802351\ttotal: 8.92s\tremaining: 4m 38s\n",
            "31:\tlearn: 0.3796718\ttotal: 9.21s\tremaining: 4m 38s\n",
            "32:\tlearn: 0.3791015\ttotal: 9.45s\tremaining: 4m 36s\n",
            "33:\tlearn: 0.3786235\ttotal: 9.74s\tremaining: 4m 36s\n",
            "34:\tlearn: 0.3780755\ttotal: 9.99s\tremaining: 4m 35s\n",
            "35:\tlearn: 0.3775130\ttotal: 10.3s\tremaining: 4m 36s\n",
            "36:\tlearn: 0.3770377\ttotal: 10.6s\tremaining: 4m 36s\n",
            "37:\tlearn: 0.3765677\ttotal: 10.9s\tremaining: 4m 36s\n",
            "38:\tlearn: 0.3761501\ttotal: 11.2s\tremaining: 4m 36s\n",
            "39:\tlearn: 0.3756948\ttotal: 11.5s\tremaining: 4m 36s\n",
            "40:\tlearn: 0.3752646\ttotal: 11.8s\tremaining: 4m 36s\n",
            "41:\tlearn: 0.3748152\ttotal: 12.1s\tremaining: 4m 35s\n",
            "42:\tlearn: 0.3743811\ttotal: 12.4s\tremaining: 4m 35s\n",
            "43:\tlearn: 0.3740293\ttotal: 12.7s\tremaining: 4m 35s\n",
            "44:\tlearn: 0.3736639\ttotal: 13s\tremaining: 4m 34s\n",
            "45:\tlearn: 0.3731876\ttotal: 13.2s\tremaining: 4m 34s\n",
            "46:\tlearn: 0.3728099\ttotal: 13.5s\tremaining: 4m 34s\n",
            "47:\tlearn: 0.3724108\ttotal: 13.8s\tremaining: 4m 33s\n",
            "48:\tlearn: 0.3720929\ttotal: 14.1s\tremaining: 4m 33s\n",
            "49:\tlearn: 0.3717173\ttotal: 14.4s\tremaining: 4m 32s\n",
            "50:\tlearn: 0.3713668\ttotal: 14.7s\tremaining: 4m 32s\n",
            "51:\tlearn: 0.3709792\ttotal: 14.9s\tremaining: 4m 32s\n",
            "52:\tlearn: 0.3706985\ttotal: 15.2s\tremaining: 4m 32s\n",
            "53:\tlearn: 0.3703626\ttotal: 15.5s\tremaining: 4m 31s\n",
            "54:\tlearn: 0.3700371\ttotal: 15.8s\tremaining: 4m 31s\n",
            "55:\tlearn: 0.3696990\ttotal: 16.1s\tremaining: 4m 30s\n",
            "56:\tlearn: 0.3694072\ttotal: 16.3s\tremaining: 4m 30s\n",
            "57:\tlearn: 0.3691073\ttotal: 16.6s\tremaining: 4m 29s\n",
            "58:\tlearn: 0.3688411\ttotal: 16.8s\tremaining: 4m 28s\n",
            "59:\tlearn: 0.3685583\ttotal: 17.1s\tremaining: 4m 28s\n",
            "60:\tlearn: 0.3682511\ttotal: 17.4s\tremaining: 4m 27s\n",
            "61:\tlearn: 0.3680439\ttotal: 17.6s\tremaining: 4m 26s\n",
            "62:\tlearn: 0.3676916\ttotal: 17.9s\tremaining: 4m 26s\n",
            "63:\tlearn: 0.3674504\ttotal: 18.1s\tremaining: 4m 25s\n",
            "64:\tlearn: 0.3672091\ttotal: 18.4s\tremaining: 4m 25s\n",
            "65:\tlearn: 0.3669605\ttotal: 18.7s\tremaining: 4m 25s\n",
            "66:\tlearn: 0.3666521\ttotal: 19s\tremaining: 4m 24s\n",
            "67:\tlearn: 0.3663775\ttotal: 19.4s\tremaining: 4m 25s\n",
            "68:\tlearn: 0.3661497\ttotal: 19.6s\tremaining: 4m 24s\n",
            "69:\tlearn: 0.3659368\ttotal: 19.9s\tremaining: 4m 24s\n",
            "70:\tlearn: 0.3656218\ttotal: 20.2s\tremaining: 4m 23s\n",
            "71:\tlearn: 0.3653746\ttotal: 20.4s\tremaining: 4m 23s\n",
            "72:\tlearn: 0.3651017\ttotal: 20.7s\tremaining: 4m 22s\n",
            "73:\tlearn: 0.3648385\ttotal: 21s\tremaining: 4m 22s\n",
            "74:\tlearn: 0.3645466\ttotal: 21.2s\tremaining: 4m 21s\n",
            "75:\tlearn: 0.3643108\ttotal: 21.5s\tremaining: 4m 21s\n",
            "76:\tlearn: 0.3640810\ttotal: 21.8s\tremaining: 4m 21s\n",
            "77:\tlearn: 0.3638471\ttotal: 22.1s\tremaining: 4m 20s\n",
            "78:\tlearn: 0.3636422\ttotal: 22.3s\tremaining: 4m 19s\n",
            "79:\tlearn: 0.3633540\ttotal: 22.5s\tremaining: 4m 18s\n",
            "80:\tlearn: 0.3631476\ttotal: 22.8s\tremaining: 4m 18s\n",
            "81:\tlearn: 0.3629385\ttotal: 23s\tremaining: 4m 17s\n",
            "82:\tlearn: 0.3627032\ttotal: 23.3s\tremaining: 4m 17s\n",
            "83:\tlearn: 0.3624662\ttotal: 23.6s\tremaining: 4m 16s\n",
            "84:\tlearn: 0.3621871\ttotal: 23.8s\tremaining: 4m 16s\n",
            "85:\tlearn: 0.3619365\ttotal: 24.1s\tremaining: 4m 16s\n",
            "86:\tlearn: 0.3617620\ttotal: 24.4s\tremaining: 4m 15s\n",
            "87:\tlearn: 0.3615515\ttotal: 24.7s\tremaining: 4m 15s\n",
            "88:\tlearn: 0.3613431\ttotal: 24.9s\tremaining: 4m 15s\n",
            "89:\tlearn: 0.3611284\ttotal: 25.2s\tremaining: 4m 15s\n",
            "90:\tlearn: 0.3609262\ttotal: 25.6s\tremaining: 4m 15s\n",
            "91:\tlearn: 0.3607063\ttotal: 25.8s\tremaining: 4m 14s\n",
            "92:\tlearn: 0.3605238\ttotal: 26.1s\tremaining: 4m 14s\n",
            "93:\tlearn: 0.3603240\ttotal: 26.4s\tremaining: 4m 14s\n",
            "94:\tlearn: 0.3600574\ttotal: 26.7s\tremaining: 4m 13s\n",
            "95:\tlearn: 0.3598623\ttotal: 26.9s\tremaining: 4m 13s\n",
            "96:\tlearn: 0.3596743\ttotal: 27.2s\tremaining: 4m 13s\n",
            "97:\tlearn: 0.3594792\ttotal: 27.5s\tremaining: 4m 13s\n",
            "98:\tlearn: 0.3592735\ttotal: 27.8s\tremaining: 4m 12s\n",
            "99:\tlearn: 0.3590188\ttotal: 28.1s\tremaining: 4m 12s\n",
            "100:\tlearn: 0.3588485\ttotal: 28.4s\tremaining: 4m 12s\n",
            "101:\tlearn: 0.3586461\ttotal: 28.7s\tremaining: 4m 12s\n",
            "102:\tlearn: 0.3584620\ttotal: 28.9s\tremaining: 4m 11s\n",
            "103:\tlearn: 0.3582282\ttotal: 29.2s\tremaining: 4m 11s\n",
            "104:\tlearn: 0.3580386\ttotal: 29.4s\tremaining: 4m 10s\n",
            "105:\tlearn: 0.3578440\ttotal: 29.7s\tremaining: 4m 10s\n",
            "106:\tlearn: 0.3576735\ttotal: 30s\tremaining: 4m 10s\n",
            "107:\tlearn: 0.3574922\ttotal: 30.2s\tremaining: 4m 9s\n",
            "108:\tlearn: 0.3572882\ttotal: 30.5s\tremaining: 4m 9s\n",
            "109:\tlearn: 0.3570894\ttotal: 30.8s\tremaining: 4m 8s\n",
            "110:\tlearn: 0.3569632\ttotal: 31s\tremaining: 4m 8s\n",
            "111:\tlearn: 0.3567389\ttotal: 31.3s\tremaining: 4m 8s\n",
            "112:\tlearn: 0.3565559\ttotal: 31.6s\tremaining: 4m 7s\n",
            "113:\tlearn: 0.3563678\ttotal: 31.9s\tremaining: 4m 7s\n",
            "114:\tlearn: 0.3561311\ttotal: 32.2s\tremaining: 4m 7s\n",
            "115:\tlearn: 0.3559112\ttotal: 32.5s\tremaining: 4m 7s\n",
            "116:\tlearn: 0.3557271\ttotal: 32.8s\tremaining: 4m 7s\n",
            "117:\tlearn: 0.3555951\ttotal: 33s\tremaining: 4m 6s\n",
            "118:\tlearn: 0.3553869\ttotal: 33.3s\tremaining: 4m 6s\n",
            "119:\tlearn: 0.3551736\ttotal: 33.6s\tremaining: 4m 6s\n",
            "120:\tlearn: 0.3549717\ttotal: 33.8s\tremaining: 4m 5s\n",
            "121:\tlearn: 0.3548352\ttotal: 34.1s\tremaining: 4m 5s\n",
            "122:\tlearn: 0.3546609\ttotal: 34.3s\tremaining: 4m 4s\n",
            "123:\tlearn: 0.3544575\ttotal: 34.6s\tremaining: 4m 4s\n",
            "124:\tlearn: 0.3542378\ttotal: 34.9s\tremaining: 4m 4s\n",
            "125:\tlearn: 0.3540524\ttotal: 35.2s\tremaining: 4m 4s\n",
            "126:\tlearn: 0.3538930\ttotal: 35.4s\tremaining: 4m 3s\n",
            "127:\tlearn: 0.3537577\ttotal: 35.7s\tremaining: 4m 2s\n",
            "128:\tlearn: 0.3536128\ttotal: 35.9s\tremaining: 4m 2s\n",
            "129:\tlearn: 0.3534363\ttotal: 36.2s\tremaining: 4m 2s\n",
            "130:\tlearn: 0.3531991\ttotal: 36.5s\tremaining: 4m 1s\n",
            "131:\tlearn: 0.3529746\ttotal: 36.8s\tremaining: 4m 1s\n",
            "132:\tlearn: 0.3527745\ttotal: 37s\tremaining: 4m 1s\n",
            "133:\tlearn: 0.3525543\ttotal: 37.3s\tremaining: 4m 1s\n",
            "134:\tlearn: 0.3523586\ttotal: 37.6s\tremaining: 4m\n",
            "135:\tlearn: 0.3521726\ttotal: 37.8s\tremaining: 4m\n",
            "136:\tlearn: 0.3519733\ttotal: 38.1s\tremaining: 4m\n",
            "137:\tlearn: 0.3517705\ttotal: 38.4s\tremaining: 4m\n",
            "138:\tlearn: 0.3515988\ttotal: 38.7s\tremaining: 3m 59s\n",
            "139:\tlearn: 0.3513994\ttotal: 39s\tremaining: 3m 59s\n",
            "140:\tlearn: 0.3512332\ttotal: 39.2s\tremaining: 3m 59s\n",
            "141:\tlearn: 0.3510596\ttotal: 39.5s\tremaining: 3m 58s\n",
            "142:\tlearn: 0.3508750\ttotal: 39.8s\tremaining: 3m 58s\n",
            "143:\tlearn: 0.3506692\ttotal: 40.1s\tremaining: 3m 58s\n",
            "144:\tlearn: 0.3504560\ttotal: 40.4s\tremaining: 3m 58s\n",
            "145:\tlearn: 0.3502765\ttotal: 40.7s\tremaining: 3m 58s\n",
            "146:\tlearn: 0.3500895\ttotal: 41s\tremaining: 3m 57s\n",
            "147:\tlearn: 0.3499051\ttotal: 41.3s\tremaining: 3m 57s\n",
            "148:\tlearn: 0.3497239\ttotal: 41.6s\tremaining: 3m 57s\n",
            "149:\tlearn: 0.3495189\ttotal: 41.8s\tremaining: 3m 57s\n",
            "150:\tlearn: 0.3492960\ttotal: 42.1s\tremaining: 3m 56s\n",
            "151:\tlearn: 0.3491138\ttotal: 42.4s\tremaining: 3m 56s\n",
            "152:\tlearn: 0.3489363\ttotal: 42.7s\tremaining: 3m 56s\n",
            "153:\tlearn: 0.3487709\ttotal: 43s\tremaining: 3m 56s\n",
            "154:\tlearn: 0.3485994\ttotal: 43.2s\tremaining: 3m 55s\n",
            "155:\tlearn: 0.3483850\ttotal: 43.5s\tremaining: 3m 55s\n",
            "156:\tlearn: 0.3482004\ttotal: 43.8s\tremaining: 3m 55s\n",
            "157:\tlearn: 0.3480518\ttotal: 44s\tremaining: 3m 54s\n",
            "158:\tlearn: 0.3478558\ttotal: 44.3s\tremaining: 3m 54s\n",
            "159:\tlearn: 0.3476423\ttotal: 44.6s\tremaining: 3m 54s\n",
            "160:\tlearn: 0.3474699\ttotal: 44.9s\tremaining: 3m 53s\n",
            "161:\tlearn: 0.3472732\ttotal: 45.2s\tremaining: 3m 53s\n",
            "162:\tlearn: 0.3470986\ttotal: 45.5s\tremaining: 3m 53s\n",
            "163:\tlearn: 0.3469009\ttotal: 45.8s\tremaining: 3m 53s\n",
            "164:\tlearn: 0.3467111\ttotal: 46.1s\tremaining: 3m 53s\n",
            "165:\tlearn: 0.3465424\ttotal: 46.4s\tremaining: 3m 53s\n",
            "166:\tlearn: 0.3463493\ttotal: 46.7s\tremaining: 3m 53s\n",
            "167:\tlearn: 0.3461665\ttotal: 47s\tremaining: 3m 52s\n",
            "168:\tlearn: 0.3459677\ttotal: 47.3s\tremaining: 3m 52s\n",
            "169:\tlearn: 0.3458045\ttotal: 47.6s\tremaining: 3m 52s\n",
            "170:\tlearn: 0.3456497\ttotal: 47.8s\tremaining: 3m 51s\n",
            "171:\tlearn: 0.3454662\ttotal: 48.1s\tremaining: 3m 51s\n",
            "172:\tlearn: 0.3453093\ttotal: 48.4s\tremaining: 3m 51s\n",
            "173:\tlearn: 0.3451685\ttotal: 48.7s\tremaining: 3m 51s\n",
            "174:\tlearn: 0.3450018\ttotal: 49s\tremaining: 3m 50s\n",
            "175:\tlearn: 0.3448395\ttotal: 49.2s\tremaining: 3m 50s\n",
            "176:\tlearn: 0.3446720\ttotal: 49.5s\tremaining: 3m 50s\n",
            "177:\tlearn: 0.3445344\ttotal: 49.7s\tremaining: 3m 49s\n",
            "178:\tlearn: 0.3444014\ttotal: 50s\tremaining: 3m 49s\n",
            "179:\tlearn: 0.3442148\ttotal: 50.2s\tremaining: 3m 48s\n",
            "180:\tlearn: 0.3440791\ttotal: 50.5s\tremaining: 3m 48s\n",
            "181:\tlearn: 0.3438761\ttotal: 50.8s\tremaining: 3m 48s\n",
            "182:\tlearn: 0.3437294\ttotal: 51s\tremaining: 3m 47s\n",
            "183:\tlearn: 0.3435784\ttotal: 51.3s\tremaining: 3m 47s\n",
            "184:\tlearn: 0.3434148\ttotal: 51.6s\tremaining: 3m 47s\n",
            "185:\tlearn: 0.3432719\ttotal: 51.9s\tremaining: 3m 46s\n",
            "186:\tlearn: 0.3430783\ttotal: 52.2s\tremaining: 3m 46s\n",
            "187:\tlearn: 0.3429119\ttotal: 52.4s\tremaining: 3m 46s\n",
            "188:\tlearn: 0.3427576\ttotal: 52.7s\tremaining: 3m 46s\n",
            "189:\tlearn: 0.3426067\ttotal: 53s\tremaining: 3m 45s\n",
            "190:\tlearn: 0.3424442\ttotal: 53.3s\tremaining: 3m 45s\n",
            "191:\tlearn: 0.3422708\ttotal: 53.6s\tremaining: 3m 45s\n",
            "192:\tlearn: 0.3421130\ttotal: 53.9s\tremaining: 3m 45s\n",
            "193:\tlearn: 0.3419760\ttotal: 54.1s\tremaining: 3m 44s\n",
            "194:\tlearn: 0.3418144\ttotal: 54.5s\tremaining: 3m 44s\n",
            "195:\tlearn: 0.3417026\ttotal: 54.7s\tremaining: 3m 44s\n",
            "196:\tlearn: 0.3415824\ttotal: 54.9s\tremaining: 3m 43s\n",
            "197:\tlearn: 0.3414301\ttotal: 55.2s\tremaining: 3m 43s\n",
            "198:\tlearn: 0.3412844\ttotal: 55.5s\tremaining: 3m 43s\n",
            "199:\tlearn: 0.3411290\ttotal: 55.8s\tremaining: 3m 43s\n",
            "200:\tlearn: 0.3409575\ttotal: 56.1s\tremaining: 3m 43s\n",
            "201:\tlearn: 0.3408030\ttotal: 56.5s\tremaining: 3m 43s\n",
            "202:\tlearn: 0.3406789\ttotal: 56.7s\tremaining: 3m 42s\n",
            "203:\tlearn: 0.3405360\ttotal: 57.1s\tremaining: 3m 42s\n",
            "204:\tlearn: 0.3403757\ttotal: 57.4s\tremaining: 3m 42s\n",
            "205:\tlearn: 0.3402268\ttotal: 57.6s\tremaining: 3m 42s\n",
            "206:\tlearn: 0.3400831\ttotal: 57.9s\tremaining: 3m 41s\n",
            "207:\tlearn: 0.3399453\ttotal: 58.2s\tremaining: 3m 41s\n",
            "208:\tlearn: 0.3398097\ttotal: 58.4s\tremaining: 3m 41s\n",
            "209:\tlearn: 0.3396659\ttotal: 58.7s\tremaining: 3m 40s\n",
            "210:\tlearn: 0.3395136\ttotal: 59s\tremaining: 3m 40s\n",
            "211:\tlearn: 0.3393940\ttotal: 59.2s\tremaining: 3m 40s\n",
            "212:\tlearn: 0.3392766\ttotal: 59.5s\tremaining: 3m 39s\n",
            "213:\tlearn: 0.3391454\ttotal: 59.8s\tremaining: 3m 39s\n",
            "214:\tlearn: 0.3390209\ttotal: 1m\tremaining: 3m 39s\n",
            "215:\tlearn: 0.3389156\ttotal: 1m\tremaining: 3m 38s\n",
            "216:\tlearn: 0.3387750\ttotal: 1m\tremaining: 3m 38s\n",
            "217:\tlearn: 0.3386406\ttotal: 1m\tremaining: 3m 38s\n",
            "218:\tlearn: 0.3384794\ttotal: 1m 1s\tremaining: 3m 37s\n",
            "219:\tlearn: 0.3383329\ttotal: 1m 1s\tremaining: 3m 37s\n",
            "220:\tlearn: 0.3381817\ttotal: 1m 1s\tremaining: 3m 37s\n",
            "221:\tlearn: 0.3380498\ttotal: 1m 1s\tremaining: 3m 37s\n",
            "222:\tlearn: 0.3379155\ttotal: 1m 2s\tremaining: 3m 36s\n",
            "223:\tlearn: 0.3378147\ttotal: 1m 2s\tremaining: 3m 36s\n",
            "224:\tlearn: 0.3376710\ttotal: 1m 2s\tremaining: 3m 36s\n",
            "225:\tlearn: 0.3375534\ttotal: 1m 3s\tremaining: 3m 35s\n",
            "226:\tlearn: 0.3374097\ttotal: 1m 3s\tremaining: 3m 35s\n",
            "227:\tlearn: 0.3373260\ttotal: 1m 3s\tremaining: 3m 35s\n",
            "228:\tlearn: 0.3371997\ttotal: 1m 3s\tremaining: 3m 34s\n",
            "229:\tlearn: 0.3370663\ttotal: 1m 4s\tremaining: 3m 34s\n",
            "230:\tlearn: 0.3369131\ttotal: 1m 4s\tremaining: 3m 34s\n",
            "231:\tlearn: 0.3367814\ttotal: 1m 4s\tremaining: 3m 33s\n",
            "232:\tlearn: 0.3366639\ttotal: 1m 4s\tremaining: 3m 33s\n",
            "233:\tlearn: 0.3365369\ttotal: 1m 5s\tremaining: 3m 33s\n",
            "234:\tlearn: 0.3364295\ttotal: 1m 5s\tremaining: 3m 32s\n",
            "235:\tlearn: 0.3362968\ttotal: 1m 5s\tremaining: 3m 32s\n",
            "236:\tlearn: 0.3361624\ttotal: 1m 5s\tremaining: 3m 32s\n",
            "237:\tlearn: 0.3360348\ttotal: 1m 6s\tremaining: 3m 31s\n",
            "238:\tlearn: 0.3359081\ttotal: 1m 6s\tremaining: 3m 31s\n",
            "239:\tlearn: 0.3357755\ttotal: 1m 6s\tremaining: 3m 31s\n",
            "240:\tlearn: 0.3356434\ttotal: 1m 6s\tremaining: 3m 31s\n",
            "241:\tlearn: 0.3355066\ttotal: 1m 7s\tremaining: 3m 30s\n",
            "242:\tlearn: 0.3353761\ttotal: 1m 7s\tremaining: 3m 30s\n",
            "243:\tlearn: 0.3352423\ttotal: 1m 7s\tremaining: 3m 30s\n",
            "244:\tlearn: 0.3351440\ttotal: 1m 8s\tremaining: 3m 29s\n",
            "245:\tlearn: 0.3350178\ttotal: 1m 8s\tremaining: 3m 29s\n",
            "246:\tlearn: 0.3349048\ttotal: 1m 8s\tremaining: 3m 29s\n",
            "247:\tlearn: 0.3347842\ttotal: 1m 8s\tremaining: 3m 29s\n",
            "248:\tlearn: 0.3346464\ttotal: 1m 9s\tremaining: 3m 28s\n",
            "249:\tlearn: 0.3345480\ttotal: 1m 9s\tremaining: 3m 28s\n",
            "250:\tlearn: 0.3344350\ttotal: 1m 9s\tremaining: 3m 28s\n",
            "251:\tlearn: 0.3343059\ttotal: 1m 9s\tremaining: 3m 27s\n",
            "252:\tlearn: 0.3341926\ttotal: 1m 10s\tremaining: 3m 27s\n",
            "253:\tlearn: 0.3340632\ttotal: 1m 10s\tremaining: 3m 27s\n",
            "254:\tlearn: 0.3339356\ttotal: 1m 10s\tremaining: 3m 26s\n",
            "255:\tlearn: 0.3338194\ttotal: 1m 11s\tremaining: 3m 26s\n",
            "256:\tlearn: 0.3336981\ttotal: 1m 11s\tremaining: 3m 26s\n",
            "257:\tlearn: 0.3335697\ttotal: 1m 11s\tremaining: 3m 26s\n",
            "258:\tlearn: 0.3334628\ttotal: 1m 11s\tremaining: 3m 25s\n",
            "259:\tlearn: 0.3333423\ttotal: 1m 12s\tremaining: 3m 25s\n",
            "260:\tlearn: 0.3332234\ttotal: 1m 12s\tremaining: 3m 25s\n",
            "261:\tlearn: 0.3331047\ttotal: 1m 12s\tremaining: 3m 25s\n",
            "262:\tlearn: 0.3329768\ttotal: 1m 13s\tremaining: 3m 24s\n",
            "263:\tlearn: 0.3328578\ttotal: 1m 13s\tremaining: 3m 24s\n",
            "264:\tlearn: 0.3327388\ttotal: 1m 13s\tremaining: 3m 24s\n",
            "265:\tlearn: 0.3326388\ttotal: 1m 13s\tremaining: 3m 23s\n",
            "266:\tlearn: 0.3325398\ttotal: 1m 14s\tremaining: 3m 23s\n",
            "267:\tlearn: 0.3323875\ttotal: 1m 14s\tremaining: 3m 23s\n",
            "268:\tlearn: 0.3322697\ttotal: 1m 14s\tremaining: 3m 22s\n",
            "269:\tlearn: 0.3322001\ttotal: 1m 14s\tremaining: 3m 22s\n",
            "270:\tlearn: 0.3320646\ttotal: 1m 15s\tremaining: 3m 22s\n",
            "271:\tlearn: 0.3319461\ttotal: 1m 15s\tremaining: 3m 22s\n",
            "272:\tlearn: 0.3318162\ttotal: 1m 15s\tremaining: 3m 21s\n",
            "273:\tlearn: 0.3317038\ttotal: 1m 16s\tremaining: 3m 21s\n",
            "274:\tlearn: 0.3315618\ttotal: 1m 16s\tremaining: 3m 21s\n",
            "275:\tlearn: 0.3314406\ttotal: 1m 16s\tremaining: 3m 20s\n",
            "276:\tlearn: 0.3313437\ttotal: 1m 16s\tremaining: 3m 20s\n",
            "277:\tlearn: 0.3312101\ttotal: 1m 17s\tremaining: 3m 20s\n",
            "278:\tlearn: 0.3311073\ttotal: 1m 17s\tremaining: 3m 19s\n",
            "279:\tlearn: 0.3309817\ttotal: 1m 17s\tremaining: 3m 19s\n",
            "280:\tlearn: 0.3308465\ttotal: 1m 17s\tremaining: 3m 19s\n",
            "281:\tlearn: 0.3307566\ttotal: 1m 18s\tremaining: 3m 18s\n",
            "282:\tlearn: 0.3306494\ttotal: 1m 18s\tremaining: 3m 18s\n",
            "283:\tlearn: 0.3305363\ttotal: 1m 18s\tremaining: 3m 18s\n",
            "284:\tlearn: 0.3304353\ttotal: 1m 18s\tremaining: 3m 18s\n",
            "285:\tlearn: 0.3303132\ttotal: 1m 19s\tremaining: 3m 17s\n",
            "286:\tlearn: 0.3301881\ttotal: 1m 19s\tremaining: 3m 17s\n",
            "287:\tlearn: 0.3300812\ttotal: 1m 19s\tremaining: 3m 17s\n",
            "288:\tlearn: 0.3299696\ttotal: 1m 20s\tremaining: 3m 16s\n",
            "289:\tlearn: 0.3298439\ttotal: 1m 20s\tremaining: 3m 16s\n",
            "290:\tlearn: 0.3297272\ttotal: 1m 20s\tremaining: 3m 16s\n",
            "291:\tlearn: 0.3296349\ttotal: 1m 20s\tremaining: 3m 16s\n",
            "292:\tlearn: 0.3295529\ttotal: 1m 21s\tremaining: 3m 15s\n",
            "293:\tlearn: 0.3294350\ttotal: 1m 21s\tremaining: 3m 15s\n",
            "294:\tlearn: 0.3293235\ttotal: 1m 21s\tremaining: 3m 15s\n",
            "295:\tlearn: 0.3292075\ttotal: 1m 21s\tremaining: 3m 14s\n",
            "296:\tlearn: 0.3290882\ttotal: 1m 22s\tremaining: 3m 14s\n",
            "297:\tlearn: 0.3289891\ttotal: 1m 22s\tremaining: 3m 14s\n",
            "298:\tlearn: 0.3288773\ttotal: 1m 22s\tremaining: 3m 14s\n",
            "299:\tlearn: 0.3287715\ttotal: 1m 23s\tremaining: 3m 14s\n",
            "300:\tlearn: 0.3287074\ttotal: 1m 23s\tremaining: 3m 13s\n",
            "301:\tlearn: 0.3285892\ttotal: 1m 23s\tremaining: 3m 13s\n",
            "302:\tlearn: 0.3284829\ttotal: 1m 23s\tremaining: 3m 13s\n",
            "303:\tlearn: 0.3283470\ttotal: 1m 24s\tremaining: 3m 12s\n",
            "304:\tlearn: 0.3282345\ttotal: 1m 24s\tremaining: 3m 12s\n",
            "305:\tlearn: 0.3281183\ttotal: 1m 24s\tremaining: 3m 12s\n",
            "306:\tlearn: 0.3280124\ttotal: 1m 25s\tremaining: 3m 12s\n",
            "307:\tlearn: 0.3279205\ttotal: 1m 25s\tremaining: 3m 11s\n",
            "308:\tlearn: 0.3278210\ttotal: 1m 25s\tremaining: 3m 11s\n",
            "309:\tlearn: 0.3277157\ttotal: 1m 25s\tremaining: 3m 11s\n",
            "310:\tlearn: 0.3275995\ttotal: 1m 26s\tremaining: 3m 11s\n",
            "311:\tlearn: 0.3275011\ttotal: 1m 26s\tremaining: 3m 10s\n",
            "312:\tlearn: 0.3274090\ttotal: 1m 26s\tremaining: 3m 10s\n",
            "313:\tlearn: 0.3272801\ttotal: 1m 26s\tremaining: 3m 9s\n",
            "314:\tlearn: 0.3271860\ttotal: 1m 27s\tremaining: 3m 9s\n",
            "315:\tlearn: 0.3270808\ttotal: 1m 27s\tremaining: 3m 9s\n",
            "316:\tlearn: 0.3269679\ttotal: 1m 27s\tremaining: 3m 9s\n",
            "317:\tlearn: 0.3268627\ttotal: 1m 27s\tremaining: 3m 8s\n",
            "318:\tlearn: 0.3267584\ttotal: 1m 28s\tremaining: 3m 8s\n",
            "319:\tlearn: 0.3266320\ttotal: 1m 28s\tremaining: 3m 8s\n",
            "320:\tlearn: 0.3265202\ttotal: 1m 28s\tremaining: 3m 8s\n",
            "321:\tlearn: 0.3264306\ttotal: 1m 29s\tremaining: 3m 7s\n",
            "322:\tlearn: 0.3263519\ttotal: 1m 29s\tremaining: 3m 7s\n",
            "323:\tlearn: 0.3262412\ttotal: 1m 29s\tremaining: 3m 7s\n",
            "324:\tlearn: 0.3261377\ttotal: 1m 29s\tremaining: 3m 6s\n",
            "325:\tlearn: 0.3260252\ttotal: 1m 30s\tremaining: 3m 6s\n",
            "326:\tlearn: 0.3259310\ttotal: 1m 30s\tremaining: 3m 6s\n",
            "327:\tlearn: 0.3258329\ttotal: 1m 30s\tremaining: 3m 5s\n",
            "328:\tlearn: 0.3257383\ttotal: 1m 31s\tremaining: 3m 5s\n",
            "329:\tlearn: 0.3256200\ttotal: 1m 31s\tremaining: 3m 5s\n",
            "330:\tlearn: 0.3255244\ttotal: 1m 31s\tremaining: 3m 5s\n",
            "331:\tlearn: 0.3254184\ttotal: 1m 31s\tremaining: 3m 4s\n",
            "332:\tlearn: 0.3252828\ttotal: 1m 32s\tremaining: 3m 4s\n",
            "333:\tlearn: 0.3251765\ttotal: 1m 32s\tremaining: 3m 4s\n",
            "334:\tlearn: 0.3250725\ttotal: 1m 32s\tremaining: 3m 4s\n",
            "335:\tlearn: 0.3249729\ttotal: 1m 33s\tremaining: 3m 3s\n",
            "336:\tlearn: 0.3248588\ttotal: 1m 33s\tremaining: 3m 3s\n",
            "337:\tlearn: 0.3247638\ttotal: 1m 33s\tremaining: 3m 3s\n",
            "338:\tlearn: 0.3246640\ttotal: 1m 33s\tremaining: 3m 2s\n",
            "339:\tlearn: 0.3245634\ttotal: 1m 34s\tremaining: 3m 2s\n",
            "340:\tlearn: 0.3244555\ttotal: 1m 34s\tremaining: 3m 2s\n",
            "341:\tlearn: 0.3243431\ttotal: 1m 34s\tremaining: 3m 2s\n",
            "342:\tlearn: 0.3242309\ttotal: 1m 35s\tremaining: 3m 1s\n",
            "343:\tlearn: 0.3241545\ttotal: 1m 35s\tremaining: 3m 1s\n",
            "344:\tlearn: 0.3240480\ttotal: 1m 35s\tremaining: 3m 1s\n",
            "345:\tlearn: 0.3239384\ttotal: 1m 35s\tremaining: 3m 1s\n",
            "346:\tlearn: 0.3238448\ttotal: 1m 36s\tremaining: 3m\n",
            "347:\tlearn: 0.3237513\ttotal: 1m 36s\tremaining: 3m\n",
            "348:\tlearn: 0.3236601\ttotal: 1m 36s\tremaining: 3m\n",
            "349:\tlearn: 0.3235559\ttotal: 1m 36s\tremaining: 2m 59s\n",
            "350:\tlearn: 0.3234873\ttotal: 1m 37s\tremaining: 2m 59s\n",
            "351:\tlearn: 0.3233786\ttotal: 1m 37s\tremaining: 2m 59s\n",
            "352:\tlearn: 0.3232812\ttotal: 1m 37s\tremaining: 2m 59s\n",
            "353:\tlearn: 0.3232003\ttotal: 1m 37s\tremaining: 2m 58s\n",
            "354:\tlearn: 0.3231064\ttotal: 1m 38s\tremaining: 2m 58s\n",
            "355:\tlearn: 0.3230012\ttotal: 1m 38s\tremaining: 2m 58s\n",
            "356:\tlearn: 0.3229045\ttotal: 1m 38s\tremaining: 2m 57s\n",
            "357:\tlearn: 0.3228037\ttotal: 1m 39s\tremaining: 2m 57s\n",
            "358:\tlearn: 0.3227163\ttotal: 1m 39s\tremaining: 2m 57s\n",
            "359:\tlearn: 0.3226173\ttotal: 1m 39s\tremaining: 2m 57s\n",
            "360:\tlearn: 0.3225158\ttotal: 1m 39s\tremaining: 2m 56s\n",
            "361:\tlearn: 0.3224177\ttotal: 1m 40s\tremaining: 2m 56s\n",
            "362:\tlearn: 0.3223225\ttotal: 1m 40s\tremaining: 2m 56s\n",
            "363:\tlearn: 0.3222358\ttotal: 1m 40s\tremaining: 2m 56s\n",
            "364:\tlearn: 0.3221332\ttotal: 1m 41s\tremaining: 2m 55s\n",
            "365:\tlearn: 0.3220306\ttotal: 1m 41s\tremaining: 2m 55s\n",
            "366:\tlearn: 0.3219561\ttotal: 1m 41s\tremaining: 2m 55s\n",
            "367:\tlearn: 0.3218738\ttotal: 1m 41s\tremaining: 2m 54s\n",
            "368:\tlearn: 0.3217761\ttotal: 1m 42s\tremaining: 2m 54s\n",
            "369:\tlearn: 0.3216787\ttotal: 1m 42s\tremaining: 2m 54s\n",
            "370:\tlearn: 0.3215923\ttotal: 1m 42s\tremaining: 2m 54s\n",
            "371:\tlearn: 0.3215082\ttotal: 1m 42s\tremaining: 2m 53s\n",
            "372:\tlearn: 0.3214114\ttotal: 1m 43s\tremaining: 2m 53s\n",
            "373:\tlearn: 0.3213146\ttotal: 1m 43s\tremaining: 2m 53s\n",
            "374:\tlearn: 0.3212058\ttotal: 1m 43s\tremaining: 2m 52s\n",
            "375:\tlearn: 0.3211148\ttotal: 1m 44s\tremaining: 2m 52s\n",
            "376:\tlearn: 0.3210123\ttotal: 1m 44s\tremaining: 2m 52s\n",
            "377:\tlearn: 0.3209068\ttotal: 1m 44s\tremaining: 2m 52s\n",
            "378:\tlearn: 0.3208222\ttotal: 1m 44s\tremaining: 2m 51s\n",
            "379:\tlearn: 0.3207189\ttotal: 1m 45s\tremaining: 2m 51s\n",
            "380:\tlearn: 0.3206154\ttotal: 1m 45s\tremaining: 2m 51s\n",
            "381:\tlearn: 0.3205117\ttotal: 1m 45s\tremaining: 2m 51s\n",
            "382:\tlearn: 0.3204146\ttotal: 1m 46s\tremaining: 2m 50s\n",
            "383:\tlearn: 0.3203168\ttotal: 1m 46s\tremaining: 2m 50s\n",
            "384:\tlearn: 0.3202148\ttotal: 1m 46s\tremaining: 2m 50s\n",
            "385:\tlearn: 0.3201134\ttotal: 1m 46s\tremaining: 2m 50s\n",
            "386:\tlearn: 0.3200407\ttotal: 1m 47s\tremaining: 2m 49s\n",
            "387:\tlearn: 0.3199771\ttotal: 1m 47s\tremaining: 2m 49s\n",
            "388:\tlearn: 0.3198933\ttotal: 1m 47s\tremaining: 2m 49s\n",
            "389:\tlearn: 0.3197863\ttotal: 1m 47s\tremaining: 2m 48s\n",
            "390:\tlearn: 0.3196972\ttotal: 1m 48s\tremaining: 2m 48s\n",
            "391:\tlearn: 0.3196244\ttotal: 1m 48s\tremaining: 2m 48s\n",
            "392:\tlearn: 0.3195174\ttotal: 1m 48s\tremaining: 2m 47s\n",
            "393:\tlearn: 0.3194244\ttotal: 1m 49s\tremaining: 2m 47s\n",
            "394:\tlearn: 0.3193247\ttotal: 1m 49s\tremaining: 2m 47s\n",
            "395:\tlearn: 0.3192221\ttotal: 1m 49s\tremaining: 2m 47s\n",
            "396:\tlearn: 0.3191146\ttotal: 1m 49s\tremaining: 2m 46s\n",
            "397:\tlearn: 0.3190279\ttotal: 1m 50s\tremaining: 2m 46s\n",
            "398:\tlearn: 0.3189312\ttotal: 1m 50s\tremaining: 2m 46s\n",
            "399:\tlearn: 0.3188364\ttotal: 1m 50s\tremaining: 2m 46s\n",
            "400:\tlearn: 0.3187442\ttotal: 1m 51s\tremaining: 2m 45s\n",
            "401:\tlearn: 0.3186745\ttotal: 1m 51s\tremaining: 2m 45s\n",
            "402:\tlearn: 0.3185887\ttotal: 1m 51s\tremaining: 2m 45s\n",
            "403:\tlearn: 0.3184919\ttotal: 1m 51s\tremaining: 2m 45s\n",
            "404:\tlearn: 0.3183851\ttotal: 1m 52s\tremaining: 2m 44s\n",
            "405:\tlearn: 0.3182793\ttotal: 1m 52s\tremaining: 2m 44s\n",
            "406:\tlearn: 0.3181959\ttotal: 1m 52s\tremaining: 2m 44s\n",
            "407:\tlearn: 0.3180963\ttotal: 1m 53s\tremaining: 2m 44s\n",
            "408:\tlearn: 0.3180027\ttotal: 1m 53s\tremaining: 2m 43s\n",
            "409:\tlearn: 0.3179182\ttotal: 1m 53s\tremaining: 2m 43s\n",
            "410:\tlearn: 0.3178333\ttotal: 1m 53s\tremaining: 2m 43s\n",
            "411:\tlearn: 0.3177407\ttotal: 1m 54s\tremaining: 2m 42s\n",
            "412:\tlearn: 0.3176560\ttotal: 1m 54s\tremaining: 2m 42s\n",
            "413:\tlearn: 0.3175597\ttotal: 1m 54s\tremaining: 2m 42s\n",
            "414:\tlearn: 0.3174562\ttotal: 1m 55s\tremaining: 2m 42s\n",
            "415:\tlearn: 0.3173633\ttotal: 1m 55s\tremaining: 2m 41s\n",
            "416:\tlearn: 0.3172925\ttotal: 1m 55s\tremaining: 2m 41s\n",
            "417:\tlearn: 0.3171999\ttotal: 1m 55s\tremaining: 2m 41s\n",
            "418:\tlearn: 0.3171024\ttotal: 1m 56s\tremaining: 2m 41s\n",
            "419:\tlearn: 0.3170097\ttotal: 1m 56s\tremaining: 2m 40s\n",
            "420:\tlearn: 0.3169125\ttotal: 1m 56s\tremaining: 2m 40s\n",
            "421:\tlearn: 0.3168252\ttotal: 1m 56s\tremaining: 2m 40s\n",
            "422:\tlearn: 0.3167482\ttotal: 1m 57s\tremaining: 2m 39s\n",
            "423:\tlearn: 0.3166451\ttotal: 1m 57s\tremaining: 2m 39s\n",
            "424:\tlearn: 0.3165458\ttotal: 1m 57s\tremaining: 2m 39s\n",
            "425:\tlearn: 0.3164640\ttotal: 1m 58s\tremaining: 2m 39s\n",
            "426:\tlearn: 0.3163750\ttotal: 1m 58s\tremaining: 2m 38s\n",
            "427:\tlearn: 0.3162909\ttotal: 1m 58s\tremaining: 2m 38s\n",
            "428:\tlearn: 0.3161940\ttotal: 1m 58s\tremaining: 2m 38s\n",
            "429:\tlearn: 0.3160966\ttotal: 1m 59s\tremaining: 2m 38s\n",
            "430:\tlearn: 0.3160188\ttotal: 1m 59s\tremaining: 2m 37s\n",
            "431:\tlearn: 0.3159332\ttotal: 1m 59s\tremaining: 2m 37s\n",
            "432:\tlearn: 0.3158478\ttotal: 2m\tremaining: 2m 37s\n",
            "433:\tlearn: 0.3157568\ttotal: 2m\tremaining: 2m 37s\n",
            "434:\tlearn: 0.3156554\ttotal: 2m\tremaining: 2m 36s\n",
            "435:\tlearn: 0.3155473\ttotal: 2m\tremaining: 2m 36s\n",
            "436:\tlearn: 0.3154460\ttotal: 2m 1s\tremaining: 2m 36s\n",
            "437:\tlearn: 0.3153721\ttotal: 2m 1s\tremaining: 2m 35s\n",
            "438:\tlearn: 0.3152907\ttotal: 2m 1s\tremaining: 2m 35s\n",
            "439:\tlearn: 0.3152036\ttotal: 2m 2s\tremaining: 2m 35s\n",
            "440:\tlearn: 0.3151166\ttotal: 2m 2s\tremaining: 2m 35s\n",
            "441:\tlearn: 0.3150174\ttotal: 2m 2s\tremaining: 2m 34s\n",
            "442:\tlearn: 0.3149309\ttotal: 2m 2s\tremaining: 2m 34s\n",
            "443:\tlearn: 0.3148389\ttotal: 2m 3s\tremaining: 2m 34s\n",
            "444:\tlearn: 0.3147495\ttotal: 2m 3s\tremaining: 2m 34s\n",
            "445:\tlearn: 0.3146574\ttotal: 2m 3s\tremaining: 2m 33s\n",
            "446:\tlearn: 0.3145859\ttotal: 2m 4s\tremaining: 2m 33s\n",
            "447:\tlearn: 0.3145171\ttotal: 2m 4s\tremaining: 2m 33s\n",
            "448:\tlearn: 0.3144275\ttotal: 2m 4s\tremaining: 2m 32s\n",
            "449:\tlearn: 0.3143525\ttotal: 2m 4s\tremaining: 2m 32s\n",
            "450:\tlearn: 0.3142800\ttotal: 2m 5s\tremaining: 2m 32s\n",
            "451:\tlearn: 0.3142016\ttotal: 2m 5s\tremaining: 2m 31s\n",
            "452:\tlearn: 0.3141502\ttotal: 2m 5s\tremaining: 2m 31s\n",
            "453:\tlearn: 0.3140574\ttotal: 2m 5s\tremaining: 2m 31s\n",
            "454:\tlearn: 0.3139569\ttotal: 2m 6s\tremaining: 2m 31s\n",
            "455:\tlearn: 0.3138695\ttotal: 2m 6s\tremaining: 2m 30s\n",
            "456:\tlearn: 0.3138084\ttotal: 2m 6s\tremaining: 2m 30s\n",
            "457:\tlearn: 0.3137206\ttotal: 2m 7s\tremaining: 2m 30s\n",
            "458:\tlearn: 0.3136327\ttotal: 2m 7s\tremaining: 2m 30s\n",
            "459:\tlearn: 0.3135416\ttotal: 2m 7s\tremaining: 2m 29s\n",
            "460:\tlearn: 0.3134506\ttotal: 2m 7s\tremaining: 2m 29s\n",
            "461:\tlearn: 0.3133695\ttotal: 2m 8s\tremaining: 2m 29s\n",
            "462:\tlearn: 0.3132929\ttotal: 2m 8s\tremaining: 2m 28s\n",
            "463:\tlearn: 0.3132222\ttotal: 2m 8s\tremaining: 2m 28s\n",
            "464:\tlearn: 0.3131373\ttotal: 2m 8s\tremaining: 2m 28s\n",
            "465:\tlearn: 0.3130561\ttotal: 2m 9s\tremaining: 2m 28s\n",
            "466:\tlearn: 0.3129753\ttotal: 2m 9s\tremaining: 2m 27s\n",
            "467:\tlearn: 0.3128852\ttotal: 2m 9s\tremaining: 2m 27s\n",
            "468:\tlearn: 0.3127957\ttotal: 2m 10s\tremaining: 2m 27s\n",
            "469:\tlearn: 0.3127075\ttotal: 2m 10s\tremaining: 2m 27s\n",
            "470:\tlearn: 0.3126219\ttotal: 2m 10s\tremaining: 2m 26s\n",
            "471:\tlearn: 0.3125235\ttotal: 2m 10s\tremaining: 2m 26s\n",
            "472:\tlearn: 0.3124325\ttotal: 2m 11s\tremaining: 2m 26s\n",
            "473:\tlearn: 0.3123613\ttotal: 2m 11s\tremaining: 2m 25s\n",
            "474:\tlearn: 0.3122894\ttotal: 2m 11s\tremaining: 2m 25s\n",
            "475:\tlearn: 0.3122119\ttotal: 2m 12s\tremaining: 2m 25s\n",
            "476:\tlearn: 0.3121400\ttotal: 2m 12s\tremaining: 2m 25s\n",
            "477:\tlearn: 0.3120564\ttotal: 2m 12s\tremaining: 2m 24s\n",
            "478:\tlearn: 0.3119992\ttotal: 2m 12s\tremaining: 2m 24s\n",
            "479:\tlearn: 0.3119430\ttotal: 2m 13s\tremaining: 2m 24s\n",
            "480:\tlearn: 0.3118541\ttotal: 2m 13s\tremaining: 2m 23s\n",
            "481:\tlearn: 0.3117678\ttotal: 2m 13s\tremaining: 2m 23s\n",
            "482:\tlearn: 0.3116908\ttotal: 2m 13s\tremaining: 2m 23s\n",
            "483:\tlearn: 0.3115947\ttotal: 2m 14s\tremaining: 2m 23s\n",
            "484:\tlearn: 0.3115187\ttotal: 2m 14s\tremaining: 2m 22s\n",
            "485:\tlearn: 0.3114203\ttotal: 2m 14s\tremaining: 2m 22s\n",
            "486:\tlearn: 0.3113200\ttotal: 2m 15s\tremaining: 2m 22s\n",
            "487:\tlearn: 0.3112399\ttotal: 2m 15s\tremaining: 2m 22s\n",
            "488:\tlearn: 0.3111733\ttotal: 2m 15s\tremaining: 2m 21s\n",
            "489:\tlearn: 0.3110877\ttotal: 2m 15s\tremaining: 2m 21s\n",
            "490:\tlearn: 0.3110039\ttotal: 2m 16s\tremaining: 2m 21s\n",
            "491:\tlearn: 0.3109268\ttotal: 2m 16s\tremaining: 2m 20s\n",
            "492:\tlearn: 0.3108508\ttotal: 2m 16s\tremaining: 2m 20s\n",
            "493:\tlearn: 0.3107671\ttotal: 2m 17s\tremaining: 2m 20s\n",
            "494:\tlearn: 0.3106834\ttotal: 2m 17s\tremaining: 2m 20s\n",
            "495:\tlearn: 0.3106068\ttotal: 2m 17s\tremaining: 2m 19s\n",
            "496:\tlearn: 0.3105153\ttotal: 2m 17s\tremaining: 2m 19s\n",
            "497:\tlearn: 0.3104325\ttotal: 2m 18s\tremaining: 2m 19s\n",
            "498:\tlearn: 0.3103555\ttotal: 2m 18s\tremaining: 2m 18s\n",
            "499:\tlearn: 0.3102747\ttotal: 2m 18s\tremaining: 2m 18s\n",
            "500:\tlearn: 0.3102255\ttotal: 2m 18s\tremaining: 2m 18s\n",
            "501:\tlearn: 0.3101372\ttotal: 2m 19s\tremaining: 2m 18s\n",
            "502:\tlearn: 0.3100575\ttotal: 2m 19s\tremaining: 2m 17s\n",
            "503:\tlearn: 0.3099813\ttotal: 2m 19s\tremaining: 2m 17s\n",
            "504:\tlearn: 0.3099047\ttotal: 2m 20s\tremaining: 2m 17s\n",
            "505:\tlearn: 0.3098377\ttotal: 2m 20s\tremaining: 2m 17s\n",
            "506:\tlearn: 0.3097617\ttotal: 2m 20s\tremaining: 2m 16s\n",
            "507:\tlearn: 0.3096831\ttotal: 2m 20s\tremaining: 2m 16s\n",
            "508:\tlearn: 0.3096161\ttotal: 2m 21s\tremaining: 2m 16s\n",
            "509:\tlearn: 0.3095405\ttotal: 2m 21s\tremaining: 2m 15s\n",
            "510:\tlearn: 0.3094639\ttotal: 2m 21s\tremaining: 2m 15s\n",
            "511:\tlearn: 0.3093861\ttotal: 2m 21s\tremaining: 2m 15s\n",
            "512:\tlearn: 0.3093016\ttotal: 2m 22s\tremaining: 2m 15s\n",
            "513:\tlearn: 0.3092162\ttotal: 2m 22s\tremaining: 2m 14s\n",
            "514:\tlearn: 0.3091254\ttotal: 2m 22s\tremaining: 2m 14s\n",
            "515:\tlearn: 0.3090347\ttotal: 2m 23s\tremaining: 2m 14s\n",
            "516:\tlearn: 0.3089458\ttotal: 2m 23s\tremaining: 2m 13s\n",
            "517:\tlearn: 0.3089111\ttotal: 2m 23s\tremaining: 2m 13s\n",
            "518:\tlearn: 0.3088269\ttotal: 2m 23s\tremaining: 2m 13s\n",
            "519:\tlearn: 0.3087549\ttotal: 2m 24s\tremaining: 2m 13s\n",
            "520:\tlearn: 0.3086752\ttotal: 2m 24s\tremaining: 2m 12s\n",
            "521:\tlearn: 0.3085963\ttotal: 2m 24s\tremaining: 2m 12s\n",
            "522:\tlearn: 0.3085132\ttotal: 2m 25s\tremaining: 2m 12s\n",
            "523:\tlearn: 0.3084409\ttotal: 2m 25s\tremaining: 2m 12s\n",
            "524:\tlearn: 0.3083582\ttotal: 2m 25s\tremaining: 2m 11s\n",
            "525:\tlearn: 0.3082821\ttotal: 2m 25s\tremaining: 2m 11s\n",
            "526:\tlearn: 0.3081985\ttotal: 2m 26s\tremaining: 2m 11s\n",
            "527:\tlearn: 0.3081125\ttotal: 2m 26s\tremaining: 2m 10s\n",
            "528:\tlearn: 0.3080379\ttotal: 2m 26s\tremaining: 2m 10s\n",
            "529:\tlearn: 0.3079560\ttotal: 2m 27s\tremaining: 2m 10s\n",
            "530:\tlearn: 0.3078918\ttotal: 2m 27s\tremaining: 2m 10s\n",
            "531:\tlearn: 0.3078061\ttotal: 2m 27s\tremaining: 2m 9s\n",
            "532:\tlearn: 0.3077439\ttotal: 2m 27s\tremaining: 2m 9s\n",
            "533:\tlearn: 0.3076616\ttotal: 2m 28s\tremaining: 2m 9s\n",
            "534:\tlearn: 0.3075743\ttotal: 2m 28s\tremaining: 2m 9s\n",
            "535:\tlearn: 0.3075077\ttotal: 2m 28s\tremaining: 2m 8s\n",
            "536:\tlearn: 0.3074269\ttotal: 2m 29s\tremaining: 2m 8s\n",
            "537:\tlearn: 0.3073465\ttotal: 2m 29s\tremaining: 2m 8s\n",
            "538:\tlearn: 0.3072658\ttotal: 2m 29s\tremaining: 2m 7s\n",
            "539:\tlearn: 0.3071814\ttotal: 2m 29s\tremaining: 2m 7s\n",
            "540:\tlearn: 0.3071114\ttotal: 2m 30s\tremaining: 2m 7s\n",
            "541:\tlearn: 0.3070419\ttotal: 2m 30s\tremaining: 2m 7s\n",
            "542:\tlearn: 0.3069666\ttotal: 2m 30s\tremaining: 2m 6s\n",
            "543:\tlearn: 0.3068921\ttotal: 2m 31s\tremaining: 2m 6s\n",
            "544:\tlearn: 0.3068075\ttotal: 2m 31s\tremaining: 2m 6s\n",
            "545:\tlearn: 0.3067424\ttotal: 2m 31s\tremaining: 2m 6s\n",
            "546:\tlearn: 0.3066631\ttotal: 2m 31s\tremaining: 2m 5s\n",
            "547:\tlearn: 0.3065832\ttotal: 2m 32s\tremaining: 2m 5s\n",
            "548:\tlearn: 0.3064980\ttotal: 2m 32s\tremaining: 2m 5s\n",
            "549:\tlearn: 0.3064216\ttotal: 2m 32s\tremaining: 2m 4s\n",
            "550:\tlearn: 0.3063414\ttotal: 2m 33s\tremaining: 2m 4s\n",
            "551:\tlearn: 0.3062646\ttotal: 2m 33s\tremaining: 2m 4s\n",
            "552:\tlearn: 0.3061793\ttotal: 2m 33s\tremaining: 2m 4s\n",
            "553:\tlearn: 0.3061264\ttotal: 2m 33s\tremaining: 2m 3s\n",
            "554:\tlearn: 0.3060494\ttotal: 2m 34s\tremaining: 2m 3s\n",
            "555:\tlearn: 0.3059811\ttotal: 2m 34s\tremaining: 2m 3s\n",
            "556:\tlearn: 0.3059003\ttotal: 2m 34s\tremaining: 2m 3s\n",
            "557:\tlearn: 0.3058108\ttotal: 2m 35s\tremaining: 2m 2s\n",
            "558:\tlearn: 0.3057267\ttotal: 2m 35s\tremaining: 2m 2s\n",
            "559:\tlearn: 0.3056532\ttotal: 2m 35s\tremaining: 2m 2s\n",
            "560:\tlearn: 0.3055573\ttotal: 2m 35s\tremaining: 2m 1s\n",
            "561:\tlearn: 0.3054767\ttotal: 2m 36s\tremaining: 2m 1s\n",
            "562:\tlearn: 0.3053923\ttotal: 2m 36s\tremaining: 2m 1s\n",
            "563:\tlearn: 0.3053160\ttotal: 2m 36s\tremaining: 2m 1s\n",
            "564:\tlearn: 0.3052522\ttotal: 2m 37s\tremaining: 2m\n",
            "565:\tlearn: 0.3051792\ttotal: 2m 37s\tremaining: 2m\n",
            "566:\tlearn: 0.3051016\ttotal: 2m 37s\tremaining: 2m\n",
            "567:\tlearn: 0.3050288\ttotal: 2m 37s\tremaining: 2m\n",
            "568:\tlearn: 0.3049605\ttotal: 2m 38s\tremaining: 1m 59s\n",
            "569:\tlearn: 0.3048718\ttotal: 2m 38s\tremaining: 1m 59s\n",
            "570:\tlearn: 0.3048022\ttotal: 2m 38s\tremaining: 1m 59s\n",
            "571:\tlearn: 0.3047235\ttotal: 2m 39s\tremaining: 1m 58s\n",
            "572:\tlearn: 0.3046741\ttotal: 2m 39s\tremaining: 1m 58s\n",
            "573:\tlearn: 0.3045920\ttotal: 2m 39s\tremaining: 1m 58s\n",
            "574:\tlearn: 0.3045157\ttotal: 2m 39s\tremaining: 1m 58s\n",
            "575:\tlearn: 0.3044426\ttotal: 2m 40s\tremaining: 1m 57s\n",
            "576:\tlearn: 0.3043649\ttotal: 2m 40s\tremaining: 1m 57s\n",
            "577:\tlearn: 0.3042889\ttotal: 2m 40s\tremaining: 1m 57s\n",
            "578:\tlearn: 0.3042130\ttotal: 2m 41s\tremaining: 1m 57s\n",
            "579:\tlearn: 0.3041416\ttotal: 2m 41s\tremaining: 1m 56s\n",
            "580:\tlearn: 0.3040625\ttotal: 2m 41s\tremaining: 1m 56s\n",
            "581:\tlearn: 0.3039724\ttotal: 2m 41s\tremaining: 1m 56s\n",
            "582:\tlearn: 0.3038980\ttotal: 2m 42s\tremaining: 1m 56s\n",
            "583:\tlearn: 0.3038154\ttotal: 2m 42s\tremaining: 1m 55s\n",
            "584:\tlearn: 0.3037440\ttotal: 2m 42s\tremaining: 1m 55s\n",
            "585:\tlearn: 0.3036650\ttotal: 2m 43s\tremaining: 1m 55s\n",
            "586:\tlearn: 0.3035986\ttotal: 2m 43s\tremaining: 1m 54s\n",
            "587:\tlearn: 0.3035292\ttotal: 2m 43s\tremaining: 1m 54s\n",
            "588:\tlearn: 0.3034626\ttotal: 2m 43s\tremaining: 1m 54s\n",
            "589:\tlearn: 0.3033923\ttotal: 2m 44s\tremaining: 1m 54s\n",
            "590:\tlearn: 0.3033148\ttotal: 2m 44s\tremaining: 1m 53s\n",
            "591:\tlearn: 0.3032310\ttotal: 2m 44s\tremaining: 1m 53s\n",
            "592:\tlearn: 0.3031472\ttotal: 2m 45s\tremaining: 1m 53s\n",
            "593:\tlearn: 0.3030708\ttotal: 2m 45s\tremaining: 1m 53s\n",
            "594:\tlearn: 0.3030023\ttotal: 2m 45s\tremaining: 1m 52s\n",
            "595:\tlearn: 0.3029167\ttotal: 2m 46s\tremaining: 1m 52s\n",
            "596:\tlearn: 0.3028341\ttotal: 2m 46s\tremaining: 1m 52s\n",
            "597:\tlearn: 0.3027529\ttotal: 2m 46s\tremaining: 1m 52s\n",
            "598:\tlearn: 0.3026767\ttotal: 2m 46s\tremaining: 1m 51s\n",
            "599:\tlearn: 0.3026043\ttotal: 2m 47s\tremaining: 1m 51s\n",
            "600:\tlearn: 0.3025358\ttotal: 2m 47s\tremaining: 1m 51s\n",
            "601:\tlearn: 0.3024578\ttotal: 2m 47s\tremaining: 1m 50s\n",
            "602:\tlearn: 0.3024066\ttotal: 2m 48s\tremaining: 1m 50s\n",
            "603:\tlearn: 0.3023361\ttotal: 2m 48s\tremaining: 1m 50s\n",
            "604:\tlearn: 0.3022731\ttotal: 2m 48s\tremaining: 1m 50s\n",
            "605:\tlearn: 0.3022111\ttotal: 2m 48s\tremaining: 1m 49s\n",
            "606:\tlearn: 0.3021331\ttotal: 2m 49s\tremaining: 1m 49s\n",
            "607:\tlearn: 0.3020628\ttotal: 2m 49s\tremaining: 1m 49s\n",
            "608:\tlearn: 0.3019933\ttotal: 2m 49s\tremaining: 1m 48s\n",
            "609:\tlearn: 0.3019274\ttotal: 2m 49s\tremaining: 1m 48s\n",
            "610:\tlearn: 0.3018396\ttotal: 2m 50s\tremaining: 1m 48s\n",
            "611:\tlearn: 0.3017799\ttotal: 2m 50s\tremaining: 1m 48s\n",
            "612:\tlearn: 0.3017090\ttotal: 2m 50s\tremaining: 1m 47s\n",
            "613:\tlearn: 0.3016395\ttotal: 2m 51s\tremaining: 1m 47s\n",
            "614:\tlearn: 0.3015655\ttotal: 2m 51s\tremaining: 1m 47s\n",
            "615:\tlearn: 0.3014989\ttotal: 2m 51s\tremaining: 1m 47s\n",
            "616:\tlearn: 0.3014243\ttotal: 2m 52s\tremaining: 1m 46s\n",
            "617:\tlearn: 0.3013648\ttotal: 2m 52s\tremaining: 1m 46s\n",
            "618:\tlearn: 0.3012874\ttotal: 2m 52s\tremaining: 1m 46s\n",
            "619:\tlearn: 0.3012234\ttotal: 2m 52s\tremaining: 1m 45s\n",
            "620:\tlearn: 0.3011537\ttotal: 2m 53s\tremaining: 1m 45s\n",
            "621:\tlearn: 0.3010904\ttotal: 2m 53s\tremaining: 1m 45s\n",
            "622:\tlearn: 0.3010195\ttotal: 2m 53s\tremaining: 1m 45s\n",
            "623:\tlearn: 0.3009483\ttotal: 2m 53s\tremaining: 1m 44s\n",
            "624:\tlearn: 0.3008801\ttotal: 2m 54s\tremaining: 1m 44s\n",
            "625:\tlearn: 0.3008076\ttotal: 2m 54s\tremaining: 1m 44s\n",
            "626:\tlearn: 0.3007398\ttotal: 2m 54s\tremaining: 1m 44s\n",
            "627:\tlearn: 0.3006603\ttotal: 2m 55s\tremaining: 1m 43s\n",
            "628:\tlearn: 0.3005893\ttotal: 2m 55s\tremaining: 1m 43s\n",
            "629:\tlearn: 0.3005136\ttotal: 2m 55s\tremaining: 1m 43s\n",
            "630:\tlearn: 0.3004575\ttotal: 2m 56s\tremaining: 1m 42s\n",
            "631:\tlearn: 0.3003996\ttotal: 2m 56s\tremaining: 1m 42s\n",
            "632:\tlearn: 0.3003186\ttotal: 2m 56s\tremaining: 1m 42s\n",
            "633:\tlearn: 0.3002384\ttotal: 2m 56s\tremaining: 1m 42s\n",
            "634:\tlearn: 0.3001669\ttotal: 2m 57s\tremaining: 1m 41s\n",
            "635:\tlearn: 0.3000885\ttotal: 2m 57s\tremaining: 1m 41s\n",
            "636:\tlearn: 0.3000179\ttotal: 2m 57s\tremaining: 1m 41s\n",
            "637:\tlearn: 0.2999449\ttotal: 2m 58s\tremaining: 1m 41s\n",
            "638:\tlearn: 0.2998729\ttotal: 2m 58s\tremaining: 1m 40s\n",
            "639:\tlearn: 0.2998017\ttotal: 2m 58s\tremaining: 1m 40s\n",
            "640:\tlearn: 0.2997268\ttotal: 2m 58s\tremaining: 1m 40s\n",
            "641:\tlearn: 0.2996568\ttotal: 2m 59s\tremaining: 1m 39s\n",
            "642:\tlearn: 0.2996224\ttotal: 2m 59s\tremaining: 1m 39s\n",
            "643:\tlearn: 0.2995519\ttotal: 2m 59s\tremaining: 1m 39s\n",
            "644:\tlearn: 0.2994845\ttotal: 3m\tremaining: 1m 39s\n",
            "645:\tlearn: 0.2994094\ttotal: 3m\tremaining: 1m 38s\n",
            "646:\tlearn: 0.2993300\ttotal: 3m\tremaining: 1m 38s\n",
            "647:\tlearn: 0.2992606\ttotal: 3m\tremaining: 1m 38s\n",
            "648:\tlearn: 0.2991810\ttotal: 3m 1s\tremaining: 1m 37s\n",
            "649:\tlearn: 0.2991062\ttotal: 3m 1s\tremaining: 1m 37s\n",
            "650:\tlearn: 0.2990318\ttotal: 3m 1s\tremaining: 1m 37s\n",
            "651:\tlearn: 0.2989768\ttotal: 3m 1s\tremaining: 1m 37s\n",
            "652:\tlearn: 0.2989092\ttotal: 3m 2s\tremaining: 1m 36s\n",
            "653:\tlearn: 0.2988485\ttotal: 3m 2s\tremaining: 1m 36s\n",
            "654:\tlearn: 0.2987765\ttotal: 3m 2s\tremaining: 1m 36s\n",
            "655:\tlearn: 0.2987479\ttotal: 3m 3s\tremaining: 1m 35s\n",
            "656:\tlearn: 0.2986866\ttotal: 3m 3s\tremaining: 1m 35s\n",
            "657:\tlearn: 0.2986190\ttotal: 3m 3s\tremaining: 1m 35s\n",
            "658:\tlearn: 0.2985459\ttotal: 3m 3s\tremaining: 1m 35s\n",
            "659:\tlearn: 0.2984779\ttotal: 3m 4s\tremaining: 1m 34s\n",
            "660:\tlearn: 0.2984028\ttotal: 3m 4s\tremaining: 1m 34s\n",
            "661:\tlearn: 0.2983264\ttotal: 3m 4s\tremaining: 1m 34s\n",
            "662:\tlearn: 0.2982522\ttotal: 3m 5s\tremaining: 1m 34s\n",
            "663:\tlearn: 0.2981688\ttotal: 3m 5s\tremaining: 1m 33s\n",
            "664:\tlearn: 0.2980923\ttotal: 3m 5s\tremaining: 1m 33s\n",
            "665:\tlearn: 0.2980227\ttotal: 3m 5s\tremaining: 1m 33s\n",
            "666:\tlearn: 0.2979543\ttotal: 3m 6s\tremaining: 1m 32s\n",
            "667:\tlearn: 0.2978893\ttotal: 3m 6s\tremaining: 1m 32s\n",
            "668:\tlearn: 0.2978222\ttotal: 3m 6s\tremaining: 1m 32s\n",
            "669:\tlearn: 0.2977533\ttotal: 3m 6s\tremaining: 1m 32s\n",
            "670:\tlearn: 0.2976820\ttotal: 3m 7s\tremaining: 1m 31s\n",
            "671:\tlearn: 0.2976008\ttotal: 3m 7s\tremaining: 1m 31s\n",
            "672:\tlearn: 0.2975282\ttotal: 3m 7s\tremaining: 1m 31s\n",
            "673:\tlearn: 0.2974566\ttotal: 3m 8s\tremaining: 1m 30s\n",
            "674:\tlearn: 0.2974205\ttotal: 3m 8s\tremaining: 1m 30s\n",
            "675:\tlearn: 0.2973870\ttotal: 3m 8s\tremaining: 1m 30s\n",
            "676:\tlearn: 0.2973206\ttotal: 3m 8s\tremaining: 1m 30s\n",
            "677:\tlearn: 0.2972669\ttotal: 3m 8s\tremaining: 1m 29s\n",
            "678:\tlearn: 0.2972034\ttotal: 3m 9s\tremaining: 1m 29s\n",
            "679:\tlearn: 0.2971313\ttotal: 3m 9s\tremaining: 1m 29s\n",
            "680:\tlearn: 0.2970534\ttotal: 3m 9s\tremaining: 1m 28s\n",
            "681:\tlearn: 0.2969999\ttotal: 3m 10s\tremaining: 1m 28s\n",
            "682:\tlearn: 0.2969452\ttotal: 3m 10s\tremaining: 1m 28s\n",
            "683:\tlearn: 0.2968713\ttotal: 3m 10s\tremaining: 1m 28s\n",
            "684:\tlearn: 0.2968078\ttotal: 3m 10s\tremaining: 1m 27s\n",
            "685:\tlearn: 0.2967421\ttotal: 3m 11s\tremaining: 1m 27s\n",
            "686:\tlearn: 0.2966690\ttotal: 3m 11s\tremaining: 1m 27s\n",
            "687:\tlearn: 0.2965961\ttotal: 3m 11s\tremaining: 1m 26s\n",
            "688:\tlearn: 0.2965256\ttotal: 3m 12s\tremaining: 1m 26s\n",
            "689:\tlearn: 0.2964599\ttotal: 3m 12s\tremaining: 1m 26s\n",
            "690:\tlearn: 0.2963903\ttotal: 3m 12s\tremaining: 1m 26s\n",
            "691:\tlearn: 0.2963226\ttotal: 3m 12s\tremaining: 1m 25s\n",
            "692:\tlearn: 0.2962495\ttotal: 3m 13s\tremaining: 1m 25s\n",
            "693:\tlearn: 0.2961796\ttotal: 3m 13s\tremaining: 1m 25s\n",
            "694:\tlearn: 0.2961165\ttotal: 3m 13s\tremaining: 1m 25s\n",
            "695:\tlearn: 0.2960408\ttotal: 3m 14s\tremaining: 1m 24s\n",
            "696:\tlearn: 0.2959776\ttotal: 3m 14s\tremaining: 1m 24s\n",
            "697:\tlearn: 0.2959118\ttotal: 3m 14s\tremaining: 1m 24s\n",
            "698:\tlearn: 0.2958424\ttotal: 3m 14s\tremaining: 1m 23s\n",
            "699:\tlearn: 0.2957848\ttotal: 3m 15s\tremaining: 1m 23s\n",
            "700:\tlearn: 0.2957180\ttotal: 3m 15s\tremaining: 1m 23s\n",
            "701:\tlearn: 0.2956458\ttotal: 3m 15s\tremaining: 1m 23s\n",
            "702:\tlearn: 0.2955648\ttotal: 3m 16s\tremaining: 1m 22s\n",
            "703:\tlearn: 0.2954860\ttotal: 3m 16s\tremaining: 1m 22s\n",
            "704:\tlearn: 0.2954220\ttotal: 3m 16s\tremaining: 1m 22s\n",
            "705:\tlearn: 0.2953581\ttotal: 3m 17s\tremaining: 1m 22s\n",
            "706:\tlearn: 0.2953178\ttotal: 3m 17s\tremaining: 1m 21s\n",
            "707:\tlearn: 0.2952529\ttotal: 3m 17s\tremaining: 1m 21s\n",
            "708:\tlearn: 0.2952050\ttotal: 3m 17s\tremaining: 1m 21s\n",
            "709:\tlearn: 0.2951425\ttotal: 3m 17s\tremaining: 1m 20s\n",
            "710:\tlearn: 0.2950722\ttotal: 3m 18s\tremaining: 1m 20s\n",
            "711:\tlearn: 0.2950011\ttotal: 3m 18s\tremaining: 1m 20s\n",
            "712:\tlearn: 0.2949471\ttotal: 3m 18s\tremaining: 1m 20s\n",
            "713:\tlearn: 0.2948780\ttotal: 3m 19s\tremaining: 1m 19s\n",
            "714:\tlearn: 0.2948268\ttotal: 3m 19s\tremaining: 1m 19s\n",
            "715:\tlearn: 0.2947498\ttotal: 3m 19s\tremaining: 1m 19s\n",
            "716:\tlearn: 0.2946972\ttotal: 3m 19s\tremaining: 1m 18s\n",
            "717:\tlearn: 0.2946282\ttotal: 3m 20s\tremaining: 1m 18s\n",
            "718:\tlearn: 0.2945791\ttotal: 3m 20s\tremaining: 1m 18s\n",
            "719:\tlearn: 0.2945190\ttotal: 3m 20s\tremaining: 1m 18s\n",
            "720:\tlearn: 0.2944513\ttotal: 3m 21s\tremaining: 1m 17s\n",
            "721:\tlearn: 0.2943698\ttotal: 3m 21s\tremaining: 1m 17s\n",
            "722:\tlearn: 0.2942939\ttotal: 3m 21s\tremaining: 1m 17s\n",
            "723:\tlearn: 0.2942269\ttotal: 3m 21s\tremaining: 1m 16s\n",
            "724:\tlearn: 0.2941495\ttotal: 3m 22s\tremaining: 1m 16s\n",
            "725:\tlearn: 0.2940913\ttotal: 3m 22s\tremaining: 1m 16s\n",
            "726:\tlearn: 0.2940238\ttotal: 3m 22s\tremaining: 1m 16s\n",
            "727:\tlearn: 0.2939521\ttotal: 3m 23s\tremaining: 1m 15s\n",
            "728:\tlearn: 0.2938867\ttotal: 3m 23s\tremaining: 1m 15s\n",
            "729:\tlearn: 0.2938132\ttotal: 3m 23s\tremaining: 1m 15s\n",
            "730:\tlearn: 0.2937629\ttotal: 3m 23s\tremaining: 1m 15s\n",
            "731:\tlearn: 0.2936936\ttotal: 3m 24s\tremaining: 1m 14s\n",
            "732:\tlearn: 0.2936397\ttotal: 3m 24s\tremaining: 1m 14s\n",
            "733:\tlearn: 0.2935749\ttotal: 3m 24s\tremaining: 1m 14s\n",
            "734:\tlearn: 0.2935049\ttotal: 3m 25s\tremaining: 1m 13s\n",
            "735:\tlearn: 0.2934733\ttotal: 3m 25s\tremaining: 1m 13s\n",
            "736:\tlearn: 0.2934229\ttotal: 3m 25s\tremaining: 1m 13s\n",
            "737:\tlearn: 0.2933369\ttotal: 3m 25s\tremaining: 1m 13s\n",
            "738:\tlearn: 0.2932742\ttotal: 3m 26s\tremaining: 1m 12s\n",
            "739:\tlearn: 0.2932169\ttotal: 3m 26s\tremaining: 1m 12s\n",
            "740:\tlearn: 0.2931640\ttotal: 3m 26s\tremaining: 1m 12s\n",
            "741:\tlearn: 0.2930996\ttotal: 3m 26s\tremaining: 1m 11s\n",
            "742:\tlearn: 0.2930308\ttotal: 3m 27s\tremaining: 1m 11s\n",
            "743:\tlearn: 0.2929611\ttotal: 3m 27s\tremaining: 1m 11s\n",
            "744:\tlearn: 0.2928931\ttotal: 3m 27s\tremaining: 1m 11s\n",
            "745:\tlearn: 0.2928344\ttotal: 3m 28s\tremaining: 1m 10s\n",
            "746:\tlearn: 0.2927615\ttotal: 3m 28s\tremaining: 1m 10s\n",
            "747:\tlearn: 0.2926995\ttotal: 3m 28s\tremaining: 1m 10s\n",
            "748:\tlearn: 0.2926286\ttotal: 3m 28s\tremaining: 1m 10s\n",
            "749:\tlearn: 0.2925632\ttotal: 3m 29s\tremaining: 1m 9s\n",
            "750:\tlearn: 0.2924916\ttotal: 3m 29s\tremaining: 1m 9s\n",
            "751:\tlearn: 0.2924421\ttotal: 3m 29s\tremaining: 1m 9s\n",
            "752:\tlearn: 0.2923627\ttotal: 3m 30s\tremaining: 1m 8s\n",
            "753:\tlearn: 0.2923010\ttotal: 3m 30s\tremaining: 1m 8s\n",
            "754:\tlearn: 0.2922379\ttotal: 3m 30s\tremaining: 1m 8s\n",
            "755:\tlearn: 0.2921700\ttotal: 3m 30s\tremaining: 1m 8s\n",
            "756:\tlearn: 0.2921220\ttotal: 3m 31s\tremaining: 1m 7s\n",
            "757:\tlearn: 0.2920603\ttotal: 3m 31s\tremaining: 1m 7s\n",
            "758:\tlearn: 0.2920095\ttotal: 3m 31s\tremaining: 1m 7s\n",
            "759:\tlearn: 0.2919364\ttotal: 3m 32s\tremaining: 1m 6s\n",
            "760:\tlearn: 0.2918773\ttotal: 3m 32s\tremaining: 1m 6s\n",
            "761:\tlearn: 0.2918134\ttotal: 3m 32s\tremaining: 1m 6s\n",
            "762:\tlearn: 0.2917422\ttotal: 3m 32s\tremaining: 1m 6s\n",
            "763:\tlearn: 0.2917014\ttotal: 3m 33s\tremaining: 1m 5s\n",
            "764:\tlearn: 0.2916444\ttotal: 3m 33s\tremaining: 1m 5s\n",
            "765:\tlearn: 0.2915904\ttotal: 3m 33s\tremaining: 1m 5s\n",
            "766:\tlearn: 0.2915379\ttotal: 3m 34s\tremaining: 1m 5s\n",
            "767:\tlearn: 0.2914710\ttotal: 3m 34s\tremaining: 1m 4s\n",
            "768:\tlearn: 0.2914160\ttotal: 3m 34s\tremaining: 1m 4s\n",
            "769:\tlearn: 0.2913457\ttotal: 3m 34s\tremaining: 1m 4s\n",
            "770:\tlearn: 0.2912757\ttotal: 3m 35s\tremaining: 1m 3s\n",
            "771:\tlearn: 0.2912061\ttotal: 3m 35s\tremaining: 1m 3s\n",
            "772:\tlearn: 0.2911309\ttotal: 3m 35s\tremaining: 1m 3s\n",
            "773:\tlearn: 0.2910739\ttotal: 3m 36s\tremaining: 1m 3s\n",
            "774:\tlearn: 0.2910025\ttotal: 3m 36s\tremaining: 1m 2s\n",
            "775:\tlearn: 0.2909313\ttotal: 3m 36s\tremaining: 1m 2s\n",
            "776:\tlearn: 0.2908653\ttotal: 3m 36s\tremaining: 1m 2s\n",
            "777:\tlearn: 0.2907974\ttotal: 3m 37s\tremaining: 1m 1s\n",
            "778:\tlearn: 0.2907370\ttotal: 3m 37s\tremaining: 1m 1s\n",
            "779:\tlearn: 0.2906713\ttotal: 3m 37s\tremaining: 1m 1s\n",
            "780:\tlearn: 0.2906068\ttotal: 3m 37s\tremaining: 1m 1s\n",
            "781:\tlearn: 0.2905468\ttotal: 3m 38s\tremaining: 1m\n",
            "782:\tlearn: 0.2904893\ttotal: 3m 38s\tremaining: 1m\n",
            "783:\tlearn: 0.2904221\ttotal: 3m 38s\tremaining: 1m\n",
            "784:\tlearn: 0.2903553\ttotal: 3m 39s\tremaining: 60s\n",
            "785:\tlearn: 0.2902867\ttotal: 3m 39s\tremaining: 59.7s\n",
            "786:\tlearn: 0.2902194\ttotal: 3m 39s\tremaining: 59.4s\n",
            "787:\tlearn: 0.2901731\ttotal: 3m 39s\tremaining: 59.2s\n",
            "788:\tlearn: 0.2901082\ttotal: 3m 40s\tremaining: 58.9s\n",
            "789:\tlearn: 0.2900529\ttotal: 3m 40s\tremaining: 58.6s\n",
            "790:\tlearn: 0.2899804\ttotal: 3m 40s\tremaining: 58.3s\n",
            "791:\tlearn: 0.2899133\ttotal: 3m 40s\tremaining: 58s\n",
            "792:\tlearn: 0.2898502\ttotal: 3m 41s\tremaining: 57.8s\n",
            "793:\tlearn: 0.2897814\ttotal: 3m 41s\tremaining: 57.5s\n",
            "794:\tlearn: 0.2897270\ttotal: 3m 41s\tremaining: 57.2s\n",
            "795:\tlearn: 0.2896774\ttotal: 3m 42s\tremaining: 56.9s\n",
            "796:\tlearn: 0.2896282\ttotal: 3m 42s\tremaining: 56.6s\n",
            "797:\tlearn: 0.2895607\ttotal: 3m 42s\tremaining: 56.4s\n",
            "798:\tlearn: 0.2894898\ttotal: 3m 42s\tremaining: 56.1s\n",
            "799:\tlearn: 0.2894468\ttotal: 3m 43s\tremaining: 55.8s\n",
            "800:\tlearn: 0.2893787\ttotal: 3m 43s\tremaining: 55.5s\n",
            "801:\tlearn: 0.2893321\ttotal: 3m 43s\tremaining: 55.3s\n",
            "802:\tlearn: 0.2892746\ttotal: 3m 44s\tremaining: 55s\n",
            "803:\tlearn: 0.2892120\ttotal: 3m 44s\tremaining: 54.7s\n",
            "804:\tlearn: 0.2891534\ttotal: 3m 44s\tremaining: 54.4s\n",
            "805:\tlearn: 0.2890966\ttotal: 3m 44s\tremaining: 54.1s\n",
            "806:\tlearn: 0.2890250\ttotal: 3m 45s\tremaining: 53.9s\n",
            "807:\tlearn: 0.2889490\ttotal: 3m 45s\tremaining: 53.6s\n",
            "808:\tlearn: 0.2888897\ttotal: 3m 45s\tremaining: 53.3s\n",
            "809:\tlearn: 0.2888267\ttotal: 3m 46s\tremaining: 53s\n",
            "810:\tlearn: 0.2887608\ttotal: 3m 46s\tremaining: 52.8s\n",
            "811:\tlearn: 0.2886897\ttotal: 3m 46s\tremaining: 52.5s\n",
            "812:\tlearn: 0.2886187\ttotal: 3m 46s\tremaining: 52.2s\n",
            "813:\tlearn: 0.2885584\ttotal: 3m 47s\tremaining: 51.9s\n",
            "814:\tlearn: 0.2885106\ttotal: 3m 47s\tremaining: 51.6s\n",
            "815:\tlearn: 0.2884406\ttotal: 3m 47s\tremaining: 51.4s\n",
            "816:\tlearn: 0.2883709\ttotal: 3m 48s\tremaining: 51.1s\n",
            "817:\tlearn: 0.2883147\ttotal: 3m 48s\tremaining: 50.8s\n",
            "818:\tlearn: 0.2882611\ttotal: 3m 48s\tremaining: 50.5s\n",
            "819:\tlearn: 0.2881972\ttotal: 3m 48s\tremaining: 50.2s\n",
            "820:\tlearn: 0.2881292\ttotal: 3m 49s\tremaining: 50s\n",
            "821:\tlearn: 0.2880708\ttotal: 3m 49s\tremaining: 49.7s\n",
            "822:\tlearn: 0.2880077\ttotal: 3m 49s\tremaining: 49.4s\n",
            "823:\tlearn: 0.2879468\ttotal: 3m 50s\tremaining: 49.1s\n",
            "824:\tlearn: 0.2879016\ttotal: 3m 50s\tremaining: 48.9s\n",
            "825:\tlearn: 0.2878343\ttotal: 3m 50s\tremaining: 48.6s\n",
            "826:\tlearn: 0.2877856\ttotal: 3m 50s\tremaining: 48.3s\n",
            "827:\tlearn: 0.2877298\ttotal: 3m 51s\tremaining: 48s\n",
            "828:\tlearn: 0.2876581\ttotal: 3m 51s\tremaining: 47.7s\n",
            "829:\tlearn: 0.2876126\ttotal: 3m 51s\tremaining: 47.5s\n",
            "830:\tlearn: 0.2875463\ttotal: 3m 51s\tremaining: 47.2s\n",
            "831:\tlearn: 0.2874748\ttotal: 3m 52s\tremaining: 46.9s\n",
            "832:\tlearn: 0.2874155\ttotal: 3m 52s\tremaining: 46.6s\n",
            "833:\tlearn: 0.2873515\ttotal: 3m 52s\tremaining: 46.3s\n",
            "834:\tlearn: 0.2872792\ttotal: 3m 53s\tremaining: 46.1s\n",
            "835:\tlearn: 0.2872183\ttotal: 3m 53s\tremaining: 45.8s\n",
            "836:\tlearn: 0.2871503\ttotal: 3m 53s\tremaining: 45.5s\n",
            "837:\tlearn: 0.2871001\ttotal: 3m 53s\tremaining: 45.2s\n",
            "838:\tlearn: 0.2870327\ttotal: 3m 54s\tremaining: 45s\n",
            "839:\tlearn: 0.2869685\ttotal: 3m 54s\tremaining: 44.7s\n",
            "840:\tlearn: 0.2869044\ttotal: 3m 54s\tremaining: 44.4s\n",
            "841:\tlearn: 0.2868426\ttotal: 3m 55s\tremaining: 44.1s\n",
            "842:\tlearn: 0.2867785\ttotal: 3m 55s\tremaining: 43.8s\n",
            "843:\tlearn: 0.2867059\ttotal: 3m 55s\tremaining: 43.6s\n",
            "844:\tlearn: 0.2866738\ttotal: 3m 55s\tremaining: 43.3s\n",
            "845:\tlearn: 0.2866159\ttotal: 3m 56s\tremaining: 43s\n",
            "846:\tlearn: 0.2865477\ttotal: 3m 56s\tremaining: 42.7s\n",
            "847:\tlearn: 0.2865094\ttotal: 3m 56s\tremaining: 42.4s\n",
            "848:\tlearn: 0.2864375\ttotal: 3m 57s\tremaining: 42.2s\n",
            "849:\tlearn: 0.2863668\ttotal: 3m 57s\tremaining: 41.9s\n",
            "850:\tlearn: 0.2863060\ttotal: 3m 57s\tremaining: 41.6s\n",
            "851:\tlearn: 0.2862583\ttotal: 3m 57s\tremaining: 41.3s\n",
            "852:\tlearn: 0.2861927\ttotal: 3m 58s\tremaining: 41s\n",
            "853:\tlearn: 0.2861287\ttotal: 3m 58s\tremaining: 40.8s\n",
            "854:\tlearn: 0.2860683\ttotal: 3m 58s\tremaining: 40.5s\n",
            "855:\tlearn: 0.2860219\ttotal: 3m 58s\tremaining: 40.2s\n",
            "856:\tlearn: 0.2859735\ttotal: 3m 59s\tremaining: 39.9s\n",
            "857:\tlearn: 0.2859099\ttotal: 3m 59s\tremaining: 39.6s\n",
            "858:\tlearn: 0.2858508\ttotal: 3m 59s\tremaining: 39.4s\n",
            "859:\tlearn: 0.2857785\ttotal: 4m\tremaining: 39.1s\n",
            "860:\tlearn: 0.2857208\ttotal: 4m\tremaining: 38.8s\n",
            "861:\tlearn: 0.2856639\ttotal: 4m\tremaining: 38.5s\n",
            "862:\tlearn: 0.2855974\ttotal: 4m\tremaining: 38.2s\n",
            "863:\tlearn: 0.2855270\ttotal: 4m 1s\tremaining: 38s\n",
            "864:\tlearn: 0.2854643\ttotal: 4m 1s\tremaining: 37.7s\n",
            "865:\tlearn: 0.2853984\ttotal: 4m 1s\tremaining: 37.4s\n",
            "866:\tlearn: 0.2853319\ttotal: 4m 2s\tremaining: 37.1s\n",
            "867:\tlearn: 0.2852840\ttotal: 4m 2s\tremaining: 36.9s\n",
            "868:\tlearn: 0.2852201\ttotal: 4m 2s\tremaining: 36.6s\n",
            "869:\tlearn: 0.2851637\ttotal: 4m 2s\tremaining: 36.3s\n",
            "870:\tlearn: 0.2850958\ttotal: 4m 3s\tremaining: 36s\n",
            "871:\tlearn: 0.2850351\ttotal: 4m 3s\tremaining: 35.7s\n",
            "872:\tlearn: 0.2849656\ttotal: 4m 3s\tremaining: 35.5s\n",
            "873:\tlearn: 0.2848985\ttotal: 4m 4s\tremaining: 35.2s\n",
            "874:\tlearn: 0.2848328\ttotal: 4m 4s\tremaining: 34.9s\n",
            "875:\tlearn: 0.2847972\ttotal: 4m 4s\tremaining: 34.6s\n",
            "876:\tlearn: 0.2847354\ttotal: 4m 4s\tremaining: 34.4s\n",
            "877:\tlearn: 0.2846853\ttotal: 4m 5s\tremaining: 34.1s\n",
            "878:\tlearn: 0.2846168\ttotal: 4m 5s\tremaining: 33.8s\n",
            "879:\tlearn: 0.2845493\ttotal: 4m 5s\tremaining: 33.5s\n",
            "880:\tlearn: 0.2844912\ttotal: 4m 6s\tremaining: 33.2s\n",
            "881:\tlearn: 0.2844306\ttotal: 4m 6s\tremaining: 33s\n",
            "882:\tlearn: 0.2843823\ttotal: 4m 6s\tremaining: 32.7s\n",
            "883:\tlearn: 0.2843150\ttotal: 4m 6s\tremaining: 32.4s\n",
            "884:\tlearn: 0.2842566\ttotal: 4m 7s\tremaining: 32.1s\n",
            "885:\tlearn: 0.2842153\ttotal: 4m 7s\tremaining: 31.8s\n",
            "886:\tlearn: 0.2841624\ttotal: 4m 7s\tremaining: 31.6s\n",
            "887:\tlearn: 0.2840951\ttotal: 4m 8s\tremaining: 31.3s\n",
            "888:\tlearn: 0.2840347\ttotal: 4m 8s\tremaining: 31s\n",
            "889:\tlearn: 0.2839746\ttotal: 4m 8s\tremaining: 30.7s\n",
            "890:\tlearn: 0.2839061\ttotal: 4m 8s\tremaining: 30.4s\n",
            "891:\tlearn: 0.2838519\ttotal: 4m 9s\tremaining: 30.2s\n",
            "892:\tlearn: 0.2838064\ttotal: 4m 9s\tremaining: 29.9s\n",
            "893:\tlearn: 0.2837424\ttotal: 4m 9s\tremaining: 29.6s\n",
            "894:\tlearn: 0.2836779\ttotal: 4m 9s\tremaining: 29.3s\n",
            "895:\tlearn: 0.2836179\ttotal: 4m 10s\tremaining: 29s\n",
            "896:\tlearn: 0.2835523\ttotal: 4m 10s\tremaining: 28.8s\n",
            "897:\tlearn: 0.2834942\ttotal: 4m 10s\tremaining: 28.5s\n",
            "898:\tlearn: 0.2834309\ttotal: 4m 11s\tremaining: 28.2s\n",
            "899:\tlearn: 0.2833681\ttotal: 4m 11s\tremaining: 27.9s\n",
            "900:\tlearn: 0.2833222\ttotal: 4m 11s\tremaining: 27.6s\n",
            "901:\tlearn: 0.2832623\ttotal: 4m 11s\tremaining: 27.4s\n",
            "902:\tlearn: 0.2831928\ttotal: 4m 12s\tremaining: 27.1s\n",
            "903:\tlearn: 0.2831266\ttotal: 4m 12s\tremaining: 26.8s\n",
            "904:\tlearn: 0.2830614\ttotal: 4m 12s\tremaining: 26.5s\n",
            "905:\tlearn: 0.2829977\ttotal: 4m 13s\tremaining: 26.3s\n",
            "906:\tlearn: 0.2829426\ttotal: 4m 13s\tremaining: 26s\n",
            "907:\tlearn: 0.2828756\ttotal: 4m 13s\tremaining: 25.7s\n",
            "908:\tlearn: 0.2828210\ttotal: 4m 13s\tremaining: 25.4s\n",
            "909:\tlearn: 0.2827631\ttotal: 4m 14s\tremaining: 25.1s\n",
            "910:\tlearn: 0.2826930\ttotal: 4m 14s\tremaining: 24.9s\n",
            "911:\tlearn: 0.2826373\ttotal: 4m 14s\tremaining: 24.6s\n",
            "912:\tlearn: 0.2825865\ttotal: 4m 14s\tremaining: 24.3s\n",
            "913:\tlearn: 0.2825314\ttotal: 4m 15s\tremaining: 24s\n",
            "914:\tlearn: 0.2824748\ttotal: 4m 15s\tremaining: 23.7s\n",
            "915:\tlearn: 0.2824125\ttotal: 4m 15s\tremaining: 23.5s\n",
            "916:\tlearn: 0.2823432\ttotal: 4m 16s\tremaining: 23.2s\n",
            "917:\tlearn: 0.2823000\ttotal: 4m 16s\tremaining: 22.9s\n",
            "918:\tlearn: 0.2822458\ttotal: 4m 16s\tremaining: 22.6s\n",
            "919:\tlearn: 0.2821750\ttotal: 4m 16s\tremaining: 22.3s\n",
            "920:\tlearn: 0.2821141\ttotal: 4m 17s\tremaining: 22.1s\n",
            "921:\tlearn: 0.2820597\ttotal: 4m 17s\tremaining: 21.8s\n",
            "922:\tlearn: 0.2820129\ttotal: 4m 17s\tremaining: 21.5s\n",
            "923:\tlearn: 0.2819496\ttotal: 4m 17s\tremaining: 21.2s\n",
            "924:\tlearn: 0.2818858\ttotal: 4m 18s\tremaining: 20.9s\n",
            "925:\tlearn: 0.2818217\ttotal: 4m 18s\tremaining: 20.6s\n",
            "926:\tlearn: 0.2817735\ttotal: 4m 18s\tremaining: 20.4s\n",
            "927:\tlearn: 0.2817035\ttotal: 4m 18s\tremaining: 20.1s\n",
            "928:\tlearn: 0.2816561\ttotal: 4m 19s\tremaining: 19.8s\n",
            "929:\tlearn: 0.2816015\ttotal: 4m 19s\tremaining: 19.5s\n",
            "930:\tlearn: 0.2815366\ttotal: 4m 19s\tremaining: 19.2s\n",
            "931:\tlearn: 0.2814764\ttotal: 4m 20s\tremaining: 19s\n",
            "932:\tlearn: 0.2814132\ttotal: 4m 20s\tremaining: 18.7s\n",
            "933:\tlearn: 0.2813511\ttotal: 4m 20s\tremaining: 18.4s\n",
            "934:\tlearn: 0.2812864\ttotal: 4m 20s\tremaining: 18.1s\n",
            "935:\tlearn: 0.2812352\ttotal: 4m 21s\tremaining: 17.9s\n",
            "936:\tlearn: 0.2811657\ttotal: 4m 21s\tremaining: 17.6s\n",
            "937:\tlearn: 0.2811130\ttotal: 4m 21s\tremaining: 17.3s\n",
            "938:\tlearn: 0.2810478\ttotal: 4m 22s\tremaining: 17s\n",
            "939:\tlearn: 0.2809909\ttotal: 4m 22s\tremaining: 16.7s\n",
            "940:\tlearn: 0.2809309\ttotal: 4m 22s\tremaining: 16.5s\n",
            "941:\tlearn: 0.2808749\ttotal: 4m 22s\tremaining: 16.2s\n",
            "942:\tlearn: 0.2808095\ttotal: 4m 23s\tremaining: 15.9s\n",
            "943:\tlearn: 0.2807636\ttotal: 4m 23s\tremaining: 15.6s\n",
            "944:\tlearn: 0.2806941\ttotal: 4m 23s\tremaining: 15.3s\n",
            "945:\tlearn: 0.2806296\ttotal: 4m 23s\tremaining: 15.1s\n",
            "946:\tlearn: 0.2805882\ttotal: 4m 24s\tremaining: 14.8s\n",
            "947:\tlearn: 0.2805310\ttotal: 4m 24s\tremaining: 14.5s\n",
            "948:\tlearn: 0.2804744\ttotal: 4m 24s\tremaining: 14.2s\n",
            "949:\tlearn: 0.2804138\ttotal: 4m 24s\tremaining: 13.9s\n",
            "950:\tlearn: 0.2803450\ttotal: 4m 25s\tremaining: 13.7s\n",
            "951:\tlearn: 0.2802828\ttotal: 4m 25s\tremaining: 13.4s\n",
            "952:\tlearn: 0.2802207\ttotal: 4m 25s\tremaining: 13.1s\n",
            "953:\tlearn: 0.2801605\ttotal: 4m 26s\tremaining: 12.8s\n",
            "954:\tlearn: 0.2800982\ttotal: 4m 26s\tremaining: 12.6s\n",
            "955:\tlearn: 0.2800349\ttotal: 4m 26s\tremaining: 12.3s\n",
            "956:\tlearn: 0.2799775\ttotal: 4m 26s\tremaining: 12s\n",
            "957:\tlearn: 0.2799102\ttotal: 4m 27s\tremaining: 11.7s\n",
            "958:\tlearn: 0.2798482\ttotal: 4m 27s\tremaining: 11.4s\n",
            "959:\tlearn: 0.2797931\ttotal: 4m 27s\tremaining: 11.2s\n",
            "960:\tlearn: 0.2797277\ttotal: 4m 28s\tremaining: 10.9s\n",
            "961:\tlearn: 0.2796628\ttotal: 4m 28s\tremaining: 10.6s\n",
            "962:\tlearn: 0.2796084\ttotal: 4m 28s\tremaining: 10.3s\n",
            "963:\tlearn: 0.2795433\ttotal: 4m 28s\tremaining: 10s\n",
            "964:\tlearn: 0.2794815\ttotal: 4m 29s\tremaining: 9.77s\n",
            "965:\tlearn: 0.2794147\ttotal: 4m 29s\tremaining: 9.49s\n",
            "966:\tlearn: 0.2793629\ttotal: 4m 29s\tremaining: 9.21s\n",
            "967:\tlearn: 0.2793034\ttotal: 4m 30s\tremaining: 8.93s\n",
            "968:\tlearn: 0.2792694\ttotal: 4m 30s\tremaining: 8.65s\n",
            "969:\tlearn: 0.2792025\ttotal: 4m 30s\tremaining: 8.37s\n",
            "970:\tlearn: 0.2791400\ttotal: 4m 30s\tremaining: 8.09s\n",
            "971:\tlearn: 0.2790881\ttotal: 4m 31s\tremaining: 7.81s\n",
            "972:\tlearn: 0.2790306\ttotal: 4m 31s\tremaining: 7.54s\n",
            "973:\tlearn: 0.2789881\ttotal: 4m 31s\tremaining: 7.26s\n",
            "974:\tlearn: 0.2789250\ttotal: 4m 32s\tremaining: 6.98s\n",
            "975:\tlearn: 0.2788615\ttotal: 4m 32s\tremaining: 6.7s\n",
            "976:\tlearn: 0.2788053\ttotal: 4m 32s\tremaining: 6.42s\n",
            "977:\tlearn: 0.2787397\ttotal: 4m 33s\tremaining: 6.14s\n",
            "978:\tlearn: 0.2786810\ttotal: 4m 33s\tremaining: 5.86s\n",
            "979:\tlearn: 0.2786174\ttotal: 4m 33s\tremaining: 5.58s\n",
            "980:\tlearn: 0.2785488\ttotal: 4m 33s\tremaining: 5.3s\n",
            "981:\tlearn: 0.2784824\ttotal: 4m 34s\tremaining: 5.03s\n",
            "982:\tlearn: 0.2784205\ttotal: 4m 34s\tremaining: 4.75s\n",
            "983:\tlearn: 0.2783620\ttotal: 4m 34s\tremaining: 4.47s\n",
            "984:\tlearn: 0.2783026\ttotal: 4m 35s\tremaining: 4.19s\n",
            "985:\tlearn: 0.2782375\ttotal: 4m 35s\tremaining: 3.91s\n",
            "986:\tlearn: 0.2781702\ttotal: 4m 35s\tremaining: 3.63s\n",
            "987:\tlearn: 0.2781313\ttotal: 4m 35s\tremaining: 3.35s\n",
            "988:\tlearn: 0.2780791\ttotal: 4m 36s\tremaining: 3.07s\n",
            "989:\tlearn: 0.2780258\ttotal: 4m 36s\tremaining: 2.79s\n",
            "990:\tlearn: 0.2779717\ttotal: 4m 36s\tremaining: 2.51s\n",
            "991:\tlearn: 0.2779146\ttotal: 4m 36s\tremaining: 2.23s\n",
            "992:\tlearn: 0.2778516\ttotal: 4m 37s\tremaining: 1.95s\n",
            "993:\tlearn: 0.2777878\ttotal: 4m 37s\tremaining: 1.68s\n",
            "994:\tlearn: 0.2777252\ttotal: 4m 37s\tremaining: 1.4s\n",
            "995:\tlearn: 0.2776693\ttotal: 4m 38s\tremaining: 1.12s\n",
            "996:\tlearn: 0.2776097\ttotal: 4m 38s\tremaining: 838ms\n",
            "997:\tlearn: 0.2775516\ttotal: 4m 38s\tremaining: 558ms\n",
            "998:\tlearn: 0.2775090\ttotal: 4m 38s\tremaining: 279ms\n",
            "999:\tlearn: 0.2774595\ttotal: 4m 39s\tremaining: 0us\n"
          ],
          "name": "stdout"
        },
        {
          "output_type": "execute_result",
          "data": {
            "text/plain": [
              "<catboost.core.CatBoostClassifier at 0x7efd2076e990>"
            ]
          },
          "metadata": {
            "tags": []
          },
          "execution_count": 25
        }
      ]
    },
    {
      "cell_type": "code",
      "metadata": {
        "colab": {
          "base_uri": "https://localhost:8080/"
        },
        "id": "ru8YXGulBTa_",
        "outputId": "8bcc1eef-049e-4961-9a92-b9df5877cf32"
      },
      "source": [
        "pred = cat_w2v.predict(X_test_w2v)\n",
        "print('F1 on cat:', f1_score(pred, y_test))"
      ],
      "execution_count": null,
      "outputs": [
        {
          "output_type": "stream",
          "text": [
            "F1 on cat: 0.22839506172839505\n"
          ],
          "name": "stdout"
        }
      ]
    },
    {
      "cell_type": "code",
      "metadata": {
        "id": "viAf2KCy52hS"
      },
      "source": [
        "y_pred = cat_w2v.predict_proba(X_test_w2v)[:, 1]"
      ],
      "execution_count": null,
      "outputs": []
    },
    {
      "cell_type": "code",
      "metadata": {
        "colab": {
          "base_uri": "https://localhost:8080/"
        },
        "id": "cUXp5neu52ts",
        "outputId": "8ebd3f72-98cb-4ebf-956b-f36fe7ffb25b"
      },
      "source": [
        "len(y_pred)"
      ],
      "execution_count": null,
      "outputs": [
        {
          "output_type": "execute_result",
          "data": {
            "text/plain": [
              "6906"
            ]
          },
          "metadata": {
            "tags": []
          },
          "execution_count": 28
        }
      ]
    },
    {
      "cell_type": "code",
      "metadata": {
        "colab": {
          "base_uri": "https://localhost:8080/"
        },
        "id": "qpqcU_AN52tu",
        "outputId": "a4125553-e2a5-4dfc-a2e7-fa8418b14d56"
      },
      "source": [
        "from sklearn.metrics import roc_auc_score, roc_curve, f1_score, precision_score, recall_score, precision_recall_curve\n",
        "roc_auc_score(y_test, y_pred)"
      ],
      "execution_count": null,
      "outputs": [
        {
          "output_type": "execute_result",
          "data": {
            "text/plain": [
              "0.7183623366592583"
            ]
          },
          "metadata": {
            "tags": []
          },
          "execution_count": 29
        }
      ]
    },
    {
      "cell_type": "code",
      "metadata": {
        "colab": {
          "base_uri": "https://localhost:8080/",
          "height": 296
        },
        "id": "KTQHvHbc52tv",
        "outputId": "315ce18b-ce55-4f59-d126-41748c141267"
      },
      "source": [
        "from sklearn.metrics import roc_auc_score, roc_curve, f1_score, precision_score, recall_score, precision_recall_curve\n",
        "fpr, tpr, thresholds = roc_curve(y_test, y_pred)\n",
        "plt.plot(fpr, tpr)\n",
        "plt.xlabel('fpr')\n",
        "plt.ylabel('tpr')\n",
        "plt.plot([i for i in np.arange(0, 1, 0.01)], [i for i in np.arange(0, 1, 0.01)])"
      ],
      "execution_count": null,
      "outputs": [
        {
          "output_type": "execute_result",
          "data": {
            "text/plain": [
              "[<matplotlib.lines.Line2D at 0x7efd1daa2590>]"
            ]
          },
          "metadata": {
            "tags": []
          },
          "execution_count": 30
        },
        {
          "output_type": "display_data",
          "data": {
            "image/png": "[encoded data removed]",
            "text/plain": [
              "<Figure size 432x288 with 1 Axes>"
            ]
          },
          "metadata": {
            "tags": []
          }
        }
      ]
    },
    {
      "cell_type": "code",
      "metadata": {
        "colab": {
          "base_uri": "https://localhost:8080/",
          "height": 278
        },
        "id": "6dU8GY9-52tv",
        "outputId": "41552efd-087c-40e5-efa4-9d3a98e2c7f6"
      },
      "source": [
        "precision, recall, thresholds = precision_recall_curve(y_test, y_pred)\n",
        "plt.plot(recall, precision)\n",
        "plt.xlabel('recall')\n",
        "plt.ylabel('precision')\n",
        "plt.show()"
      ],
      "execution_count": null,
      "outputs": [
        {
          "output_type": "display_data",
          "data": {
            "image/png": "[encoded data removed]",
            "text/plain": [
              "<Figure size 432x288 with 1 Axes>"
            ]
          },
          "metadata": {
            "tags": []
          }
        }
      ]
    },
    {
      "cell_type": "code",
      "metadata": {
        "colab": {
          "base_uri": "https://localhost:8080/"
        },
        "id": "CbFyjCS352tw",
        "outputId": "c3ea7725-e777-4f8d-a3ea-4ed3085b9e6f"
      },
      "source": [
        "np.nanmax(2 * recall * precision / (recall + precision)), thresholds[np.nanargmax(2 * recall * precision / (recall + precision))]"
      ],
      "execution_count": null,
      "outputs": [
        {
          "output_type": "execute_result",
          "data": {
            "text/plain": [
              "(0.2529274004683841, 0.39551628629434477)"
            ]
          },
          "metadata": {
            "tags": []
          },
          "execution_count": 32
        }
      ]
    },
    {
      "cell_type": "code",
      "metadata": {
        "colab": {
          "base_uri": "https://localhost:8080/"
        },
        "id": "Hu8CQ5tNznxd",
        "outputId": "586fdf96-ac1e-49f3-c6e8-5531697c4a51"
      },
      "source": [
        "for i in navec.vocab:\n",
        "  print(i)\n",
        "  break"
      ],
      "execution_count": null,
      "outputs": [
        {
          "output_type": "stream",
          "text": [
            "IOPub data rate exceeded.\n",
            "The notebook server will temporarily stop sending output\n",
            "to the client in order to avoid crashing it.\n",
            "To change this limit, set the config variable\n",
            "`--NotebookApp.iopub_data_rate_limit`.\n",
            "\n",
            "Current values:\n",
            "NotebookApp.iopub_data_rate_limit=1000000.0 (bytes/sec)\n",
            "NotebookApp.rate_limit_window=3.0 (secs)\n",
            "\n"
          ],
          "name": "stderr"
        }
      ]
    },
    {
      "cell_type": "code",
      "metadata": {
        "colab": {
          "base_uri": "https://localhost:8080/"
        },
        "id": "IL7Uh2_gzvis",
        "outputId": "043bf3e9-30e5-4ead-8a44-f1c0e771e740"
      },
      "source": [
        "output"
      ],
      "execution_count": null,
      "outputs": [
        {
          "output_type": "execute_result",
          "data": {
            "text/plain": [
              "tensor([[-3.4993e-01, -3.0756e-01, -2.7500e-01,  1.1932e-03, -1.7987e-01,\n",
              "         -1.3807e-01,  1.0722e-02,  3.0190e-01, -9.9065e-02, -1.4211e-01,\n",
              "         -6.3561e-01, -1.4722e-01, -3.9479e-01, -3.7867e-01, -7.1260e-02,\n",
              "          2.0672e-01,  1.2577e-01, -3.2960e-01,  3.5796e-01,  2.7854e-01,\n",
              "         -4.3397e-01, -1.4973e-02, -1.9574e-01,  3.1353e-01, -2.2685e-01,\n",
              "          1.9929e-02,  4.0099e-01,  1.3460e-01,  7.5548e-03,  1.5212e-01,\n",
              "         -2.1347e-01, -1.2314e-01,  4.7164e-01,  2.5409e-01,  4.4845e-01,\n",
              "          1.9260e-01, -2.7073e-01, -2.0794e-01,  7.3013e-01,  1.0160e-01,\n",
              "         -2.6584e-01, -3.6435e-01,  7.3061e-02, -3.9773e-01, -1.0634e-01,\n",
              "         -1.9774e-01, -4.3082e-02,  2.9453e-01, -6.7992e-01, -4.7794e-01,\n",
              "         -3.0099e-01, -5.4821e-01,  7.8595e-02,  2.4260e-01, -3.3104e-01,\n",
              "         -9.4799e-03,  4.5769e-02,  3.2028e-01,  2.1499e-01,  2.7773e-01,\n",
              "          1.8513e-01, -3.6358e-01, -1.5184e-01, -1.3534e-01, -4.6190e-05,\n",
              "          9.6920e-02, -6.7579e-02,  3.5800e-01,  1.2338e-01, -1.7496e-01,\n",
              "          1.6559e-02, -3.2022e-01, -6.9463e-02, -3.1554e-01, -7.9290e-02,\n",
              "          1.6472e-01,  3.1482e-01, -7.1312e-01,  6.2015e-02, -4.1039e-02,\n",
              "         -2.9326e-01, -4.4818e-02,  1.1225e-01,  1.0275e-01,  4.5703e-02,\n",
              "          5.4737e-01, -5.8525e-01, -8.8420e-02, -3.5470e-02,  1.4706e-01,\n",
              "         -1.1687e-01, -1.5855e-01, -1.1227e-01, -2.9616e-01,  8.2014e-02,\n",
              "          4.9674e-01, -3.9706e-01,  3.7125e-01, -5.2032e-01, -1.0016e-01,\n",
              "         -8.6129e-03, -3.3435e-02,  3.5819e-01,  1.0708e-01, -1.4727e-01,\n",
              "          2.5201e-01, -4.7871e-01, -3.6124e-01,  1.1196e-01, -7.1160e-02,\n",
              "         -5.5107e-01,  2.8099e-02, -4.9063e-01, -2.9118e-01, -2.1013e-01,\n",
              "          1.4476e-01, -4.1316e-01, -1.8080e-01,  2.3089e-01, -2.7958e-01,\n",
              "          3.3570e-01,  4.3464e-02,  4.2296e-01,  8.7682e-02, -2.1340e-01,\n",
              "         -5.3730e-02, -4.3625e-01, -7.3079e-01, -8.1975e-02, -1.4267e-01,\n",
              "         -2.2426e-02,  1.1130e-03,  1.6807e-01, -2.9069e-01, -2.1290e-01,\n",
              "          2.1881e-01, -5.9865e-02,  4.1876e-01,  9.5650e-02, -8.5355e-01,\n",
              "          3.2861e-01,  1.0857e-01, -3.3474e-01, -8.5889e-02, -5.6209e-02,\n",
              "         -1.8948e-01,  5.1712e-01,  1.7996e-01, -1.6063e-01,  2.7738e-01,\n",
              "         -4.3600e-01, -2.1116e-01,  5.9684e-01, -3.3565e-01, -4.5278e-01,\n",
              "          1.8897e-01, -1.7622e-01,  3.5732e-01,  1.8867e-01,  3.6403e-01,\n",
              "         -9.7810e-02, -3.4304e-01, -3.3827e-01,  8.2706e-02,  9.9241e-02,\n",
              "          9.3358e-02,  1.0984e-01,  1.2476e-01, -7.8672e-02,  1.1027e-01,\n",
              "          6.2027e-01,  1.1999e-01, -2.1050e-01,  1.8856e-01,  6.4082e-02,\n",
              "         -4.3087e-03,  9.0255e-02, -1.0712e-02,  3.9416e-02,  8.1365e-02,\n",
              "         -3.3232e-01, -5.8016e-02, -7.3697e-01,  2.0375e-01, -5.3755e-01,\n",
              "         -4.7494e-01, -4.4331e-01, -2.9798e-01,  1.0922e-01,  8.7862e-01,\n",
              "         -8.1047e-01, -4.0034e-01,  2.2318e-01, -3.3200e-01, -2.4044e-01,\n",
              "          4.2485e-01, -1.7554e-01, -3.3774e-01,  4.8291e-01,  2.6271e-01,\n",
              "          1.8663e-02,  3.0936e-01, -4.6452e-01,  1.7970e-01,  1.6351e-01,\n",
              "          1.1158e-01,  1.4034e-01, -1.0570e-01, -2.7833e-01, -2.3388e-01,\n",
              "          6.0073e-02, -2.1764e-01, -5.7646e-01,  4.8078e-02, -5.9649e-01,\n",
              "          1.9682e-01,  5.5380e-01,  2.1640e-01,  3.7107e-02,  4.1822e-01,\n",
              "         -4.2008e-02,  2.2273e-01, -2.0897e-01, -4.5026e-01, -2.3579e-02,\n",
              "          4.0516e-01,  2.2808e-01, -1.8508e-01, -2.4346e-01, -2.5325e-01,\n",
              "          2.5022e-01, -2.6230e-01, -2.3680e-01, -2.9972e-02, -1.7161e-02,\n",
              "          5.1480e-01, -6.2129e-01, -5.9720e-02,  3.7586e-01, -1.4870e-02,\n",
              "         -5.5932e-01,  1.4009e-03,  2.5474e-01,  4.2708e-02,  3.7254e-01,\n",
              "          1.3171e-01, -8.8673e-02, -2.3165e-01,  2.5030e-01,  1.0436e-01,\n",
              "         -2.0371e-01,  2.0964e-01,  1.1447e-01,  1.5612e-01,  5.2849e-01,\n",
              "          1.6100e-01, -4.0308e-01, -2.8580e-02, -4.2244e-02, -1.0087e-01,\n",
              "         -2.4474e-01, -2.2021e-01, -6.9457e-01,  2.5682e-01, -2.6024e-01,\n",
              "         -1.0053e-01,  4.8835e-01, -3.1739e-01,  6.3754e-02,  8.6531e-01,\n",
              "         -8.8407e-02,  2.4407e-01, -5.3988e-02,  4.7325e-02, -5.8275e-01,\n",
              "          2.5021e-02, -3.0981e-02,  1.4469e-01,  6.0398e-01,  4.3413e-01,\n",
              "         -1.2485e-01,  1.5135e-03, -1.0801e-01,  1.5690e-01, -2.7483e-01,\n",
              "          2.4352e-01, -1.8107e-01,  1.7914e-01,  8.5064e-02,  2.5107e-01,\n",
              "         -5.7992e-02,  5.5196e-02,  3.6153e-02,  1.9266e-01, -1.1954e-02,\n",
              "         -5.9878e-01,  3.6218e-01, -5.2496e-01,  1.3499e-01,  2.2263e-01],\n",
              "        [ 1.1082e-01,  5.6724e-02,  7.4591e-01, -2.3994e-01, -2.5379e-01,\n",
              "          5.0430e-01,  2.0219e-01,  2.1248e-01,  5.6967e-01, -1.7529e-01,\n",
              "          5.5399e-04,  2.5988e-01,  2.8767e-01,  1.8894e-01,  2.5620e-01,\n",
              "         -4.2572e-01, -3.0163e-01,  1.4039e-01,  2.6665e-01,  2.3724e-01,\n",
              "         -7.5179e-02,  1.0325e-01, -2.9786e-01, -3.7562e-01,  3.8528e-01,\n",
              "         -1.4720e-01, -5.3716e-01, -3.3737e-01, -1.5656e-01, -5.9453e-01,\n",
              "          1.2149e-01,  2.8368e-01, -9.6851e-01, -1.2194e-01,  6.8774e-01,\n",
              "         -1.9883e-01, -5.3024e-01,  7.6898e-01,  9.6008e-02, -6.6539e-01,\n",
              "          1.3217e-01,  2.7646e-04, -3.2712e-01, -6.6711e-01,  2.7702e-01,\n",
              "         -1.3972e-01, -2.1774e-01,  2.2065e-02,  2.9202e-01, -9.6505e-02,\n",
              "         -6.8505e-02, -9.6356e-01, -4.2995e-02,  3.8637e-01,  4.9000e-02,\n",
              "          6.5977e-01,  1.3476e-01, -1.6600e-01,  1.8000e-01, -4.5770e-01,\n",
              "         -4.9021e-01, -2.2020e-01,  3.9604e-01, -4.9171e-02,  1.8062e-01,\n",
              "          1.4605e-01,  1.1322e-01,  3.3557e-01, -3.1051e-01,  4.1308e-01,\n",
              "         -3.1634e-01, -4.7230e-01,  1.5569e-01,  4.1826e-02,  3.6697e-01,\n",
              "          5.3872e-01, -3.3679e-01,  7.8484e-01,  4.2993e-01, -3.1563e-01,\n",
              "          6.1415e-02,  2.3753e-01,  4.8266e-02,  3.8048e-02, -4.8682e-02,\n",
              "         -1.9831e-01,  3.5843e-01, -2.9868e-01,  1.7649e-02, -8.1630e-01,\n",
              "          3.4989e-02,  1.0426e-02,  5.5898e-01, -4.3871e-01, -1.4141e-01,\n",
              "         -3.7102e-01, -3.4538e-01,  4.6914e-01, -1.2344e-01, -7.8251e-02,\n",
              "         -8.1459e-02,  1.6886e-01,  1.7418e-01, -1.5351e-01, -1.6002e-01,\n",
              "          8.1702e-01, -3.6057e-02, -2.1147e-01,  1.1897e-01,  2.9967e-01,\n",
              "          3.3045e-01,  7.7226e-01,  5.7585e-01, -2.8623e-01, -1.6135e-01,\n",
              "          2.9390e-01, -1.3007e-01, -4.2443e-01,  1.6193e-01, -1.1576e-01,\n",
              "          3.8783e-01,  2.9855e-02, -1.9981e-01, -1.7597e-01, -3.8123e-01,\n",
              "         -3.8917e-02, -1.0681e-01,  5.9114e-01, -1.9266e-01, -6.2150e-02,\n",
              "         -3.2397e-01, -5.0619e-01,  6.9886e-02,  2.0043e-01, -3.5150e-01,\n",
              "         -6.8438e-02,  1.2559e-01,  8.7020e-01, -2.8392e-02, -1.5902e-01,\n",
              "          1.4544e-01, -1.3137e-02, -5.0928e-01,  6.3198e-01,  2.3375e-01,\n",
              "          3.9266e-01, -3.8867e-01, -8.0335e-01,  7.7929e-01,  4.2889e-01,\n",
              "         -8.0492e-01,  1.8233e-01,  1.1987e-01,  9.1146e-02, -4.6904e-01,\n",
              "         -1.3973e-01,  2.0235e-01,  3.5202e-01, -1.4375e-01,  3.9744e-02,\n",
              "          5.6564e-01, -2.6568e-01, -2.6981e-01, -2.7198e-01, -6.7838e-02,\n",
              "          9.2781e-02, -3.7302e-01,  1.0865e-01, -2.3565e-01, -5.5161e-01,\n",
              "         -3.9272e-01, -7.8159e-01, -4.0908e-01, -2.2503e-01,  2.6211e-01,\n",
              "          1.2935e-01, -2.7998e-01,  7.4244e-01, -7.7943e-03,  4.9419e-01,\n",
              "          3.0647e-01,  3.2853e-01,  1.9036e-01,  9.5247e-02,  7.7821e-02,\n",
              "          1.0795e+00,  2.0737e-01,  4.1312e-01, -3.2179e-01, -8.8352e-01,\n",
              "          2.3337e-02, -6.9915e-01,  5.5310e-01,  1.7051e-01,  2.0063e-01,\n",
              "         -4.1420e-01,  5.9894e-01,  6.5917e-01, -1.3569e-01, -3.3470e-01,\n",
              "         -2.2195e-01, -5.8919e-01, -1.0789e-02, -3.7931e-01, -5.5714e-01,\n",
              "          1.2731e-02,  3.6919e-01, -1.3090e-01, -4.6327e-01, -1.5446e-01,\n",
              "         -5.4504e-01, -3.6585e-01,  4.7011e-02,  1.7168e-01, -1.3230e-02,\n",
              "         -1.9669e-01, -8.1509e-01,  1.3413e-01,  9.4955e-02, -6.7725e-01,\n",
              "          1.9456e-01, -5.0467e-01,  1.8154e-01,  2.4414e-02,  5.8643e-01,\n",
              "         -1.0277e-01, -3.6480e-01,  4.2311e-01, -6.0950e-01,  8.2048e-02,\n",
              "          1.4553e-01,  3.5096e-01, -1.7273e-01,  1.5886e-01,  3.4025e-01,\n",
              "         -4.5595e-01, -3.6547e-01,  2.7273e-01, -4.4375e-02, -4.5266e-01,\n",
              "         -1.4371e-01, -4.0624e-01, -3.1667e-02,  2.8876e-01, -4.1779e-01,\n",
              "          1.9453e-02,  1.3902e-01,  5.8753e-01, -3.3214e-01, -3.7512e-01,\n",
              "         -3.5122e-01,  1.1725e-01,  1.5064e-01,  2.4686e-01, -2.8835e-01,\n",
              "          1.7528e-01,  6.6329e-01, -1.0657e-01, -3.8273e-02,  6.2770e-01,\n",
              "         -3.0701e-01, -1.7285e-01,  7.7266e-02,  2.5872e-01,  2.9830e-02,\n",
              "         -4.5315e-01, -3.7115e-02, -2.4628e-01,  1.9202e-01, -6.9776e-01,\n",
              "          4.5792e-02, -2.1925e-01, -3.0469e-01, -4.0769e-01,  1.7925e-02,\n",
              "          1.5934e-01, -5.4842e-01,  6.0009e-02, -5.4363e-01, -7.9682e-01,\n",
              "         -3.6663e-01, -2.6918e-01,  1.2267e-01, -4.9646e-01, -6.9751e-02,\n",
              "          3.4022e-01,  8.1335e-01, -4.4520e-01, -3.3418e-01, -2.6977e-01,\n",
              "          5.6295e-01, -3.2577e-01,  6.6933e-01,  3.1643e-01, -7.5383e-01,\n",
              "         -2.4140e-01, -2.3339e-01,  1.0025e+00, -8.5959e-02, -5.0842e-01]])"
            ]
          },
          "metadata": {
            "tags": []
          },
          "execution_count": 51
        }
      ]
    },
    {
      "cell_type": "code",
      "metadata": {
        "id": "PMk5sIer0Ipt",
        "colab": {
          "base_uri": "https://localhost:8080/",
          "height": 183
        },
        "outputId": "1d883554-6253-4bf0-d814-de08308c5da2"
      },
      "source": [
        ""
      ],
      "execution_count": null,
      "outputs": [
        {
          "output_type": "error",
          "ename": "AttributeError",
          "evalue": "ignored",
          "traceback": [
            "\u001b[0;31m---------------------------------------------------------------------------\u001b[0m",
            "\u001b[0;31mAttributeError\u001b[0m                            Traceback (most recent call last)",
            "\u001b[0;32m<ipython-input-1-bb7b0a19f501>\u001b[0m in \u001b[0;36m<module>\u001b[0;34m()\u001b[0m\n\u001b[1;32m      1\u001b[0m \u001b[0ma\u001b[0m \u001b[0;34m=\u001b[0m \u001b[0;34m\"Здесь был текст. А еще здесь была песня. Пускай в мире будет мир.\"\u001b[0m\u001b[0;34m\u001b[0m\u001b[0;34m\u001b[0m\u001b[0m\n\u001b[0;32m----> 2\u001b[0;31m \u001b[0ma\u001b[0m\u001b[0;34m.\u001b[0m\u001b[0mfind_all\u001b[0m\u001b[0;34m\u001b[0m\u001b[0;34m\u001b[0m\u001b[0m\n\u001b[0m",
            "\u001b[0;31mAttributeError\u001b[0m: 'str' object has no attribute 'find_all'"
          ]
        }
      ]
    },
    {
      "cell_type": "code",
      "metadata": {
        "id": "TU4FCipaCny9"
      },
      "source": [
        ""
      ],
      "execution_count": null,
      "outputs": []
    }
  ]
}